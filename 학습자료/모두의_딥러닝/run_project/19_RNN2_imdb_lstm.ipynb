{
  "nbformat": 4,
  "nbformat_minor": 0,
  "metadata": {
    "kernelspec": {
      "display_name": "Python 3",
      "language": "python",
      "name": "python3"
    },
    "language_info": {
      "codemirror_mode": {
        "name": "ipython",
        "version": 3
      },
      "file_extension": ".py",
      "mimetype": "text/x-python",
      "name": "python",
      "nbconvert_exporter": "python",
      "pygments_lexer": "ipython3",
      "version": "3.7.3"
    },
    "colab": {
      "name": "19_RNN2_imdb_lstm.ipynb",
      "provenance": []
    }
  },
  "cells": [
    {
      "cell_type": "code",
      "metadata": {
        "id": "tCwgIx_GBo-N",
        "outputId": "12c8b307-bf76-478b-daf6-9f367415c291",
        "colab": {
          "base_uri": "https://localhost:8080/",
          "height": 1000
        }
      },
      "source": [
        "# -*- coding: utf-8 -*-\n",
        "# 코드 내부에 한글을 사용가능 하게 해주는 부분입니다.\n",
        "\n",
        "from keras.preprocessing import sequence\n",
        "from keras.models import Sequential\n",
        "from keras.layers import Dense, Dropout, Activation\n",
        "from keras.layers import Embedding\n",
        "from keras.layers import LSTM\n",
        "from keras.layers import Conv1D, MaxPooling1D\n",
        "from keras.datasets import imdb\n",
        "\n",
        "import numpy\n",
        "import tensorflow as tf\n",
        "import matplotlib.pyplot as plt\n",
        "\n",
        "# seed 값 설정\n",
        "seed = 0\n",
        "numpy.random.seed(seed)\n",
        "tf.random.set_seed(3)\n",
        "\n",
        "# 학습셋, 테스트셋 지정하기\n",
        "(x_train, y_train), (x_test, y_test) = imdb.load_data(num_words=5000)\n",
        "\n",
        "# 데이터 전처리\n",
        "x_train = sequence.pad_sequences(x_train, maxlen=100)\n",
        "x_test = sequence.pad_sequences(x_test, maxlen=100)\n",
        "\n",
        "# 모델의 설정\n",
        "model = Sequential()\n",
        "model.add(Embedding(5000, 100))\n",
        "model.add(Dropout(0.5))\n",
        "model.add(Conv1D(64, 5, padding='valid', activation='relu',strides=1))\n",
        "model.add(MaxPooling1D(pool_size=4))\n",
        "model.add(LSTM(55))\n",
        "model.add(Dense(1))\n",
        "model.add(Activation('sigmoid'))\n",
        "model.summary()\n",
        "\n",
        "# 모델의 컴파일\n",
        "model.compile(loss='binary_crossentropy',\n",
        "              optimizer='adam',\n",
        "              metrics=['accuracy'])\n",
        "\n",
        "# 모델의 실행\n",
        "history = model.fit(x_train, y_train, batch_size=100, epochs=5, validation_data=(x_test, y_test))\n",
        "\n",
        "# 테스트 정확도 출력\n",
        "print(\"\\n Test Accuracy: %.4f\" % (model.evaluate(x_test, y_test)[1]))\n",
        "\n",
        "\n",
        "# 테스트 셋의 오차\n",
        "y_vloss = history.history['val_loss']\n",
        "\n",
        "# 학습셋의 오차\n",
        "y_loss = history.history['loss']\n",
        "\n",
        "# 그래프로 표현\n",
        "x_len = numpy.arange(len(y_loss))\n",
        "plt.plot(x_len, y_vloss, marker='.', c=\"red\", label='Testset_loss')\n",
        "plt.plot(x_len, y_loss, marker='.', c=\"blue\", label='Trainset_loss')\n",
        "\n",
        "# 그래프에 그리드를 주고 레이블을 표시\n",
        "plt.legend(loc='upper right')\n",
        "plt.grid()\n",
        "plt.xlabel('epoch')\n",
        "plt.ylabel('loss')\n",
        "plt.show()\n"
      ],
      "execution_count": 1,
      "outputs": [
        {
          "output_type": "stream",
          "text": [
            "Downloading data from https://storage.googleapis.com/tensorflow/tf-keras-datasets/imdb.npz\n",
            "17465344/17464789 [==============================] - 0s 0us/step\n",
            "17473536/17464789 [==============================] - 0s 0us/step\n"
          ],
          "name": "stdout"
        },
        {
          "output_type": "stream",
          "text": [
            "<string>:6: VisibleDeprecationWarning: Creating an ndarray from ragged nested sequences (which is a list-or-tuple of lists-or-tuples-or ndarrays with different lengths or shapes) is deprecated. If you meant to do this, you must specify 'dtype=object' when creating the ndarray\n",
            "/usr/local/lib/python3.7/dist-packages/keras/datasets/imdb.py:155: VisibleDeprecationWarning: Creating an ndarray from ragged nested sequences (which is a list-or-tuple of lists-or-tuples-or ndarrays with different lengths or shapes) is deprecated. If you meant to do this, you must specify 'dtype=object' when creating the ndarray\n",
            "  x_train, y_train = np.array(xs[:idx]), np.array(labels[:idx])\n",
            "/usr/local/lib/python3.7/dist-packages/keras/datasets/imdb.py:156: VisibleDeprecationWarning: Creating an ndarray from ragged nested sequences (which is a list-or-tuple of lists-or-tuples-or ndarrays with different lengths or shapes) is deprecated. If you meant to do this, you must specify 'dtype=object' when creating the ndarray\n",
            "  x_test, y_test = np.array(xs[idx:]), np.array(labels[idx:])\n"
          ],
          "name": "stderr"
        },
        {
          "output_type": "stream",
          "text": [
            "Model: \"sequential\"\n",
            "_________________________________________________________________\n",
            "Layer (type)                 Output Shape              Param #   \n",
            "=================================================================\n",
            "embedding (Embedding)        (None, None, 100)         500000    \n",
            "_________________________________________________________________\n",
            "dropout (Dropout)            (None, None, 100)         0         \n",
            "_________________________________________________________________\n",
            "conv1d (Conv1D)              (None, None, 64)          32064     \n",
            "_________________________________________________________________\n",
            "max_pooling1d (MaxPooling1D) (None, None, 64)          0         \n",
            "_________________________________________________________________\n",
            "lstm (LSTM)                  (None, 55)                26400     \n",
            "_________________________________________________________________\n",
            "dense (Dense)                (None, 1)                 56        \n",
            "_________________________________________________________________\n",
            "activation (Activation)      (None, 1)                 0         \n",
            "=================================================================\n",
            "Total params: 558,520\n",
            "Trainable params: 558,520\n",
            "Non-trainable params: 0\n",
            "_________________________________________________________________\n",
            "Epoch 1/5\n",
            "250/250 [==============================] - 54s 133ms/step - loss: 0.5558 - accuracy: 0.6807 - val_loss: 0.3676 - val_accuracy: 0.8376\n",
            "Epoch 2/5\n",
            "250/250 [==============================] - 32s 129ms/step - loss: 0.2921 - accuracy: 0.8796 - val_loss: 0.3334 - val_accuracy: 0.8562\n",
            "Epoch 3/5\n",
            "250/250 [==============================] - 32s 129ms/step - loss: 0.2425 - accuracy: 0.8994 - val_loss: 0.3248 - val_accuracy: 0.8596\n",
            "Epoch 4/5\n",
            "250/250 [==============================] - 32s 128ms/step - loss: 0.2000 - accuracy: 0.9224 - val_loss: 0.3283 - val_accuracy: 0.8564\n",
            "Epoch 5/5\n",
            "250/250 [==============================] - 32s 128ms/step - loss: 0.1700 - accuracy: 0.9384 - val_loss: 0.3503 - val_accuracy: 0.8549\n",
            "782/782 [==============================] - 10s 11ms/step - loss: 0.3503 - accuracy: 0.8549\n",
            "\n",
            " Test Accuracy: 0.8549\n"
          ],
          "name": "stdout"
        },
        {
          "output_type": "display_data",
          "data": {
            "image/png": "[encoded data removed]",
            "text/plain": [
              "<Figure size 432x288 with 1 Axes>"
            ]
          },
          "metadata": {
            "tags": [],
            "needs_background": "light"
          }
        }
      ]
    },
    {
      "cell_type": "code",
      "metadata": {
        "id": "h67-Ahe-Bo-Q"
      },
      "source": [
        ""
      ],
      "execution_count": null,
      "outputs": []
    }
  ]
}