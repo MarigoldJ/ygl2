{
  "nbformat": 4,
  "nbformat_minor": 0,
  "metadata": {
    "colab": {
      "name": "재귀1.ipynb",
      "provenance": [],
      "collapsed_sections": []
    },
    "kernelspec": {
      "name": "python3",
      "display_name": "Python 3"
    },
    "language_info": {
      "name": "python"
    }
  },
  "cells": [
    {
      "cell_type": "markdown",
      "metadata": {
        "id": "eQXc_647lQyS"
      },
      "source": [
        "## 숫자합\n",
        "n번째 삼각수(triangle number)는 자연수 1부터 n까지의 합이다. 파라미터로 정수값 n을 받고 n번째 삼각수를 리턴해 주는 재귀함수 triangle_number를 쓰세요. n은 1 이상의 자연수라고 가정한다. (함수 안에 반복문을 쓰면 안된다.)"
      ]
    },
    {
      "cell_type": "code",
      "metadata": {
        "id": "ht7tPTajlEA5",
        "outputId": "692e3d51-eaa8-4e5b-9f90-5018090e0dd0",
        "colab": {
          "base_uri": "https://localhost:8080/"
        }
      },
      "source": [
        "# 1부터 n까지의 합을 리턴\n",
        "def triangle_number(n):\n",
        "    # 코드 입력\n",
        "    return n * (n+1) / 2\n",
        "\n",
        "# 테스트 (triangle_number(1)부터 triangle_number(10)까지 출력)\n",
        "for i in range(1, 11):\n",
        "    print(triangle_number(i))"
      ],
      "execution_count": 1,
      "outputs": [
        {
          "output_type": "stream",
          "text": [
            "1.0\n",
            "3.0\n",
            "6.0\n",
            "10.0\n",
            "15.0\n",
            "21.0\n",
            "28.0\n",
            "36.0\n",
            "45.0\n",
            "55.0\n"
          ],
          "name": "stdout"
        }
      ]
    }
  ]
}