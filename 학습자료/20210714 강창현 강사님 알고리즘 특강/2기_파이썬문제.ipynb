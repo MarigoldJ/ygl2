{
  "nbformat": 4,
  "nbformat_minor": 0,
  "metadata": {
    "colab": {
      "name": "2기 파이썬문제.ipynb",
      "provenance": [],
      "collapsed_sections": []
    },
    "kernelspec": {
      "name": "python3",
      "display_name": "Python 3"
    },
    "language_info": {
      "name": "python"
    }
  },
  "cells": [
    {
      "cell_type": "markdown",
      "metadata": {
        "id": "An49sxUsbSPK"
      },
      "source": [
        "# 주어진 문제들을 최소 1시간 안에 모두 풀수 있게 만들어야 한다."
      ]
    },
    {
      "cell_type": "markdown",
      "metadata": {
        "id": "oAGHaQJjbVlB"
      },
      "source": [
        "목표 : 파이썬의 익숙함을 올리자."
      ]
    },
    {
      "cell_type": "markdown",
      "metadata": {
        "id": "mV7scNGiboWB"
      },
      "source": [
        "## max()을 사용하지 않고 max() 구현하기(for 문 사용)"
      ]
    },
    {
      "cell_type": "markdown",
      "metadata": {
        "id": "1JqtAXlpra34"
      },
      "source": [
        "10"
      ]
    },
    {
      "cell_type": "code",
      "metadata": {
        "colab": {
          "base_uri": "https://localhost:8080/"
        },
        "id": "xgZT6jI3bPvl",
        "outputId": "25518fd8-be9a-403e-d428-aa47cbef04f4"
      },
      "source": [
        "data=[10, 7, 2, 4, 6]\n",
        "\n",
        "max_v = data[0]\n",
        "for v in data:\n",
        "    if max_v < v:\n",
        "        max_v = v\n",
        "\n",
        "print(max_v)"
      ],
      "execution_count": 1,
      "outputs": [
        {
          "output_type": "stream",
          "text": [
            "10\n"
          ],
          "name": "stdout"
        }
      ]
    },
    {
      "cell_type": "markdown",
      "metadata": {
        "id": "zeiaTO9Obycn"
      },
      "source": [
        "## min()을 사용하지 않고 min() 구현하기(for 문 사용)"
      ]
    },
    {
      "cell_type": "markdown",
      "metadata": {
        "id": "ZJCzihyZrcOF"
      },
      "source": [
        "1"
      ]
    },
    {
      "cell_type": "code",
      "metadata": {
        "colab": {
          "base_uri": "https://localhost:8080/"
        },
        "id": "DRTPegk7bruZ",
        "outputId": "1aad6c22-6ffc-4384-f36b-399d861a6f14"
      },
      "source": [
        "data=[2, 7, 1, 2, 4, 6]\n",
        "\n",
        "min_v = data[0]\n",
        "for v in data:\n",
        "    if min_v > v:\n",
        "        min_v = v\n",
        "\n",
        "print(min_v)"
      ],
      "execution_count": 2,
      "outputs": [
        {
          "output_type": "stream",
          "text": [
            "1\n"
          ],
          "name": "stdout"
        }
      ]
    },
    {
      "cell_type": "markdown",
      "metadata": {
        "id": "ZQjl7Fyib1zL"
      },
      "source": [
        "## sum()을 사용하지 않고 sum()  구현하기(for 문 사용)"
      ]
    },
    {
      "cell_type": "markdown",
      "metadata": {
        "id": "0kkDrplgrkh-"
      },
      "source": [
        "21"
      ]
    },
    {
      "cell_type": "code",
      "metadata": {
        "colab": {
          "base_uri": "https://localhost:8080/"
        },
        "id": "dciu525_btGQ",
        "outputId": "8ef47bf1-9cae-4190-92a2-321e023f95b4"
      },
      "source": [
        "data=[2, 7, 2, 4, 6]\n",
        "\n",
        "sum_v = 0\n",
        "for v in data:\n",
        "    sum_v += v\n",
        "\n",
        "print(sum_v)"
      ],
      "execution_count": 3,
      "outputs": [
        {
          "output_type": "stream",
          "text": [
            "21\n"
          ],
          "name": "stdout"
        }
      ]
    },
    {
      "cell_type": "markdown",
      "metadata": {
        "id": "iTl9Xilbb4n_"
      },
      "source": [
        "## 평균값 구현하기(for 문 사용)"
      ]
    },
    {
      "cell_type": "markdown",
      "metadata": {
        "id": "MQ_jND9Br2Mh"
      },
      "source": [
        "4.2"
      ]
    },
    {
      "cell_type": "code",
      "metadata": {
        "colab": {
          "base_uri": "https://localhost:8080/"
        },
        "id": "ZQ4QYizhb3UX",
        "outputId": "aa92798f-d5d6-452a-f292-336853528687"
      },
      "source": [
        "data=[2, 7, 2, 4, 6]\n",
        "\n",
        "mean_v = 0\n",
        "for v in data:\n",
        "    mean_v += v\n",
        "mean_v /= len(data)\n",
        "\n",
        "print(mean_v)"
      ],
      "execution_count": 4,
      "outputs": [
        {
          "output_type": "stream",
          "text": [
            "4.2\n"
          ],
          "name": "stdout"
        }
      ]
    },
    {
      "cell_type": "markdown",
      "metadata": {
        "id": "AJ4_P9_GcAzv"
      },
      "source": [
        "여기까지 2분 정도 풀 수 있으면 좋다."
      ]
    },
    {
      "cell_type": "markdown",
      "metadata": {
        "id": "WRx3_BD2cHAQ"
      },
      "source": [
        "## dictionary 구축하기 (for, if)\n",
        "다음과 같은 리스트가 있을 때 각각의 요소의 개수를 value 값으로 갖는 딕셔너리를 만드세요.\n",
        "\n",
        "book_title = ['great', 'expectations', 'the', 'adventures', 'of', 'sherlock', 'holmes', 'the', 'great', 'gasby', 'hamlet', 'adventures', 'of', 'huckleberry', 'fin']\n",
        "\n",
        "\n",
        "예시 출력)<br>\n",
        "{'great': 2, 'expectations': 1, 'the': 2, 'adventures': 2, 'of': 2, 'sherlock': 1, 'holmes': 1, 'gasby': 1, 'hamlet': 1, 'huckleberry': 1, 'fin': 1}"
      ]
    },
    {
      "cell_type": "markdown",
      "metadata": {
        "id": "6miYyMgdcKyY"
      },
      "source": [
        "##### 위의 문제를 아래의 3가지 방법으로 딕셔너리를 각각 만들어 봅시다.\n",
        "- for와 if만 사용\n",
        "- count()를 사용\n",
        "- get() 사용"
      ]
    },
    {
      "cell_type": "markdown",
      "metadata": {
        "id": "XwzBsB7xsNru"
      },
      "source": [
        "{'great': 2, 'expectations': 1, 'the': 2, 'adventures': 2, 'of': 2, 'sherlock': 1, 'holmes': 1, 'gasby': 1, 'hamlet': 1, 'huckleberry': 1, 'fin': 1}"
      ]
    },
    {
      "cell_type": "code",
      "metadata": {
        "colab": {
          "base_uri": "https://localhost:8080/"
        },
        "id": "D68cgn9kb51Z",
        "outputId": "59633a2a-a8d4-4d66-a9f6-537e0e06b9eb"
      },
      "source": [
        "# for , if 만 사용\n",
        "book_title = ['great', 'expectations', 'the', 'adventures', 'of', 'sherlock', 'holmes', 'the', 'great', 'gasby', 'hamlet', 'adventures', 'of', 'huckleberry', 'fin']\n",
        "dict_book = {}\n",
        "\n",
        "for book in book_title:\n",
        "    if book in dict_book.keys():\n",
        "        dict_book[book] += 1\n",
        "    else:\n",
        "        dict_book[book] = 1\n",
        "\n",
        "print(dict_book)"
      ],
      "execution_count": 5,
      "outputs": [
        {
          "output_type": "stream",
          "text": [
            "{'great': 2, 'expectations': 1, 'the': 2, 'adventures': 2, 'of': 2, 'sherlock': 1, 'holmes': 1, 'gasby': 1, 'hamlet': 1, 'huckleberry': 1, 'fin': 1}\n"
          ],
          "name": "stdout"
        }
      ]
    },
    {
      "cell_type": "code",
      "metadata": {
        "colab": {
          "base_uri": "https://localhost:8080/"
        },
        "id": "dI1rMoRKcQGt",
        "outputId": "8b9c1821-ccc0-4949-9829-0add866b721f"
      },
      "source": [
        "# for문과 count 만 사용\n",
        "book_title = ['great', 'expectations', 'the', 'adventures', 'of', 'sherlock', 'holmes', 'the', 'great', 'gasby', 'hamlet', 'adventures', 'of', 'huckleberry', 'fin']\n",
        "dict_book2 = {}\n",
        "for book in book_title:\n",
        "    dict_book2[book] = book_title.count(book)\n",
        "\n",
        "print(dict_book2)"
      ],
      "execution_count": 6,
      "outputs": [
        {
          "output_type": "stream",
          "text": [
            "{'great': 2, 'expectations': 1, 'the': 2, 'adventures': 2, 'of': 2, 'sherlock': 1, 'holmes': 1, 'gasby': 1, 'hamlet': 1, 'huckleberry': 1, 'fin': 1}\n"
          ],
          "name": "stdout"
        }
      ]
    },
    {
      "cell_type": "code",
      "metadata": {
        "colab": {
          "base_uri": "https://localhost:8080/"
        },
        "id": "fAwQbadMcUYa",
        "outputId": "df4a7e3f-360d-46be-ea7b-dce124895f45"
      },
      "source": [
        "# for문과 get()을 사용\n",
        "book_title = ['great', 'expectations', 'the', 'adventures', 'of', 'sherlock', 'holmes', 'the', 'great', 'gasby', 'hamlet', 'adventures', 'of', 'huckleberry', 'fin']\n",
        "dict_book3 = {}\n",
        "for book in book_title:\n",
        "    dict_book3[book] = dict_book3.get(book, 0) + 1\n",
        "\n",
        "print(dict_book3)"
      ],
      "execution_count": 25,
      "outputs": [
        {
          "output_type": "stream",
          "text": [
            "{'great': 2, 'expectations': 1, 'the': 2, 'adventures': 2, 'of': 2, 'sherlock': 1, 'holmes': 1, 'gasby': 1, 'hamlet': 1, 'huckleberry': 1, 'fin': 1}\n"
          ],
          "name": "stdout"
        }
      ]
    },
    {
      "cell_type": "markdown",
      "metadata": {
        "id": "cwDUaq8cce4w"
      },
      "source": [
        "## 조건문과 반복문, break를 활용하여 다음 headlines 리스트의 요소들을 130자 크기의 하나의 문자열로 이어 붙이는 코드를 작성하세요.\n",
        "```\n",
        "headlines = [\n",
        "  \"Local Bear Eaten by Man\",\n",
        "  \"Legislature Announces New Laws\",\n",
        "  \"Peasant Discovers Violence Inherent in System\",\n",
        "  \"Cat Rescues Fireman Stuck in Tree\",\n",
        "  \"Brave Knight Runs Away\",\n",
        "  \"Papperbok Review: Totally Triffic\"\n",
        "]\n",
        "```"
      ]
    },
    {
      "cell_type": "markdown",
      "metadata": {
        "id": "YGuwFlEFtQbE"
      },
      "source": [
        "Local Bear Eaten by ManLegislature Announces New LawsPeasant Discovers Violence Inherent in SystemCat Rescues Fireman Stuck in Tre\n",
        "\n",
        "130"
      ]
    },
    {
      "cell_type": "code",
      "metadata": {
        "colab": {
          "base_uri": "https://localhost:8080/"
        },
        "id": "EJUbK4QncVz6",
        "outputId": "7efdd774-bd32-41ae-a387-0710c95429b4"
      },
      "source": [
        "'''\n",
        "각각의 문자열을 붙인다. 그리고 130개로 붙이면 된다.\n",
        "'''\n",
        "\n",
        "headlines = [\n",
        "  \"Local Bear Eaten by Man\",\n",
        "  \"Legislature Announces New Laws\",\n",
        "  \"Peasant Discovers Violence Inherent in System\",\n",
        "  \"Cat Rescues Fireman Stuck in Tree\",\n",
        "  \"Brave Knight Runs Away\",\n",
        "  \"Papperbok Review: Totally Triffic\"\n",
        "]\n",
        "result = ''.join(headlines)\n",
        "result = result[:130]\n",
        "\n",
        "print(result)\n",
        "print(len(result))"
      ],
      "execution_count": 9,
      "outputs": [
        {
          "output_type": "stream",
          "text": [
            "Local Bear Eaten by ManLegislature Announces New LawsPeasant Discovers Violence Inherent in SystemCat Rescues Fireman Stuck in Tre\n",
            "130\n"
          ],
          "name": "stdout"
        }
      ]
    },
    {
      "cell_type": "markdown",
      "metadata": {
        "id": "hSn36Q3wdF0h"
      },
      "source": [
        "## 가로세로 높이가 같은 상자들이 쌓여있는 방이 있다. 방이 오른쪽으로 90도 회전하여 상자들이 중력의 영향을 받아 낙하한다고 할 때, 낙차가 가장 큰 상자를 구하여 낙차를 리턴하자.\n",
        "- 중력은 회전이 완료된 후에 적용된다.\n",
        "- 상자들은 모두 한쪽 변면에 붙여진 상태로 쌓여 2차원의 형태를 이루며 벽에서 떨어져서 쌓인 상자는 없다.(일직선으로 떨어진다.)\n",
        "- 방의 가로길이와 세로길이는 9이다.\n",
        "- 상자의 길이는 사로세로 1이다\n",
        "- 입력값의 인덱스가 상자가 쌓여진 높이이다.\n",
        "- 입력값 : [7, 4, 2, 0, 0, 6, 0, 7, 0]\n",
        "- 출력값 : 7"
      ]
    },
    {
      "cell_type": "code",
      "metadata": {
        "colab": {
          "base_uri": "https://localhost:8080/"
        },
        "id": "J3y1Oj7SchHj",
        "outputId": "a52bb5d7-18e6-4821-a7a1-7df8fe4a5cfb"
      },
      "source": [
        "'''\n",
        "중력문제 작성\n",
        "'''\n",
        "x = [7, 4, 2, 0, 0, 6, 0, 7, 0]\n",
        "max = 0\n",
        "for n in range(9):\n",
        "    x_temp = [int(i >= n+1) for i in x]\n",
        "    x_temp = ''.join(map(str, x_temp))\n",
        "    box_left = x_temp.find('1')\n",
        "    box_shift_left = 9 - x_temp.count('1')\n",
        "\n",
        "    shift = box_shift_left - box_left\n",
        "\n",
        "    # print(f'{n} : {x_temp}')\n",
        "    # print(f'\\t{box_left} -> {box_shift_left} ({shift}만큼 이동)')\n",
        "\n",
        "    if box_left == -1:\n",
        "        continue\n",
        "    \n",
        "    if max < shift:\n",
        "        max = shift\n",
        "\n",
        "print(max)\n"
      ],
      "execution_count": 24,
      "outputs": [
        {
          "output_type": "stream",
          "text": [
            "7\n"
          ],
          "name": "stdout"
        }
      ]
    },
    {
      "cell_type": "markdown",
      "metadata": {
        "id": "oRnvZ_YcdW9x"
      },
      "source": [
        "## 나이가 입력된 리스트가 있을때, 조건문과 반복문, continue를 활용하여 20살 이상일때만 \"성인입니다\"라는 출력을 하는 코드를 작성하세요.\n",
        "\n",
        "예시 출력)\n",
        "\n",
        "23 살은 성인입니다.<br>\n",
        "30 살은 성인입니다.<br>\n",
        "25 살은 성인입니다.<br>\n",
        "31 살은 성인입니다.<br>"
      ]
    },
    {
      "cell_type": "code",
      "metadata": {
        "colab": {
          "base_uri": "https://localhost:8080/"
        },
        "id": "3cFz1K7wde5n",
        "outputId": "57c88d3c-13c1-41ee-f10e-d04642611ded"
      },
      "source": [
        "def ovr_20(age_list):\n",
        "  # 이 부분에 넣어두자.\n",
        "\n",
        "  for age in age_list:\n",
        "      if age >= 20:\n",
        "          print(age, '살은 성인입니다.')\n",
        "\n",
        "\n",
        "ovr_20([8,13,15,19,20,21,24,30])"
      ],
      "execution_count": 27,
      "outputs": [
        {
          "output_type": "stream",
          "text": [
            "20 살은 성인입니다.\n",
            "21 살은 성인입니다.\n",
            "24 살은 성인입니다.\n",
            "30 살은 성인입니다.\n"
          ],
          "name": "stdout"
        }
      ]
    },
    {
      "cell_type": "markdown",
      "metadata": {
        "id": "fqmZecOadeXQ"
      },
      "source": [
        "## 최고가와 최저가의 차이를 변동폭으로 정의할 때 (시작가 + 변동폭)이 최고가 보다 높을 경우 \"상승장\", 그렇지 않은 경우 \"하락장\" 문자열을 출력하세요.\n",
        "```\n",
        "Key Name         |  Description\n",
        "---------------    ----------------------------\n",
        "opening_price    |   최근 24시간 내 시작 거래금액\n",
        "closing_price    |   최근 24시간 내 마지막 거래금액\n",
        "min_price        |   최근 24시간 내 최저 거래금액\n",
        "max_price        |   최근 24시간 내 최고 거래금액\n",
        "```\n"
      ]
    },
    {
      "cell_type": "markdown",
      "metadata": {
        "id": "pbmS87tqzKF6"
      },
      "source": [
        "```\n",
        "상승장\n",
        "opening_price 38451000.0\n",
        "max_price 38850000.0\n",
        "change_price 1163000.0\n",
        "today_price 39614000.0\n",
        "```"
      ]
    },
    {
      "cell_type": "code",
      "metadata": {
        "colab": {
          "base_uri": "https://localhost:8080/"
        },
        "id": "m6fyqgRSdRel",
        "outputId": "2531e586-4a63-4740-865f-680789b7ccd8"
      },
      "source": [
        "# 힌트\n",
        "import requests\n",
        "url = 'https://api.bithumb.com/public/ticker/btc'\n",
        "data = { k: float(v) for k, v in requests.get(url).json()['data'].items() }\n",
        "\n",
        "change_price = data['max_price'] - data['min_price']\n",
        "a = data['opening_price'] + change_price\n",
        "b = data['max_price']\n",
        "\n",
        "# print(\"opening_price\", data['opening_price'])\n",
        "# print(\"max_price\", data['max_price'])\n",
        "# print(\"change_price\", change_price)\n",
        "# print(\"today_price\", data['opening_price']+change_price)\n",
        "\n",
        "print('최고가 :', data['max_price'])\n",
        "print('최저가 :', data['min_price'])\n",
        "print('변동폭 :', change_price)\n",
        "print('-'*30)\n",
        "print('시작가 + 변동폭 :', a)\n",
        "print('     최고가     :', b)\n",
        "\n",
        "if a > b:\n",
        "    print('상승장 입니다')\n",
        "else:\n",
        "    print('하락장 입니다')"
      ],
      "execution_count": 32,
      "outputs": [
        {
          "output_type": "stream",
          "text": [
            "최고가 : 38850000.0\n",
            "최저가 : 37600000.0\n",
            "변동폭 : 1250000.0\n",
            "------------------------------\n",
            "시작가 + 변동폭 : 39701000.0\n",
            "     최고가     : 38850000.0\n",
            "상승장 입니다\n"
          ],
          "name": "stdout"
        }
      ]
    },
    {
      "cell_type": "markdown",
      "metadata": {
        "id": "H7PqTu8_d4wp"
      },
      "source": [
        "## 장바구니에 아래와 같은 과일이 들어있고 과일 판별 리스트가 있습니다. 현재 장바구니에는 과일이 몇개이고 과일이 아닌 것은 몇개인지 출력하세요.\n",
        "\n",
        "```\n",
        "basket_items = {'apples': 4, 'oranges': 19, 'kites': 3, 'sandwiches': 8}\n",
        "fruits = ['apples', 'oranges', 'pears', 'peaches', 'grapes', 'bananas']\n",
        "```"
      ]
    },
    {
      "cell_type": "markdown",
      "metadata": {
        "id": "mfhMlj2j1NBw"
      },
      "source": [
        "```\n",
        "과일은 23개이고, 11개는 과일이 아닙니다.\n",
        "```"
      ]
    },
    {
      "cell_type": "code",
      "metadata": {
        "colab": {
          "base_uri": "https://localhost:8080/"
        },
        "id": "iWZwtGjidv9N",
        "outputId": "d420b737-5ed2-4f86-eb44-b81a692411d9"
      },
      "source": [
        "'''\n",
        "예시 출력)\n",
        "과일은 23개이고, 11개는 과일이 아닙니다..\n",
        "'''\n",
        "basket_items = {'apples': 4, 'oranges': 19, 'kites': 3, 'sandwiches': 8}\n",
        "fruits = ['apples', 'oranges', 'pears', 'peaches', 'grapes', 'bananas']\n",
        "fruit = 0\n",
        "not_fruit = 0\n",
        "\n",
        "for item in basket_items.keys():\n",
        "    if item in fruits:\n",
        "        fruit += basket_items[item]\n",
        "    else:\n",
        "        not_fruit += basket_items[item]\n",
        "\n",
        "\n",
        "print('과일은 {}개이고, {}개는 과일이 아닙니다.'.format(fruit, not_fruit))"
      ],
      "execution_count": 33,
      "outputs": [
        {
          "output_type": "stream",
          "text": [
            "과일은 23개이고, 11개는 과일이 아닙니다.\n"
          ],
          "name": "stdout"
        }
      ]
    },
    {
      "cell_type": "markdown",
      "metadata": {
        "id": "bx4D5GhNeAYw"
      },
      "source": [
        "## 영어 이름은 가운데 이름을 가지고 있는 경우가 있습니다. 가운데 이름은 대문자로 축약해서 나타내는 코드를 작성하세요."
      ]
    },
    {
      "cell_type": "code",
      "metadata": {
        "colab": {
          "base_uri": "https://localhost:8080/"
        },
        "id": "PkzrI1qGd9gq",
        "outputId": "df086346-38ec-4f71-ffbf-1829b1e56813"
      },
      "source": [
        "'''\n",
        "예시 입력)\n",
        "Alice Betty Catherine Davis\n",
        "예시 출력)\n",
        "Alice B. C. Davis\n",
        "'''\n",
        "\n",
        "def eng_name(fullname):\n",
        "    name_list = fullname.split()\n",
        "\n",
        "    for i, name in enumerate(name_list):\n",
        "        if i in range(1, len(name_list)-1):\n",
        "            name_list[i] = name_list[i][0].upper() + '.'\n",
        "    \n",
        "    result = ' '.join(name_list)\n",
        "    \n",
        "    print(result)\n",
        "\n",
        "eng_name('Alice Betty Catherine Davis')"
      ],
      "execution_count": 36,
      "outputs": [
        {
          "output_type": "stream",
          "text": [
            "Alice B. C. Davis\n"
          ],
          "name": "stdout"
        }
      ]
    },
    {
      "cell_type": "markdown",
      "metadata": {
        "id": "azedDNrLeJZX"
      },
      "source": [
        "## 1월 1일 월요일부터 12월 31일까지 달력을 출력하세요.\n",
        "\n",
        "1.   항목 추가\n",
        "2.   항목 추가\n",
        "\n"
      ]
    },
    {
      "cell_type": "code",
      "metadata": {
        "colab": {
          "base_uri": "https://localhost:8080/"
        },
        "id": "YMtGW2CpeEdO",
        "outputId": "bc075766-bf20-400f-a606-1f57e97902eb"
      },
      "source": [
        "'''\n",
        "예시 출력)\n",
        "    1 월\n",
        "Mo Tu We Th Fr Sa Su \n",
        " 1 2 3 4 5 6 7 \n",
        " 8 9 10 11 12 13 14 \n",
        "15 16 17 18 19 20 21 \n",
        "22 23 24 25 26 27 28 \n",
        "29 30 31 \n",
        "    2 월\n",
        "Mo Tu We Th Fr Sa Su \n",
        " 1 2 3 4 5 6 7 \n",
        " 8 9 10 11 12 13 14 \n",
        "15 16 17 18 19 20 21 \n",
        "22 23 24 25 26 27 28 \n",
        "    3 월\n",
        "Mo Tu We Th Fr Sa Su \n",
        " 1 2 3 4 5 6 7 \n",
        " 8 9 10 11 12 13 14 \n",
        "15 16 17 18 19 20 21 \n",
        "22 23 24 25 26 27 28 \n",
        "29 30 31\n",
        "'''\n",
        "#달력 정답\n",
        "#답안지임.\n",
        "\n",
        "calendar = {\n",
        "    1:31, 2:28, 3:31, 4:30, 5:31, 6:30,\n",
        "    7:31, 8:31, 9:30, 10:31, 11:30, 12:31\n",
        "}\n",
        "weeks = ['Mo', 'Tu', 'We', 'Th', 'Fr', 'Sa', 'Su']\n",
        "start_week = 0\n",
        "\n",
        "for month, days in calendar.items():\n",
        "\n",
        "    print(f'{month:10}월')        # 우측정렬\n",
        "    # print(f'{month:<10}월')     # 좌측정렬\n",
        "    # print(f'{month:^10}월')     # 중앙정렬\n",
        "\n",
        "    for w in weeks:\n",
        "        print(f'{w}',end=\" \")\n",
        "    print()\n",
        "\n",
        "    for _ in range(start_week):\n",
        "        print('  ', end=' ')\n",
        "\n",
        "    for d in range(1, days+1):\n",
        "        print(f'{d:2}', end=\" \")\n",
        "        if (d+start_week) % 7 == 0:\n",
        "            print()\n",
        "\n",
        "    print()\n",
        "    print()\n",
        "    \n",
        "    start_week = (start_week + (days % 7)) % 7"
      ],
      "execution_count": 38,
      "outputs": [
        {
          "output_type": "stream",
          "text": [
            "         1월\n",
            "Mo Tu We Th Fr Sa Su \n",
            " 1  2  3  4  5  6  7 \n",
            " 8  9 10 11 12 13 14 \n",
            "15 16 17 18 19 20 21 \n",
            "22 23 24 25 26 27 28 \n",
            "29 30 31 \n",
            "\n",
            "         2월\n",
            "Mo Tu We Th Fr Sa Su \n",
            "          1  2  3  4 \n",
            " 5  6  7  8  9 10 11 \n",
            "12 13 14 15 16 17 18 \n",
            "19 20 21 22 23 24 25 \n",
            "26 27 28 \n",
            "\n",
            "         3월\n",
            "Mo Tu We Th Fr Sa Su \n",
            "          1  2  3  4 \n",
            " 5  6  7  8  9 10 11 \n",
            "12 13 14 15 16 17 18 \n",
            "19 20 21 22 23 24 25 \n",
            "26 27 28 29 30 31 \n",
            "\n",
            "         4월\n",
            "Mo Tu We Th Fr Sa Su \n",
            "                   1 \n",
            " 2  3  4  5  6  7  8 \n",
            " 9 10 11 12 13 14 15 \n",
            "16 17 18 19 20 21 22 \n",
            "23 24 25 26 27 28 29 \n",
            "30 \n",
            "\n",
            "         5월\n",
            "Mo Tu We Th Fr Sa Su \n",
            "    1  2  3  4  5  6 \n",
            " 7  8  9 10 11 12 13 \n",
            "14 15 16 17 18 19 20 \n",
            "21 22 23 24 25 26 27 \n",
            "28 29 30 31 \n",
            "\n",
            "         6월\n",
            "Mo Tu We Th Fr Sa Su \n",
            "             1  2  3 \n",
            " 4  5  6  7  8  9 10 \n",
            "11 12 13 14 15 16 17 \n",
            "18 19 20 21 22 23 24 \n",
            "25 26 27 28 29 30 \n",
            "\n",
            "         7월\n",
            "Mo Tu We Th Fr Sa Su \n",
            "                   1 \n",
            " 2  3  4  5  6  7  8 \n",
            " 9 10 11 12 13 14 15 \n",
            "16 17 18 19 20 21 22 \n",
            "23 24 25 26 27 28 29 \n",
            "30 31 \n",
            "\n",
            "         8월\n",
            "Mo Tu We Th Fr Sa Su \n",
            "       1  2  3  4  5 \n",
            " 6  7  8  9 10 11 12 \n",
            "13 14 15 16 17 18 19 \n",
            "20 21 22 23 24 25 26 \n",
            "27 28 29 30 31 \n",
            "\n",
            "         9월\n",
            "Mo Tu We Th Fr Sa Su \n",
            "                1  2 \n",
            " 3  4  5  6  7  8  9 \n",
            "10 11 12 13 14 15 16 \n",
            "17 18 19 20 21 22 23 \n",
            "24 25 26 27 28 29 30 \n",
            "\n",
            "\n",
            "        10월\n",
            "Mo Tu We Th Fr Sa Su \n",
            " 1  2  3  4  5  6  7 \n",
            " 8  9 10 11 12 13 14 \n",
            "15 16 17 18 19 20 21 \n",
            "22 23 24 25 26 27 28 \n",
            "29 30 31 \n",
            "\n",
            "        11월\n",
            "Mo Tu We Th Fr Sa Su \n",
            "          1  2  3  4 \n",
            " 5  6  7  8  9 10 11 \n",
            "12 13 14 15 16 17 18 \n",
            "19 20 21 22 23 24 25 \n",
            "26 27 28 29 30 \n",
            "\n",
            "        12월\n",
            "Mo Tu We Th Fr Sa Su \n",
            "                1  2 \n",
            " 3  4  5  6  7  8  9 \n",
            "10 11 12 13 14 15 16 \n",
            "17 18 19 20 21 22 23 \n",
            "24 25 26 27 28 29 30 \n",
            "31 \n",
            "\n"
          ],
          "name": "stdout"
        }
      ]
    },
    {
      "cell_type": "markdown",
      "metadata": {
        "id": "g6XAGn3-eUgv"
      },
      "source": [
        "## 사용자가 입력한 문자열중 가운데 글자를 출력하세요.(단, 문자열이 짝수라면 가운데 두글자를 출력하세요.)"
      ]
    },
    {
      "cell_type": "code",
      "metadata": {
        "colab": {
          "base_uri": "https://localhost:8080/"
        },
        "id": "yMnRdszieNI_",
        "outputId": "6a699b21-5b99-4d5a-bd73-da1797a47292"
      },
      "source": [
        "'''\n",
        "예시 입력)\n",
        "abc\n",
        "예시 출력)\n",
        "b\n",
        "'''\n",
        "def mid(stra):\n",
        "    # 짝수개일 때\n",
        "    if len(stra) % 2 == 0:\n",
        "        n = len(stra) // 2\n",
        "        print(stra[n-1], stra[n])\n",
        "    \n",
        "    # 홀수개일 때\n",
        "    else:\n",
        "        n = len(stra) // 2\n",
        "        print(stra[n])\n",
        "\n",
        "\n",
        "mid('abcdde')\n",
        "mid('abcde')"
      ],
      "execution_count": 39,
      "outputs": [
        {
          "output_type": "stream",
          "text": [
            "c d\n",
            "c\n"
          ],
          "name": "stdout"
        }
      ]
    },
    {
      "cell_type": "markdown",
      "metadata": {
        "id": "83cm077Vg-vn"
      },
      "source": [
        "'''\n",
        "방금 푼 문제를 참고하여, 아래의 문제를 푸시오.\n",
        "\n",
        "https://programmers.co.kr/learn/courses/30/lessons/12903\n",
        "'''"
      ]
    },
    {
      "cell_type": "code",
      "metadata": {
        "id": "3FMksfzWg9NH"
      },
      "source": [
        "def solution(s):\n",
        "    length = len(s)\n",
        "    n = length // 2\n",
        "    if length % 2 == 0:\n",
        "        return s[n-1:n+1]\n",
        "    else:\n",
        "        return s[n]"
      ],
      "execution_count": null,
      "outputs": []
    },
    {
      "cell_type": "markdown",
      "metadata": {
        "id": "TWoCUe4HrCag"
      },
      "source": [
        "---"
      ]
    },
    {
      "cell_type": "markdown",
      "metadata": {
        "id": "zKlJQYQQeymh"
      },
      "source": [
        "## 백준 10808\n",
        "\n",
        "python 내장함수 ord(), chr() 관련 공부를 구글로 진행 후에 관련 함수를 사용하여 아래의 문제를 풀어보자.\n",
        "\n",
        "https://www.acmicpc.net/problem/10808"
      ]
    },
    {
      "cell_type": "code",
      "metadata": {
        "colab": {
          "base_uri": "https://localhost:8080/"
        },
        "id": "K__R0vK-eWpc",
        "outputId": "78e700c8-9524-4a12-f2cf-f33fbb8ca537"
      },
      "source": [
        "'''\n",
        "백준 10808\n",
        "풀이\n",
        "'''\n",
        "data = input()\n"
      ],
      "execution_count": null,
      "outputs": [
        {
          "output_type": "stream",
          "text": [
            "apple\n",
            "1 0 0 0 1 0 0 0 0 0 0 1 0 0 0 2 0 0 0 0 0 0 0 0 0 0\n"
          ],
          "name": "stdout"
        }
      ]
    },
    {
      "cell_type": "code",
      "metadata": {
        "id": "s6aGcVsZJfIb",
        "outputId": "e5160944-05da-4a48-850f-376f7e7f145d",
        "colab": {
          "base_uri": "https://localhost:8080/"
        }
      },
      "source": [
        "# my code\n",
        "x = input()\n",
        "cnt = ord('z') - ord('a') + 1\n",
        "for i in range(cnt):\n",
        "    print(x.count(chr(i + ord('a'))), end=' ')"
      ],
      "execution_count": 41,
      "outputs": [
        {
          "output_type": "stream",
          "text": [
            "apple\n",
            "1 0 0 0 1 0 0 0 0 0 0 1 0 0 0 2 0 0 0 0 0 0 0 0 0 0 "
          ],
          "name": "stdout"
        }
      ]
    },
    {
      "cell_type": "markdown",
      "metadata": {
        "id": "6kcv5JxDf2dZ"
      },
      "source": [
        "## 백준 2577\n",
        "\n",
        "https://www.acmicpc.net/problem/2577"
      ]
    },
    {
      "cell_type": "code",
      "metadata": {
        "id": "kClP38f5fL4g",
        "colab": {
          "base_uri": "https://localhost:8080/"
        },
        "outputId": "bb976e60-1120-4839-b641-3840dff068ba"
      },
      "source": [
        "'''\n",
        "백준 2577\n",
        "풀이\n",
        "'''\n",
        "A = int(input())\n",
        "B = int(input())\n",
        "C = int(input())\n",
        "\n",
        "x = str(A*B*C)\n",
        "\n",
        "for i in range(10):\n",
        "    print(x.count(str(i)))\n"
      ],
      "execution_count": 42,
      "outputs": [
        {
          "output_type": "stream",
          "text": [
            "150\n",
            "266\n",
            "427\n",
            "3\n",
            "1\n",
            "0\n",
            "2\n",
            "0\n",
            "0\n",
            "0\n",
            "2\n",
            "0\n",
            "0\n"
          ],
          "name": "stdout"
        }
      ]
    },
    {
      "cell_type": "code",
      "metadata": {
        "id": "eswfn3ftKujd",
        "outputId": "359e02dc-c944-4e42-8c2d-1ea989d318e2",
        "colab": {
          "base_uri": "https://localhost:8080/"
        }
      },
      "source": [
        "# 변수 적게쓰는 다른 풀이\n",
        "a = 1\n",
        "for i in range(3):\n",
        "    a *= int(input())\n",
        "for i in range(10):\n",
        "    print(str(a).count(str(i)))"
      ],
      "execution_count": 43,
      "outputs": [
        {
          "output_type": "stream",
          "text": [
            "150\n",
            "266\n",
            "427\n",
            "3\n",
            "1\n",
            "0\n",
            "2\n",
            "0\n",
            "0\n",
            "0\n",
            "2\n",
            "0\n",
            "0\n"
          ],
          "name": "stdout"
        }
      ]
    },
    {
      "cell_type": "markdown",
      "metadata": {
        "id": "1F1_CCQTgNDQ"
      },
      "source": [
        "## 2021 카카오 신입공채 1차 코딩테스트 1번 문제(정답률 50%)\n",
        "https://programmers.co.kr/learn/courses/30/lessons/72410\n",
        "\n",
        "> 몰입해서 풀어보시길 바랍니다. 쉬운 문제인 만큼 정답 구글링 확인 금지."
      ]
    },
    {
      "cell_type": "markdown",
      "metadata": {
        "id": "9No-fcN5gRVB"
      },
      "source": [
        "## 2021 카카오 신입공채 1차 코딩테스트 2번 문제(정답률 25%)\n",
        "https://programmers.co.kr/learn/courses/30/lessons/72411\n",
        "\n",
        "> 이러한 유형은 많이 출제됩니다. 유형 치고는 쉬운 문제에 속합니다. 정답 구글링 확인 금지."
      ]
    },
    {
      "cell_type": "markdown",
      "metadata": {
        "id": "6GDJjQyVhvxX"
      },
      "source": [
        "## 리스트의 값들을 하나씩 뽑아서 비교하기(deque)\n",
        "\n",
        "파이썬의 가장 큰 문제는 [1,2,3] 이 있을때, [2, 3]으로 만든다면, 리스트의 모든 값이 한칸씩 앞으로 움직이는 과정을 거치게 된다.\n",
        "<br><br>\n",
        "따라서 리스트가 아주 크다면, 상당히 오래 걸리고, 자원소모가 심하다.\n",
        "<br><br>\n",
        "따라서 우리는 append() ,pop() 같은걸 사용하지 않고 deque 를 사용한다\n",
        "<br>\n",
        "\n",
        "    import collections\n",
        "    deq = collections.deque()\n",
        "\n",
        "<br>\n",
        "deque 는 스택과 큐 방식을 둘다 사용해 출구가 두개이다.\n",
        "\n",
        "- pop\n",
        "- popleft\n",
        "- append\n",
        "- appendleft\n",
        "\n",
        "\n",
        "위의 내용을 참고하여 아래의 문제를 풀어보자.\n",
        "\n",
        "https://programmers.co.kr/learn/courses/30/lessons/42583"
      ]
    },
    {
      "cell_type": "code",
      "metadata": {
        "id": "26gWhXZQiBDW"
      },
      "source": [
        ""
      ],
      "execution_count": null,
      "outputs": []
    }
  ]
}