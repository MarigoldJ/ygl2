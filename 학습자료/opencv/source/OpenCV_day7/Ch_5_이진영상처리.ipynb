{
 "cells": [
  {
   "cell_type": "markdown",
   "id": "e6bf63d5",
   "metadata": {},
   "source": [
    "# 영상의 이진화"
   ]
  },
  {
   "cell_type": "markdown",
   "id": "1fc9df74",
   "metadata": {},
   "source": [
    "## Treshholding"
   ]
  },
  {
   "cell_type": "code",
   "execution_count": null,
   "id": "c5192d75",
   "metadata": {},
   "outputs": [],
   "source": [
    "# cv2.hreshold(src, thresh, maxval, type, dst) -> retval, dst\n",
    "# src: 입력영상 (다채널 8bit 또는 32bit 실수형)\n",
    "# thres: 사용자 지정 임계값\n",
    "# maxval : 최댓값 (255)\n",
    "# type: 임계값 함수 동작 지정 (cv2.THRESH_BINARY, cv2.THRESH_OTSU)\n",
    "# retval: 사용된 임계값\n",
    "# dst: 출력영상"
   ]
  },
  {
   "cell_type": "code",
   "execution_count": 3,
   "id": "7aaf6309",
   "metadata": {},
   "outputs": [],
   "source": [
    "import sys\n",
    "import numpy as np\n",
    "import cv2\n",
    "\n",
    "\n",
    "src = cv2.imread('cells.png', cv2.IMREAD_GRAYSCALE)\n",
    "\n",
    "if src is None:\n",
    "    print('Image load failed!')\n",
    "    sys.exit()\n",
    "\n",
    "_, dst1 = cv2.threshold(src, 100, 255, cv2.THRESH_BINARY)\n",
    "_, dst2 = cv2.threshold(src, 210, 255, cv2.THRESH_BINARY)\n",
    "\n",
    "cv2.imshow('src', src)\n",
    "cv2.imshow('dst1', dst1)\n",
    "cv2.imshow('dst2', dst2)\n",
    "cv2.waitKey()\n",
    "cv2.destroyAllWindows()"
   ]
  },
  {
   "cell_type": "code",
   "execution_count": 8,
   "id": "f305ef89",
   "metadata": {},
   "outputs": [],
   "source": [
    "import sys\n",
    "import numpy as np\n",
    "import cv2\n",
    "\n",
    "\n",
    "src = cv2.imread('cells.png', cv2.IMREAD_GRAYSCALE)\n",
    "\n",
    "if src is None:\n",
    "    print('Image load failed!')\n",
    "    sys.exit()\n",
    "\n",
    "\n",
    "def on_threshold(pos):\n",
    "    _, dst = cv2.threshold(src, pos, 255, cv2.THRESH_BINARY)\n",
    "    cv2.imshow('dst', dst)\n",
    "\n",
    "\n",
    "cv2.imshow('src', src)\n",
    "cv2.namedWindow('dst')\n",
    "cv2.createTrackbar('Threshold', 'dst', 0, 255, on_threshold)\n",
    "cv2.setTrackbarPos('Threshold', 'dst', 128)\n",
    "\n",
    "cv2.waitKey()\n",
    "cv2.destroyAllWindows()"
   ]
  },
  {
   "cell_type": "markdown",
   "id": "cc4d27f4",
   "metadata": {},
   "source": [
    "## Otsu 방법"
   ]
  },
  {
   "cell_type": "code",
   "execution_count": 11,
   "id": "26e02744",
   "metadata": {},
   "outputs": [],
   "source": [
    "## threshold(src, thresh, maxval, type, dst) -> retval, dst\n",
    "# type : cv2.THRESH_BINARY| cv2.THRESH_OTSU\n"
   ]
  },
  {
   "cell_type": "code",
   "execution_count": 20,
   "id": "3a47c66b",
   "metadata": {},
   "outputs": [
    {
     "name": "stdout",
     "output_type": "stream",
     "text": [
      "otsu's threshold: 97.0\n"
     ]
    }
   ],
   "source": [
    "import sys\n",
    "import numpy as np\n",
    "import cv2\n",
    "\n",
    "\n",
    "# src = cv2.imread('rice.png', cv2.IMREAD_GRAYSCALE)\n",
    "src = cv2.imread('sudoku.jpg', cv2.IMREAD_GRAYSCALE)\n",
    "if src is None:\n",
    "    print('Image load failed!')\n",
    "    sys.exit()\n",
    "\n",
    "th, dst = cv2.threshold(src, 0, 255, cv2.THRESH_BINARY |cv2.THRESH_OTSU)\n",
    "print(\"otsu's threshold:\", th)  # 131\n",
    "\n",
    "cv2.imshow('src', src)\n",
    "cv2.imshow('dst', dst)\n",
    "cv2.waitKey()\n",
    "cv2.destroyAllWindows()\n"
   ]
  },
  {
   "cell_type": "markdown",
   "id": "0e0fe797",
   "metadata": {},
   "source": [
    "## 지역 이진화"
   ]
  },
  {
   "cell_type": "code",
   "execution_count": null,
   "id": "4b42f365",
   "metadata": {},
   "outputs": [],
   "source": []
  },
  {
   "cell_type": "code",
   "execution_count": 21,
   "id": "d796a701",
   "metadata": {},
   "outputs": [],
   "source": [
    "import sys\n",
    "import numpy as np\n",
    "import cv2\n",
    "\n",
    "\n",
    "# 입력 영상 불러오기\n",
    "src = cv2.imread('rice.png', cv2.IMREAD_GRAYSCALE)\n",
    "\n",
    "if src is None:\n",
    "    print('Image load failed!')\n",
    "    sys.exit()\n",
    "\n",
    "# 전역 이진화 by Otsu's method\n",
    "_, dst1 = cv2.threshold(src, 0, 255, cv2.THRESH_BINARY | cv2.THRESH_OTSU)\n",
    "\n",
    "# 지역 이진화 by Otsu's method\n",
    "dst2 = np.zeros(src.shape, np.uint8)\n",
    "\n",
    "bw = src.shape[1] // 4 #(512/4)\n",
    "bh = src.shape[0] // 4\n",
    "\n",
    "for y in range(4):\n",
    "    for x in range(4):\n",
    "        src_ = src[y*bh:(y+1)*bh, x*bw:(x+1)*bw]\n",
    "        dst_ = dst2[y*bh:(y+1)*bh, x*bw:(x+1)*bw]\n",
    "        cv2.threshold(src_, 0, 255, cv2.THRESH_BINARY | cv2.THRESH_OTSU, dst_)\n",
    "\n",
    "# 결과 출력\n",
    "cv2.imshow('src', src)\n",
    "cv2.imshow('dst1', dst1)\n",
    "cv2.imshow('dst2', dst2)\n",
    "cv2.waitKey()\n",
    "cv2.destroyAllWindows()\n"
   ]
  },
  {
   "cell_type": "markdown",
   "id": "62e287eb",
   "metadata": {},
   "source": [
    "## 적응형 이진화 (Adaptive threshold)"
   ]
  },
  {
   "cell_type": "code",
   "execution_count": 24,
   "id": "15ba5017",
   "metadata": {},
   "outputs": [],
   "source": [
    "# cv2.adaptiveThreshold(src, maxValue, adaptiveMethod, thresholdType, blockSize, C, dst) -> dst\n",
    "# src: 입력영상\n",
    "# maxValue: 임계값 최대치, 255\n",
    "# adaptiveMethod: 블러링함수, 예 cv2.ADAPTIVE_THRESH_GAUSSIAN_C/cv2.ADAPTIVE_THRESH_mean_C\n",
    "# thresholdType:cv2.THRESH_BINARY 또는 cv2.THRESH_BINARY_INV\n",
    "# blocksize: 3이싱의 홀수\n",
    "# C: 블록 내 평균괎"
   ]
  },
  {
   "cell_type": "code",
   "execution_count": 25,
   "id": "40b1ae82",
   "metadata": {},
   "outputs": [],
   "source": [
    "import sys\n",
    "import numpy as np\n",
    "import cv2\n",
    "\n",
    "\n",
    "src = cv2.imread('sudoku.jpg', cv2.IMREAD_GRAYSCALE)\n",
    "\n",
    "if src is None:\n",
    "    print('Image load failed!')\n",
    "    sys.exit()\n",
    "\n",
    "\n",
    "def on_trackbar(pos):\n",
    "    bsize = pos\n",
    "    if bsize % 2 == 0:\n",
    "        bsize = bsize - 1\n",
    "    if bsize < 3:\n",
    "        bsize = 3\n",
    "\n",
    "    dst = cv2.adaptiveThreshold(src, 255, cv2.ADAPTIVE_THRESH_GAUSSIAN_C,\n",
    "                                cv2.THRESH_BINARY, bsize, 5)\n",
    "\n",
    "    cv2.imshow('dst', dst)\n",
    "\n",
    "\n",
    "cv2.imshow('src', src)\n",
    "cv2.namedWindow('dst')\n",
    "cv2.createTrackbar('Block Size', 'dst', 0, 200, on_trackbar)\n",
    "cv2.setTrackbarPos('Block Size', 'dst', 11)\n",
    "\n",
    "cv2.waitKey()\n",
    "cv2.destroyAllWindows()\n"
   ]
  },
  {
   "cell_type": "markdown",
   "id": "2dc658fb",
   "metadata": {},
   "source": [
    "## 침식과 팽창"
   ]
  },
  {
   "cell_type": "code",
   "execution_count": null,
   "id": "ba036429",
   "metadata": {},
   "outputs": [],
   "source": [
    "# cv2.erode(src, kernel, dst = None, anchor=None, iterations=None, borderType=None, borderValue=None)\n",
    "    # src: 입력영상 (이진영상)\n",
    "    # kernel: 커널 사이즈, None = 3 x 3\n",
    "    # iterations: 여러번 수행\n",
    "    # anchor: 고정점. 기본값 (-1, -1) 중앙점사용\n",
    "# cv2.dilate(src, kernel, dst = None, anchor=None, iterations=None, borderType=None, borderValue=None)\n",
    "\n",
    "# cv2.getStructuringElemen(shape, ksize, anchor=None)-> retval\n",
    "# shape: cv.MORPH_RECT, cv.MORPH_CROSS\n",
    "# ksize: kernel size\n",
    " # anchor: 고정점. 기본값 (-1, -1)"
   ]
  },
  {
   "cell_type": "code",
   "execution_count": 1,
   "id": "e2eec11e",
   "metadata": {},
   "outputs": [],
   "source": [
    "import sys\n",
    "import numpy as np\n",
    "import cv2\n",
    "\n",
    "\n",
    "src = cv2.imread('circuit.bmp', cv2.IMREAD_GRAYSCALE)\n",
    "\n",
    "if src is None:\n",
    "    print('Image load failed!')\n",
    "    sys.exit()\n",
    "\n",
    "se = cv2.getStructuringElement(cv2.MORPH_RECT, (5, 3))\n",
    "dst1 = cv2.erode(src, se)\n",
    "\n",
    "dst2 = cv2.dilate(src, None)\n",
    "\n",
    "cv2.imshow('src', src)\n",
    "cv2.imshow('dst1', dst1)\n",
    "cv2.imshow('dst2', dst2)\n",
    "cv2.waitKey()\n",
    "cv2.destroyAllWindows()\n"
   ]
  },
  {
   "cell_type": "markdown",
   "id": "fecbad97",
   "metadata": {},
   "source": [
    "## 열기 (Erosion + Dilation) 와 닫기 (Dilation + Erosion)"
   ]
  },
  {
   "cell_type": "code",
   "execution_count": null,
   "id": "234cfa3c",
   "metadata": {},
   "outputs": [],
   "source": [
    "# cv2.morphologyEx(src, op, kernel, dst, anchor, iterations, borderType, borderValue) -> dst\n",
    "# src: 입력영상\n",
    "# op: morphology 연산 플래스\n",
    "    # cv2.MORPH_ERODE\n",
    "    # cv2.MORPH_DILATE\n",
    "    # cv2.MORPH_OPEN\n",
    "    # cv2.MORPH_CLOSE\n",
    "    # cv2.MORPH_GRADIENT (팽창 - 침식)\n",
    "\n",
    "# kernel: 사용커널\n",
    "# dst: 출력영상\n",
    "\n",
    "# connectedComponents(image[, labels[, connectivity[, ltype]]]) -> retval, labels"
   ]
  },
  {
   "cell_type": "code",
   "execution_count": 4,
   "id": "c81ff647",
   "metadata": {},
   "outputs": [
    {
     "name": "stdout",
     "output_type": "stream",
     "text": [
      "cnt1: 113\n",
      "cnt2: 99\n"
     ]
    }
   ],
   "source": [
    "\n",
    "import sys\n",
    "import numpy as np\n",
    "import cv2\n",
    "\n",
    "\n",
    "src = cv2.imread('rice.png', cv2.IMREAD_GRAYSCALE)\n",
    "\n",
    "if src is None:\n",
    "    print('Image load failed!')\n",
    "    sys.exit()\n",
    "\n",
    "# src 영상에 지역 이진화 수행 (local_th.py 참고)\n",
    "dst1 = np.zeros(src.shape, np.uint8)\n",
    "\n",
    "bw = src.shape[1] // 4\n",
    "bh = src.shape[0] // 4\n",
    "\n",
    "for y in range(4):\n",
    "    for x in range(4):\n",
    "        src_ = src[y*bh:(y+1)*bh, x*bw:(x+1)*bw]\n",
    "        dst_ = dst1[y*bh:(y+1)*bh, x*bw:(x+1)*bw]\n",
    "        cv2.threshold(src_, 0, 255, cv2.THRESH_BINARY | cv2.THRESH_OTSU, dst_)\n",
    "\n",
    "cnt1, _ = cv2.connectedComponents(dst1)\n",
    "print('cnt1:', cnt1)\n",
    "\n",
    "dst2 = cv2.morphologyEx(dst1, cv2.MORPH_OPEN, None)\n",
    "#dst2 = cv2.erode(dst1, None)\n",
    "#dst2 = cv2.dilate(dst2, None)\n",
    "\n",
    "cnt2, _ = cv2.connectedComponents(dst2)\n",
    "print('cnt2:', cnt2)\n",
    "\n",
    "cv2.imshow('src', src)\n",
    "cv2.imshow('dst1', dst1)\n",
    "cv2.imshow('dst2', dst2)\n",
    "\n",
    "cv2.waitKey()\n",
    "cv2.destroyAllWindows()"
   ]
  },
  {
   "cell_type": "markdown",
   "id": "d53c389e",
   "metadata": {},
   "source": [
    "## 이진영상의 외곽선 검출 (Boundary tracking)"
   ]
  },
  {
   "cell_type": "code",
   "execution_count": null,
   "id": "a81ced72",
   "metadata": {},
   "outputs": [],
   "source": [
    "# cv2.findContours(image, mode, method, contours, hierarchy, offset) -> contours, hierarchy\n",
    "# image: 입력영상, Non-zero 픽셀\n",
    "# mode: 외곽선 거출 모드\n",
    "    # cv2.RETR_EXTERNAL\n",
    "    # cv2.RETR_LIST \n",
    "    # cv2.RETR_CCOMP\n",
    "    # cv2.RETR_TREE\n",
    "    \n",
    "# method: 외곽선 근사화 방법\n",
    "    # cv2.CHAIN_APPROX_NONE\n",
    "    \n",
    "# contours: 검출된 외곽선 좌표\n",
    "# hierachy: 외곽선 계층정보\n",
    "# offset: 기본값 (0,0)\n",
    "\n",
    "# cv2.drawContours(image, contours, contourIdx, color, thickness, lineType, hierarchy=None, maxLevel=None, offset) -> image\n",
    "# image: 입력영상\n",
    "# contours: cv2.findContours의 결과값\n",
    "# contourIdx,: -1, 모든 영상을 그림\n",
    "# hierachy: 외곽선 계층정보\n"
   ]
  },
  {
   "cell_type": "code",
   "execution_count": 19,
   "id": "5d27b0ff",
   "metadata": {},
   "outputs": [],
   "source": [
    "import sys\n",
    "import random\n",
    "import numpy as np\n",
    "import cv2\n",
    "\n",
    "\n",
    "src = cv2.imread('contours.bmp', cv2.IMREAD_GRAYSCALE)\n",
    "\n",
    "if src is None:\n",
    "    print('Image load failed!')\n",
    "    sys.exit()\n",
    "\n",
    "contours, hier = cv2.findContours(src, cv2.RETR_CCOMP, cv2.CHAIN_APPROX_NONE)\n",
    "\n",
    "dst = cv2.cvtColor(src, cv2.COLOR_GRAY2BGR)\n",
    "\n",
    "idx = 0\n",
    "while idx >= 0:\n",
    "    c = (random.randint(0, 255), random.randint(0, 255), random.randint(0, 255))\n",
    "    cv2.drawContours(dst, contours, idx, c, 2, cv2.LINE_8, hier)\n",
    "    idx = hier[0, idx, 0]\n",
    "\n",
    "cv2.imshow('src', src)\n",
    "cv2.imshow('dst', dst)\n",
    "cv2.waitKey()\n",
    "cv2.destroyAllWindows()\n"
   ]
  },
  {
   "cell_type": "code",
   "execution_count": null,
   "id": "64755489",
   "metadata": {},
   "outputs": [],
   "source": []
  }
 ],
 "metadata": {
  "kernelspec": {
   "display_name": "Python 3",
   "language": "python",
   "name": "python3"
  },
  "language_info": {
   "codemirror_mode": {
    "name": "ipython",
    "version": 3
   },
   "file_extension": ".py",
   "mimetype": "text/x-python",
   "name": "python",
   "nbconvert_exporter": "python",
   "pygments_lexer": "ipython3",
   "version": "3.7.10"
  }
 },
 "nbformat": 4,
 "nbformat_minor": 5
}
