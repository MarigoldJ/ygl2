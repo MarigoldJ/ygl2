{
 "cells": [
  {
   "cell_type": "markdown",
   "id": "7cca8536",
   "metadata": {},
   "source": [
    "# OpenCV-Python 기초사용법\n",
    "\n",
    "## 영상속성"
   ]
  },
  {
   "cell_type": "code",
   "execution_count": 2,
   "id": "f4c5b817",
   "metadata": {},
   "outputs": [],
   "source": [
    "import sys\n",
    "import cv2\n",
    "import numpy as np"
   ]
  },
  {
   "cell_type": "code",
   "execution_count": 4,
   "id": "a1c7c904",
   "metadata": {},
   "outputs": [],
   "source": [
    "# cv2.imread(filename[, flags]) -> retval\n",
    "\n",
    "# retval\n",
    "    # numpy.nbarray: retval.ndim/shape/size/dtype\n",
    "    # dtype: uint8\n",
    "    # shape: gray영상의 경우 (h,w) 또는 color (h,w, 3) \n",
    "    # gray영상 : cv2.CV_8UC1 -> numpy.uint8\n",
    "    # color영상 : cv2.CV_8UC3 -> numpy.uint8"
   ]
  },
  {
   "cell_type": "code",
   "execution_count": 5,
   "id": "85c76a6d",
   "metadata": {},
   "outputs": [
    {
     "name": "stdout",
     "output_type": "stream",
     "text": [
      "type(img1): <class 'numpy.ndarray'>\n",
      "img1.shape: (480, 640)\n",
      "img2.shape: (480, 640, 3)\n",
      "img1.dtype: uint8\n",
      "img1.dtype: uint8\n",
      "img1.shape length: 2\n",
      "img2.shape length: 3\n"
     ]
    }
   ],
   "source": [
    "# 영상 불러오기\n",
    "img1 = cv2.imread('cat.bmp', cv2.IMREAD_GRAYSCALE)\n",
    "img2 = cv2.imread('cat.bmp', cv2.IMREAD_COLOR)\n",
    "\n",
    "if img1 is None or img2 is None:\n",
    "    print('Image load failed!')\n",
    "    sys.exit()\n",
    "\n",
    "\n",
    "# 영상의 속성 참조\n",
    "print('type(img1):', type(img1))\n",
    "print('img1.shape:', img1.shape)\n",
    "print('img2.shape:', img2.shape)\n",
    "print('img1.dtype:', img1.dtype)\n",
    "print('img1.dtype:', img2.dtype)\n",
    "\n",
    "print('img1.shape length:', len(img1.shape))\n",
    "print('img2.shape length:', len(img2.shape))\n"
   ]
  },
  {
   "cell_type": "markdown",
   "id": "38f56a0b",
   "metadata": {},
   "source": [
    "## 영상의 크기 참조"
   ]
  },
  {
   "cell_type": "code",
   "execution_count": 6,
   "id": "e2d5c8e7",
   "metadata": {},
   "outputs": [
    {
     "name": "stdout",
     "output_type": "stream",
     "text": [
      "img1 size: 640 x 480\n",
      "img2 size: 640 x 480\n"
     ]
    }
   ],
   "source": [
    "\n",
    "h, w = img1.shape\n",
    "print('img1 size: {} x {}'.format(w, h))\n",
    "\n",
    "h, w = img2.shape[:2]\n",
    "print('img2 size: {} x {}'.format(w, h))"
   ]
  },
  {
   "cell_type": "markdown",
   "id": "9598534a",
   "metadata": {},
   "source": [
    "## 영상의 픽셀값 참조"
   ]
  },
  {
   "cell_type": "code",
   "execution_count": 7,
   "id": "799f67cc",
   "metadata": {},
   "outputs": [
    {
     "name": "stdout",
     "output_type": "stream",
     "text": [
      "252\n",
      "[255 254 246]\n"
     ]
    }
   ],
   "source": [
    "\n",
    "x = 20\n",
    "y = 30\n",
    "\n",
    "p1 =img1[y,x]\n",
    "print(p1)\n",
    "\n",
    "p2 = img2[y, x]\n",
    "print(p2)\n",
    "\n",
    "'''\n",
    "img1[10:20, 10:20] = 0\n",
    "img2[10:20, 10:20] = (0, 0, 255)\n",
    "'''\n",
    "# cv2.imshow('image', img1)\n",
    "# cv2.imshow('image2',img2)\n",
    "\n",
    "cv2.waitKey()\n",
    "cv2.destroyAllWindows()"
   ]
  },
  {
   "cell_type": "markdown",
   "id": "c860de41",
   "metadata": {},
   "source": [
    "## 영상생성"
   ]
  },
  {
   "cell_type": "code",
   "execution_count": 8,
   "id": "ad44259b",
   "metadata": {},
   "outputs": [
    {
     "data": {
      "text/plain": [
       "'\\nnumpy.empty(shape, dtype)\\nnumpy.zeros(shape, dtype)\\nnumpy.ones(shape, dtype)\\nnumpy.full(shape, fill_value, dtype)\\n'"
      ]
     },
     "execution_count": 8,
     "metadata": {},
     "output_type": "execute_result"
    }
   ],
   "source": [
    "'''\n",
    "numpy.empty(shape, dtype)\n",
    "numpy.zeros(shape, dtype)\n",
    "numpy.ones(shape, dtype)\n",
    "numpy.full(shape, fill_value, dtype)\n",
    "'''"
   ]
  },
  {
   "cell_type": "code",
   "execution_count": 1,
   "id": "fecc429e",
   "metadata": {},
   "outputs": [],
   "source": [
    "import numpy as np\n",
    "import cv2\n",
    "\n",
    "# 새 영상 생성하기\n",
    "img1 = np.empty((240, 320), dtype=np.uint8)       # grayscale image\n",
    "img2 = np.zeros((240, 320, 3), dtype=np.uint8)    # color image\n",
    "img3 = np.ones((240, 320), dtype=np.uint8) * 255  # dark gray\n",
    "img4 = np.full((240, 320, 3), (0, 255, 255), dtype=np.uint8)  # yellow\n",
    "\n",
    "cv2.imshow('img1', img1)\n",
    "cv2.imshow('img2', img2)\n",
    "cv2.imshow('img3', img3)\n",
    "cv2.imshow('img4', img4)\n",
    "cv2.waitKey()\n",
    "cv2.destroyAllWindows()\n"
   ]
  },
  {
   "cell_type": "markdown",
   "id": "5f75a8f4",
   "metadata": {},
   "source": [
    "## 새영상 생성"
   ]
  },
  {
   "cell_type": "code",
   "execution_count": 6,
   "id": "2405862f",
   "metadata": {
    "scrolled": true
   },
   "outputs": [
    {
     "name": "stdout",
     "output_type": "stream",
     "text": [
      "(194, 259, 3)\n",
      "uint8\n"
     ]
    }
   ],
   "source": [
    "# 영상 복사\n",
    "# img1 = cv2.imread('cat.bmp', cv2.IMREAD_COLOR)\n",
    "img1 = cv2.imread('HappyFish.jpg')\n",
    "\n",
    "if img1 is None:\n",
    "    print(\"image load failed\")\n",
    "    sys.exit()\n",
    "\n",
    "img2 = img1\n",
    "img3 = img1.copy()\n",
    "\n",
    "img1[:,:] = (0, 255, 255)\n",
    "\n",
    "\n",
    "print(img1.shape)\n",
    "print(img1.dtype)\n",
    "\n",
    "cv2.imshow('img1', img1)\n",
    "cv2.imshow('img2', img2)\n",
    "cv2.imshow('img3', img3)\n",
    "\n",
    "cv2.waitKey()\n",
    "cv2.destroyAllWindows()\n"
   ]
  },
  {
   "cell_type": "markdown",
   "id": "df02c35a",
   "metadata": {},
   "source": [
    "## 부분 영상 추출"
   ]
  },
  {
   "cell_type": "code",
   "execution_count": 9,
   "id": "67827998",
   "metadata": {},
   "outputs": [],
   "source": [
    "img1 = cv2.imread('HappyFish.jpg')\n",
    "\n",
    "img2 = img1[40:120, 30:150]  # numpy.ndarray의 슬라이싱\n",
    "img3 = img1[40:120, 30:150].copy()\n",
    "\n",
    "# img2.fill(0)\n",
    "\n",
    "cv2.imshow('img1', img1)\n",
    "cv2.imshow('img2', img2)\n",
    "cv2.imshow('img3', img3)\n",
    "\n",
    "\n",
    "cv2.waitKey()\n",
    "cv2.destroyAllWindows()"
   ]
  },
  {
   "cell_type": "markdown",
   "id": "4af3102a",
   "metadata": {},
   "source": [
    "## 마스크 연산과 ROI"
   ]
  },
  {
   "cell_type": "code",
   "execution_count": 12,
   "id": "95a50d0b",
   "metadata": {},
   "outputs": [],
   "source": [
    "# 마스크 영상을 이용한 영상 합성\n",
    "src = cv2.imread('airplane.bmp', cv2.IMREAD_COLOR)\n",
    "mask = cv2.imread('mask_plane.bmp', cv2.IMREAD_GRAYSCALE)\n",
    "dst = cv2.imread('field.bmp', cv2.IMREAD_COLOR)\n",
    "\n",
    "if src is None or mask is None or dst is None:\n",
    "    print('Image load failed!')\n",
    "    sys.exit()\n",
    "    \n",
    "\n",
    "# 영상의 포맷과 형식이 같아야 함\n",
    "# cv2.copyTo(src, mask, dst)\n",
    "# dst = cv2.copyTo(src, mask)\n",
    "\n",
    "# Using numpy\n",
    "# dst[mask > 0] = src[mask > 0]\n",
    "\n",
    "cv2.imshow('src', src)\n",
    "cv2.imshow('dst', dst)\n",
    "cv2.imshow('mask', mask)\n",
    "cv2.waitKey()\n",
    "cv2.destroyAllWindows()"
   ]
  },
  {
   "cell_type": "markdown",
   "id": "e04ff7bc",
   "metadata": {},
   "source": [
    "## 알파 채널을 마스크 영상으로 이용"
   ]
  },
  {
   "cell_type": "code",
   "execution_count": 5,
   "id": "bece5737",
   "metadata": {},
   "outputs": [
    {
     "name": "stdout",
     "output_type": "stream",
     "text": [
      "(222, 180, 4)\n"
     ]
    }
   ],
   "source": [
    "src = cv2.imread('cat.bmp', cv2.IMREAD_COLOR)\n",
    "logo = cv2.imread('opencv-logo-white.png', cv2.IMREAD_UNCHANGED)\n",
    "\n",
    "print(logo.shape)\n",
    "\n",
    "if src is None or logo is None:\n",
    "    print('Image load failed!')\n",
    "    sys.exit()\n",
    "\n",
    "mask = logo[:, :, 3]    # mask는 알파 채널로 만든 마스크 영상\n",
    "logo = logo[:, :, :-1]  # logo는 b, g, r 3채널로 구성된 컬러 영상\n",
    "h, w = mask.shape[:2]\n",
    "crop = src[10:10+h, 10:10+w]  # logo, mask와 같은 크기의 부분 영상 추출\n",
    "\n",
    "cv2.copyTo(logo, mask, crop)\n",
    "#crop[mask > 0] = logo[mask > 0]\n",
    "\n",
    "cv2.imshow('src', src)\n",
    "cv2.imshow('logo', logo)\n",
    "cv2.imshow('mask', mask)\n",
    "cv2.waitKey()\n",
    "cv2.destroyAllWindows()"
   ]
  },
  {
   "cell_type": "markdown",
   "id": "37b2e61d",
   "metadata": {},
   "source": [
    "## OpenCV 그리기 함수"
   ]
  },
  {
   "cell_type": "code",
   "execution_count": null,
   "id": "7dfffbee",
   "metadata": {},
   "outputs": [],
   "source": [
    "# cv2.line(img, pt1, pt2, color, thickness = None, lineType = None) -> img\n",
    "# flags\n",
    "    # img:그림을 그릴 영상\n",
    "    # pt1, pt2: 직선의 시작점, 끝점\n",
    "    # color: 직선의 칼라 (B,G,R)의 튜플\n",
    "    # thinkness: 선두께\n",
    "    # lineType: cv2.LINE_4, cv2.LINE_8, cv2.LINE_AA\n",
    "    \n",
    "# cv2.rectangle(img, pt1, pt2, color, thickness = None, lineType = None) -> img\n",
    "# cv2.rectangle(img, rect, color, thickness = None, lineType = None) -> img\n",
    "    # rect: 사각형의 위치 정보 (x, y, w, h)\n",
    "    \n",
    "    \n",
    "# cv2.circle(img, center, radius, color, thickness = None, lineType = None) -> img\n",
    "    # center: 원의 중심좌표 (x, y)\n",
    "    # radius : 원의 반지름\n",
    "    \n",
    "# cv2.polylines(img, pts, isClosed, color, thickness = None, lineType = None) -> img\n",
    "    # center: 다각형 점들의 array\n",
    "    # isClosed : True for 폐곡선"
   ]
  },
  {
   "cell_type": "code",
   "execution_count": 12,
   "id": "d6b1ab1e",
   "metadata": {},
   "outputs": [],
   "source": [
    "import numpy as np\n",
    "import cv2\n",
    "\n",
    "img = np.full((400, 400, 3), 255, np.uint8)\n",
    "\n",
    "# x, y 좌표순서\n",
    "cv2.line(img, (50, 50), (200, 50), (0, 0, 255), 5)\n",
    "cv2.line(img, (50, 60), (150, 160), (0, 0, 128))\n",
    "\n",
    "cv2.rectangle(img, (50, 200, 150, 100), (0, 255, 0), 2)\n",
    "cv2.rectangle(img, (70, 220), (180, 280), (0, 128, 0), -1)\n",
    "\n",
    "cv2.circle(img, (300, 100), 30, (255, 255, 0), -1, cv2.LINE_AA)\n",
    "cv2.circle(img, (300, 100), 60, (255, 0, 0), 3, cv2.LINE_AA)\n",
    "\n",
    "\n",
    "pts = np.array([[250, 200], [300, 200], [350, 300], [250, 300]])\n",
    "cv2.polylines(img, [pts], True, (255, 0, 255), 2)\n",
    "\n",
    "text = 'Hello? OpenCV ' + cv2.__version__\n",
    "cv2.putText(img, text, (50, 350), cv2.FONT_HERSHEY_SIMPLEX, 0.8, \n",
    "            (0, 0, 255), 1, cv2.LINE_AA)\n",
    "\n",
    "cv2.imshow(\"img\", img)\n",
    "cv2.waitKey()\n",
    "cv2.destroyAllWindows()"
   ]
  },
  {
   "cell_type": "markdown",
   "id": "3c4be315",
   "metadata": {},
   "source": [
    "## 카메라와 동영상 처리하기 "
   ]
  },
  {
   "cell_type": "code",
   "execution_count": null,
   "id": "77abefed",
   "metadata": {},
   "outputs": [],
   "source": [
    "# cv2.VideoCapture(index/filename, apiPreference=None) -> retval\n",
    "# index: camera_id or filename\n",
    "# apiPreference=None\n",
    "\n",
    "\n",
    "# cv2.VideoCapture.open(index/filename, apiPreference=None) -> retval\n",
    "# retval: True or False\n",
    "\n",
    "# cv2.VideoCapture.read(image=None) -> retval, image\n",
    "# retval : True or False\n",
    "\n",
    "# cv2.VideoCapture.get() -> retval\n",
    "\n",
    "# cv2.Canny(image, threshold1, threshold2)\n",
    "# image:입력영상\n",
    "# threshold1 = low value, threshold2 =  high value"
   ]
  },
  {
   "cell_type": "code",
   "execution_count": 20,
   "id": "e35dfdeb",
   "metadata": {},
   "outputs": [
    {
     "name": "stdout",
     "output_type": "stream",
     "text": [
      "Frame width: 640\n",
      "Frame height: 480\n"
     ]
    }
   ],
   "source": [
    "# 카메라 열기\n",
    "cap = cv2.VideoCapture(0)\n",
    "\n",
    "if not cap.isOpened(): #True or Falose\n",
    "    print(\"Camera open failed!\")\n",
    "    sys.exit()\n",
    "\n",
    "\n",
    "# 카메라 프레임 크기 출력\n",
    "print('Frame width:', int(cap.get(cv2.CAP_PROP_FRAME_WIDTH)))\n",
    "print('Frame height:', int(cap.get(cv2.CAP_PROP_FRAME_HEIGHT)))\n",
    "\n",
    "\n",
    "# cap.set(cv2.CAP_PROP_FRAME_WIDTH, 320)\n",
    "# cap.set(cv2.CAP_PROP_FRAME_HEIGHT, 240)\n",
    "\n",
    "# 카메라 프레임 처리\n",
    "while True:\n",
    "    ret, frame = cap.read()\n",
    "\n",
    "    if not ret:\n",
    "        break\n",
    "\n",
    "    edge = cv2.Canny(frame, 50, 150)       \n",
    "#     inversed = ~frame  # 반전\n",
    "    \n",
    "    cv2.imshow('frame', frame)\n",
    "    cv2.imshow('frame1', edge)\n",
    "#     cv2.imshow('inversed', inversed)\n",
    "\n",
    "    if cv2.waitKey(10) == 27:\n",
    "        break\n",
    "\n",
    "cap.release()\n",
    "cv2.destroyAllWindows()"
   ]
  },
  {
   "cell_type": "markdown",
   "id": "cd8ac06b",
   "metadata": {},
   "source": [
    "## 카메라 동영상 저장하기"
   ]
  },
  {
   "cell_type": "code",
   "execution_count": 1,
   "id": "9692eeec",
   "metadata": {},
   "outputs": [],
   "source": [
    "# cv2.VideoWriter(filename, fourcc, fps, framesize, isColor=None) -> retval\n",
    "# filename: 저장할 이름\n",
    "# fourcc: cv2.VideoWriter_fourcc(*'DIVX') 를 사용\n",
    "# fps: 초당 프레임 수 e.g. 30\n",
    "# frameSize: 프레임 크기 e.g., [640, 480])\n",
    "# isColor: Color 영상\n",
    "#"
   ]
  },
  {
   "cell_type": "code",
   "execution_count": 18,
   "id": "4f04c2f6",
   "metadata": {},
   "outputs": [],
   "source": [
    "# import sys\n",
    "# import cv2\n",
    "\n",
    "\n",
    "cap = cv2.VideoCapture(0)\n",
    "\n",
    "if not cap.isOpened():\n",
    "    print(\"Camera open failed!\")\n",
    "    sys.exit()\n",
    "\n",
    "# cap.get(cv2.CAP_PROP_FRAME_WIDTH) -> float type 반환\n",
    "w = round(cap.get(cv2.CAP_PROP_FRAME_WIDTH))\n",
    "h = round(cap.get(cv2.CAP_PROP_FRAME_HEIGHT))\n",
    "\n",
    "fps = cap.get(cv2.CAP_PROP_FPS) #\n",
    "\n",
    "# fourcc = cv2.VideoWriter_fourcc(*'MJPG')\n",
    "fourcc = cv2.VideoWriter_fourcc(*'DIVX') # *'DIVX' == 'D', 'I', 'V', 'X'\n",
    "delay = round(1000 / fps)\n",
    "\n",
    "out = cv2.VideoWriter('output.avi', fourcc, fps, (w, h))\n",
    "\n",
    "if not out.isOpened():\n",
    "    print('File open failed!')\n",
    "    cap.release()\n",
    "    sys.exit()\n",
    "\n",
    "while True:\n",
    "    ret, frame = cap.read()\n",
    "\n",
    "    if not ret:\n",
    "        break\n",
    "\n",
    "#     inversed = ~frame\n",
    "#     edge = cv2.Canny(frame, 50, 150)\n",
    "#     edge_color = cv2.cvtColor(edge, cv2.COLOR_GRAY2BGR)\n",
    "\n",
    "    out.write(frame) #소리는 capture가 안됨\n",
    "#     out.write(inversed)\n",
    "#     out.write(edge_color)\n",
    "\n",
    "    cv2.imshow('frame', frame)\n",
    "#     cv2.imshow('inversed', inversed)\n",
    "#     cv2.imshow('edge', edge)\n",
    "\n",
    "    if cv2.waitKey(delay) == 27:\n",
    "        break\n",
    "\n",
    "cap.release()\n",
    "out.release()\n",
    "\n",
    "cv2.destroyAllWindows()"
   ]
  },
  {
   "cell_type": "markdown",
   "id": "fc51e7f6",
   "metadata": {},
   "source": [
    "## 키보드 이벤트 처리하기"
   ]
  },
  {
   "cell_type": "code",
   "execution_count": 21,
   "id": "e4625866",
   "metadata": {},
   "outputs": [],
   "source": [
    "# import sys\n",
    "# import numpy as np\n",
    "# import cv2\n",
    "\n",
    "\n",
    "img = cv2.imread('cat.bmp', cv2.IMREAD_GRAYSCALE)\n",
    "\n",
    "if img is None:\n",
    "    print('Image load failed!')\n",
    "    sys.exit()\n",
    "\n",
    "cv2.namedWindow('image')\n",
    "cv2.imshow('image', img)\n",
    "\n",
    "# cv2.waitKeyEx()\n",
    "\n",
    "while True:\n",
    "    keycode = cv2.waitKey()\n",
    "    if keycode == ord('i'):\n",
    "        img = ~img\n",
    "        cv2.imshow('image', img)\n",
    "    elif keycode == 27:\n",
    "        break\n",
    "\n",
    "cv2.destroyAllWindows()\n"
   ]
  },
  {
   "cell_type": "markdown",
   "id": "8978ba6f",
   "metadata": {},
   "source": [
    "## 마우스 이벤트 처리하기"
   ]
  },
  {
   "cell_type": "code",
   "execution_count": null,
   "id": "70330c53",
   "metadata": {},
   "outputs": [],
   "source": [
    "# cv2.setMouseCallback(windowName, onMouse, param = None) -> None\n",
    "    # windowName: 마우스이벤트를 수행할 창 이름\n",
    "    # onMouse: 마우스 이벤트 콜벡함수\n",
    "    # param: 콜백함수에 전달할 데이터\n",
    "\n",
    "# onMouse(event, x, y, flags, param) -> None\n",
    "# event: 마우스 이벤트 종류 e.g., cv2.EVENT_LBUTTONDOWN\n",
    "# x, y : 창을 기준으로 이벤트 발생좌표\n",
    "# flags: 이벤트시 발생 상태 e.g., \"ctrl\"\n",
    "# param: cv2.setMouseCallback()함수에서 설정한 데이터"
   ]
  },
  {
   "cell_type": "code",
   "execution_count": 34,
   "id": "44a2f179",
   "metadata": {},
   "outputs": [
    {
     "name": "stdout",
     "output_type": "stream",
     "text": [
      "EVENT_LBUTTONDOWN: 88, 207\n",
      "EVENT_LBUTTONUP: 88, 207\n",
      "EVENT_LBUTTONDOWN: 319, 217\n",
      "EVENT_LBUTTONUP: 320, 217\n",
      "EVENT_LBUTTONDOWN: 79, 230\n",
      "EVENT_LBUTTONUP: 311, 148\n",
      "EVENT_LBUTTONDOWN: 253, 344\n",
      "EVENT_LBUTTONUP: 492, 245\n",
      "EVENT_LBUTTONDOWN: 133, 103\n",
      "EVENT_LBUTTONUP: 443, 86\n",
      "EVENT_LBUTTONDOWN: 551, 81\n",
      "EVENT_LBUTTONUP: 543, 85\n",
      "EVENT_LBUTTONDOWN: 62, 333\n",
      "EVENT_LBUTTONUP: 626, 64\n"
     ]
    }
   ],
   "source": [
    "# import sys\n",
    "# import numpy as np\n",
    "# import cv2\n",
    "\n",
    "\n",
    "oldx = oldy = -1\n",
    "\n",
    "def on_mouse(event, x, y, flags, param):\n",
    "    global oldx, oldy\n",
    "\n",
    "    if event == cv2.EVENT_LBUTTONDOWN:\n",
    "        oldx, oldy = x, y\n",
    "        print('EVENT_LBUTTONDOWN: %d, %d' % (x, y))\n",
    "\n",
    "    elif event == cv2.EVENT_LBUTTONUP:\n",
    "        print('EVENT_LBUTTONUP: %d, %d' % (x, y))\n",
    "\n",
    "#     elif event == cv2.EVENT_MOUSEMOVE:\n",
    "#         if flags & cv2.EVENT_FLAG_LBUTTON:\n",
    "#             cv2.line(img, (oldx, oldy), (x, y), (0, 0, 255), 4, cv2.LINE_AA)\n",
    "#             cv2.imshow('image', img)\n",
    "#             oldx, oldy = x, y\n",
    "\n",
    "\n",
    "img = np.ones((480, 640, 3), dtype=np.uint8) * 255\n",
    "\n",
    "cv2.namedWindow('image')\n",
    "cv2.setMouseCallback('image', on_mouse, img) #항상 창을 띄우고 호출\n",
    "\n",
    "cv2.imshow('image', img)\n",
    "cv2.waitKey()\n",
    "\n",
    "cv2.destroyAllWindows()\n"
   ]
  },
  {
   "cell_type": "markdown",
   "id": "b84634b6",
   "metadata": {},
   "source": [
    "## 트랙바 사용하기"
   ]
  },
  {
   "cell_type": "code",
   "execution_count": null,
   "id": "10bd5ff7",
   "metadata": {},
   "outputs": [],
   "source": [
    "# createTrackbar(trackbarName, windowName, value, count, onChange) -> None\n",
    "# trackbarName: 트랙바 이름\n",
    "# windowName : 트랙바를 생성할 창 이름\n",
    "# value : 트랙바 위치 초기값\n",
    "# count : 트랙바 최댓값, 최솟값은 0\n",
    "# onChange :callback 함수 e.g., onChange(pos) 위치를 정수형태로 전달"
   ]
  },
  {
   "cell_type": "code",
   "execution_count": 38,
   "id": "a4ac2e54",
   "metadata": {},
   "outputs": [],
   "source": [
    "# import numpy as np\n",
    "# import cv2\n",
    "\n",
    "\n",
    "def on_level_change(pos):\n",
    "    print(pos)\n",
    "    value = pos * 16\n",
    "#     if value >= 255:\n",
    "#         value = 255\n",
    "#     value = np.clip(value,0,255)\n",
    "\n",
    "    img[:] = value\n",
    "    cv2.imshow('image', img)\n",
    "\n",
    "\n",
    "img = np.zeros((480, 640), np.uint8)\n",
    "cv2.namedWindow('image')\n",
    "cv2.createTrackbar('level', 'image', 0, 16, on_level_change) # 창이 생성된 후 호출\n",
    "\n",
    "cv2.imshow('image', img)\n",
    "cv2.waitKey()\n",
    "cv2.destroyAllWindows()"
   ]
  },
  {
   "cell_type": "code",
   "execution_count": null,
   "id": "fa427473",
   "metadata": {},
   "outputs": [],
   "source": []
  }
 ],
 "metadata": {
  "kernelspec": {
   "display_name": "Python 3",
   "language": "python",
   "name": "python3"
  },
  "language_info": {
   "codemirror_mode": {
    "name": "ipython",
    "version": 3
   },
   "file_extension": ".py",
   "mimetype": "text/x-python",
   "name": "python",
   "nbconvert_exporter": "python",
   "pygments_lexer": "ipython3",
   "version": "3.9.5"
  }
 },
 "nbformat": 4,
 "nbformat_minor": 5
}
