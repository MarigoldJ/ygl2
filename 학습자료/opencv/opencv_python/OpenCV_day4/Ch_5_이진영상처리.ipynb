{
 "cells": [
  {
   "cell_type": "markdown",
   "id": "2465a451",
   "metadata": {},
   "source": [
    "# 영상의 이진화"
   ]
  },
  {
   "cell_type": "markdown",
   "id": "ab880546",
   "metadata": {},
   "source": [
    "## Treshholding"
   ]
  },
  {
   "cell_type": "code",
   "execution_count": null,
   "id": "69683c68",
   "metadata": {},
   "outputs": [],
   "source": [
    "# cv2.hreshold(src, thresh, maxval, type, dst) -> retval, dst\n",
    "# src: 입력영상 (다채널 8bit 또는 32bit 실수형)\n",
    "# thres: 사용자 지정 임계값\n",
    "# maxval : 최댓값 (255)\n",
    "# type: 임계값 함수 동작 지정 (cv2.THRESH_BINARY, cv2.THRESH_OTSU)\n",
    "# retval: 사용된 임계값\n",
    "# dst: 출력영상"
   ]
  },
  {
   "cell_type": "code",
   "execution_count": 1,
   "id": "845119c5",
   "metadata": {},
   "outputs": [],
   "source": [
    "import sys\n",
    "import numpy as np\n",
    "import cv2\n",
    "\n",
    "\n",
    "src = cv2.imread('cells.png', cv2.IMREAD_GRAYSCALE)\n",
    "\n",
    "if src is None:\n",
    "    print('Image load failed!')\n",
    "    sys.exit()\n",
    "\n",
    "_, dst1 = cv2.threshold(src, 100, 255, cv2.THRESH_BINARY)\n",
    "_, dst2 = cv2.threshold(src, 210, 255, cv2.THRESH_BINARY)\n",
    "\n",
    "cv2.imshow('src', src)\n",
    "cv2.imshow('dst1', dst1)\n",
    "cv2.imshow('dst2', dst2)\n",
    "cv2.waitKey()\n",
    "cv2.destroyAllWindows()"
   ]
  },
  {
   "cell_type": "code",
   "execution_count": 8,
   "id": "7813bcc7",
   "metadata": {},
   "outputs": [],
   "source": [
    "import sys\n",
    "import numpy as np\n",
    "import cv2\n",
    "\n",
    "\n",
    "src = cv2.imread('cells.png', cv2.IMREAD_GRAYSCALE)\n",
    "\n",
    "if src is None:\n",
    "    print('Image load failed!')\n",
    "    sys.exit()\n",
    "\n",
    "\n",
    "def on_threshold(pos):\n",
    "    _, dst = cv2.threshold(src, pos, 255, cv2.THRESH_BINARY)\n",
    "    cv2.imshow('dst', dst)\n",
    "\n",
    "\n",
    "cv2.imshow('src', src)\n",
    "cv2.namedWindow('dst')\n",
    "cv2.createTrackbar('Threshold', 'dst', 0, 255, on_threshold)\n",
    "cv2.setTrackbarPos('Threshold', 'dst', 128)\n",
    "\n",
    "cv2.waitKey()\n",
    "cv2.destroyAllWindows()"
   ]
  },
  {
   "cell_type": "markdown",
   "id": "cef9f1c3",
   "metadata": {},
   "source": [
    "## Otsu 방법"
   ]
  },
  {
   "cell_type": "code",
   "execution_count": 11,
   "id": "f3351145",
   "metadata": {},
   "outputs": [],
   "source": [
    "## threshold(src, thresh, maxval, type, dst) -> retval, dst\n",
    "# type : cv2.THRESH_BINARY| cv2.THRESH_OTSU\n"
   ]
  },
  {
   "cell_type": "code",
   "execution_count": 2,
   "id": "63f6e946",
   "metadata": {},
   "outputs": [
    {
     "name": "stdout",
     "output_type": "stream",
     "text": [
      "otsu's threshold: 97.0\n"
     ]
    }
   ],
   "source": [
    "import sys\n",
    "import numpy as np\n",
    "import cv2\n",
    "\n",
    "\n",
    "# src = cv2.imread('rice.png', cv2.IMREAD_GRAYSCALE)\n",
    "src = cv2.imread('sudoku.jpg', cv2.IMREAD_GRAYSCALE)\n",
    "if src is None:\n",
    "    print('Image load failed!')\n",
    "    sys.exit()\n",
    "\n",
    "th, dst = cv2.threshold(src, 0, 255, cv2.THRESH_BINARY |cv2.THRESH_OTSU)\n",
    "print(\"otsu's threshold:\", th)  # 131\n",
    "\n",
    "cv2.imshow('src', src)\n",
    "cv2.imshow('dst', dst)\n",
    "cv2.waitKey()\n",
    "cv2.destroyAllWindows()\n"
   ]
  },
  {
   "cell_type": "markdown",
   "id": "78122e6d",
   "metadata": {},
   "source": [
    "## 지역 이진화"
   ]
  },
  {
   "cell_type": "code",
   "execution_count": null,
   "id": "d7fe086f",
   "metadata": {},
   "outputs": [],
   "source": []
  },
  {
   "cell_type": "code",
   "execution_count": 21,
   "id": "d24de9be",
   "metadata": {},
   "outputs": [],
   "source": [
    "import sys\n",
    "import numpy as np\n",
    "import cv2\n",
    "\n",
    "\n",
    "# 입력 영상 불러오기\n",
    "src = cv2.imread('rice.png', cv2.IMREAD_GRAYSCALE)\n",
    "\n",
    "if src is None:\n",
    "    print('Image load failed!')\n",
    "    sys.exit()\n",
    "\n",
    "# 전역 이진화 by Otsu's method\n",
    "_, dst1 = cv2.threshold(src, 0, 255, cv2.THRESH_BINARY | cv2.THRESH_OTSU)\n",
    "\n",
    "# 지역 이진화 by Otsu's method\n",
    "dst2 = np.zeros(src.shape, np.uint8)\n",
    "\n",
    "bw = src.shape[1] // 4 #(512/4)\n",
    "bh = src.shape[0] // 4\n",
    "\n",
    "for y in range(4):\n",
    "    for x in range(4):\n",
    "        src_ = src[y*bh:(y+1)*bh, x*bw:(x+1)*bw]\n",
    "        dst_ = dst2[y*bh:(y+1)*bh, x*bw:(x+1)*bw]\n",
    "        cv2.threshold(src_, 0, 255, cv2.THRESH_BINARY | cv2.THRESH_OTSU, dst_)\n",
    "\n",
    "# 결과 출력\n",
    "cv2.imshow('src', src)\n",
    "cv2.imshow('dst1', dst1)\n",
    "cv2.imshow('dst2', dst2)\n",
    "cv2.waitKey()\n",
    "cv2.destroyAllWindows()\n"
   ]
  },
  {
   "cell_type": "markdown",
   "id": "ee8d0791",
   "metadata": {},
   "source": [
    "## 적응형 이진화 (Adaptive threshold)"
   ]
  },
  {
   "cell_type": "code",
   "execution_count": 24,
   "id": "ae72a9ff",
   "metadata": {},
   "outputs": [],
   "source": [
    "# cv2.adaptiveThreshold(src, maxValue, adaptiveMethod, thresholdType, blockSize, C, dst) -> dst\n",
    "# src: 입력영상\n",
    "# maxValue: 임계값 최대치, 255\n",
    "# adaptiveMethod: 블러링함수, 예 cv2.ADAPTIVE_THRESH_GAUSSIAN_C/cv2.ADAPTIVE_THRESH_mean_C\n",
    "# thresholdType:cv2.THRESH_BINARY 또는 cv2.THRESH_BINARY_INV\n",
    "# blocksize: 3이싱의 홀수\n",
    "# C: 블록 내 평균괎"
   ]
  },
  {
   "cell_type": "code",
   "execution_count": 25,
   "id": "3f0bf830",
   "metadata": {},
   "outputs": [],
   "source": [
    "import sys\n",
    "import numpy as np\n",
    "import cv2\n",
    "\n",
    "\n",
    "src = cv2.imread('sudoku.jpg', cv2.IMREAD_GRAYSCALE)\n",
    "\n",
    "if src is None:\n",
    "    print('Image load failed!')\n",
    "    sys.exit()\n",
    "\n",
    "\n",
    "def on_trackbar(pos):\n",
    "    bsize = pos\n",
    "    if bsize % 2 == 0:\n",
    "        bsize = bsize - 1\n",
    "    if bsize < 3:\n",
    "        bsize = 3\n",
    "\n",
    "    dst = cv2.adaptiveThreshold(src, 255, cv2.ADAPTIVE_THRESH_GAUSSIAN_C,\n",
    "                                cv2.THRESH_BINARY, bsize, 5)\n",
    "\n",
    "    cv2.imshow('dst', dst)\n",
    "\n",
    "\n",
    "cv2.imshow('src', src)\n",
    "cv2.namedWindow('dst')\n",
    "cv2.createTrackbar('Block Size', 'dst', 0, 200, on_trackbar)\n",
    "cv2.setTrackbarPos('Block Size', 'dst', 11)\n",
    "\n",
    "cv2.waitKey()\n",
    "cv2.destroyAllWindows()\n"
   ]
  },
  {
   "cell_type": "markdown",
   "id": "eb4f0784",
   "metadata": {},
   "source": [
    "## 침식과 팽창"
   ]
  },
  {
   "cell_type": "code",
   "execution_count": null,
   "id": "ed52ab62",
   "metadata": {},
   "outputs": [],
   "source": [
    "# cv2.erode(src, kernel, dst = None, anchor=None, iterations=None, borderType=None, borderValue=None)\n",
    "    # src: 입력영상 (이진영상)\n",
    "    # kernel: 커널 사이즈, None = 3 x 3\n",
    "    # iterations: 여러번 수행\n",
    "    # anchor: 고정점. 기본값 (-1, -1) 중앙점사용\n",
    "# cv2.dilate(src, kernel, dst = None, anchor=None, iterations=None, borderType=None, borderValue=None)\n",
    "\n",
    "# cv2.getStructuringElemen(shape, ksize, anchor=None)-> retval\n",
    "# shape: cv.MORPH_RECT, cv.MORPH_CROSS\n",
    "# ksize: kernel size\n",
    " # anchor: 고정점. 기본값 (-1, -1)"
   ]
  },
  {
   "cell_type": "code",
   "execution_count": 1,
   "id": "a5d65741",
   "metadata": {},
   "outputs": [],
   "source": [
    "import sys\n",
    "import numpy as np\n",
    "import cv2\n",
    "\n",
    "\n",
    "src = cv2.imread('circuit.bmp', cv2.IMREAD_GRAYSCALE)\n",
    "\n",
    "if src is None:\n",
    "    print('Image load failed!')\n",
    "    sys.exit()\n",
    "\n",
    "se = cv2.getStructuringElement(cv2.MORPH_RECT, (5, 3))\n",
    "dst1 = cv2.erode(src, se)\n",
    "\n",
    "dst2 = cv2.dilate(src, None)\n",
    "\n",
    "cv2.imshow('src', src)\n",
    "cv2.imshow('dst1', dst1)\n",
    "cv2.imshow('dst2', dst2)\n",
    "cv2.waitKey()\n",
    "cv2.destroyAllWindows()\n"
   ]
  },
  {
   "cell_type": "code",
   "execution_count": null,
   "id": "4f5e3fa6",
   "metadata": {},
   "outputs": [],
   "source": []
  }
 ],
 "metadata": {
  "kernelspec": {
   "display_name": "Python 3",
   "language": "python",
   "name": "python3"
  },
  "language_info": {
   "codemirror_mode": {
    "name": "ipython",
    "version": 3
   },
   "file_extension": ".py",
   "mimetype": "text/x-python",
   "name": "python",
   "nbconvert_exporter": "python",
   "pygments_lexer": "ipython3",
   "version": "3.8.8"
  }
 },
 "nbformat": 4,
 "nbformat_minor": 5
}
