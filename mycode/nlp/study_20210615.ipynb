{
  "nbformat": 4,
  "nbformat_minor": 0,
  "metadata": {
    "colab": {
      "name": "study_20210615.ipynb",
      "provenance": [],
      "authorship_tag": "ABX9TyN+rmlXWcLL0rOfcJHnu+hf",
      "include_colab_link": true
    },
    "kernelspec": {
      "name": "python3",
      "display_name": "Python 3"
    },
    "language_info": {
      "name": "python"
    }
  },
  "cells": [
    {
      "cell_type": "markdown",
      "metadata": {
        "id": "view-in-github",
        "colab_type": "text"
      },
      "source": [
        "<a href=\"https://colab.research.google.com/github/MarigoldJ/ygl2/blob/main/mycode/nlp/study_20210615.ipynb\" target=\"_parent\"><img src=\"https://colab.research.google.com/assets/colab-badge.svg\" alt=\"Open In Colab\"/></a>"
      ]
    },
    {
      "cell_type": "markdown",
      "metadata": {
        "id": "28_kzcGJKfRD"
      },
      "source": [
        "# import packages"
      ]
    },
    {
      "cell_type": "markdown",
      "metadata": {
        "id": "TCVJlnFFLpP_"
      },
      "source": [
        "## pip install"
      ]
    },
    {
      "cell_type": "code",
      "metadata": {
        "id": "RrG0XFPcJ2yN",
        "outputId": "5f6cfe09-ab60-4de3-b8a5-9e7be039d3d4",
        "colab": {
          "base_uri": "https://localhost:8080/"
        }
      },
      "source": [
        "! pip install beautifulsoup4 -qU\n",
        "! pip install newspaper3k -qU\n",
        "! pip install konlpy -qU"
      ],
      "execution_count": 1,
      "outputs": [
        {
          "output_type": "stream",
          "text": [
            "\u001b[K     |████████████████████████████████| 122kB 3.8MB/s \n",
            "\u001b[K     |████████████████████████████████| 215kB 4.0MB/s \n",
            "\u001b[K     |████████████████████████████████| 7.4MB 32.6MB/s \n",
            "\u001b[K     |████████████████████████████████| 81kB 8.3MB/s \n",
            "\u001b[K     |████████████████████████████████| 92kB 8.9MB/s \n",
            "\u001b[?25h  Building wheel for jieba3k (setup.py) ... \u001b[?25l\u001b[?25hdone\n",
            "  Building wheel for feedfinder2 (setup.py) ... \u001b[?25l\u001b[?25hdone\n",
            "  Building wheel for tinysegmenter (setup.py) ... \u001b[?25l\u001b[?25hdone\n",
            "  Building wheel for sgmllib3k (setup.py) ... \u001b[?25l\u001b[?25hdone\n",
            "\u001b[K     |████████████████████████████████| 19.4MB 1.5MB/s \n",
            "\u001b[K     |████████████████████████████████| 450kB 28.0MB/s \n",
            "\u001b[K     |████████████████████████████████| 92kB 8.5MB/s \n",
            "\u001b[?25h"
          ],
          "name": "stdout"
        }
      ]
    },
    {
      "cell_type": "markdown",
      "metadata": {
        "id": "NQewhWbELrUt"
      },
      "source": [
        "## git clone for Mecab install"
      ]
    },
    {
      "cell_type": "code",
      "metadata": {
        "id": "9l9xZyxBLnSM",
        "outputId": "3d6b8baf-b5e4-46f0-e3fa-e580a917909c",
        "colab": {
          "base_uri": "https://localhost:8080/"
        }
      },
      "source": [
        "! git clone https://github.com/SOMJANG/Mecab-ko-for-Google-Colab.git"
      ],
      "execution_count": 2,
      "outputs": [
        {
          "output_type": "stream",
          "text": [
            "Cloning into 'Mecab-ko-for-Google-Colab'...\n",
            "remote: Enumerating objects: 91, done.\u001b[K\n",
            "remote: Counting objects: 100% (91/91), done.\u001b[K\n",
            "remote: Compressing objects: 100% (85/85), done.\u001b[K\n",
            "remote: Total 91 (delta 43), reused 22 (delta 6), pack-reused 0\u001b[K\n",
            "Unpacking objects: 100% (91/91), done.\n"
          ],
          "name": "stdout"
        }
      ]
    },
    {
      "cell_type": "code",
      "metadata": {
        "id": "E24XchfxLwlI",
        "outputId": "7cf52df6-ac18-449e-e0d1-71afe2226b32",
        "colab": {
          "base_uri": "https://localhost:8080/"
        }
      },
      "source": [
        "! bash Mecab-ko-for-Google-Colab/Mecab-ko-for-Google-Colab/install_mecab-ko_on_colab190912.sh"
      ],
      "execution_count": 3,
      "outputs": [
        {
          "output_type": "stream",
          "text": [
            "bash: Mecab-ko-for-Google-Colab/Mecab-ko-for-Google-Colab/install_mecab-ko_on_colab190912.sh: No such file or directory\n"
          ],
          "name": "stdout"
        }
      ]
    },
    {
      "cell_type": "markdown",
      "metadata": {
        "id": "ejRZa0wZLwGi"
      },
      "source": [
        "## import"
      ]
    },
    {
      "cell_type": "code",
      "metadata": {
        "id": "x0d-ut43MDig"
      },
      "source": [
        "# data edit\n",
        "import pandas as pd\n",
        "import numpy as np\n",
        "\n",
        "# data crawling\n",
        "from newspaper import Article\n",
        "from bs4 import BeautifulSoup\n",
        "import requests\n",
        "\n",
        "# tokenize\n",
        "from konlpy.tag import Mecab\n",
        "\n",
        "# similarity\n",
        "from sklearn.model_selection import train_test_split\n",
        "from sklearn.feature_extraction.text import CountVectorizer, TfidfTransformer\n",
        "from sklearn.naive_bayes import MultinomialNB\n",
        "from sklearn import metrics\n"
      ],
      "execution_count": 17,
      "outputs": []
    },
    {
      "cell_type": "markdown",
      "metadata": {
        "id": "wccJOrQwPrS5"
      },
      "source": [
        "# data crawling"
      ]
    },
    {
      "cell_type": "code",
      "metadata": {
        "id": "tIweVi9HVfK5"
      },
      "source": [
        "class NaverNews():\n",
        "    '''\n",
        "    네이버 뉴스 속보 기사 텍스트를 크롤링하는데 사용\n",
        "    '''\n",
        "\n",
        "    def __init__(self):\n",
        "        self.url_list = []\n",
        "        self.articles = pd.DataFrame(columns=['content', 'category'])\n",
        "        self.category_list = {100: '정치', 101: '경제', 102: '사회', 103: '생활/문화', 104: '세계', 105: 'IT/과학'}\n",
        "\n",
        "\n",
        "    def make_url_list(self, code, date, num_pages):\n",
        "        '''\n",
        "        네이버 뉴스 속보 기사 url 목록을 반환한다.\n",
        "        \n",
        "        네이버 뉴스 속보 > 특정 카테고리 > 페이지 별 기사들의 주소들을 크롤링한다.\n",
        "        \n",
        "        code: 어떤 카테고리의 속보 기사들을 불러올지 결정(100, 101, 102, 103, 104, 105)\n",
        "        date: 어떤 날짜의 속보 기사들을 불러올지 결정\n",
        "        num_pages: 특정 카테고리의 기사들 중 몇번째 페이지까지 주소를 불러올지 결정\n",
        "        '''\n",
        "        url_list = []\n",
        "\n",
        "        for page in range(num_pages):\n",
        "            # 속보 기사들이 나열된 url 만들기 (headers가 없으면 권한 없음으로 html파일을 불러올 수 없음)\n",
        "            url = f'https://news.naver.com/main/list.nhn?mode=LSD&mid=sec&sid1={code}&date={date}&page={i+1}'\n",
        "            headers = {'User-Agent': 'Mozilla/5.0 (X11; Linux x86_64) AppleWebKit/537.36 (KHTML, like Gecko) Chrome/54.0.2840.90 Safari/537.36'}\n",
        "\n",
        "            # 기사들이 나열된 페이지를 불러오기\n",
        "            html = requests.get(url, headers=headers)\n",
        "            html_parse = BeautifulSoup(html.content, 'html.parser')\n",
        "\n",
        "            # 나열된 기사들의 링크를 url_list에 저장한다.\n",
        "            news_list = html_parse.select('.newsflash_body > .type06_headline > li > dl')\n",
        "            for url in news_list:\n",
        "                url_list.append(url.a.get('href'))\n",
        "\n",
        "        self.url_list = url_list\n",
        "    \n",
        "    def make_article(self, code, date, num_pages):\n",
        "        '''\n",
        "\n",
        "        '''\n",
        "        # 기사 내용을 불러올 기사들의 url list를 만든다.\n",
        "        self.make_url_list(code, date, num_pages)\n",
        "\n",
        "        # 각 기사 url마다 기사 내용을 불러온 뒤, 저장한다.\n",
        "        \n",
        "\n",
        "        "
      ],
      "execution_count": null,
      "outputs": []
    },
    {
      "cell_type": "code",
      "metadata": {
        "id": "pJ8f0xeSQFzC"
      },
      "source": [
        ""
      ],
      "execution_count": 15,
      "outputs": []
    }
  ]
}