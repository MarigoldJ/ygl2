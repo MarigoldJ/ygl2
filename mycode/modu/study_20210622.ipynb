{
  "nbformat": 4,
  "nbformat_minor": 0,
  "metadata": {
    "colab": {
      "name": "study_20210622.ipynb",
      "provenance": [],
      "authorship_tag": "ABX9TyO4ClhQqiPZEpINXzrho0v6",
      "include_colab_link": true
    },
    "kernelspec": {
      "name": "python3",
      "display_name": "Python 3"
    },
    "language_info": {
      "name": "python"
    },
    "accelerator": "GPU"
  },
  "cells": [
    {
      "cell_type": "markdown",
      "metadata": {
        "id": "view-in-github",
        "colab_type": "text"
      },
      "source": [
        "<a href=\"https://colab.research.google.com/github/MarigoldJ/ygl2/blob/main/mycode/modu/study_20210622.ipynb\" target=\"_parent\"><img src=\"https://colab.research.google.com/assets/colab-badge.svg\" alt=\"Open In Colab\"/></a>"
      ]
    },
    {
      "cell_type": "markdown",
      "metadata": {
        "id": "Uzl1mjka2LoQ"
      },
      "source": [
        "# 간단한 신경망 모델 만들기 연습"
      ]
    },
    {
      "cell_type": "markdown",
      "metadata": {
        "id": "5WAYVbTU4qsG"
      },
      "source": [
        "## Data load"
      ]
    },
    {
      "cell_type": "code",
      "metadata": {
        "id": "GUZXeaLAslgS",
        "colab": {
          "base_uri": "https://localhost:8080/"
        },
        "outputId": "00456d24-a4b4-45f1-fe1c-5da2e4f60148"
      },
      "source": [
        "from keras.datasets import mnist\n",
        "\n",
        "(x_train, y_train), (x_test, y_test) = mnist.load_data()"
      ],
      "execution_count": 1,
      "outputs": [
        {
          "output_type": "stream",
          "text": [
            "Downloading data from https://storage.googleapis.com/tensorflow/tf-keras-datasets/mnist.npz\n",
            "11493376/11490434 [==============================] - 0s 0us/step\n",
            "11501568/11490434 [==============================] - 0s 0us/step\n"
          ],
          "name": "stdout"
        }
      ]
    },
    {
      "cell_type": "code",
      "metadata": {
        "colab": {
          "base_uri": "https://localhost:8080/"
        },
        "id": "p-M4Z-E22axN",
        "outputId": "f12163b8-3f6e-4795-aec5-4ce9baf9f663"
      },
      "source": [
        "# input data의 shape을 확인\n",
        "print(f'train set : {x_train.shape[0]} 개')\n",
        "print(f'test set : {x_test.shape[0]} 개')\n",
        "print()\n",
        "print('train:', x_train.shape)      # (60000, 28, 28) numpy array\n",
        "print('test:', x_test.shape)        # (60000, 28, 28) numpy array"
      ],
      "execution_count": 7,
      "outputs": [
        {
          "output_type": "stream",
          "text": [
            "train set : 60000 개\n",
            "test set : 10000 개\n",
            "\n",
            "train: (60000, 28, 28)\n",
            "test: (10000, 28, 28)\n"
          ],
          "name": "stdout"
        }
      ]
    },
    {
      "cell_type": "code",
      "metadata": {
        "colab": {
          "base_uri": "https://localhost:8080/"
        },
        "id": "J6zxbv2N5Gu0",
        "outputId": "6f3126b1-2655-4fc5-c37a-bbf4210eb72b"
      },
      "source": [
        "# output data의 shape을 확인\n",
        "print(f'train set : {y_train.shape[0]} 개')\n",
        "print(f'test set : {y_test.shape[0]} 개')\n",
        "print()\n",
        "print('train:', y_train.shape)      # (60000,) numpy array\n",
        "print('test:', y_test.shape)        # (60000,) numpy array"
      ],
      "execution_count": 11,
      "outputs": [
        {
          "output_type": "stream",
          "text": [
            "train set : 60000 개\n",
            "test set : 10000 개\n",
            "\n",
            "train: (60000,)\n",
            "test: (10000,)\n"
          ],
          "name": "stdout"
        }
      ]
    },
    {
      "cell_type": "code",
      "metadata": {
        "colab": {
          "base_uri": "https://localhost:8080/",
          "height": 0
        },
        "id": "w_7C_m4m22HD",
        "outputId": "86860388-9c1e-4acf-da2b-6cedbe2683b3"
      },
      "source": [
        "import matplotlib.pyplot as plt\n",
        "plt.imshow(x_train[0], cmap='Greys')\n",
        "plt.show()\n",
        "print('class :', y_train[0])"
      ],
      "execution_count": 15,
      "outputs": [
        {
          "output_type": "display_data",
          "data": {
            "image/png": "[encoded data removed]",
            "text/plain": [
              "<Figure size 432x288 with 1 Axes>"
            ]
          },
          "metadata": {
            "tags": [],
            "needs_background": "light"
          }
        },
        {
          "output_type": "stream",
          "text": [
            "class : 5\n"
          ],
          "name": "stdout"
        }
      ]
    },
    {
      "cell_type": "code",
      "metadata": {
        "colab": {
          "base_uri": "https://localhost:8080/"
        },
        "id": "9mijqHuz3FDc",
        "outputId": "2ccf0216-ccf7-41bf-cd13-ac1eacf595cc"
      },
      "source": [
        "# 이미지가 숫자로 어떻게 표현되는지 확인\n",
        "for x in x_train[0]:\n",
        "    for i in x:\n",
        "        print(f'{i:3d}', end=' ')\n",
        "    print()"
      ],
      "execution_count": 9,
      "outputs": [
        {
          "output_type": "stream",
          "text": [
            "  0   0   0   0   0   0   0   0   0   0   0   0   0   0   0   0   0   0   0   0   0   0   0   0   0   0   0   0 \n",
            "  0   0   0   0   0   0   0   0   0   0   0   0   0   0   0   0   0   0   0   0   0   0   0   0   0   0   0   0 \n",
            "  0   0   0   0   0   0   0   0   0   0   0   0   0   0   0   0   0   0   0   0   0   0   0   0   0   0   0   0 \n",
            "  0   0   0   0   0   0   0   0   0   0   0   0   0   0   0   0   0   0   0   0   0   0   0   0   0   0   0   0 \n",
            "  0   0   0   0   0   0   0   0   0   0   0   0   0   0   0   0   0   0   0   0   0   0   0   0   0   0   0   0 \n",
            "  0   0   0   0   0   0   0   0   0   0   0   0   3  18  18  18 126 136 175  26 166 255 247 127   0   0   0   0 \n",
            "  0   0   0   0   0   0   0   0  30  36  94 154 170 253 253 253 253 253 225 172 253 242 195  64   0   0   0   0 \n",
            "  0   0   0   0   0   0   0  49 238 253 253 253 253 253 253 253 253 251  93  82  82  56  39   0   0   0   0   0 \n",
            "  0   0   0   0   0   0   0  18 219 253 253 253 253 253 198 182 247 241   0   0   0   0   0   0   0   0   0   0 \n",
            "  0   0   0   0   0   0   0   0  80 156 107 253 253 205  11   0  43 154   0   0   0   0   0   0   0   0   0   0 \n",
            "  0   0   0   0   0   0   0   0   0  14   1 154 253  90   0   0   0   0   0   0   0   0   0   0   0   0   0   0 \n",
            "  0   0   0   0   0   0   0   0   0   0   0 139 253 190   2   0   0   0   0   0   0   0   0   0   0   0   0   0 \n",
            "  0   0   0   0   0   0   0   0   0   0   0  11 190 253  70   0   0   0   0   0   0   0   0   0   0   0   0   0 \n",
            "  0   0   0   0   0   0   0   0   0   0   0   0  35 241 225 160 108   1   0   0   0   0   0   0   0   0   0   0 \n",
            "  0   0   0   0   0   0   0   0   0   0   0   0   0  81 240 253 253 119  25   0   0   0   0   0   0   0   0   0 \n",
            "  0   0   0   0   0   0   0   0   0   0   0   0   0   0  45 186 253 253 150  27   0   0   0   0   0   0   0   0 \n",
            "  0   0   0   0   0   0   0   0   0   0   0   0   0   0   0  16  93 252 253 187   0   0   0   0   0   0   0   0 \n",
            "  0   0   0   0   0   0   0   0   0   0   0   0   0   0   0   0   0 249 253 249  64   0   0   0   0   0   0   0 \n",
            "  0   0   0   0   0   0   0   0   0   0   0   0   0   0  46 130 183 253 253 207   2   0   0   0   0   0   0   0 \n",
            "  0   0   0   0   0   0   0   0   0   0   0   0  39 148 229 253 253 253 250 182   0   0   0   0   0   0   0   0 \n",
            "  0   0   0   0   0   0   0   0   0   0  24 114 221 253 253 253 253 201  78   0   0   0   0   0   0   0   0   0 \n",
            "  0   0   0   0   0   0   0   0  23  66 213 253 253 253 253 198  81   2   0   0   0   0   0   0   0   0   0   0 \n",
            "  0   0   0   0   0   0  18 171 219 253 253 253 253 195  80   9   0   0   0   0   0   0   0   0   0   0   0   0 \n",
            "  0   0   0   0  55 172 226 253 253 253 253 244 133  11   0   0   0   0   0   0   0   0   0   0   0   0   0   0 \n",
            "  0   0   0   0 136 253 253 253 212 135 132  16   0   0   0   0   0   0   0   0   0   0   0   0   0   0   0   0 \n",
            "  0   0   0   0   0   0   0   0   0   0   0   0   0   0   0   0   0   0   0   0   0   0   0   0   0   0   0   0 \n",
            "  0   0   0   0   0   0   0   0   0   0   0   0   0   0   0   0   0   0   0   0   0   0   0   0   0   0   0   0 \n",
            "  0   0   0   0   0   0   0   0   0   0   0   0   0   0   0   0   0   0   0   0   0   0   0   0   0   0   0   0 \n"
          ],
          "name": "stdout"
        }
      ]
    },
    {
      "cell_type": "markdown",
      "metadata": {
        "id": "0nI6chgp4t0r"
      },
      "source": [
        "## Data preprocess"
      ]
    },
    {
      "cell_type": "code",
      "metadata": {
        "id": "lCphbQYI5-80"
      },
      "source": [
        "# input data 전처리\n",
        "'''\n",
        "0~255의 정수를 0~1의 실수로 normalize\n",
        "'''\n",
        "X_train = x_train.reshape(x_train.shape[0], 28*28) / 255\n",
        "X_test = x_test.reshape(x_test.shape[0], 28*28) / 255"
      ],
      "execution_count": 26,
      "outputs": []
    },
    {
      "cell_type": "code",
      "metadata": {
        "id": "FZGGrjbG53VX"
      },
      "source": [
        "# output data 전처리\n",
        "'''\n",
        "0~9의 숫자를 one-hot encoding하기\n",
        "'''\n",
        "from tensorflow.keras.utils import to_categorical\n",
        "\n",
        "Y_train = to_categorical(y_train, num_classes=10)\n",
        "Y_test = to_categorical(y_test, num_classes=10)"
      ],
      "execution_count": 27,
      "outputs": []
    },
    {
      "cell_type": "markdown",
      "metadata": {
        "id": "N8dW6C5a757B"
      },
      "source": [
        "## Modeling"
      ]
    },
    {
      "cell_type": "code",
      "metadata": {
        "id": "mdwNfywn7iCn"
      },
      "source": [
        "# 모델 생성\n",
        "\n",
        "from tensorflow.keras.models import Sequential\n",
        "from tensorflow.keras.layers import Dense\n",
        "\n",
        "model = Sequential()\n",
        "model.add(Dense(512, input_dim=28*28, activation='relu'))\n",
        "model.add(Dense(10, activation='softmax'))\n",
        "\n",
        "model.compile(loss='categorical_crossentropy', optimizer='adam', metrics=['accuracy'])\n"
      ],
      "execution_count": 36,
      "outputs": []
    },
    {
      "cell_type": "code",
      "metadata": {
        "id": "OJTlt_Kj9QQ_"
      },
      "source": [
        "# 모델 최적화 옵션\n",
        "import os\n",
        "from tensorflow.keras.callbacks import ModelCheckpoint, EarlyStopping\n",
        "\n",
        "dir_model = './model'\n",
        "if not os.path.exists(dir_model):\n",
        "    os.mkdir(dir_model)\n",
        "\n",
        "path_model = os.path.join(dir_model, '{epoch:02d}-{val_loss:.4f}.hdf5')\n",
        "checkpointer = ModelCheckpoint(path_model,\n",
        "                               monitor='val_loss',\n",
        "                               verbose=1,\n",
        "                               save_best_only=True)\n",
        "early_stop_callback = EarlyStopping(monitor='val_loss',\n",
        "                                    patience=10)\n"
      ],
      "execution_count": 37,
      "outputs": []
    },
    {
      "cell_type": "code",
      "metadata": {
        "colab": {
          "base_uri": "https://localhost:8080/"
        },
        "id": "XYyOksCa9zvG",
        "outputId": "8fd5216b-71bb-4646-db63-752599e03b03"
      },
      "source": [
        "# 모델 학습\n",
        "history = model.fit(X_train, Y_train,\n",
        "                    validation_data=(X_test, Y_test),\n",
        "                    epochs=30,\n",
        "                    batch_size=200,\n",
        "                    verbose=0,\n",
        "                    callbacks=[early_stop_callback, checkpointer])"
      ],
      "execution_count": 38,
      "outputs": [
        {
          "output_type": "stream",
          "text": [
            "\n",
            "Epoch 00001: val_loss improved from inf to 0.16061, saving model to ./model/01-0.1606.hdf5\n",
            "\n",
            "Epoch 00002: val_loss improved from 0.16061 to 0.10717, saving model to ./model/02-0.1072.hdf5\n",
            "\n",
            "Epoch 00003: val_loss improved from 0.10717 to 0.08341, saving model to ./model/03-0.0834.hdf5\n",
            "\n",
            "Epoch 00004: val_loss improved from 0.08341 to 0.07323, saving model to ./model/04-0.0732.hdf5\n",
            "\n",
            "Epoch 00005: val_loss improved from 0.07323 to 0.06915, saving model to ./model/05-0.0691.hdf5\n",
            "\n",
            "Epoch 00006: val_loss improved from 0.06915 to 0.06399, saving model to ./model/06-0.0640.hdf5\n",
            "\n",
            "Epoch 00007: val_loss improved from 0.06399 to 0.06263, saving model to ./model/07-0.0626.hdf5\n",
            "\n",
            "Epoch 00008: val_loss improved from 0.06263 to 0.06099, saving model to ./model/08-0.0610.hdf5\n",
            "\n",
            "Epoch 00009: val_loss did not improve from 0.06099\n",
            "\n",
            "Epoch 00010: val_loss improved from 0.06099 to 0.06023, saving model to ./model/10-0.0602.hdf5\n",
            "\n",
            "Epoch 00011: val_loss improved from 0.06023 to 0.05881, saving model to ./model/11-0.0588.hdf5\n",
            "\n",
            "Epoch 00012: val_loss did not improve from 0.05881\n",
            "\n",
            "Epoch 00013: val_loss did not improve from 0.05881\n",
            "\n",
            "Epoch 00014: val_loss did not improve from 0.05881\n",
            "\n",
            "Epoch 00015: val_loss did not improve from 0.05881\n",
            "\n",
            "Epoch 00016: val_loss did not improve from 0.05881\n",
            "\n",
            "Epoch 00017: val_loss did not improve from 0.05881\n",
            "\n",
            "Epoch 00018: val_loss did not improve from 0.05881\n",
            "\n",
            "Epoch 00019: val_loss did not improve from 0.05881\n",
            "\n",
            "Epoch 00020: val_loss did not improve from 0.05881\n",
            "\n",
            "Epoch 00021: val_loss did not improve from 0.05881\n"
          ],
          "name": "stdout"
        }
      ]
    },
    {
      "cell_type": "markdown",
      "metadata": {
        "id": "TPyhmNvuARdL"
      },
      "source": [
        "## Result"
      ]
    },
    {
      "cell_type": "code",
      "metadata": {
        "colab": {
          "base_uri": "https://localhost:8080/"
        },
        "id": "MKMIW2bo_yhJ",
        "outputId": "d097ec58-58c3-45b3-f482-69c15e28af2a"
      },
      "source": [
        "# test accuracy\n",
        "score_test = model.evaluate(X_test, Y_test)\n",
        "print(score_test)\n",
        "# print(f'Test Accuracy: {model.evaluate(X_test, Y_test):.4f}')\n",
        "\n",
        "print()\n",
        "print(f'Test score : {100 * score_test[1]:.3f} %')"
      ],
      "execution_count": 55,
      "outputs": [
        {
          "output_type": "stream",
          "text": [
            "313/313 [==============================] - 1s 3ms/step - loss: 0.0750 - accuracy: 0.9802\n",
            "[0.07503443956375122, 0.9801999926567078]\n",
            "\n",
            "Test score : 98.020 %\n"
          ],
          "name": "stdout"
        }
      ]
    },
    {
      "cell_type": "code",
      "metadata": {
        "id": "sm8SIw2PAlZf"
      },
      "source": [
        "y_loss = history.history['loss']\n",
        "y_acc = history.history['accuracy']\n",
        "\n",
        "y_vloss = history.history['val_loss']\n",
        "y_vacc = history.history['val_accuracy']"
      ],
      "execution_count": 46,
      "outputs": []
    },
    {
      "cell_type": "code",
      "metadata": {
        "colab": {
          "base_uri": "https://localhost:8080/",
          "height": 279
        },
        "id": "K8ghMmIzSr5g",
        "outputId": "875051e5-877a-44a2-8acb-202e77e211a1"
      },
      "source": [
        "import matplotlib.pyplot as plt\n",
        "import numpy as np\n",
        "\n",
        "# 그래프로 표현 : loss\n",
        "x_len = np.arange(len(y_loss))\n",
        "plt.plot(x_len, y_vloss, marker='.', c='red', label='Testset_loss')\n",
        "plt.plot(x_len, y_loss, marker='.', c='blue', label='Trainset_loss')\n",
        "\n",
        "plt.legend(loc='upper right')\n",
        "plt.grid()\n",
        "plt.xlabel('epoch')\n",
        "plt.ylabel('loss')\n",
        "plt.show()"
      ],
      "execution_count": 52,
      "outputs": [
        {
          "output_type": "display_data",
          "data": {
            "image/png": "[encoded data removed]",
            "text/plain": [
              "<Figure size 432x288 with 1 Axes>"
            ]
          },
          "metadata": {
            "tags": [],
            "needs_background": "light"
          }
        }
      ]
    },
    {
      "cell_type": "code",
      "metadata": {
        "colab": {
          "base_uri": "https://localhost:8080/",
          "height": 0
        },
        "id": "0FPG9l5eT_Yc",
        "outputId": "75219345-a8b2-414c-94b0-eea7b81dcbe0"
      },
      "source": [
        "# 그래프로 표현 : accuracy\n",
        "x_len = np.arange(len(y_acc))\n",
        "plt.plot(x_len, y_vacc, marker='.', c='red', label='Testset_accuracy')\n",
        "plt.plot(x_len, y_acc, marker='.', c='blue', label='Trainset_accuracy')\n",
        "\n",
        "plt.legend(loc='upper right')\n",
        "plt.grid()\n",
        "plt.xlabel('epoch')\n",
        "plt.ylabel('accuracy')\n",
        "plt.show()"
      ],
      "execution_count": 53,
      "outputs": [
        {
          "output_type": "display_data",
          "data": {
            "image/png": "[encoded data removed]",
            "text/plain": [
              "<Figure size 432x288 with 1 Axes>"
            ]
          },
          "metadata": {
            "tags": [],
            "needs_background": "light"
          }
        }
      ]
    },
    {
      "cell_type": "markdown",
      "metadata": {
        "id": "0VhCz3siXf6O"
      },
      "source": [
        "# 컨볼루션 신경망 연습"
      ]
    },
    {
      "cell_type": "markdown",
      "metadata": {
        "id": "T5LuZ381Xf6P"
      },
      "source": [
        "## Data load"
      ]
    },
    {
      "cell_type": "code",
      "metadata": {
        "id": "L0BtaP6PXf6P"
      },
      "source": [
        "from keras.datasets import mnist\n",
        "\n",
        "(x_train, y_train), (x_test, y_test) = mnist.load_data()"
      ],
      "execution_count": 65,
      "outputs": []
    },
    {
      "cell_type": "code",
      "metadata": {
        "colab": {
          "base_uri": "https://localhost:8080/"
        },
        "id": "3iHLJ_xeXf6Q",
        "outputId": "0d2e3122-f763-4f30-d92c-1232d9c67fc3"
      },
      "source": [
        "# input data의 shape을 확인\n",
        "print(f'train set : {x_train.shape[0]} 개')\n",
        "print(f'test set : {x_test.shape[0]} 개')\n",
        "print()\n",
        "print('train:', x_train.shape)      # (60000, 28, 28) numpy array\n",
        "print('test:', x_test.shape)        # (60000, 28, 28) numpy array"
      ],
      "execution_count": 66,
      "outputs": [
        {
          "output_type": "stream",
          "text": [
            "train set : 60000 개\n",
            "test set : 10000 개\n",
            "\n",
            "train: (60000, 28, 28)\n",
            "test: (10000, 28, 28)\n"
          ],
          "name": "stdout"
        }
      ]
    },
    {
      "cell_type": "code",
      "metadata": {
        "colab": {
          "base_uri": "https://localhost:8080/"
        },
        "id": "M9-BsI8HXf6Q",
        "outputId": "247892cf-abc3-4a69-e073-8d33e872a09b"
      },
      "source": [
        "# output data의 shape을 확인\n",
        "print(f'train set : {y_train.shape[0]} 개')\n",
        "print(f'test set : {y_test.shape[0]} 개')\n",
        "print()\n",
        "print('train:', y_train.shape)      # (60000,) numpy array\n",
        "print('test:', y_test.shape)        # (60000,) numpy array"
      ],
      "execution_count": 67,
      "outputs": [
        {
          "output_type": "stream",
          "text": [
            "train set : 60000 개\n",
            "test set : 10000 개\n",
            "\n",
            "train: (60000,)\n",
            "test: (10000,)\n"
          ],
          "name": "stdout"
        }
      ]
    },
    {
      "cell_type": "code",
      "metadata": {
        "colab": {
          "base_uri": "https://localhost:8080/",
          "height": 283
        },
        "id": "mRvv5ruGXf6Q",
        "outputId": "01afb01e-c3f1-4e0f-fadb-da4772eddaaf"
      },
      "source": [
        "import matplotlib.pyplot as plt\n",
        "plt.imshow(x_train[0], cmap='Greys')\n",
        "plt.show()\n",
        "print('class :', y_train[0])"
      ],
      "execution_count": 68,
      "outputs": [
        {
          "output_type": "display_data",
          "data": {
            "image/png": "[encoded data removed]",
            "text/plain": [
              "<Figure size 432x288 with 1 Axes>"
            ]
          },
          "metadata": {
            "tags": [],
            "needs_background": "light"
          }
        },
        {
          "output_type": "stream",
          "text": [
            "class : 5\n"
          ],
          "name": "stdout"
        }
      ]
    },
    {
      "cell_type": "code",
      "metadata": {
        "colab": {
          "base_uri": "https://localhost:8080/"
        },
        "id": "JHrXownSXf6Q",
        "outputId": "99de823a-bba2-429d-c4d4-bf635686e840"
      },
      "source": [
        "# 이미지가 숫자로 어떻게 표현되는지 확인\n",
        "for x in x_train[0]:\n",
        "    for i in x:\n",
        "        print(f'{i:3d}', end=' ')\n",
        "    print()"
      ],
      "execution_count": 69,
      "outputs": [
        {
          "output_type": "stream",
          "text": [
            "  0   0   0   0   0   0   0   0   0   0   0   0   0   0   0   0   0   0   0   0   0   0   0   0   0   0   0   0 \n",
            "  0   0   0   0   0   0   0   0   0   0   0   0   0   0   0   0   0   0   0   0   0   0   0   0   0   0   0   0 \n",
            "  0   0   0   0   0   0   0   0   0   0   0   0   0   0   0   0   0   0   0   0   0   0   0   0   0   0   0   0 \n",
            "  0   0   0   0   0   0   0   0   0   0   0   0   0   0   0   0   0   0   0   0   0   0   0   0   0   0   0   0 \n",
            "  0   0   0   0   0   0   0   0   0   0   0   0   0   0   0   0   0   0   0   0   0   0   0   0   0   0   0   0 \n",
            "  0   0   0   0   0   0   0   0   0   0   0   0   3  18  18  18 126 136 175  26 166 255 247 127   0   0   0   0 \n",
            "  0   0   0   0   0   0   0   0  30  36  94 154 170 253 253 253 253 253 225 172 253 242 195  64   0   0   0   0 \n",
            "  0   0   0   0   0   0   0  49 238 253 253 253 253 253 253 253 253 251  93  82  82  56  39   0   0   0   0   0 \n",
            "  0   0   0   0   0   0   0  18 219 253 253 253 253 253 198 182 247 241   0   0   0   0   0   0   0   0   0   0 \n",
            "  0   0   0   0   0   0   0   0  80 156 107 253 253 205  11   0  43 154   0   0   0   0   0   0   0   0   0   0 \n",
            "  0   0   0   0   0   0   0   0   0  14   1 154 253  90   0   0   0   0   0   0   0   0   0   0   0   0   0   0 \n",
            "  0   0   0   0   0   0   0   0   0   0   0 139 253 190   2   0   0   0   0   0   0   0   0   0   0   0   0   0 \n",
            "  0   0   0   0   0   0   0   0   0   0   0  11 190 253  70   0   0   0   0   0   0   0   0   0   0   0   0   0 \n",
            "  0   0   0   0   0   0   0   0   0   0   0   0  35 241 225 160 108   1   0   0   0   0   0   0   0   0   0   0 \n",
            "  0   0   0   0   0   0   0   0   0   0   0   0   0  81 240 253 253 119  25   0   0   0   0   0   0   0   0   0 \n",
            "  0   0   0   0   0   0   0   0   0   0   0   0   0   0  45 186 253 253 150  27   0   0   0   0   0   0   0   0 \n",
            "  0   0   0   0   0   0   0   0   0   0   0   0   0   0   0  16  93 252 253 187   0   0   0   0   0   0   0   0 \n",
            "  0   0   0   0   0   0   0   0   0   0   0   0   0   0   0   0   0 249 253 249  64   0   0   0   0   0   0   0 \n",
            "  0   0   0   0   0   0   0   0   0   0   0   0   0   0  46 130 183 253 253 207   2   0   0   0   0   0   0   0 \n",
            "  0   0   0   0   0   0   0   0   0   0   0   0  39 148 229 253 253 253 250 182   0   0   0   0   0   0   0   0 \n",
            "  0   0   0   0   0   0   0   0   0   0  24 114 221 253 253 253 253 201  78   0   0   0   0   0   0   0   0   0 \n",
            "  0   0   0   0   0   0   0   0  23  66 213 253 253 253 253 198  81   2   0   0   0   0   0   0   0   0   0   0 \n",
            "  0   0   0   0   0   0  18 171 219 253 253 253 253 195  80   9   0   0   0   0   0   0   0   0   0   0   0   0 \n",
            "  0   0   0   0  55 172 226 253 253 253 253 244 133  11   0   0   0   0   0   0   0   0   0   0   0   0   0   0 \n",
            "  0   0   0   0 136 253 253 253 212 135 132  16   0   0   0   0   0   0   0   0   0   0   0   0   0   0   0   0 \n",
            "  0   0   0   0   0   0   0   0   0   0   0   0   0   0   0   0   0   0   0   0   0   0   0   0   0   0   0   0 \n",
            "  0   0   0   0   0   0   0   0   0   0   0   0   0   0   0   0   0   0   0   0   0   0   0   0   0   0   0   0 \n",
            "  0   0   0   0   0   0   0   0   0   0   0   0   0   0   0   0   0   0   0   0   0   0   0   0   0   0   0   0 \n"
          ],
          "name": "stdout"
        }
      ]
    },
    {
      "cell_type": "markdown",
      "metadata": {
        "id": "NVqb4WJdXf6R"
      },
      "source": [
        "## Data preprocess"
      ]
    },
    {
      "cell_type": "code",
      "metadata": {
        "id": "SbMeAIZVXf6R"
      },
      "source": [
        "# input data 전처리\n",
        "'''\n",
        "0~255의 정수를 0~1의 실수로 normalize\n",
        "'''\n",
        "X_train = x_train.reshape(x_train.shape[0], 28, 28, 1) / 255\n",
        "X_test = x_test.reshape(x_test.shape[0], 28, 28, 1) / 255"
      ],
      "execution_count": 77,
      "outputs": []
    },
    {
      "cell_type": "code",
      "metadata": {
        "id": "IqF21sMmXf6S"
      },
      "source": [
        "# output data 전처리\n",
        "'''\n",
        "0~9의 숫자를 one-hot encoding하기\n",
        "'''\n",
        "from tensorflow.keras.utils import to_categorical\n",
        "\n",
        "Y_train = to_categorical(y_train, num_classes=10)\n",
        "Y_test = to_categorical(y_test, num_classes=10)"
      ],
      "execution_count": 78,
      "outputs": []
    },
    {
      "cell_type": "markdown",
      "metadata": {
        "id": "Ug17CoA6Xf6S"
      },
      "source": [
        "## Modeling"
      ]
    },
    {
      "cell_type": "code",
      "metadata": {
        "id": "wgVHZ2NPXf6S"
      },
      "source": [
        "# 모델 생성\n",
        "from tensorflow.keras.models import Sequential\n",
        "from tensorflow.keras.layers import Dense, Conv2D, MaxPooling2D, Flatten, Dropout\n",
        "\n",
        "model = Sequential()\n",
        "model.add(Conv2D(32, kernel_size=(3, 3), input_shape=(28, 28, 1), activation='relu'))\n",
        "model.add(Conv2D(64, kernel_size=(3, 3), activation='relu'))\n",
        "model.add(MaxPooling2D(pool_size=2))\n",
        "model.add(Dropout(0.25))\n",
        "model.add(Flatten())\n",
        "model.add(Dense(128, activation='relu'))\n",
        "model.add(Dropout(0.5))\n",
        "model.add(Dense(10, activation='softmax'))\n",
        "\n",
        "model.compile(loss='categorical_crossentropy', optimizer='adam', metrics=['accuracy'])\n"
      ],
      "execution_count": 79,
      "outputs": []
    },
    {
      "cell_type": "code",
      "metadata": {
        "id": "2mO0GmvvXf6S"
      },
      "source": [
        "# 모델 최적화 옵션\n",
        "import os\n",
        "from tensorflow.keras.callbacks import ModelCheckpoint, EarlyStopping\n",
        "\n",
        "dir_model = './model'\n",
        "if not os.path.exists(dir_model):\n",
        "    os.mkdir(dir_model)\n",
        "\n",
        "path_model = os.path.join(dir_model, 'cnn_{epoch:02d}-{val_loss:.4f}.hdf5')\n",
        "checkpointer = ModelCheckpoint(path_model,\n",
        "                               monitor='val_loss',\n",
        "                               verbose=1,\n",
        "                               save_best_only=True)\n",
        "early_stop_callback = EarlyStopping(monitor='val_loss',\n",
        "                                    patience=10)\n"
      ],
      "execution_count": 80,
      "outputs": []
    },
    {
      "cell_type": "code",
      "metadata": {
        "colab": {
          "base_uri": "https://localhost:8080/"
        },
        "id": "wZVKH5pvXf6S",
        "outputId": "d7f031f9-1e01-42a9-f6f9-e67e8d67a3c3"
      },
      "source": [
        "# 모델 학습\n",
        "history = model.fit(X_train, Y_train,\n",
        "                    validation_data=(X_test, Y_test),\n",
        "                    epochs=30,\n",
        "                    batch_size=200,\n",
        "                    verbose=0,\n",
        "                    callbacks=[early_stop_callback, checkpointer])"
      ],
      "execution_count": 81,
      "outputs": [
        {
          "output_type": "stream",
          "text": [
            "\n",
            "Epoch 00001: val_loss improved from inf to 0.05996, saving model to ./model/cnn_01-0.0600.hdf5\n",
            "\n",
            "Epoch 00002: val_loss improved from 0.05996 to 0.04318, saving model to ./model/cnn_02-0.0432.hdf5\n",
            "\n",
            "Epoch 00003: val_loss improved from 0.04318 to 0.03877, saving model to ./model/cnn_03-0.0388.hdf5\n",
            "\n",
            "Epoch 00004: val_loss improved from 0.03877 to 0.03256, saving model to ./model/cnn_04-0.0326.hdf5\n",
            "\n",
            "Epoch 00005: val_loss improved from 0.03256 to 0.03220, saving model to ./model/cnn_05-0.0322.hdf5\n",
            "\n",
            "Epoch 00006: val_loss improved from 0.03220 to 0.03038, saving model to ./model/cnn_06-0.0304.hdf5\n",
            "\n",
            "Epoch 00007: val_loss improved from 0.03038 to 0.02695, saving model to ./model/cnn_07-0.0270.hdf5\n",
            "\n",
            "Epoch 00008: val_loss did not improve from 0.02695\n",
            "\n",
            "Epoch 00009: val_loss did not improve from 0.02695\n",
            "\n",
            "Epoch 00010: val_loss did not improve from 0.02695\n",
            "\n",
            "Epoch 00011: val_loss did not improve from 0.02695\n",
            "\n",
            "Epoch 00012: val_loss did not improve from 0.02695\n",
            "\n",
            "Epoch 00013: val_loss did not improve from 0.02695\n",
            "\n",
            "Epoch 00014: val_loss did not improve from 0.02695\n",
            "\n",
            "Epoch 00015: val_loss did not improve from 0.02695\n",
            "\n",
            "Epoch 00016: val_loss did not improve from 0.02695\n",
            "\n",
            "Epoch 00017: val_loss did not improve from 0.02695\n"
          ],
          "name": "stdout"
        }
      ]
    },
    {
      "cell_type": "markdown",
      "metadata": {
        "id": "bRwRzrNmXf6T"
      },
      "source": [
        "## Result"
      ]
    },
    {
      "cell_type": "code",
      "metadata": {
        "colab": {
          "base_uri": "https://localhost:8080/"
        },
        "id": "pHB7WFtbXf6T",
        "outputId": "357627b9-8cbb-49e4-db54-d126233e01a9"
      },
      "source": [
        "# test accuracy\n",
        "score_test = model.evaluate(X_test, Y_test)\n",
        "print(score_test)\n",
        "# print(f'Test Accuracy: {model.evaluate(X_test, Y_test):.4f}')\n",
        "\n",
        "print()\n",
        "print(f'Test score : {100 * score_test[1]:.3f} %')"
      ],
      "execution_count": 82,
      "outputs": [
        {
          "output_type": "stream",
          "text": [
            "313/313 [==============================] - 1s 3ms/step - loss: 0.0322 - accuracy: 0.9918\n",
            "[0.032229624688625336, 0.9918000102043152]\n",
            "\n",
            "Test score : 99.180 %\n"
          ],
          "name": "stdout"
        }
      ]
    },
    {
      "cell_type": "code",
      "metadata": {
        "id": "UX41t37jXf6T"
      },
      "source": [
        "y_loss = history.history['loss']\n",
        "y_acc = history.history['accuracy']\n",
        "\n",
        "y_vloss = history.history['val_loss']\n",
        "y_vacc = history.history['val_accuracy']"
      ],
      "execution_count": 83,
      "outputs": []
    },
    {
      "cell_type": "code",
      "metadata": {
        "colab": {
          "base_uri": "https://localhost:8080/",
          "height": 279
        },
        "id": "McUC6-yIXf6T",
        "outputId": "83a2eabf-42a0-44b1-daea-25fe9dbcc71a"
      },
      "source": [
        "import matplotlib.pyplot as plt\n",
        "import numpy as np\n",
        "\n",
        "# 그래프로 표현 : loss\n",
        "x_len = np.arange(len(y_loss))\n",
        "plt.plot(x_len, y_vloss, marker='.', c='red', label='Testset_loss')\n",
        "plt.plot(x_len, y_loss, marker='.', c='blue', label='Trainset_loss')\n",
        "\n",
        "plt.legend(loc='upper right')\n",
        "plt.grid()\n",
        "plt.xlabel('epoch')\n",
        "plt.ylabel('loss')\n",
        "plt.show()"
      ],
      "execution_count": 84,
      "outputs": [
        {
          "output_type": "display_data",
          "data": {
            "image/png": "[encoded data removed]",
            "text/plain": [
              "<Figure size 432x288 with 1 Axes>"
            ]
          },
          "metadata": {
            "tags": [],
            "needs_background": "light"
          }
        }
      ]
    },
    {
      "cell_type": "code",
      "metadata": {
        "colab": {
          "base_uri": "https://localhost:8080/",
          "height": 279
        },
        "id": "ipm_setwXf6T",
        "outputId": "9759a15e-5eb1-4bb6-fbd3-dbf559ac5ff8"
      },
      "source": [
        "# 그래프로 표현 : accuracy\n",
        "x_len = np.arange(len(y_acc))\n",
        "plt.plot(x_len, y_vacc, marker='.', c='red', label='Testset_accuracy')\n",
        "plt.plot(x_len, y_acc, marker='.', c='blue', label='Trainset_accuracy')\n",
        "\n",
        "plt.legend(loc='upper right')\n",
        "plt.grid()\n",
        "plt.xlabel('epoch')\n",
        "plt.ylabel('accuracy')\n",
        "plt.show()"
      ],
      "execution_count": 85,
      "outputs": [
        {
          "output_type": "display_data",
          "data": {
            "image/png": "[encoded data removed]",
            "text/plain": [
              "<Figure size 432x288 with 1 Axes>"
            ]
          },
          "metadata": {
            "tags": [],
            "needs_background": "light"
          }
        }
      ]
    },
    {
      "cell_type": "markdown",
      "metadata": {
        "id": "z0nsAtJilRJm"
      },
      "source": [
        "# 제목"
      ]
    },
    {
      "cell_type": "code",
      "metadata": {
        "id": "AUunW4AJlSfB"
      },
      "source": [
        ""
      ],
      "execution_count": null,
      "outputs": []
    }
  ]
}