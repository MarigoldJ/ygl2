{
  "nbformat": 4,
  "nbformat_minor": 0,
  "metadata": {
    "colab": {
      "name": "20210610_nlp_2일차.ipynb",
      "provenance": [],
      "collapsed_sections": [],
      "authorship_tag": "ABX9TyPqOBHlCdaaJJnjazyE59Fw",
      "include_colab_link": true
    },
    "kernelspec": {
      "name": "python3",
      "display_name": "Python 3"
    },
    "language_info": {
      "name": "python"
    }
  },
  "cells": [
    {
      "cell_type": "markdown",
      "metadata": {
        "id": "view-in-github",
        "colab_type": "text"
      },
      "source": [
        "<a href=\"https://colab.research.google.com/github/MarigoldJ/ygl2/blob/main/class/20210610_nlp_day2.ipynb\" target=\"_parent\"><img src=\"https://colab.research.google.com/assets/colab-badge.svg\" alt=\"Open In Colab\"/></a>"
      ]
    },
    {
      "cell_type": "code",
      "metadata": {
        "id": "ZnGHW0ygPK4_"
      },
      "source": [
        "import re, collections"
      ],
      "execution_count": null,
      "outputs": []
    },
    {
      "cell_type": "markdown",
      "metadata": {
        "id": "BSOWISVLlbBR"
      },
      "source": [
        "# BPE 실습"
      ]
    },
    {
      "cell_type": "markdown",
      "metadata": {
        "id": "TT90Kb8NnxFD"
      },
      "source": [
        "## 기본 예제"
      ]
    },
    {
      "cell_type": "markdown",
      "metadata": {
        "id": "t8WGANaidWDg"
      },
      "source": [
        "* 우리들은 밥을 먹었고, 나는 공부중이다.\n",
        "\n",
        "1. Unigram\n",
        "    - 우리들은 / 밥을 / 먹었고, / 나는 / 공부중이다.\n",
        "2. bigram\n",
        "    - 우리들은 밥을 / 먹었고, 나는 / 공부중이다.\n",
        "3. n-gram\n",
        "    - (n개씩 분할)"
      ]
    },
    {
      "cell_type": "code",
      "metadata": {
        "id": "1O1nIOzKdLJZ"
      },
      "source": [
        "def get_stats(dictionary):\n",
        "    '''\n",
        "    유니 그램의 pair들의 빈도수를 카운트\n",
        "    '''\n",
        "    pairs = collections.defaultdict(int)\n",
        "    for word, freq in dictionary.items():\n",
        "        symbols = word.split()\n",
        "        for i in range(len(symbols) - 1):\n",
        "            pairs[symbols[i], symbols[i+1]] += freq\n",
        "    \n",
        "    print('현재 pair들의 빈도수 :', dict(pairs))\n",
        "\n",
        "    return pairs\n",
        "\n",
        "\n",
        "def merge_dictionary(pair, v_in):\n",
        "    v_out = {}\n",
        "    bigram = re.escape(' '.join(pair))\n",
        "    p = re.compile(r'(?<!\\S)' + bigram + r'(?!\\S)')\n",
        "    for word in v_in:\n",
        "        w_out = p.sub(''.join(pair), word)\n",
        "        v_out[w_out] = v_in[word]\n",
        "    return v_out\n",
        "\n",
        "\n",
        "# 아래 함수로는 왜 제대로 실행이 안될까...\n",
        "def merge_dictionary_22(pair, v_in):\n",
        "\n",
        "    v_out = {}\n",
        "    bigram = re.escape(' '.join(pair))\n",
        "    \n",
        "    # p = re.compile(r'()?<!\\S' + bigram + r'()?<!\\S')\n",
        "    p = re.compile(r'(?<!\\S)' + bigram + r'(?<!\\S)') # 여기에 <가 포함되냐 안되냐 차이인듯\n",
        "    \n",
        "    for word in v_in:\n",
        "        w_out = p.sub(''.join(pair), word)\n",
        "        v_out[w_out] = v_in[word]\n",
        "    \n",
        "    return v_out"
      ],
      "execution_count": null,
      "outputs": []
    },
    {
      "cell_type": "code",
      "metadata": {
        "colab": {
          "base_uri": "https://localhost:8080/"
        },
        "id": "fqkPLSBSe78H",
        "outputId": "b21c32a8-cdbe-4960-9e52-9bd94e8e58fb"
      },
      "source": [
        "dictionary = {\n",
        "    'l o w </w>': 5,\n",
        "    'l o w e r </w>': 2,\n",
        "    'n e w e s t </w>': 6,\n",
        "    'w i d e s t </w>': 3,\n",
        "}\n",
        "\n",
        "bpe_codes = {}\n",
        "bpe_codes_reverse = {}\n",
        "num_merges = 10\n",
        "\n",
        "for i in range(num_merges):\n",
        "    print(f'>> Step {i+1}')\n",
        "    pairs = get_stats(dictionary)\n",
        "    best = max(pairs, key=pairs.get)\n",
        "    dictionary = merge_dictionary(best, dictionary)\n",
        "\n",
        "    bpe_codes[best] = 1\n",
        "    bpe_codes_reverse[best[0] + best[1]] = best\n",
        "\n",
        "    print(f'new merge: {best}')\n",
        "    print(f'dictionary: {dictionary}')\n",
        "    print()"
      ],
      "execution_count": null,
      "outputs": [
        {
          "output_type": "stream",
          "text": [
            ">> Step 1\n",
            "현재 pair들의 빈도수 : {('l', 'o'): 7, ('o', 'w'): 7, ('w', '</w>'): 5, ('w', 'e'): 8, ('e', 'r'): 2, ('r', '</w>'): 2, ('n', 'e'): 6, ('e', 'w'): 6, ('e', 's'): 9, ('s', 't'): 9, ('t', '</w>'): 9, ('w', 'i'): 3, ('i', 'd'): 3, ('d', 'e'): 3}\n",
            "new merge: ('e', 's')\n",
            "dictionary: {'l o w </w>': 5, 'l o w e r </w>': 2, 'n e w es t </w>': 6, 'w i d es t </w>': 3}\n",
            "\n",
            ">> Step 2\n",
            "현재 pair들의 빈도수 : {('l', 'o'): 7, ('o', 'w'): 7, ('w', '</w>'): 5, ('w', 'e'): 2, ('e', 'r'): 2, ('r', '</w>'): 2, ('n', 'e'): 6, ('e', 'w'): 6, ('w', 'es'): 6, ('es', 't'): 9, ('t', '</w>'): 9, ('w', 'i'): 3, ('i', 'd'): 3, ('d', 'es'): 3}\n",
            "new merge: ('es', 't')\n",
            "dictionary: {'l o w </w>': 5, 'l o w e r </w>': 2, 'n e w est </w>': 6, 'w i d est </w>': 3}\n",
            "\n",
            ">> Step 3\n",
            "현재 pair들의 빈도수 : {('l', 'o'): 7, ('o', 'w'): 7, ('w', '</w>'): 5, ('w', 'e'): 2, ('e', 'r'): 2, ('r', '</w>'): 2, ('n', 'e'): 6, ('e', 'w'): 6, ('w', 'est'): 6, ('est', '</w>'): 9, ('w', 'i'): 3, ('i', 'd'): 3, ('d', 'est'): 3}\n",
            "new merge: ('est', '</w>')\n",
            "dictionary: {'l o w </w>': 5, 'l o w e r </w>': 2, 'n e w est</w>': 6, 'w i d est</w>': 3}\n",
            "\n",
            ">> Step 4\n",
            "현재 pair들의 빈도수 : {('l', 'o'): 7, ('o', 'w'): 7, ('w', '</w>'): 5, ('w', 'e'): 2, ('e', 'r'): 2, ('r', '</w>'): 2, ('n', 'e'): 6, ('e', 'w'): 6, ('w', 'est</w>'): 6, ('w', 'i'): 3, ('i', 'd'): 3, ('d', 'est</w>'): 3}\n",
            "new merge: ('l', 'o')\n",
            "dictionary: {'lo w </w>': 5, 'lo w e r </w>': 2, 'n e w est</w>': 6, 'w i d est</w>': 3}\n",
            "\n",
            ">> Step 5\n",
            "현재 pair들의 빈도수 : {('lo', 'w'): 7, ('w', '</w>'): 5, ('w', 'e'): 2, ('e', 'r'): 2, ('r', '</w>'): 2, ('n', 'e'): 6, ('e', 'w'): 6, ('w', 'est</w>'): 6, ('w', 'i'): 3, ('i', 'd'): 3, ('d', 'est</w>'): 3}\n",
            "new merge: ('lo', 'w')\n",
            "dictionary: {'low </w>': 5, 'low e r </w>': 2, 'n e w est</w>': 6, 'w i d est</w>': 3}\n",
            "\n",
            ">> Step 6\n",
            "현재 pair들의 빈도수 : {('low', '</w>'): 5, ('low', 'e'): 2, ('e', 'r'): 2, ('r', '</w>'): 2, ('n', 'e'): 6, ('e', 'w'): 6, ('w', 'est</w>'): 6, ('w', 'i'): 3, ('i', 'd'): 3, ('d', 'est</w>'): 3}\n",
            "new merge: ('n', 'e')\n",
            "dictionary: {'low </w>': 5, 'low e r </w>': 2, 'ne w est</w>': 6, 'w i d est</w>': 3}\n",
            "\n",
            ">> Step 7\n",
            "현재 pair들의 빈도수 : {('low', '</w>'): 5, ('low', 'e'): 2, ('e', 'r'): 2, ('r', '</w>'): 2, ('ne', 'w'): 6, ('w', 'est</w>'): 6, ('w', 'i'): 3, ('i', 'd'): 3, ('d', 'est</w>'): 3}\n",
            "new merge: ('ne', 'w')\n",
            "dictionary: {'low </w>': 5, 'low e r </w>': 2, 'new est</w>': 6, 'w i d est</w>': 3}\n",
            "\n",
            ">> Step 8\n",
            "현재 pair들의 빈도수 : {('low', '</w>'): 5, ('low', 'e'): 2, ('e', 'r'): 2, ('r', '</w>'): 2, ('new', 'est</w>'): 6, ('w', 'i'): 3, ('i', 'd'): 3, ('d', 'est</w>'): 3}\n",
            "new merge: ('new', 'est</w>')\n",
            "dictionary: {'low </w>': 5, 'low e r </w>': 2, 'newest</w>': 6, 'w i d est</w>': 3}\n",
            "\n",
            ">> Step 9\n",
            "현재 pair들의 빈도수 : {('low', '</w>'): 5, ('low', 'e'): 2, ('e', 'r'): 2, ('r', '</w>'): 2, ('w', 'i'): 3, ('i', 'd'): 3, ('d', 'est</w>'): 3}\n",
            "new merge: ('low', '</w>')\n",
            "dictionary: {'low</w>': 5, 'low e r </w>': 2, 'newest</w>': 6, 'w i d est</w>': 3}\n",
            "\n",
            ">> Step 10\n",
            "현재 pair들의 빈도수 : {('low', 'e'): 2, ('e', 'r'): 2, ('r', '</w>'): 2, ('w', 'i'): 3, ('i', 'd'): 3, ('d', 'est</w>'): 3}\n",
            "new merge: ('w', 'i')\n",
            "dictionary: {'low</w>': 5, 'low e r </w>': 2, 'newest</w>': 6, 'wi d est</w>': 3}\n",
            "\n"
          ],
          "name": "stdout"
        }
      ]
    },
    {
      "cell_type": "code",
      "metadata": {
        "colab": {
          "base_uri": "https://localhost:8080/"
        },
        "id": "MN_s5BaHf1U2",
        "outputId": "9d82ea54-9b64-4a1a-e941-15bad40b17c1"
      },
      "source": [
        "print(bpe_codes)\n",
        "# bpe_code를 출력하면 merge했던 기록이 출력됨"
      ],
      "execution_count": null,
      "outputs": [
        {
          "output_type": "stream",
          "text": [
            "{('e', 's'): 1, ('es', 't'): 1, ('est', '</w>'): 1, ('l', 'o'): 1, ('lo', 'w'): 1, ('n', 'e'): 1, ('ne', 'w'): 1, ('new', 'est</w>'): 1, ('low', '</w>'): 1, ('w', 'i'): 1}\n"
          ],
          "name": "stdout"
        }
      ]
    },
    {
      "cell_type": "markdown",
      "metadata": {
        "id": "eg0bqn_4lf_h"
      },
      "source": [
        "## OOV에 대처하기"
      ]
    },
    {
      "cell_type": "code",
      "metadata": {
        "id": "oTF9nmdplVFe"
      },
      "source": [
        "def get_pair(word):\n",
        "    pairs = set()\n",
        "    prev_char = word[0]\n",
        "    for char in word[1:]:\n",
        "        pairs.add((prev_char, char))\n",
        "        prev_char = char\n",
        "    \n",
        "    return pairs\n",
        "\n",
        "def encode(orig):\n",
        "    word = tuple(orig) + ('</w>',)\n",
        "    print(f'__word split into character : __ <tt>{word}</tt>')\n",
        "\n",
        "    pairs = get_pair(word)\n",
        "\n",
        "    if not pairs:\n",
        "        return orig\n",
        "\n",
        "    iteration = 0\n",
        "    while True:\n",
        "        iteration += 1\n",
        "        print(f'__iteration {iteration} : __')\n",
        "        print(f'bigram in the word : {pairs}')\n",
        "\n",
        "        bigram = min(pairs, key=lambda pair: bpe_codes.get(pair, float('inf')))\n",
        "        print(f'candidate for merging : {bigram}')\n",
        "        \n",
        "        if bigram not in bpe_codes:\n",
        "            print('__candidate not in BPE merges, algorithm stops.__')\n",
        "            break\n",
        "        \n",
        "        first, second = bigram\n",
        "        new_word = []\n",
        "        i = 0\n",
        "        while i < len(word):\n",
        "            try:\n",
        "                j = word.index(first, i)\n",
        "                new_word.extend(word[i:j])\n",
        "                i = j\n",
        "            except:\n",
        "                new_word.extend(word[i:])\n",
        "                break\n",
        "            \n",
        "            if word[i] == first and i < len(word)-1 and word[i+1]==second:\n",
        "                new_word.append(first+second)\n",
        "                i += 2\n",
        "            else:\n",
        "                new_word.append(word[i])\n",
        "                i += 1\n",
        "        \n",
        "        new_word = tuple(new_word)\n",
        "        word = new_word\n",
        "\n",
        "        print(f'word after merging: {word}')\n",
        "        if len(word) == 1:\n",
        "            break\n",
        "        else:\n",
        "            pairs = get_pair(word)\n",
        "    \n",
        "    # 특별 토큰 </w>는 출력하지 않는다.\n",
        "    if word[-1] == '</w>':                  # </w>로 끝나는 word는\n",
        "        word = word[:-1]                    # 해당 문자를 제거함\n",
        "    elif word[-1].endswith('</w>'):\n",
        "        word = word[:-1] + (word[-1].replace('</w>', ''),)\n",
        "\n",
        "    return word\n",
        "\n",
        "\n"
      ],
      "execution_count": null,
      "outputs": []
    },
    {
      "cell_type": "code",
      "metadata": {
        "colab": {
          "base_uri": "https://localhost:8080/"
        },
        "id": "NMdECP1QntZ4",
        "outputId": "8ca6f296-8b29-4893-9460-6a439e6a6bf8"
      },
      "source": [
        "encode('loki')"
      ],
      "execution_count": null,
      "outputs": [
        {
          "output_type": "stream",
          "text": [
            "__word split into character : __ <tt>('l', 'o', 'k', 'i', '</w>')</tt>\n",
            "__iteration 1 : __\n",
            "bigram in the word : {('o', 'k'), ('k', 'i'), ('l', 'o'), ('i', '</w>')}\n",
            "candidate for merging : ('l', 'o')\n",
            "word after merging: ('lo', 'k', 'i', '</w>')\n",
            "__iteration 2 : __\n",
            "bigram in the word : {('k', 'i'), ('i', '</w>'), ('lo', 'k')}\n",
            "candidate for merging : ('k', 'i')\n",
            "__candidate not in BPE merges, algorithm stops.__\n"
          ],
          "name": "stdout"
        },
        {
          "output_type": "execute_result",
          "data": {
            "text/plain": [
              "('lo', 'k', 'i')"
            ]
          },
          "metadata": {
            "tags": []
          },
          "execution_count": 53
        }
      ]
    },
    {
      "cell_type": "code",
      "metadata": {
        "colab": {
          "base_uri": "https://localhost:8080/"
        },
        "id": "EkKWftcOouuI",
        "outputId": "f9a64ae9-f5fe-45a4-e7e8-dfc41cddb326"
      },
      "source": [
        "encode('lowest')"
      ],
      "execution_count": null,
      "outputs": [
        {
          "output_type": "stream",
          "text": [
            "__word split into character : __ <tt>('l', 'o', 'w', 'e', 's', 't', '</w>')</tt>\n",
            "__iteration 1 : __\n",
            "bigram in the word : {('w', 'e'), ('l', 'o'), ('t', '</w>'), ('e', 's'), ('s', 't'), ('o', 'w')}\n",
            "candidate for merging : ('l', 'o')\n",
            "word after merging: ('lo', 'w', 'e', 's', 't', '</w>')\n",
            "__iteration 2 : __\n",
            "bigram in the word : {('w', 'e'), ('t', '</w>'), ('e', 's'), ('lo', 'w'), ('s', 't')}\n",
            "candidate for merging : ('e', 's')\n",
            "word after merging: ('lo', 'w', 'es', 't', '</w>')\n",
            "__iteration 3 : __\n",
            "bigram in the word : {('w', 'es'), ('t', '</w>'), ('lo', 'w'), ('es', 't')}\n",
            "candidate for merging : ('lo', 'w')\n",
            "word after merging: ('low', 'es', 't', '</w>')\n",
            "__iteration 4 : __\n",
            "bigram in the word : {('es', 't'), ('t', '</w>'), ('low', 'es')}\n",
            "candidate for merging : ('es', 't')\n",
            "word after merging: ('low', 'est', '</w>')\n",
            "__iteration 5 : __\n",
            "bigram in the word : {('est', '</w>'), ('low', 'est')}\n",
            "candidate for merging : ('est', '</w>')\n",
            "word after merging: ('low', 'est</w>')\n",
            "__iteration 6 : __\n",
            "bigram in the word : {('low', 'est</w>')}\n",
            "candidate for merging : ('low', 'est</w>')\n",
            "__candidate not in BPE merges, algorithm stops.__\n"
          ],
          "name": "stdout"
        },
        {
          "output_type": "execute_result",
          "data": {
            "text/plain": [
              "('low', 'est')"
            ]
          },
          "metadata": {
            "tags": []
          },
          "execution_count": 54
        }
      ]
    },
    {
      "cell_type": "code",
      "metadata": {
        "colab": {
          "base_uri": "https://localhost:8080/"
        },
        "id": "cJQ6jt2TpGJg",
        "outputId": "46c0c883-7e97-4f75-dcea-21f0a0b9d7ca"
      },
      "source": [
        "encode('lowing')"
      ],
      "execution_count": null,
      "outputs": [
        {
          "output_type": "stream",
          "text": [
            "__word split into character : __ <tt>('l', 'o', 'w', 'i', 'n', 'g', '</w>')</tt>\n",
            "__iteration 1 : __\n",
            "bigram in the word : {('l', 'o'), ('i', 'n'), ('w', 'i'), ('g', '</w>'), ('n', 'g'), ('o', 'w')}\n",
            "candidate for merging : ('l', 'o')\n",
            "word after merging: ('lo', 'w', 'i', 'n', 'g', '</w>')\n",
            "__iteration 2 : __\n",
            "bigram in the word : {('i', 'n'), ('lo', 'w'), ('w', 'i'), ('g', '</w>'), ('n', 'g')}\n",
            "candidate for merging : ('lo', 'w')\n",
            "word after merging: ('low', 'i', 'n', 'g', '</w>')\n",
            "__iteration 3 : __\n",
            "bigram in the word : {('i', 'n'), ('n', 'g'), ('low', 'i'), ('g', '</w>')}\n",
            "candidate for merging : ('i', 'n')\n",
            "__candidate not in BPE merges, algorithm stops.__\n"
          ],
          "name": "stdout"
        },
        {
          "output_type": "execute_result",
          "data": {
            "text/plain": [
              "('low', 'i', 'n', 'g')"
            ]
          },
          "metadata": {
            "tags": []
          },
          "execution_count": 55
        }
      ]
    },
    {
      "cell_type": "markdown",
      "metadata": {
        "id": "dq6Lrs2qzQQS"
      },
      "source": [
        "# IMDB 리뷰 토큰화하기"
      ]
    },
    {
      "cell_type": "code",
      "metadata": {
        "id": "EOuBj7Q4zSYn"
      },
      "source": [
        "import tensorflow_datasets as tfds\n",
        "import urllib.request\n",
        "import pandas as pd"
      ],
      "execution_count": null,
      "outputs": []
    },
    {
      "cell_type": "code",
      "metadata": {
        "colab": {
          "base_uri": "https://localhost:8080/"
        },
        "id": "Iswb3AH8z8OZ",
        "outputId": "2b6f4b7b-dbb1-4794-89f2-543b2b73150c"
      },
      "source": [
        "file_name = \"IMDb_Reviews.csv\"\n",
        "urllib.request.urlretrieve(\"https://raw.githubusercontent.com/LawrenceDuan/IMDb-Review-Analysis/master/IMDb_Reviews.csv\", filename=file_name)"
      ],
      "execution_count": null,
      "outputs": [
        {
          "output_type": "execute_result",
          "data": {
            "text/plain": [
              "('IMDb_Reviews.csv', <http.client.HTTPMessage at 0x7f969d8efe50>)"
            ]
          },
          "metadata": {
            "tags": []
          },
          "execution_count": 62
        }
      ]
    },
    {
      "cell_type": "code",
      "metadata": {
        "colab": {
          "base_uri": "https://localhost:8080/"
        },
        "id": "GlGk2jDx0F2k",
        "outputId": "0d8561af-a933-4ed7-ac7b-0a14b21acba9"
      },
      "source": [
        "train_df = pd.read_csv(file_name)\n",
        "print(train_df['review'])\n",
        "print('\\n')\n",
        "print(train_df['sentiment'])"
      ],
      "execution_count": null,
      "outputs": [
        {
          "output_type": "stream",
          "text": [
            "0        My family and I normally do not watch local mo...\n",
            "1        Believe it or not, this was at one time the wo...\n",
            "2        After some internet surfing, I found the \"Home...\n",
            "3        One of the most unheralded great works of anim...\n",
            "4        It was the Sixties, and anyone with long hair ...\n",
            "                               ...                        \n",
            "49995    the people who came up with this are SICK AND ...\n",
            "49996    The script is so so laughable... this in turn,...\n",
            "49997    \"So there's this bride, you see, and she gets ...\n",
            "49998    Your mind will not be satisfied by this nobud...\n",
            "49999    The chaser's war on everything is a weekly sho...\n",
            "Name: review, Length: 50000, dtype: object\n",
            "\n",
            "\n",
            "0        1\n",
            "1        0\n",
            "2        0\n",
            "3        1\n",
            "4        0\n",
            "        ..\n",
            "49995    0\n",
            "49996    0\n",
            "49997    0\n",
            "49998    0\n",
            "49999    1\n",
            "Name: sentiment, Length: 50000, dtype: int64\n"
          ],
          "name": "stdout"
        }
      ]
    },
    {
      "cell_type": "code",
      "metadata": {
        "id": "O7AYOF3L0aB4"
      },
      "source": [
        "tokenizer = tfds.deprecated.text.SubwordTextEncoder.build_from_corpus(train_df['review'], target_vocab_size=2**13)\n",
        "# 약 5분 30초정도 소요됨."
      ],
      "execution_count": null,
      "outputs": []
    },
    {
      "cell_type": "code",
      "metadata": {
        "colab": {
          "base_uri": "https://localhost:8080/"
        },
        "id": "PaZ8-woA0u9E",
        "outputId": "dc793324-dad5-457a-c082-929dd668f46f"
      },
      "source": [
        "print(tokenizer.subwords[:100])\n",
        "print()\n",
        "print(train_df['review'][20])   # 21번째 샘플 출력\n",
        "print()\n",
        "print('토큰화된 샘플 질문 : {}'.format(tokenizer.encode(train_df['review'][20])))   # 21번째 샘플 출력\n",
        "print()\n",
        "\n",
        "print('단어 집합의 크기(Vocab Size) :', tokenizer.vocab_size)\n",
        "print()"
      ],
      "execution_count": null,
      "outputs": [
        {
          "output_type": "stream",
          "text": [
            "['the_', ', ', '. ', 'a_', 'and_', 'of_', 'to_', 's_', 'is_', 'br', 'in_', 'I_', 'that_', 'this_', 'it_', ' /><', ' />', 'was_', 'The_', 't_', 'as_', 'with_', 'for_', '.<', 'on_', 'but_', 'movie_', 'are_', ' (', 'have_', 'his_', 'film_', 'not_', 'be_', 'you_', 'ing_', ' \"', 'ed_', 'it', 'd_', 'an_', 'at_', 'by_', 'he_', 'one_', 'who_', 'from_', 'y_', 'or_', 'e_', 'like_', 'all_', '\" ', 'they_', 'so_', 'just_', 'has_', ') ', 'about_', 'her_', 'out_', 'This_', 'some_', 'movie', 'ly_', 'film', 'very_', 'more_', 'It_', 'what_', 'would_', 'when_', 'if_', 'good_', 'up_', 'which_', 'their_', 'only_', 'even_', 'my_', 'really_', 'had_', 'can_', 'no_', 'were_', 'see_', '? ', 'she_', 'than_', '! ', 'there_', 'been_', 'get_', 'into_', 'will_', ' - ', 'much_', 'n_', 'because_', 'ing']\n",
            "\n",
            "Pretty bad PRC cheapie which I rarely bother to watch over again, and it's no wonder -- it's slow and creaky and dull as a butter knife. Mad doctor George Zucco is at it again, turning a dimwitted farmhand in overalls (Glenn Strange) into a wolf-man. Unfortunately, the makeup is virtually non-existent, consisting only of a beard and dimestore fangs for the most part. If it were not for Zucco and Strange's presence, along with the cute Anne Nagel, this would be completely unwatchable. Strange, who would go on to play Frankenstein's monster for Unuiversal in two years, does a Lenny impression from \"Of Mice and Men\", it seems.<br /><br />*1/2 (of Four)\n",
            "\n",
            "토큰화된 샘플 질문 : [1590, 4162, 132, 7107, 1892, 2983, 578, 76, 12, 4632, 3422, 7, 160, 175, 372, 2, 5, 39, 8051, 8, 84, 2652, 497, 39, 8051, 8, 1374, 5, 3461, 2012, 48, 5, 2263, 21, 4, 2992, 127, 4729, 711, 3, 1391, 8044, 3557, 1277, 8102, 2154, 5681, 9, 42, 15, 372, 2, 3773, 4, 3502, 2308, 467, 4890, 1503, 11, 3347, 1419, 8127, 29, 5539, 98, 6099, 58, 94, 4, 1388, 4230, 8057, 213, 3, 1966, 2, 1, 6700, 8044, 9, 7069, 716, 8057, 6600, 2, 4102, 36, 78, 6, 4, 1865, 40, 5, 3502, 1043, 1645, 8044, 1000, 1813, 23, 1, 105, 1128, 3, 156, 15, 85, 33, 23, 8102, 2154, 5681, 5, 6099, 8051, 8, 7271, 1055, 2, 534, 22, 1, 3046, 5214, 810, 634, 8120, 2, 14, 71, 34, 436, 3311, 5447, 783, 3, 6099, 2, 46, 71, 193, 25, 7, 428, 2274, 2260, 6487, 8051, 8, 2149, 23, 1138, 4117, 6023, 163, 11, 148, 735, 2, 164, 4, 5277, 921, 3395, 1262, 37, 639, 1349, 349, 5, 2460, 328, 15, 5349, 8127, 24, 10, 16, 10, 17, 8054, 8061, 8059, 8062, 29, 6, 6607, 8126, 8053]\n",
            "\n",
            "단어 집합의 크기(Vocab Size) : 8268\n"
          ],
          "name": "stdout"
        }
      ]
    },
    {
      "cell_type": "code",
      "metadata": {
        "colab": {
          "base_uri": "https://localhost:8080/"
        },
        "id": "AtakUM7RIeiv",
        "outputId": "75860919-39a4-4437-eae8-4cb454e3fd17"
      },
      "source": [
        "print(len(tokenizer.subwords))\n",
        "print(tokenizer.vocab_size)"
      ],
      "execution_count": null,
      "outputs": [
        {
          "output_type": "stream",
          "text": [
            "8011\n",
            "8268\n"
          ],
          "name": "stdout"
        }
      ]
    },
    {
      "cell_type": "code",
      "metadata": {
        "colab": {
          "base_uri": "https://localhost:8080/"
        },
        "id": "LF-PeYV93CAQ",
        "outputId": "bbc7424c-1ade-4e99-8345-91e88ccf3bb1"
      },
      "source": [
        "# 이번엔 decoding ㄱㄱ\n",
        "sample_string = \"It's mind-blowing to me that this film was even made.\"\n",
        "\n",
        "# 인코딩해서 저장\n",
        "tokenized_string = tokenizer.encode(sample_string)\n",
        "print('정수 인코딩 후의 문장 : {}'.format(tokenized_string))\n",
        "print()\n",
        "\n",
        "# 이를 다시 디코딩하기\n",
        "original_string = tokenizer.decode(tokenized_string)\n",
        "print('기존 문장 : {}'.format(original_string))\n",
        "print()\n",
        "\n",
        "# mapping\n",
        "for ts in tokenized_string:\n",
        "    print(f'{ts:<5} -----> {tokenizer.decode([ts])}')"
      ],
      "execution_count": null,
      "outputs": [
        {
          "output_type": "stream",
          "text": [
            "정수 인코딩 후의 문장 : [137, 8051, 8, 910, 8057, 2169, 36, 7, 103, 13, 14, 32, 18, 79, 681, 8058]\n",
            "\n",
            "기존 문장 : It's mind-blowing to me that this film was even made.\n",
            "\n",
            "137   -----> It\n",
            "8051  -----> '\n",
            "8     -----> s \n",
            "910   -----> mind\n",
            "8057  -----> -\n",
            "2169  -----> blow\n",
            "36    -----> ing \n",
            "7     -----> to \n",
            "103   -----> me \n",
            "13    -----> that \n",
            "14    -----> this \n",
            "32    -----> film \n",
            "18    -----> was \n",
            "79    -----> even \n",
            "681   -----> made\n",
            "8058  -----> .\n"
          ],
          "name": "stdout"
        }
      ]
    },
    {
      "cell_type": "code",
      "metadata": {
        "colab": {
          "base_uri": "https://localhost:8080/"
        },
        "id": "v4vQ8JBq3kVL",
        "outputId": "cacba4d6-d320-404d-f78b-8a0f30bc63af"
      },
      "source": [
        "# 앞에 셀에서 조금 다르게 넣어서 ㄱㄱ\n",
        "sample_string = \"It's mind-blowing to me that this film was evenxyz made.\" # xyz가 추가됨.\n",
        "\n",
        "# 인코딩해서 저장\n",
        "tokenized_string = tokenizer.encode(sample_string)\n",
        "print('정수 인코딩 후의 문장 : {}'.format(tokenized_string))\n",
        "print()\n",
        "\n",
        "# 이를 다시 디코딩하기\n",
        "original_string = tokenizer.decode(tokenized_string)\n",
        "print('기존 문장 : {}'.format(original_string))\n",
        "print()\n",
        "\n",
        "# mapping\n",
        "for ts in tokenized_string:\n",
        "    print(f'{ts:<5} -----> {tokenizer.decode([ts])}')"
      ],
      "execution_count": null,
      "outputs": [
        {
          "output_type": "stream",
          "text": [
            "정수 인코딩 후의 문장 : [137, 8051, 8, 910, 8057, 2169, 36, 7, 103, 13, 14, 32, 18, 7974, 8132, 8133, 997, 681, 8058]\n",
            "\n",
            "기존 문장 : It's mind-blowing to me that this film was evenxyz made.\n",
            "\n",
            "137   -----> It\n",
            "8051  -----> '\n",
            "8     -----> s \n",
            "910   -----> mind\n",
            "8057  -----> -\n",
            "2169  -----> blow\n",
            "36    -----> ing \n",
            "7     -----> to \n",
            "103   -----> me \n",
            "13    -----> that \n",
            "14    -----> this \n",
            "32    -----> film \n",
            "18    -----> was \n",
            "7974  -----> even\n",
            "8132  -----> x\n",
            "8133  -----> y\n",
            "997   -----> z \n",
            "681   -----> made\n",
            "8058  -----> .\n"
          ],
          "name": "stdout"
        }
      ]
    },
    {
      "cell_type": "markdown",
      "metadata": {
        "id": "oULVCIRauqGy"
      },
      "source": [
        "# TF-IDF (Term Frequency - Inverse Document Frequency)"
      ]
    },
    {
      "cell_type": "markdown",
      "metadata": {
        "id": "8agcM5MD7-g2"
      },
      "source": [
        "* 텍스트 데이터의 특징 추출"
      ]
    },
    {
      "cell_type": "markdown",
      "metadata": {
        "id": "ttCL6ZoTy6Ye"
      },
      "source": [
        "## 간단한 TF-IDF 예제 구현"
      ]
    },
    {
      "cell_type": "code",
      "metadata": {
        "id": "9OAvzR-b5ywg"
      },
      "source": [
        "import pandas as pd\n",
        "from math import log"
      ],
      "execution_count": null,
      "outputs": []
    },
    {
      "cell_type": "code",
      "metadata": {
        "colab": {
          "base_uri": "https://localhost:8080/"
        },
        "id": "fVBtOWNtuyTj",
        "outputId": "7d6d53d6-aabb-4283-d805-ded7233a6970"
      },
      "source": [
        "docs = [\n",
        "    '먹고 싶은 사과',\n",
        "    '먹고 싶은 바나나',\n",
        "    '길고 노란 바나나 바나나',\n",
        "    '저는 과일이 좋아요'\n",
        "]\n",
        "\n",
        "vocab = list(set(w for doc in docs for w in doc.split()))   # 중복 제거\n",
        "vocab.sort()                                                # 정렬\n",
        "\n",
        "print(vocab)        # 등장한 (띄어쓰기로 구분되는) 단어 종류"
      ],
      "execution_count": null,
      "outputs": [
        {
          "output_type": "stream",
          "text": [
            "['과일이', '길고', '노란', '먹고', '바나나', '사과', '싶은', '저는', '좋아요']\n"
          ],
          "name": "stdout"
        }
      ]
    },
    {
      "cell_type": "code",
      "metadata": {
        "colab": {
          "base_uri": "https://localhost:8080/"
        },
        "id": "bzpLT9E2vJIS",
        "outputId": "99da04b2-0202-4058-ca20-218830148f97"
      },
      "source": [
        "N = len(docs)       # document 총 개수 -> idf 계산시 사용\n",
        "print(N)"
      ],
      "execution_count": null,
      "outputs": [
        {
          "output_type": "stream",
          "text": [
            "4\n"
          ],
          "name": "stdout"
        }
      ]
    },
    {
      "cell_type": "code",
      "metadata": {
        "id": "c47VQcdovSyA"
      },
      "source": [
        "def tf(t, d):\n",
        "    '''\n",
        "    하나의 doc에서 해당 단어가 몇번 등장했는지 반환\n",
        "    '''\n",
        "    return d.count(t)\n",
        "\n",
        "def idf(t):\n",
        "    '''\n",
        "    df = 해당 단어가 전체 doc중에서 몇 개의 doc에 등장했는지 개수를 의미\n",
        "    idf = log(N / (df + 1))\n",
        "    '''\n",
        "    df = 0\n",
        "    for doc in docs:\n",
        "        df += t in doc\n",
        "    \n",
        "    return log(N/(df+1))\n",
        "\n",
        "def tfidf(t, d):\n",
        "    '''\n",
        "    tf-idf를 계산. 식은 tf * idf로 구할 수 있음.\n",
        "    '''\n",
        "    return tf(t, d) * idf(t)\n"
      ],
      "execution_count": null,
      "outputs": []
    },
    {
      "cell_type": "code",
      "metadata": {
        "colab": {
          "base_uri": "https://localhost:8080/",
          "height": 173
        },
        "id": "x0VTvaIbvqG0",
        "outputId": "f55d01fd-11dc-4212-9938-de38c752a70d"
      },
      "source": [
        "result = []\n",
        "for i in range(N):\n",
        "    # i번째 doc에서 각 단어의 tfidf 계산해서 넣을 예정\n",
        "    result.append([])   # i번째 doc에서 단어들의 tfidf를 저장할 list 생성\n",
        "    d = docs[i]         # i번째 doc\n",
        "\n",
        "    for j in range(len(vocab)):\n",
        "        t = vocab[j]                        # 단어 지정\n",
        "        result[-1].append(tfidf(t, d))      # 해당 단어가 i번째 doc에서 차지하는 중요도(tfidf) 계산\n",
        "\n",
        "tfidf_ = pd.DataFrame(result, columns = vocab)\n",
        "tfidf_"
      ],
      "execution_count": null,
      "outputs": [
        {
          "output_type": "execute_result",
          "data": {
            "text/html": [
              "<div>\n",
              "<style scoped>\n",
              "    .dataframe tbody tr th:only-of-type {\n",
              "        vertical-align: middle;\n",
              "    }\n",
              "\n",
              "    .dataframe tbody tr th {\n",
              "        vertical-align: top;\n",
              "    }\n",
              "\n",
              "    .dataframe thead th {\n",
              "        text-align: right;\n",
              "    }\n",
              "</style>\n",
              "<table border=\"1\" class=\"dataframe\">\n",
              "  <thead>\n",
              "    <tr style=\"text-align: right;\">\n",
              "      <th></th>\n",
              "      <th>과일이</th>\n",
              "      <th>길고</th>\n",
              "      <th>노란</th>\n",
              "      <th>먹고</th>\n",
              "      <th>바나나</th>\n",
              "      <th>사과</th>\n",
              "      <th>싶은</th>\n",
              "      <th>저는</th>\n",
              "      <th>좋아요</th>\n",
              "    </tr>\n",
              "  </thead>\n",
              "  <tbody>\n",
              "    <tr>\n",
              "      <th>0</th>\n",
              "      <td>0.000000</td>\n",
              "      <td>0.000000</td>\n",
              "      <td>0.000000</td>\n",
              "      <td>0.287682</td>\n",
              "      <td>0.000000</td>\n",
              "      <td>0.693147</td>\n",
              "      <td>0.287682</td>\n",
              "      <td>0.000000</td>\n",
              "      <td>0.000000</td>\n",
              "    </tr>\n",
              "    <tr>\n",
              "      <th>1</th>\n",
              "      <td>0.000000</td>\n",
              "      <td>0.000000</td>\n",
              "      <td>0.000000</td>\n",
              "      <td>0.287682</td>\n",
              "      <td>0.287682</td>\n",
              "      <td>0.000000</td>\n",
              "      <td>0.287682</td>\n",
              "      <td>0.000000</td>\n",
              "      <td>0.000000</td>\n",
              "    </tr>\n",
              "    <tr>\n",
              "      <th>2</th>\n",
              "      <td>0.000000</td>\n",
              "      <td>0.693147</td>\n",
              "      <td>0.693147</td>\n",
              "      <td>0.000000</td>\n",
              "      <td>0.575364</td>\n",
              "      <td>0.000000</td>\n",
              "      <td>0.000000</td>\n",
              "      <td>0.000000</td>\n",
              "      <td>0.000000</td>\n",
              "    </tr>\n",
              "    <tr>\n",
              "      <th>3</th>\n",
              "      <td>0.693147</td>\n",
              "      <td>0.000000</td>\n",
              "      <td>0.000000</td>\n",
              "      <td>0.000000</td>\n",
              "      <td>0.000000</td>\n",
              "      <td>0.000000</td>\n",
              "      <td>0.000000</td>\n",
              "      <td>0.693147</td>\n",
              "      <td>0.693147</td>\n",
              "    </tr>\n",
              "  </tbody>\n",
              "</table>\n",
              "</div>"
            ],
            "text/plain": [
              "        과일이        길고        노란  ...        싶은        저는       좋아요\n",
              "0  0.000000  0.000000  0.000000  ...  0.287682  0.000000  0.000000\n",
              "1  0.000000  0.000000  0.000000  ...  0.287682  0.000000  0.000000\n",
              "2  0.000000  0.693147  0.693147  ...  0.000000  0.000000  0.000000\n",
              "3  0.693147  0.000000  0.000000  ...  0.000000  0.693147  0.693147\n",
              "\n",
              "[4 rows x 9 columns]"
            ]
          },
          "metadata": {
            "tags": []
          },
          "execution_count": 85
        }
      ]
    },
    {
      "cell_type": "markdown",
      "metadata": {
        "id": "Dd8H6pCDy__N"
      },
      "source": [
        "## 사이킷런을 이용한 TF-IDF 실습"
      ]
    },
    {
      "cell_type": "code",
      "metadata": {
        "id": "ijH-ECaJ0ujd"
      },
      "source": [
        "from sklearn.feature_extraction.text import TfidfVectorizer"
      ],
      "execution_count": null,
      "outputs": []
    },
    {
      "cell_type": "code",
      "metadata": {
        "id": "FlErBrIGxnG_"
      },
      "source": [
        "corpus = [\n",
        "    '먹고 싶은 사과',\n",
        "    '먹고 싶은 바나나',\n",
        "    '길고 노란 바나나 바나나',\n",
        "    '저는 과일이 좋아요'\n",
        "]"
      ],
      "execution_count": null,
      "outputs": []
    },
    {
      "cell_type": "code",
      "metadata": {
        "colab": {
          "base_uri": "https://localhost:8080/"
        },
        "id": "L09oFrMWzS5t",
        "outputId": "f39c5c94-629d-4898-cf09-42c659b35e73"
      },
      "source": [
        "# 말뭉치를 Tfidf 벡터화하기\n",
        "tfidfv = TfidfVectorizer().fit(corpus)\n",
        "\n",
        "print(tfidfv.transform(corpus).toarray())\n",
        "print(tfidfv.vocabulary_)"
      ],
      "execution_count": null,
      "outputs": [
        {
          "output_type": "stream",
          "text": [
            "[[0.         0.         0.         0.52640543 0.         0.66767854\n",
            "  0.52640543 0.         0.        ]\n",
            " [0.         0.         0.         0.57735027 0.57735027 0.\n",
            "  0.57735027 0.         0.        ]\n",
            " [0.         0.47212003 0.47212003 0.         0.7444497  0.\n",
            "  0.         0.         0.        ]\n",
            " [0.57735027 0.         0.         0.         0.         0.\n",
            "  0.         0.57735027 0.57735027]]\n",
            "{'먹고': 3, '싶은': 6, '사과': 5, '바나나': 4, '길고': 1, '노란': 2, '저는': 7, '과일이': 0, '좋아요': 8}\n"
          ],
          "name": "stdout"
        }
      ]
    },
    {
      "cell_type": "markdown",
      "metadata": {
        "id": "GzoDhtPp0nZe"
      },
      "source": [
        "## 로이터 데이터로 TF-IDF 학습하기"
      ]
    },
    {
      "cell_type": "code",
      "metadata": {
        "id": "9EWiLsSXzfnQ"
      },
      "source": [
        "from tensorflow.keras.datasets import reuters\n",
        "import matplotlib.pyplot as plt\n",
        "import seaborn as sns\n",
        "import numpy as np\n",
        "import pandas as pd"
      ],
      "execution_count": null,
      "outputs": []
    },
    {
      "cell_type": "code",
      "metadata": {
        "colab": {
          "base_uri": "https://localhost:8080/"
        },
        "id": "Iq3u_U7h07bW",
        "outputId": "2620bfc5-4316-4c17-ec12-57a142ecc004"
      },
      "source": [
        "(x_train, y_train), (x_test, y_test) = reuters.load_data(num_words=10000, test_split=0.2)"
      ],
      "execution_count": null,
      "outputs": [
        {
          "output_type": "stream",
          "text": [
            "Downloading data from https://storage.googleapis.com/tensorflow/tf-keras-datasets/reuters.npz\n",
            "2113536/2110848 [==============================] - 0s 0us/step\n"
          ],
          "name": "stdout"
        },
        {
          "output_type": "stream",
          "text": [
            "/usr/local/lib/python3.7/dist-packages/tensorflow/python/keras/datasets/reuters.py:143: VisibleDeprecationWarning: Creating an ndarray from ragged nested sequences (which is a list-or-tuple of lists-or-tuples-or ndarrays with different lengths or shapes) is deprecated. If you meant to do this, you must specify 'dtype=object' when creating the ndarray\n",
            "  x_train, y_train = np.array(xs[:idx]), np.array(labels[:idx])\n",
            "/usr/local/lib/python3.7/dist-packages/tensorflow/python/keras/datasets/reuters.py:144: VisibleDeprecationWarning: Creating an ndarray from ragged nested sequences (which is a list-or-tuple of lists-or-tuples-or ndarrays with different lengths or shapes) is deprecated. If you meant to do this, you must specify 'dtype=object' when creating the ndarray\n",
            "  x_test, y_test = np.array(xs[idx:]), np.array(labels[idx:])\n"
          ],
          "name": "stderr"
        }
      ]
    },
    {
      "cell_type": "code",
      "metadata": {
        "colab": {
          "base_uri": "https://localhost:8080/"
        },
        "id": "buUGpWGZ-s7y",
        "outputId": "50011313-62e6-4e3b-9dc7-89e4df420c5d"
      },
      "source": [
        "y_train"
      ],
      "execution_count": null,
      "outputs": [
        {
          "output_type": "execute_result",
          "data": {
            "text/plain": [
              "array([ 3,  4,  3, ..., 25,  3, 25])"
            ]
          },
          "metadata": {
            "tags": []
          },
          "execution_count": 9
        }
      ]
    },
    {
      "cell_type": "code",
      "metadata": {
        "colab": {
          "base_uri": "https://localhost:8080/"
        },
        "id": "uqLu7FzI1KqY",
        "outputId": "fe10c6e4-3bc9-48c6-97b5-9920c0a9a594"
      },
      "source": [
        "print('훈련 샘플의 수 : {}'.format(len(x_train)))\n",
        "print('테스트 샘플의 수 : {}'.format(len(x_test)))"
      ],
      "execution_count": null,
      "outputs": [
        {
          "output_type": "stream",
          "text": [
            "훈련 샘플의 수 : 8982\n",
            "테스트 샘플의 수 : 2246\n"
          ],
          "name": "stdout"
        }
      ]
    },
    {
      "cell_type": "code",
      "metadata": {
        "colab": {
          "base_uri": "https://localhost:8080/"
        },
        "id": "tjmPgi-q1YEW",
        "outputId": "e8894ef6-8201-42b3-8e3a-7698804d67b1"
      },
      "source": [
        "print(x_train[0])\n",
        "print(x_test[0])\n",
        "print(y_train[0])\n",
        "print(y_test[0])"
      ],
      "execution_count": null,
      "outputs": [
        {
          "output_type": "stream",
          "text": [
            "[1, 2, 2, 8, 43, 10, 447, 5, 25, 207, 270, 5, 3095, 111, 16, 369, 186, 90, 67, 7, 89, 5, 19, 102, 6, 19, 124, 15, 90, 67, 84, 22, 482, 26, 7, 48, 4, 49, 8, 864, 39, 209, 154, 6, 151, 6, 83, 11, 15, 22, 155, 11, 15, 7, 48, 9, 4579, 1005, 504, 6, 258, 6, 272, 11, 15, 22, 134, 44, 11, 15, 16, 8, 197, 1245, 90, 67, 52, 29, 209, 30, 32, 132, 6, 109, 15, 17, 12]\n",
            "[1, 4, 1378, 2025, 9, 697, 4622, 111, 8, 25, 109, 29, 3650, 11, 150, 244, 364, 33, 30, 30, 1398, 333, 6, 2, 159, 9, 1084, 363, 13, 2, 71, 9, 2, 71, 117, 4, 225, 78, 206, 10, 9, 1214, 8, 4, 270, 5, 2, 7, 748, 48, 9, 2, 7, 207, 1451, 966, 1864, 793, 97, 133, 336, 7, 4, 493, 98, 273, 104, 284, 25, 39, 338, 22, 905, 220, 3465, 644, 59, 20, 6, 119, 61, 11, 15, 58, 579, 26, 10, 67, 7, 4, 738, 98, 43, 88, 333, 722, 12, 20, 6, 19, 746, 35, 15, 10, 9, 1214, 855, 129, 783, 21, 4, 2280, 244, 364, 51, 16, 299, 452, 16, 515, 4, 99, 29, 5, 4, 364, 281, 48, 10, 9, 1214, 23, 644, 47, 20, 324, 27, 56, 2, 2, 5, 192, 510, 17, 12]\n",
            "3\n",
            "3\n"
          ],
          "name": "stdout"
        }
      ]
    },
    {
      "cell_type": "code",
      "metadata": {
        "colab": {
          "base_uri": "https://localhost:8080/"
        },
        "id": "0fhfrptI2FPA",
        "outputId": "8eb0700b-9751-46c7-e5cf-9710893531b1"
      },
      "source": [
        "num_classes = max(y_train) + 1\n",
        "print('클래스의 수 : {}'.format(num_classes))"
      ],
      "execution_count": null,
      "outputs": [
        {
          "output_type": "stream",
          "text": [
            "클래스의 수 : 46\n"
          ],
          "name": "stdout"
        }
      ]
    },
    {
      "cell_type": "code",
      "metadata": {
        "colab": {
          "base_uri": "https://localhost:8080/"
        },
        "id": "YDL8d3O32NI3",
        "outputId": "e3ca940b-7159-4026-978b-00526f482933"
      },
      "source": [
        "print('훈련용 뉴스의 최대 길이 : {}'.format(max(len(i) for i in x_train)))"
      ],
      "execution_count": null,
      "outputs": [
        {
          "output_type": "stream",
          "text": [
            "훈련용 뉴스의 최대 길이 : 2376\n"
          ],
          "name": "stdout"
        }
      ]
    },
    {
      "cell_type": "code",
      "metadata": {
        "colab": {
          "base_uri": "https://localhost:8080/"
        },
        "id": "jMBa1Jtw2WMT",
        "outputId": "3cdc4c15-fe10-4354-a261-01d90363d2cd"
      },
      "source": [
        "print('훈련용 뉴스의 평균 길이 : {}'.format(sum(len(i) for i in x_train) / len(x_train)))"
      ],
      "execution_count": null,
      "outputs": [
        {
          "output_type": "stream",
          "text": [
            "훈련용 뉴스의 평균 길이 : 145.5398574927633\n"
          ],
          "name": "stdout"
        }
      ]
    },
    {
      "cell_type": "code",
      "metadata": {
        "colab": {
          "base_uri": "https://localhost:8080/",
          "height": 279
        },
        "id": "QTH0ZrBa3ML1",
        "outputId": "c8f8f590-0ee7-4604-c067-50c261f5dcbb"
      },
      "source": [
        "plt.hist([len(s) for s in x_train], bins=50)\n",
        "plt.xlabel('length of samples')\n",
        "plt.ylabel('number of samples')\n",
        "plt.show()"
      ],
      "execution_count": null,
      "outputs": [
        {
          "output_type": "display_data",
          "data": {
            "image/png": "[encoded data removed]",
            "text/plain": [
              "<Figure size 432x288 with 1 Axes>"
            ]
          },
          "metadata": {
            "tags": [],
            "needs_background": "light"
          }
        }
      ]
    },
    {
      "cell_type": "code",
      "metadata": {
        "colab": {
          "base_uri": "https://localhost:8080/",
          "height": 394
        },
        "id": "c5EXM8-13WkC",
        "outputId": "a1988d11-de92-43c5-bc0b-beee2069cb3d"
      },
      "source": [
        "fig, ax = plt.subplots(ncols=1)\n",
        "fig.set_size_inches(12, 5)\n",
        "sns.countplot(y_train)"
      ],
      "execution_count": null,
      "outputs": [
        {
          "output_type": "stream",
          "text": [
            "/usr/local/lib/python3.7/dist-packages/seaborn/_decorators.py:43: FutureWarning: Pass the following variable as a keyword arg: x. From version 0.12, the only valid positional argument will be `data`, and passing other arguments without an explicit keyword will result in an error or misinterpretation.\n",
            "  FutureWarning\n"
          ],
          "name": "stderr"
        },
        {
          "output_type": "execute_result",
          "data": {
            "text/plain": [
              "<matplotlib.axes._subplots.AxesSubplot at 0x7f6683200f90>"
            ]
          },
          "metadata": {
            "tags": []
          },
          "execution_count": 16
        },
        {
          "output_type": "display_data",
          "data": {
            "image/png": "[encoded data removed]",
            "text/plain": [
              "<Figure size 864x360 with 1 Axes>"
            ]
          },
          "metadata": {
            "tags": [],
            "needs_background": "light"
          }
        }
      ]
    },
    {
      "cell_type": "code",
      "metadata": {
        "colab": {
          "base_uri": "https://localhost:8080/"
        },
        "id": "XChzWKzW3ftW",
        "outputId": "84604df9-20f3-4d90-f7fd-90e6a6464bd9"
      },
      "source": [
        "unique_elements, counts_elements = np.unique(y_train, return_counts=True)\n",
        "print('각 클래스 빈도수 : ')\n",
        "print(np.asarray((unique_elements, counts_elements)))"
      ],
      "execution_count": null,
      "outputs": [
        {
          "output_type": "stream",
          "text": [
            "각 클래스 빈도수 : \n",
            "[[   0    1    2    3    4    5    6    7    8    9   10   11   12   13\n",
            "    14   15   16   17   18   19   20   21   22   23   24   25   26   27\n",
            "    28   29   30   31   32   33   34   35   36   37   38   39   40   41\n",
            "    42   43   44   45]\n",
            " [  55  432   74 3159 1949   17   48   16  139  101  124  390   49  172\n",
            "    26   20  444   39   66  549  269  100   15   41   62   92   24   15\n",
            "    48   19   45   39   32   11   50   10   49   19   19   24   36   30\n",
            "    13   21   12   18]]\n"
          ],
          "name": "stdout"
        }
      ]
    },
    {
      "cell_type": "code",
      "metadata": {
        "colab": {
          "base_uri": "https://localhost:8080/"
        },
        "id": "f78fF0Hh4HUX",
        "outputId": "fee6280a-bb13-4df7-b2eb-c24e0680b5e9"
      },
      "source": [
        "word_index = reuters.get_word_index(path='reuters_word_index.json')"
      ],
      "execution_count": null,
      "outputs": [
        {
          "output_type": "stream",
          "text": [
            "Downloading data from https://storage.googleapis.com/tensorflow/tf-keras-datasets/reuters_word_index.json\n",
            "557056/550378 [==============================] - 0s 0us/step\n"
          ],
          "name": "stdout"
        }
      ]
    },
    {
      "cell_type": "code",
      "metadata": {
        "colab": {
          "base_uri": "https://localhost:8080/"
        },
        "id": "c5Ted06t5Amx",
        "outputId": "74df1cde-5b8c-4c57-8877-0c0d6b915395"
      },
      "source": [
        "print(word_index['the'])\n",
        "print(word_index['it'])"
      ],
      "execution_count": null,
      "outputs": [
        {
          "output_type": "stream",
          "text": [
            "1\n",
            "13\n"
          ],
          "name": "stdout"
        }
      ]
    },
    {
      "cell_type": "code",
      "metadata": {
        "id": "A076htwC5E-D"
      },
      "source": [
        "index_to_word = {index +3 : word for word, index in word_index.items()} # list comprehension 편안\n",
        "\n",
        "# 왜 3을 더했는가?\n",
        "# 0 - <pad>\n",
        "# 1 - <sos>\n",
        "# 2 - <unk>\n",
        "# 위와 같이 할당하기 위해서,,"
      ],
      "execution_count": null,
      "outputs": []
    },
    {
      "cell_type": "code",
      "metadata": {
        "colab": {
          "base_uri": "https://localhost:8080/"
        },
        "id": "X25i6bM25U0N",
        "outputId": "2a928755-5ec7-4159-e607-fa20b98ea180"
      },
      "source": [
        "print(index_to_word[1+3])\n",
        "print(index_to_word[13+3])"
      ],
      "execution_count": null,
      "outputs": [
        {
          "output_type": "stream",
          "text": [
            "the\n",
            "it\n"
          ],
          "name": "stdout"
        }
      ]
    },
    {
      "cell_type": "code",
      "metadata": {
        "id": "QXPR8tlG5V2q"
      },
      "source": [
        "# index 0, 1, 2에 <pad>, <sos>, <unk> 할당하기\n",
        "for index, token in enumerate(('<pad>', '<sos>', '<unk>')):\n",
        "    index_to_word[index] = token"
      ],
      "execution_count": null,
      "outputs": []
    },
    {
      "cell_type": "code",
      "metadata": {
        "colab": {
          "base_uri": "https://localhost:8080/"
        },
        "id": "LPj6fYGg5_L0",
        "outputId": "2d4f8abf-95ac-4ccf-a3a7-384bbf4bd275"
      },
      "source": [
        "print(' '.join([index_to_word[index] for index in x_train[0]]))"
      ],
      "execution_count": null,
      "outputs": [
        {
          "output_type": "stream",
          "text": [
            "<sos> <unk> <unk> said as a result of its december acquisition of space co it expects earnings per share in 1987 of 1 15 to 1 30 dlrs per share up from 70 cts in 1986 the company said pretax net should rise to nine to 10 mln dlrs from six mln dlrs in 1986 and rental operation revenues to 19 to 22 mln dlrs from 12 5 mln dlrs it said cash flow per share this year should be 2 50 to three dlrs reuter 3\n"
          ],
          "name": "stdout"
        }
      ]
    },
    {
      "cell_type": "markdown",
      "metadata": {
        "id": "JgcmYuUR6fvd"
      },
      "source": [
        "## tfidf 학습시키기"
      ]
    },
    {
      "cell_type": "code",
      "metadata": {
        "colab": {
          "base_uri": "https://localhost:8080/"
        },
        "id": "osk1VCRcDjot",
        "outputId": "a91777dd-6c59-4d99-c705-df755b1c8374"
      },
      "source": [
        "# 앞에서 쓴 코드 한번 더 실행\n",
        "(x_train, y_train), (x_test, y_test) = reuters.load_data(num_words=10000, test_split=0.2)"
      ],
      "execution_count": null,
      "outputs": [
        {
          "output_type": "stream",
          "text": [
            "/usr/local/lib/python3.7/dist-packages/tensorflow/python/keras/datasets/reuters.py:143: VisibleDeprecationWarning: Creating an ndarray from ragged nested sequences (which is a list-or-tuple of lists-or-tuples-or ndarrays with different lengths or shapes) is deprecated. If you meant to do this, you must specify 'dtype=object' when creating the ndarray\n",
            "  x_train, y_train = np.array(xs[:idx]), np.array(labels[:idx])\n",
            "/usr/local/lib/python3.7/dist-packages/tensorflow/python/keras/datasets/reuters.py:144: VisibleDeprecationWarning: Creating an ndarray from ragged nested sequences (which is a list-or-tuple of lists-or-tuples-or ndarrays with different lengths or shapes) is deprecated. If you meant to do this, you must specify 'dtype=object' when creating the ndarray\n",
            "  x_test, y_test = np.array(xs[idx:]), np.array(labels[idx:])\n"
          ],
          "name": "stderr"
        }
      ]
    },
    {
      "cell_type": "code",
      "metadata": {
        "id": "hWSGRClR6Q7p"
      },
      "source": [
        "decoded = []\n",
        "for i in range(len(x_train)):\n",
        "    t = ' '.join([index_to_word[index] for index in x_train[i]])\n",
        "    decoded.append(t)\n",
        "\n",
        "x_train = decoded"
      ],
      "execution_count": null,
      "outputs": []
    },
    {
      "cell_type": "code",
      "metadata": {
        "id": "tuXfPYQcDVmj"
      },
      "source": [
        "decoded = []\n",
        "for i in range(len(x_test)):\n",
        "    t = ' '.join([index_to_word[index] for index in x_test[i]])\n",
        "    decoded.append(t)\n",
        "\n",
        "x_test = decoded"
      ],
      "execution_count": null,
      "outputs": []
    },
    {
      "cell_type": "code",
      "metadata": {
        "colab": {
          "base_uri": "https://localhost:8080/"
        },
        "id": "pnk7-jaGDqYY",
        "outputId": "4dd3a96c-2d63-4681-8069-196f2f827f72"
      },
      "source": [
        "# 잘 decoding 되었나 확인\n",
        "print(x_train[:5])\n",
        "print()\n",
        "print(x_test[:5])"
      ],
      "execution_count": null,
      "outputs": [
        {
          "output_type": "stream",
          "text": [
            "['<sos> <unk> <unk> said as a result of its december acquisition of space co it expects earnings per share in 1987 of 1 15 to 1 30 dlrs per share up from 70 cts in 1986 the company said pretax net should rise to nine to 10 mln dlrs from six mln dlrs in 1986 and rental operation revenues to 19 to 22 mln dlrs from 12 5 mln dlrs it said cash flow per share this year should be 2 50 to three dlrs reuter 3', '<sos> generale de banque sa lt <unk> br and lt heller overseas corp of chicago have each taken 50 pct stakes in <unk> company sa <unk> factors generale de banque said in a statement it gave no financial details of the transaction sa <unk> <unk> turnover in 1986 was 17 5 billion belgian francs reuter 3', '<sos> shr 3 28 dlrs vs 22 cts shr diluted 2 99 dlrs vs 22 cts net 46 0 mln vs 3 328 000 avg shrs 14 0 mln vs 15 2 mln year shr 5 41 dlrs vs 1 56 dlrs shr diluted 4 94 dlrs vs 1 50 dlrs net 78 2 mln vs 25 9 mln avg shrs 14 5 mln vs 15 1 mln note earnings per share reflect the two for one split effective january 6 1987 per share amounts are calculated after preferred stock dividends loss continuing operations for the qtr 1986 includes gains of sale of investments in <unk> corp of 14 mln dlrs and associated companies of 4 189 000 less writedowns of investments in national <unk> inc of 11 8 mln and <unk> corp of 15 6 mln reuter 3', \"<sos> the farmers home administration the u s agriculture department's farm lending arm could lose about seven billion dlrs in outstanding principal on its severely <unk> borrowers or about one fourth of its farm loan portfolio the general accounting office gao said in remarks prepared for delivery to the senate agriculture committee brian crowley senior associate director of gao also said that a preliminary analysis of proposed changes in <unk> financial eligibility standards indicated as many as one half of <unk> borrowers who received new loans from the agency in 1986 would be <unk> under the proposed system the agency has proposed evaluating <unk> credit using a variety of financial ratios instead of relying solely on <unk> ability senate agriculture committee chairman patrick leahy d vt <unk> the proposed eligibility changes telling <unk> administrator <unk> clark at a hearing that they would mark a dramatic shift in the agency's purpose away from being farmers' lender of last resort toward becoming a big city bank but clark defended the new regulations saying the agency had a responsibility to <unk> its 70 billion dlr loan portfolio in a <unk> yet <unk> manner crowley of gao <unk> <unk> arm said the proposed credit <unk> system attempted to ensure that <unk> would make loans only to borrowers who had a reasonable change of repaying their debt reuter 3\", '<sos> seton co said its board has received a proposal from chairman and chief executive officer philip d <unk> to acquire seton for 15 75 dlrs per share in cash seton said the acquisition bid is subject to <unk> arranging the necessary financing it said he intends to ask other members of senior management to participate the company said <unk> owns 30 pct of seton stock and other management members another 7 5 pct seton said it has formed an independent board committee to consider the offer and has deferred the annual meeting it had scheduled for march 31 reuter 3']\n",
            "\n",
            "['<sos> the great atlantic and pacific tea co said its three year 345 mln dlr capital program will be be substantially increased to <unk> growth and expansion plans for <unk> inc and <unk> inc over the next two years a and p said the acquisition of <unk> in august 1986 and <unk> in december helped us achieve better than expected results in the fourth quarter ended february 28 its net income from continuing operations jumped 52 6 pct to 20 7 mln dlrs or 55 cts a share in the latest quarter as sales increased 48 3 pct to 1 58 billion dlrs a and p gave no details on the expanded capital program but it did say it completed the first year of the program during 1986 a and p is 52 4 pct owned by lt <unk> <unk> of west germany reuter 3', \"<sos> philippine sugar production in the 1987 88 crop year ending august has been set at 1 6 mln tonnes up from a provisional 1 3 mln tonnes this year sugar regulatory administration <unk> chairman <unk> yulo said yulo told reuters a survey during the current milling season which ends next month showed the 1986 87 estimate would almost certainly be met he said at least 1 2 mln tonnes of the 1987 88 crop would be earmarked for domestic consumption yulo said about 130 000 tonnes would be set aside for the u s sugar quota 150 000 tonnes for strategic reserves and 50 000 tonnes would be sold on the world market he said if the government approved a long standing <unk> recommendation to manufacture ethanol the project would take up another 150 000 tonnes slightly raising the target the government for its own reasons has been delaying approval of the project but we expect it to come through by july yulo said ethanol could make up five pct of gasoline cutting the oil import bill by about 300 mln pesos yulo said three major philippine <unk> were ready to start manufacturing ethanol if the project was approved the ethanol project would result in employment for about 100 000 people sharply reducing those thrown out of work by depressed world sugar prices and a <unk> domestic industry production quotas set for the first time in 1987 88 had been submitted to president corazon aquino i think the president would rather wait <unk> the new congress <unk> after the may elections he said but there is really no need for such quotas we are right now producing just slightly over our own consumption level the producers have never enjoyed such high prices yulo said adding sugar was currently selling locally for 320 pesos per <unk> up from 190 pesos last august yulo said prices were driven up because of speculation following the <unk> bid to control production we are no longer concerned so much with the world market he said adding producers in the <unk> region had learned from their <unk> and diversified into corn and <unk> farming and <unk> production he said diversification into products other than ethanol was also possible within the sugar industry the <unk> long ago <unk> their <unk> yulo said they have 300 sugar mills compared with our 41 but they <unk> many of them and diversified production we want to call this a <unk> <unk> instead of the sugar industry he said sugarcane could be fed to pigs and livestock used for <unk> <unk> or used in room <unk> when you cut sugarcane you don't even have to produce sugar he said yulo said the philippines was lobbying for a renewal of the international sugar agreement which expired in 1984 as a major sugar producer we are urging them to write a new agreement which would revive world prices yulo said if there is no agreement world prices will always be depressed particularly because the european community is <unk> its producers and dumping sugar on the markets he said current world prices holding steady at about 7 60 cents per pound were <unk> for the philippines where production costs ranged from 12 to 14 cents a pound if the price holds steady for a while at 7 60 cents i expect the level to rise to about 11 cents a pound by the end of this year he said yulo said economists forecast a bullish sugar market by 1990 with world consumption <unk> production he said sugar markets were holding up despite <unk> from artificial sweeteners and high fructose corn syrup but we are not happy with the reagan administration he said since <unk> we have been regular suppliers of sugar to the u s in 1982 when they restored the quota system they cut <unk> in half without any justification manila was <unk> watching washington's moves to cut domestic support prices to 12 cents a pound from 18 cents the u s agriculture department last december slashed its 12 month 1987 sugar import quota from the philippines to 143 780 short tons from 231 660 short tons in 1986 yulo said despite next year's increased production target some philippine mills were expected to shut down at least four of the 41 mills were not working during the 1986 87 season he said we expect two or three more to follow suit during the next season reuter 3\", \"<sos> the agriculture department's widening of louisiana gulf differentials will affect county posted prices for number two yellow corn in ten states a usda official said all counties in iowa will be affected as will counties which use the gulf to price corn in illinois indiana tennessee kentucky missouri mississippi arkansas alabama and louisiana said <unk> <unk> deputy director of commodity operations division for the usda usda last night notified the grain industry that effective immediately all gulf differentials used to price interior corn would be widened on a sliding scale basis of four to eight cts depending on what the differential is usda's action was taken to lower excessively high posted county prices for corn caused by high gulf prices we've been following this louisiana gulf situation for a month and we don't think it's going to get back in line in any nearby time <unk> said <unk> said usda will probably narrow back the gulf differentials when and if gulf prices <unk> if we're off the mark now because we're too high wouldn't we be as much off the mark if we're too low he said while forecasting more adjustments if gulf prices fall <unk> said no other changes in usda's price system are being planned right now we don't tinker we don't make changes <unk> and we don't make changes often he said reuter 3\", '<sos> <unk> <unk> oil and gas partnership said it completed the sale of interests in two major oil and gas fields to lt energy assets international corp for 21 mln dlrs the company said it sold about one half of its 50 pct interest in the oak hill and north <unk> fields its two largest producing properties it said it used about 20 mln dlrs of the proceeds to <unk> principal on its senior secured notes semi annual principal payments on the remaining 40 mln dlrs of notes have been satisfied until december 1988 as a result it said the company said the note agreements were amended to reflect an easing of some financial covenants and an increase of interest to 13 5 pct from 13 0 pct until december 1990 it said the <unk> exercise price for 1 125 000 warrants was also reduced to 50 cts from 1 50 dlrs the company said energy assets agreed to share the costs of increasing production at the oak hill field reuter 3', '<sos> strong south <unk> winds were keeping many vessels trapped in the ice off the finnish and swedish coasts in one of the worst icy periods in the baltic for many years the finnish board of navigation said in finland and sweden up to 50 vessels were reported to be stuck in the ice and even the largest of the <unk> <unk> were having difficulties in breaking through to the <unk> ships <unk> officials said however icy conditions in the southern baltic at the soviet oil ports of <unk> and <unk> had eased they said weather officials in neighbouring sweden said the icy conditions in the baltic were the worst for 30 years with ships fighting a losing battle to keep moving in the coastal stretches of the gulf of <unk> which <unk> finland and sweden the ice is up to one <unk> thick with <unk> and <unk> packing it into almost <unk> walls three metres high swedish <unk> officials said weather forecasts say winds may ease during the weekend but a further drop in temperature could bring shipping to a standstill the officials said reuter 3']\n"
          ],
          "name": "stdout"
        }
      ]
    },
    {
      "cell_type": "markdown",
      "metadata": {
        "id": "bJSqkH_udKc4"
      },
      "source": [
        "* [위키독스 문서 참고하기](https://wikidocs.net/35342) by 강사님\n",
        "* [위키독스 문서 참고하기](https://wikidocs.net/22892) <- 이건 내가 찾은 것"
      ]
    },
    {
      "cell_type": "code",
      "metadata": {
        "id": "bmd_1NwpEL4c"
      },
      "source": [
        "from sklearn.feature_extraction.text import TfidfTransformer\n",
        "from sklearn.feature_extraction.text import CountVectorizer\n",
        "from sklearn.model_selection import train_test_split\n",
        "from sklearn.naive_bayes import MultinomialNB   # 다항분포 나이브 베이즈 모델\n",
        "from sklearn import metrics\n"
      ],
      "execution_count": null,
      "outputs": []
    },
    {
      "cell_type": "code",
      "metadata": {
        "id": "lhlUlVCScaUK"
      },
      "source": [
        "# 단어의 수를 카운트하는 사이킷런의 카운트벡터라이저 -> 개수를 할당해줌\n",
        "count_vect = CountVectorizer()\n",
        "X_train_counts = count_vect.fit_transform(x_train)\n",
        "# fit_transform : 학습할 떄와 동일한 기반 설정으로 동일하게 테스트 데이터를 변환해야 하는 것\n",
        "\n",
        "# 카운트벡터라이저의 결과로부터 TF-IDF 결과를 얻습니다. -> TF-IDF 값을 할당해줌\n",
        "tfidf_transformer = TfidfTransformer()\n",
        "X_train_tfidf = tfidf_transformer.fit_transform(X_train_counts)\n",
        "\n",
        "# 나이브 베이즈 분류기를 수행합니다.\n",
        "# X_trian은 TF-IDF 벡터, y_train은 레이블입니다.\n",
        "clf = MultinomialNB().fit(X_train_tfidf, y_train)"
      ],
      "execution_count": null,
      "outputs": []
    },
    {
      "cell_type": "code",
      "metadata": {
        "colab": {
          "base_uri": "https://localhost:8080/"
        },
        "id": "T25V4kJBgNWv",
        "outputId": "447c83a7-597e-4bd8-9cb5-98f1f61656d1"
      },
      "source": [
        "print(X_train_counts.shape)\n",
        "print(X_train_counts)"
      ],
      "execution_count": null,
      "outputs": [
        {
          "output_type": "stream",
          "text": [
            "(8982, 9670)\n",
            "  (0, 111)\t1\n",
            "  (0, 135)\t1\n",
            "  (0, 172)\t1\n",
            "  (0, 218)\t1\n",
            "  (0, 248)\t2\n",
            "  (0, 249)\t1\n",
            "  (0, 291)\t1\n",
            "  (0, 383)\t1\n",
            "  (0, 607)\t1\n",
            "  (0, 828)\t1\n",
            "  (0, 1233)\t1\n",
            "  (0, 1508)\t1\n",
            "  (0, 1677)\t1\n",
            "  (0, 1919)\t1\n",
            "  (0, 2334)\t1\n",
            "  (0, 2565)\t1\n",
            "  (0, 2655)\t1\n",
            "  (0, 3036)\t1\n",
            "  (0, 3143)\t1\n",
            "  (0, 3475)\t6\n",
            "  (0, 3608)\t1\n",
            "  (0, 3945)\t1\n",
            "  (0, 4211)\t1\n",
            "  (0, 4325)\t3\n",
            "  (0, 4945)\t3\n",
            "  :\t:\n",
            "  (8981, 6257)\t1\n",
            "  (8981, 6389)\t1\n",
            "  (8981, 6407)\t3\n",
            "  (8981, 6419)\t1\n",
            "  (8981, 6985)\t1\n",
            "  (8981, 7294)\t1\n",
            "  (8981, 7335)\t1\n",
            "  (8981, 7489)\t1\n",
            "  (8981, 7537)\t1\n",
            "  (8981, 7666)\t1\n",
            "  (8981, 7834)\t4\n",
            "  (8981, 7852)\t1\n",
            "  (8981, 8106)\t1\n",
            "  (8981, 8112)\t1\n",
            "  (8981, 8153)\t1\n",
            "  (8981, 8272)\t1\n",
            "  (8981, 8817)\t1\n",
            "  (8981, 8848)\t2\n",
            "  (8981, 8850)\t9\n",
            "  (8981, 8852)\t1\n",
            "  (8981, 8932)\t2\n",
            "  (8981, 9133)\t1\n",
            "  (8981, 9181)\t2\n",
            "  (8981, 9246)\t1\n",
            "  (8981, 9594)\t1\n"
          ],
          "name": "stdout"
        }
      ]
    },
    {
      "cell_type": "code",
      "metadata": {
        "colab": {
          "base_uri": "https://localhost:8080/"
        },
        "id": "Wqi-xPgKg5Dj",
        "outputId": "24e94aa6-eef4-4039-e2d4-5d283041faa1"
      },
      "source": [
        "print(X_train_tfidf.shape)\n",
        "print(X_train_tfidf)"
      ],
      "execution_count": null,
      "outputs": [
        {
          "output_type": "stream",
          "text": [
            "(8982, 9670)\n",
            "  (0, 9628)\t0.06356670958147888\n",
            "  (0, 9218)\t0.08780620595054514\n",
            "  (0, 9181)\t0.08604864459739914\n",
            "  (0, 8932)\t0.25028101697583904\n",
            "  (0, 8890)\t0.0930998381922142\n",
            "  (0, 8875)\t0.07672366483129915\n",
            "  (0, 8850)\t0.03988247757031195\n",
            "  (0, 8303)\t0.203150231713389\n",
            "  (0, 8272)\t0.030312371161604353\n",
            "  (0, 8175)\t0.1025062385626965\n",
            "  (0, 8106)\t0.22747636818044054\n",
            "  (0, 8055)\t0.25190182137461803\n",
            "  (0, 7834)\t0.1219387278172762\n",
            "  (0, 7727)\t0.1102444102744686\n",
            "  (0, 7675)\t0.13792521715667663\n",
            "  (0, 7666)\t0.030539304325861907\n",
            "  (0, 7633)\t0.1272430689584012\n",
            "  (0, 7508)\t0.21863456761984176\n",
            "  (0, 6972)\t0.1539628581207626\n",
            "  (0, 6682)\t0.27676451799730706\n",
            "  (0, 6429)\t0.15755807940652689\n",
            "  (0, 6365)\t0.11453293816669016\n",
            "  (0, 6253)\t0.10419591024092598\n",
            "  (0, 6218)\t0.07042182393755048\n",
            "  (0, 6042)\t0.21345820216754235\n",
            "  :\t:\n",
            "  (8981, 3632)\t0.08621812797387604\n",
            "  (8981, 3491)\t0.07481068075649426\n",
            "  (8981, 3155)\t0.08709921432098085\n",
            "  (8981, 3136)\t0.08181638104840938\n",
            "  (8981, 3046)\t0.08006841942701773\n",
            "  (8981, 2939)\t0.06566265598159318\n",
            "  (8981, 2749)\t0.11826022712569333\n",
            "  (8981, 2565)\t0.06272636731804493\n",
            "  (8981, 2358)\t0.15036379649309742\n",
            "  (8981, 2215)\t0.05057033987354948\n",
            "  (8981, 2191)\t0.28558818151776744\n",
            "  (8981, 2083)\t0.07636390667341178\n",
            "  (8981, 1948)\t0.11462344642077285\n",
            "  (8981, 1919)\t0.04317118116215351\n",
            "  (8981, 1863)\t0.10309872587740929\n",
            "  (8981, 1860)\t0.06088044451723479\n",
            "  (8981, 1837)\t0.09068458502535057\n",
            "  (8981, 1650)\t0.13898309873550016\n",
            "  (8981, 1590)\t0.13578473280322462\n",
            "  (8981, 1573)\t0.11856949020698222\n",
            "  (8981, 1552)\t0.0724226795074108\n",
            "  (8981, 1508)\t0.10937254175811499\n",
            "  (8981, 1476)\t0.08015908807936437\n",
            "  (8981, 1315)\t0.16271181440337254\n",
            "  (8981, 1261)\t0.13178194056004253\n"
          ],
          "name": "stdout"
        }
      ]
    },
    {
      "cell_type": "code",
      "metadata": {
        "id": "CSKRd10Fc-nO"
      },
      "source": [
        "def tfidf_vectorizer(data):\n",
        "    data_counts = count_vect.transform(data)\n",
        "    data_tfidf = tfidf_transformer.transform(data_counts)\n",
        "    return data_tfidf"
      ],
      "execution_count": null,
      "outputs": []
    },
    {
      "cell_type": "code",
      "metadata": {
        "colab": {
          "base_uri": "https://localhost:8080/"
        },
        "id": "VJegVNlQeTfI",
        "outputId": "f17638cf-7b20-40ae-cc71-b8ed1eb29839"
      },
      "source": [
        "y_pred = clf.predict(tfidf_vectorizer(x_test))\n",
        "print(metrics.classification_report(y_test, y_pred))"
      ],
      "execution_count": null,
      "outputs": [
        {
          "output_type": "stream",
          "text": [
            "              precision    recall  f1-score   support\n",
            "\n",
            "           0       0.00      0.00      0.00        12\n",
            "           1       0.62      0.69      0.65       105\n",
            "           2       0.00      0.00      0.00        20\n",
            "           3       0.81      0.90      0.85       813\n",
            "           4       0.51      0.96      0.67       474\n",
            "           5       0.00      0.00      0.00         5\n",
            "           6       0.00      0.00      0.00        14\n",
            "           7       0.00      0.00      0.00         3\n",
            "           8       0.00      0.00      0.00        38\n",
            "           9       1.00      0.08      0.15        25\n",
            "          10       0.00      0.00      0.00        30\n",
            "          11       0.66      0.63      0.64        83\n",
            "          12       0.00      0.00      0.00        13\n",
            "          13       1.00      0.03      0.05        37\n",
            "          14       0.00      0.00      0.00         2\n",
            "          15       0.00      0.00      0.00         9\n",
            "          16       0.69      0.56      0.61        99\n",
            "          17       0.00      0.00      0.00        12\n",
            "          18       0.00      0.00      0.00        20\n",
            "          19       0.60      0.78      0.68       133\n",
            "          20       1.00      0.04      0.08        70\n",
            "          21       0.00      0.00      0.00        27\n",
            "          22       0.00      0.00      0.00         7\n",
            "          23       0.00      0.00      0.00        12\n",
            "          24       0.00      0.00      0.00        19\n",
            "          25       1.00      0.03      0.06        31\n",
            "          26       0.00      0.00      0.00         8\n",
            "          27       0.00      0.00      0.00         4\n",
            "          28       0.00      0.00      0.00        10\n",
            "          29       0.00      0.00      0.00         4\n",
            "          30       0.00      0.00      0.00        12\n",
            "          31       0.00      0.00      0.00        13\n",
            "          32       0.00      0.00      0.00        10\n",
            "          33       0.00      0.00      0.00         5\n",
            "          34       0.00      0.00      0.00         7\n",
            "          35       0.00      0.00      0.00         6\n",
            "          36       0.00      0.00      0.00        11\n",
            "          37       0.00      0.00      0.00         2\n",
            "          38       0.00      0.00      0.00         3\n",
            "          39       0.00      0.00      0.00         5\n",
            "          40       0.00      0.00      0.00        10\n",
            "          41       0.00      0.00      0.00         8\n",
            "          42       0.00      0.00      0.00         3\n",
            "          43       0.00      0.00      0.00         6\n",
            "          44       0.00      0.00      0.00         5\n",
            "          45       0.00      0.00      0.00         1\n",
            "\n",
            "    accuracy                           0.66      2246\n",
            "   macro avg       0.17      0.10      0.10      2246\n",
            "weighted avg       0.59      0.66      0.58      2246\n",
            "\n"
          ],
          "name": "stdout"
        },
        {
          "output_type": "stream",
          "text": [
            "/usr/local/lib/python3.7/dist-packages/sklearn/metrics/_classification.py:1272: UndefinedMetricWarning: Precision and F-score are ill-defined and being set to 0.0 in labels with no predicted samples. Use `zero_division` parameter to control this behavior.\n",
            "  _warn_prf(average, modifier, msg_start, len(result))\n"
          ],
          "name": "stderr"
        }
      ]
    },
    {
      "cell_type": "code",
      "metadata": {
        "colab": {
          "base_uri": "https://localhost:8080/"
        },
        "id": "S01wol1geffh",
        "outputId": "7e4389f6-a2e5-435d-9246-1a66e6eda9a7"
      },
      "source": [
        "print('정확도 :', metrics.accuracy_score(y_test, y_pred))"
      ],
      "execution_count": null,
      "outputs": [
        {
          "output_type": "stream",
          "text": [
            "정확도 : 0.6567230632235085\n"
          ],
          "name": "stdout"
        }
      ]
    },
    {
      "cell_type": "code",
      "metadata": {
        "id": "Xq2LPlikh9Do"
      },
      "source": [
        ""
      ],
      "execution_count": null,
      "outputs": []
    }
  ]
}