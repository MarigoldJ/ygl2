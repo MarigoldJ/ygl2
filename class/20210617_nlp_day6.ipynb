{
  "nbformat": 4,
  "nbformat_minor": 0,
  "metadata": {
    "colab": {
      "name": "202106017_nlp_day6.ipynb",
      "provenance": [],
      "include_colab_link": true
    },
    "kernelspec": {
      "name": "python3",
      "display_name": "Python 3"
    },
    "language_info": {
      "name": "python"
    },
    "accelerator": "GPU"
  },
  "cells": [
    {
      "cell_type": "markdown",
      "metadata": {
        "id": "view-in-github",
        "colab_type": "text"
      },
      "source": [
        "<a href=\"https://colab.research.google.com/github/MarigoldJ/ygl2/blob/main/class/20210617_nlp_day6.ipynb\" target=\"_parent\"><img src=\"https://colab.research.google.com/assets/colab-badge.svg\" alt=\"Open In Colab\"/></a>"
      ]
    },
    {
      "cell_type": "markdown",
      "metadata": {
        "id": "_wV_TzhwXhMo"
      },
      "source": [
        "# Today's Topic"
      ]
    },
    {
      "cell_type": "markdown",
      "metadata": {
        "id": "vIMJCCXJXkFb"
      },
      "source": [
        "*  어제는 단어 단위, 오늘은 글자 단위로 모델에 넣어서 예측해볼 것!"
      ]
    },
    {
      "cell_type": "markdown",
      "metadata": {
        "id": "4qu01XhFYBUL"
      },
      "source": [
        "# 글자 단위 RNN 언어 모델"
      ]
    },
    {
      "cell_type": "markdown",
      "metadata": {
        "id": "nlwcqoujpP6z"
      },
      "source": [
        "![r](https://wikidocs.net/images/page/48649/char_rnn1.PNG)"
      ]
    },
    {
      "cell_type": "code",
      "metadata": {
        "id": "oXrXm5f1RVLV"
      },
      "source": [
        "import numpy as np\n",
        "import urllib.request\n",
        "from tensorflow.keras.utils import to_categorical"
      ],
      "execution_count": 1,
      "outputs": []
    },
    {
      "cell_type": "code",
      "metadata": {
        "id": "q8_IxCzVXplZ",
        "outputId": "e30556ff-0499-4fdc-c7c9-701b7257da0b",
        "colab": {
          "base_uri": "https://localhost:8080/"
        }
      },
      "source": [
        "urllib.request.urlretrieve(\"http://www.gutenberg.org/files/11/11-0.txt\", filename=\"11-0.txt\")"
      ],
      "execution_count": 2,
      "outputs": [
        {
          "output_type": "execute_result",
          "data": {
            "text/plain": [
              "('11-0.txt', <http.client.HTTPMessage at 0x7f1e5d9f9f10>)"
            ]
          },
          "metadata": {
            "tags": []
          },
          "execution_count": 2
        }
      ]
    },
    {
      "cell_type": "code",
      "metadata": {
        "id": "75bhKi_IYPf9"
      },
      "source": [
        "f = open('11-0.txt', 'rb')\n",
        "lines = []\n",
        "for line in f:\n",
        "    line = line.strip().lower().decode('ascii', 'ignore')\n",
        "    if len(line) > 0:\n",
        "        lines.append(line)\n",
        "f.close()"
      ],
      "execution_count": 3,
      "outputs": []
    },
    {
      "cell_type": "code",
      "metadata": {
        "id": "HrFojPfxYcNf",
        "outputId": "f2adf80b-0e73-46c5-a99c-ab0009c87e3b",
        "colab": {
          "base_uri": "https://localhost:8080/"
        }
      },
      "source": [
        "lines[:5]"
      ],
      "execution_count": 4,
      "outputs": [
        {
          "output_type": "execute_result",
          "data": {
            "text/plain": [
              "['the project gutenberg ebook of alices adventures in wonderland, by lewis carroll',\n",
              " 'this ebook is for the use of anyone anywhere in the united states and',\n",
              " 'most other parts of the world at no cost and with almost no restrictions',\n",
              " 'whatsoever. you may copy it, give it away or re-use it under the terms',\n",
              " 'of the project gutenberg license included with this ebook or online at']"
            ]
          },
          "metadata": {
            "tags": []
          },
          "execution_count": 4
        }
      ]
    },
    {
      "cell_type": "code",
      "metadata": {
        "id": "y_IfhJjmYs6a",
        "outputId": "f4bc8f6a-1508-423e-938b-8d836049ad41",
        "colab": {
          "base_uri": "https://localhost:8080/"
        }
      },
      "source": [
        "text = ' '.join(lines)\n",
        "print('문자열의 길이 또는 총 글자의 개수 :', len(text))"
      ],
      "execution_count": 5,
      "outputs": [
        {
          "output_type": "stream",
          "text": [
            "문자열의 길이 또는 총 글자의 개수 : 159484\n"
          ],
          "name": "stdout"
        }
      ]
    },
    {
      "cell_type": "code",
      "metadata": {
        "id": "3tDPQBeRZAh2",
        "outputId": "c5ad3793-3d43-45fb-b03f-7aa90ccb1376",
        "colab": {
          "base_uri": "https://localhost:8080/"
        }
      },
      "source": [
        "print(text[:10])"
      ],
      "execution_count": 6,
      "outputs": [
        {
          "output_type": "stream",
          "text": [
            "the projec\n"
          ],
          "name": "stdout"
        }
      ]
    },
    {
      "cell_type": "code",
      "metadata": {
        "id": "rLhgKunOZB5t",
        "outputId": "37522721-18d7-44c5-88e0-b365a95a9cb6",
        "colab": {
          "base_uri": "https://localhost:8080/"
        }
      },
      "source": [
        "# 글자 집합을 만들어보자\n",
        "char_vocab = sorted(list(set(text)))\n",
        "vocab_size = len(char_vocab)\n",
        "print('글자 집합의 크기 :', vocab_size)\n",
        "print(char_vocab)"
      ],
      "execution_count": 7,
      "outputs": [
        {
          "output_type": "stream",
          "text": [
            "글자 집합의 크기 : 56\n",
            "[' ', '!', '\"', '#', '$', '%', \"'\", '(', ')', '*', ',', '-', '.', '/', '0', '1', '2', '3', '4', '5', '6', '7', '8', '9', ':', ';', '?', '[', ']', '_', 'a', 'b', 'c', 'd', 'e', 'f', 'g', 'h', 'i', 'j', 'k', 'l', 'm', 'n', 'o', 'p', 'q', 'r', 's', 't', 'u', 'v', 'w', 'x', 'y', 'z']\n"
          ],
          "name": "stdout"
        }
      ]
    },
    {
      "cell_type": "code",
      "metadata": {
        "id": "FR-v2TNoZSNY",
        "outputId": "c54dac0d-b931-461f-9a4b-5ec2b9ea72b0",
        "colab": {
          "base_uri": "https://localhost:8080/"
        }
      },
      "source": [
        "# 글자 집합에 인덱스를 부여하고 전부 출력하기\n",
        "char_to_index = dict((c, i) for i, c in enumerate(char_vocab))\n",
        "print(char_to_index)"
      ],
      "execution_count": 8,
      "outputs": [
        {
          "output_type": "stream",
          "text": [
            "{' ': 0, '!': 1, '\"': 2, '#': 3, '$': 4, '%': 5, \"'\": 6, '(': 7, ')': 8, '*': 9, ',': 10, '-': 11, '.': 12, '/': 13, '0': 14, '1': 15, '2': 16, '3': 17, '4': 18, '5': 19, '6': 20, '7': 21, '8': 22, '9': 23, ':': 24, ';': 25, '?': 26, '[': 27, ']': 28, '_': 29, 'a': 30, 'b': 31, 'c': 32, 'd': 33, 'e': 34, 'f': 35, 'g': 36, 'h': 37, 'i': 38, 'j': 39, 'k': 40, 'l': 41, 'm': 42, 'n': 43, 'o': 44, 'p': 45, 'q': 46, 'r': 47, 's': 48, 't': 49, 'u': 50, 'v': 51, 'w': 52, 'x': 53, 'y': 54, 'z': 55}\n"
          ],
          "name": "stdout"
        }
      ]
    },
    {
      "cell_type": "code",
      "metadata": {
        "id": "BczTDMcBZ1qU",
        "outputId": "8051b550-ada1-4391-f636-4ba42d1ce785",
        "colab": {
          "base_uri": "https://localhost:8080/"
        }
      },
      "source": [
        "# 인덱스로부터 글자를 리턴하기\n",
        "index_to_char = {}\n",
        "for key, value in char_to_index.items():\n",
        "    index_to_char[value] = key\n",
        "print(index_to_char)"
      ],
      "execution_count": 9,
      "outputs": [
        {
          "output_type": "stream",
          "text": [
            "{0: ' ', 1: '!', 2: '\"', 3: '#', 4: '$', 5: '%', 6: \"'\", 7: '(', 8: ')', 9: '*', 10: ',', 11: '-', 12: '.', 13: '/', 14: '0', 15: '1', 16: '2', 17: '3', 18: '4', 19: '5', 20: '6', 21: '7', 22: '8', 23: '9', 24: ':', 25: ';', 26: '?', 27: '[', 28: ']', 29: '_', 30: 'a', 31: 'b', 32: 'c', 33: 'd', 34: 'e', 35: 'f', 36: 'g', 37: 'h', 38: 'i', 39: 'j', 40: 'k', 41: 'l', 42: 'm', 43: 'n', 44: 'o', 45: 'p', 46: 'q', 47: 'r', 48: 's', 49: 't', 50: 'u', 51: 'v', 52: 'w', 53: 'x', 54: 'y', 55: 'z'}\n"
          ],
          "name": "stdout"
        }
      ]
    },
    {
      "cell_type": "code",
      "metadata": {
        "id": "1BCIDmAnadvt"
      },
      "source": [
        "# 훈련데이터를 구성\n",
        "# apple\n",
        "# sample의 길이 4\n",
        "\n",
        "# example) 샘플의 길이가 4라면 4개의 입력 글자 시퀀스로부터 4개의 출력 글자 시퀀스 예측. 즉 RNN의 time step은 4번\n",
        "# appl -> pple\n",
        "# appl : 입력시퀀스, train_x\n",
        "# pple : 예측시퀀스, train_y\n"
      ],
      "execution_count": 10,
      "outputs": []
    },
    {
      "cell_type": "code",
      "metadata": {
        "id": "6G1AyuehbAHx",
        "outputId": "0e4346d9-43aa-4973-d657-8486d7bee728",
        "colab": {
          "base_uri": "https://localhost:8080/"
        }
      },
      "source": [
        "# 15만 8천의 길이를 가진 text 문자열로부터 다수의 문장 샘플들로 분리\n",
        "# 분리하는 방법은 문장 샘플의 길이를 정하고, 해당 길이만큼 문자열 전부를 전부 등분하는 것!\n",
        "\n",
        "seq_length = 60\n",
        "n_samples = int(np.floor( (len(text)-1) / seq_length )) # 문자열을 60등분한다 --> 총 샘플의 수\n",
        "print('문자 샘플의 수 :', n_samples)"
      ],
      "execution_count": 11,
      "outputs": [
        {
          "output_type": "stream",
          "text": [
            "문자 샘플의 수 : 2658\n"
          ],
          "name": "stdout"
        }
      ]
    },
    {
      "cell_type": "code",
      "metadata": {
        "id": "0d9067VqbYX_"
      },
      "source": [
        "train_x = []\n",
        "train_y = []\n",
        "\n",
        "for i in range(n_samples):\n",
        "    x_sample = text[i * seq_length: (i+1)*seq_length]       # 문장 샘플을 1개씩 가져옴\n",
        "    x_encoded = [char_to_index[c] for c in x_sample]        # 하나의 문장 샘플에 대해 encoding\n",
        "    train_x.append(x_encoded)\n",
        "\n",
        "    y_sample = text[i*seq_length + 1: (i+1)*seq_length + 1] # x보다 한칸 오른쪽으로 shift\n",
        "    y_encoded = [char_to_index[c] for c in y_sample]\n",
        "    train_y.append(y_encoded)"
      ],
      "execution_count": 12,
      "outputs": []
    },
    {
      "cell_type": "code",
      "metadata": {
        "id": "9R9pSgcJbbYG",
        "outputId": "7147d121-5cd5-4960-f268-8d6bce4c6371",
        "colab": {
          "base_uri": "https://localhost:8080/"
        }
      },
      "source": [
        "print(train_x[0])\n",
        "print(train_y[0])"
      ],
      "execution_count": 13,
      "outputs": [
        {
          "output_type": "stream",
          "text": [
            "[49, 37, 34, 0, 45, 47, 44, 39, 34, 32, 49, 0, 36, 50, 49, 34, 43, 31, 34, 47, 36, 0, 34, 31, 44, 44, 40, 0, 44, 35, 0, 30, 41, 38, 32, 34, 48, 0, 30, 33, 51, 34, 43, 49, 50, 47, 34, 48, 0, 38, 43, 0, 52, 44, 43, 33, 34, 47, 41, 30]\n",
            "[37, 34, 0, 45, 47, 44, 39, 34, 32, 49, 0, 36, 50, 49, 34, 43, 31, 34, 47, 36, 0, 34, 31, 44, 44, 40, 0, 44, 35, 0, 30, 41, 38, 32, 34, 48, 0, 30, 33, 51, 34, 43, 49, 50, 47, 34, 48, 0, 38, 43, 0, 52, 44, 43, 33, 34, 47, 41, 30, 43]\n"
          ],
          "name": "stdout"
        }
      ]
    },
    {
      "cell_type": "code",
      "metadata": {
        "id": "KEIX4oFWcmeg",
        "outputId": "4734256d-57a1-4dc5-fe7c-226bd82a58b3",
        "colab": {
          "base_uri": "https://localhost:8080/"
        }
      },
      "source": [
        "# x와 y에 대해 원-핫 인코딩 수행\n",
        "# 입력시퀀스에 대해 워드 임베딩 하지 않습니다 (embedding layer 사용 X)\n",
        "train_x = to_categorical(train_x)\n",
        "train_y = to_categorical(train_y)\n",
        "\n",
        "print('train_x의 크기 (shape) :', train_x.shape)    # (2658, 60, 56)\n",
        "print('train_y의 크기 (shape) :', train_y.shape)    # (2658, 60, 56)\n",
        "\n",
        "# 샘플의 수 : 2658\n",
        "# 입력시퀀스 길이(input_length) : 60\n",
        "# 각 벡터의 차원(input_dim) : 56\n"
      ],
      "execution_count": 14,
      "outputs": [
        {
          "output_type": "stream",
          "text": [
            "train_x의 크기 (shape) : (2658, 60, 56)\n",
            "train_y의 크기 (shape) : (2658, 60, 56)\n"
          ],
          "name": "stdout"
        }
      ]
    },
    {
      "cell_type": "markdown",
      "metadata": {
        "id": "6i-3qTpHpMZD"
      },
      "source": [
        "![](https://wikidocs.net/images/page/22886/rnn_image6between7.PNG)"
      ]
    },
    {
      "cell_type": "markdown",
      "metadata": {
        "id": "g_UiClJmiz4r"
      },
      "source": [
        "## 모델 설계하기"
      ]
    },
    {
      "cell_type": "code",
      "metadata": {
        "id": "3vhuWaKhiRZN"
      },
      "source": [
        "from tensorflow.keras.models import Sequential\n",
        "from tensorflow.keras.layers import Dense, LSTM, TimeDistributed"
      ],
      "execution_count": 15,
      "outputs": []
    },
    {
      "cell_type": "code",
      "metadata": {
        "id": "o_RAPLZdjd92"
      },
      "source": [
        "model = Sequential()\n",
        "model.add(LSTM(256, input_shape=(None, train_x.shape[2]), return_sequences=True))\n",
        "model.add(LSTM(256, return_sequences=True))\n",
        "model.add(TimeDistributed(Dense(vocab_size, activation='softmax')))"
      ],
      "execution_count": 16,
      "outputs": []
    },
    {
      "cell_type": "code",
      "metadata": {
        "id": "Zke4LuyIj1qQ",
        "outputId": "42d77aae-8a74-4948-ad81-5d5309e0ed32",
        "colab": {
          "base_uri": "https://localhost:8080/"
        }
      },
      "source": [
        "model.compile(loss='categorical_crossentropy', optimizer='adam', metrics=['accuracy'])\n",
        "model.fit(train_x, train_y, epochs=80, verbose=1)"
      ],
      "execution_count": 17,
      "outputs": [
        {
          "output_type": "stream",
          "text": [
            "Epoch 1/80\n",
            "84/84 [==============================] - 6s 12ms/step - loss: 3.0811 - accuracy: 0.1801\n",
            "Epoch 2/80\n",
            "84/84 [==============================] - 1s 12ms/step - loss: 2.7441 - accuracy: 0.2436\n",
            "Epoch 3/80\n",
            "84/84 [==============================] - 1s 12ms/step - loss: 2.3913 - accuracy: 0.3291\n",
            "Epoch 4/80\n",
            "84/84 [==============================] - 1s 12ms/step - loss: 2.2314 - accuracy: 0.3674\n",
            "Epoch 5/80\n",
            "84/84 [==============================] - 1s 12ms/step - loss: 2.1205 - accuracy: 0.3925\n",
            "Epoch 6/80\n",
            "84/84 [==============================] - 1s 12ms/step - loss: 2.0284 - accuracy: 0.4161\n",
            "Epoch 7/80\n",
            "84/84 [==============================] - 1s 12ms/step - loss: 1.9524 - accuracy: 0.4370\n",
            "Epoch 8/80\n",
            "84/84 [==============================] - 1s 12ms/step - loss: 1.8891 - accuracy: 0.4530\n",
            "Epoch 9/80\n",
            "84/84 [==============================] - 1s 12ms/step - loss: 1.8332 - accuracy: 0.4680\n",
            "Epoch 10/80\n",
            "84/84 [==============================] - 1s 12ms/step - loss: 1.7790 - accuracy: 0.4840\n",
            "Epoch 11/80\n",
            "84/84 [==============================] - 1s 12ms/step - loss: 1.7323 - accuracy: 0.4961\n",
            "Epoch 12/80\n",
            "84/84 [==============================] - 1s 12ms/step - loss: 1.6928 - accuracy: 0.5054\n",
            "Epoch 13/80\n",
            "84/84 [==============================] - 1s 12ms/step - loss: 1.6517 - accuracy: 0.5167\n",
            "Epoch 14/80\n",
            "84/84 [==============================] - 1s 12ms/step - loss: 1.6153 - accuracy: 0.5269\n",
            "Epoch 15/80\n",
            "84/84 [==============================] - 1s 12ms/step - loss: 1.5783 - accuracy: 0.5366\n",
            "Epoch 16/80\n",
            "84/84 [==============================] - 1s 12ms/step - loss: 1.5452 - accuracy: 0.5447\n",
            "Epoch 17/80\n",
            "84/84 [==============================] - 1s 12ms/step - loss: 1.5107 - accuracy: 0.5544\n",
            "Epoch 18/80\n",
            "84/84 [==============================] - 1s 12ms/step - loss: 1.4810 - accuracy: 0.5619\n",
            "Epoch 19/80\n",
            "84/84 [==============================] - 1s 12ms/step - loss: 1.4513 - accuracy: 0.5693\n",
            "Epoch 20/80\n",
            "84/84 [==============================] - 1s 12ms/step - loss: 1.4195 - accuracy: 0.5789\n",
            "Epoch 21/80\n",
            "84/84 [==============================] - 1s 12ms/step - loss: 1.3908 - accuracy: 0.5873\n",
            "Epoch 22/80\n",
            "84/84 [==============================] - 1s 12ms/step - loss: 1.3668 - accuracy: 0.5936\n",
            "Epoch 23/80\n",
            "84/84 [==============================] - 1s 12ms/step - loss: 1.3357 - accuracy: 0.6031\n",
            "Epoch 24/80\n",
            "84/84 [==============================] - 1s 12ms/step - loss: 1.3058 - accuracy: 0.6110\n",
            "Epoch 25/80\n",
            "84/84 [==============================] - 1s 12ms/step - loss: 1.2772 - accuracy: 0.6189\n",
            "Epoch 26/80\n",
            "84/84 [==============================] - 1s 12ms/step - loss: 1.2482 - accuracy: 0.6274\n",
            "Epoch 27/80\n",
            "84/84 [==============================] - 1s 12ms/step - loss: 1.2242 - accuracy: 0.6339\n",
            "Epoch 28/80\n",
            "84/84 [==============================] - 1s 12ms/step - loss: 1.1952 - accuracy: 0.6422\n",
            "Epoch 29/80\n",
            "84/84 [==============================] - 1s 12ms/step - loss: 1.1645 - accuracy: 0.6523\n",
            "Epoch 30/80\n",
            "84/84 [==============================] - 1s 12ms/step - loss: 1.1391 - accuracy: 0.6598\n",
            "Epoch 31/80\n",
            "84/84 [==============================] - 1s 12ms/step - loss: 1.1072 - accuracy: 0.6694\n",
            "Epoch 32/80\n",
            "84/84 [==============================] - 1s 12ms/step - loss: 1.0815 - accuracy: 0.6763\n",
            "Epoch 33/80\n",
            "84/84 [==============================] - 1s 12ms/step - loss: 1.0514 - accuracy: 0.6858\n",
            "Epoch 34/80\n",
            "84/84 [==============================] - 1s 12ms/step - loss: 1.0199 - accuracy: 0.6951\n",
            "Epoch 35/80\n",
            "84/84 [==============================] - 1s 12ms/step - loss: 0.9939 - accuracy: 0.7031\n",
            "Epoch 36/80\n",
            "84/84 [==============================] - 1s 12ms/step - loss: 0.9663 - accuracy: 0.7120\n",
            "Epoch 37/80\n",
            "84/84 [==============================] - 1s 12ms/step - loss: 0.9368 - accuracy: 0.7204\n",
            "Epoch 38/80\n",
            "84/84 [==============================] - 1s 12ms/step - loss: 0.9153 - accuracy: 0.7274\n",
            "Epoch 39/80\n",
            "84/84 [==============================] - 1s 12ms/step - loss: 0.8924 - accuracy: 0.7341\n",
            "Epoch 40/80\n",
            "84/84 [==============================] - 1s 12ms/step - loss: 0.8580 - accuracy: 0.7461\n",
            "Epoch 41/80\n",
            "84/84 [==============================] - 1s 12ms/step - loss: 0.8302 - accuracy: 0.7540\n",
            "Epoch 42/80\n",
            "84/84 [==============================] - 1s 12ms/step - loss: 0.8026 - accuracy: 0.7633\n",
            "Epoch 43/80\n",
            "84/84 [==============================] - 1s 12ms/step - loss: 0.7737 - accuracy: 0.7726\n",
            "Epoch 44/80\n",
            "84/84 [==============================] - 1s 12ms/step - loss: 0.7481 - accuracy: 0.7802\n",
            "Epoch 45/80\n",
            "84/84 [==============================] - 1s 12ms/step - loss: 0.7244 - accuracy: 0.7874\n",
            "Epoch 46/80\n",
            "84/84 [==============================] - 1s 12ms/step - loss: 0.7087 - accuracy: 0.7918\n",
            "Epoch 47/80\n",
            "84/84 [==============================] - 1s 12ms/step - loss: 0.6783 - accuracy: 0.8018\n",
            "Epoch 48/80\n",
            "84/84 [==============================] - 1s 12ms/step - loss: 0.6542 - accuracy: 0.8097\n",
            "Epoch 49/80\n",
            "84/84 [==============================] - 1s 12ms/step - loss: 0.6304 - accuracy: 0.8167\n",
            "Epoch 50/80\n",
            "84/84 [==============================] - 1s 12ms/step - loss: 0.6142 - accuracy: 0.8218\n",
            "Epoch 51/80\n",
            "84/84 [==============================] - 1s 12ms/step - loss: 0.5913 - accuracy: 0.8300\n",
            "Epoch 52/80\n",
            "84/84 [==============================] - 1s 12ms/step - loss: 0.5754 - accuracy: 0.8342\n",
            "Epoch 53/80\n",
            "84/84 [==============================] - 1s 12ms/step - loss: 0.5370 - accuracy: 0.8475\n",
            "Epoch 54/80\n",
            "84/84 [==============================] - 1s 12ms/step - loss: 0.5284 - accuracy: 0.8504\n",
            "Epoch 55/80\n",
            "84/84 [==============================] - 1s 12ms/step - loss: 0.5046 - accuracy: 0.8576\n",
            "Epoch 56/80\n",
            "84/84 [==============================] - 1s 12ms/step - loss: 0.4817 - accuracy: 0.8660\n",
            "Epoch 57/80\n",
            "84/84 [==============================] - 1s 12ms/step - loss: 0.4611 - accuracy: 0.8730\n",
            "Epoch 58/80\n",
            "84/84 [==============================] - 1s 12ms/step - loss: 0.4491 - accuracy: 0.8761\n",
            "Epoch 59/80\n",
            "84/84 [==============================] - 1s 12ms/step - loss: 0.4329 - accuracy: 0.8809\n",
            "Epoch 60/80\n",
            "84/84 [==============================] - 1s 12ms/step - loss: 0.4118 - accuracy: 0.8882\n",
            "Epoch 61/80\n",
            "84/84 [==============================] - 1s 12ms/step - loss: 0.3893 - accuracy: 0.8951\n",
            "Epoch 62/80\n",
            "84/84 [==============================] - 1s 12ms/step - loss: 0.3962 - accuracy: 0.8916\n",
            "Epoch 63/80\n",
            "84/84 [==============================] - 1s 12ms/step - loss: 0.3687 - accuracy: 0.9014\n",
            "Epoch 64/80\n",
            "84/84 [==============================] - 1s 12ms/step - loss: 0.3486 - accuracy: 0.9090\n",
            "Epoch 65/80\n",
            "84/84 [==============================] - 1s 12ms/step - loss: 0.3371 - accuracy: 0.9120\n",
            "Epoch 66/80\n",
            "84/84 [==============================] - 1s 12ms/step - loss: 0.3159 - accuracy: 0.9198\n",
            "Epoch 67/80\n",
            "84/84 [==============================] - 1s 12ms/step - loss: 0.3109 - accuracy: 0.9195\n",
            "Epoch 68/80\n",
            "84/84 [==============================] - 1s 12ms/step - loss: 0.2987 - accuracy: 0.9236\n",
            "Epoch 69/80\n",
            "84/84 [==============================] - 1s 12ms/step - loss: 0.2996 - accuracy: 0.9215\n",
            "Epoch 70/80\n",
            "84/84 [==============================] - 1s 12ms/step - loss: 0.3127 - accuracy: 0.9145\n",
            "Epoch 71/80\n",
            "84/84 [==============================] - 1s 12ms/step - loss: 0.2787 - accuracy: 0.9280\n",
            "Epoch 72/80\n",
            "84/84 [==============================] - 1s 12ms/step - loss: 0.2636 - accuracy: 0.9336\n",
            "Epoch 73/80\n",
            "84/84 [==============================] - 1s 12ms/step - loss: 0.2480 - accuracy: 0.9386\n",
            "Epoch 74/80\n",
            "84/84 [==============================] - 1s 12ms/step - loss: 0.2237 - accuracy: 0.9472\n",
            "Epoch 75/80\n",
            "84/84 [==============================] - 1s 12ms/step - loss: 0.2163 - accuracy: 0.9488\n",
            "Epoch 76/80\n",
            "84/84 [==============================] - 1s 12ms/step - loss: 0.2020 - accuracy: 0.9530\n",
            "Epoch 77/80\n",
            "84/84 [==============================] - 1s 12ms/step - loss: 0.2124 - accuracy: 0.9489\n",
            "Epoch 78/80\n",
            "84/84 [==============================] - 1s 12ms/step - loss: 0.2112 - accuracy: 0.9480\n",
            "Epoch 79/80\n",
            "84/84 [==============================] - 1s 12ms/step - loss: 0.2028 - accuracy: 0.9508\n",
            "Epoch 80/80\n",
            "84/84 [==============================] - 1s 12ms/step - loss: 0.2026 - accuracy: 0.9498\n"
          ],
          "name": "stdout"
        },
        {
          "output_type": "execute_result",
          "data": {
            "text/plain": [
              "<tensorflow.python.keras.callbacks.History at 0x7f1e102bd190>"
            ]
          },
          "metadata": {
            "tags": []
          },
          "execution_count": 17
        }
      ]
    },
    {
      "cell_type": "code",
      "metadata": {
        "id": "9o9k2gnqj9vH"
      },
      "source": [
        "def sentence_generation(model, length):\n",
        "\n",
        "    ix = [np.random.randint(vocab_size)]        # 글자에 대한 랜덤 인덱스 생성\n",
        "    y_char = [index_to_char[ix[-1]]]            # 랜덤 인덱스로부터 글자 생성\n",
        "    print(ix[-1], '번 글자', y_char[-1], '로 예측을 시작!!')\n",
        "    \n",
        "    X = np.zeros((1, length, vocab_size))       # LSTM의 입력 시퀀스 생성\n",
        "\n",
        "    for i in range(length):\n",
        "        X[0][i][ix[-1]] = 1                     # 예측 글자를 다음 입력 시퀀스에 추가\n",
        "        print(index_to_char[ix[-1]], end='')\n",
        "        ix = np.argmax(model.predict(X[:, :i+1, :])[0], 1)\n",
        "        y_char.append(index_to_char[ix[-1]])\n",
        "    \n",
        "    return ('').join(y_char)\n",
        "\n"
      ],
      "execution_count": 28,
      "outputs": []
    },
    {
      "cell_type": "code",
      "metadata": {
        "id": "6g-S5CRUoUPy",
        "outputId": "808cb441-b92f-4a3c-aee0-567f298ddc6f",
        "colab": {
          "base_uri": "https://localhost:8080/",
          "height": 71
        }
      },
      "source": [
        "sentence_generation(model, 100)"
      ],
      "execution_count": 27,
      "outputs": [
        {
          "output_type": "stream",
          "text": [
            "0 번 글자   로 예측을 시작!!\n",
            " and then said the fourth. two days wrong! sighed the hatter. i dene read: it mest question is, you "
          ],
          "name": "stdout"
        },
        {
          "output_type": "execute_result",
          "data": {
            "application/vnd.google.colaboratory.intrinsic+json": {
              "type": "string"
            },
            "text/plain": [
              "' and then said the fourth. two days wrong! sighed the hatter. i dene read: it mest question is, you d'"
            ]
          },
          "metadata": {
            "tags": []
          },
          "execution_count": 27
        }
      ]
    },
    {
      "cell_type": "code",
      "metadata": {
        "id": "fCQyp0BAoY88",
        "outputId": "87518198-c171-49a5-e879-dd1e5901b2f5",
        "colab": {
          "base_uri": "https://localhost:8080/",
          "height": 71
        }
      },
      "source": [
        "sentence_generation(model, 100)"
      ],
      "execution_count": 29,
      "outputs": [
        {
          "output_type": "stream",
          "text": [
            "41 번 글자 l 로 예측을 시작!!\n",
            "ll her knowledge of history, alice had no very clear notion here! _you do not agree to abide a pie o"
          ],
          "name": "stdout"
        },
        {
          "output_type": "execute_result",
          "data": {
            "application/vnd.google.colaboratory.intrinsic+json": {
              "type": "string"
            },
            "text/plain": [
              "'ll her knowledge of history, alice had no very clear notion here! _you do not agree to abide a pie of'"
            ]
          },
          "metadata": {
            "tags": []
          },
          "execution_count": 29
        }
      ]
    },
    {
      "cell_type": "markdown",
      "metadata": {
        "id": "A_osiG_mtdsh"
      },
      "source": [
        "# 글자 단위 RNN(Char RNN)으로 텍스트 생성하기"
      ]
    },
    {
      "cell_type": "markdown",
      "metadata": {
        "id": "JlGIL9FRtgoI"
      },
      "source": [
        "* 다 대 일(many-to-one)구조의 RNN을 글자 단위로 학습시키고, 텍스트 생성하기"
      ]
    },
    {
      "cell_type": "markdown",
      "metadata": {
        "id": "AZqjVn8btm8k"
      },
      "source": [
        "## 데이터에 대한 이해와 전처리"
      ]
    },
    {
      "cell_type": "code",
      "metadata": {
        "id": "9LG-tQWSpzWX"
      },
      "source": [
        "import numpy as np\n",
        "from tensorflow.keras.utils import to_categorical"
      ],
      "execution_count": 30,
      "outputs": []
    },
    {
      "cell_type": "code",
      "metadata": {
        "id": "A3dV6AICtuPV"
      },
      "source": [
        "text='''\n",
        "I get on with life as a programmer,\n",
        "I like to contemplate beer.\n",
        "But when I start to daydream,\n",
        "My mind turns straight to wine.\n",
        "\n",
        "Do I love wine more than beer?\n",
        "\n",
        "I like to use words about beer.\n",
        "But when I stop my talking,\n",
        "My mind turns straight to wine.\n",
        "\n",
        "I hate bugs and errors.\n",
        "But I just think back to wine,\n",
        "And I'm happy once again.\n",
        "\n",
        "I like to hang out with programming and deep learning.\n",
        "But when left alone,\n",
        "My mind turns straight to wine.\n",
        "'''\n"
      ],
      "execution_count": 31,
      "outputs": []
    },
    {
      "cell_type": "code",
      "metadata": {
        "id": "rf7fQ4O9uKxZ",
        "outputId": "5f10a882-17df-43a5-ed21-98f1e23615f4",
        "colab": {
          "base_uri": "https://localhost:8080/"
        }
      },
      "source": [
        "tokens = text.split()       # \\n 제거\n",
        "text = ' '.join(tokens)\n",
        "\n",
        "print(text)"
      ],
      "execution_count": 32,
      "outputs": [
        {
          "output_type": "stream",
          "text": [
            "I get on with life as a programmer, I like to contemplate beer. But when I start to daydream, My mind turns straight to wine. Do I love wine more than beer? I like to use words about beer. But when I stop my talking, My mind turns straight to wine. I hate bugs and errors. But I just think back to wine, And I'm happy once again. I like to hang out with programming and deep learning. But when left alone, My mind turns straight to wine.\n"
          ],
          "name": "stdout"
        }
      ]
    },
    {
      "cell_type": "code",
      "metadata": {
        "id": "bimC38ObuQ7_",
        "outputId": "3c12a419-f1e1-40e8-ff48-675cbb1ba03e",
        "colab": {
          "base_uri": "https://localhost:8080/"
        }
      },
      "source": [
        "# 중복 제거한 글자 집합 생성\n",
        "char_vocab = sorted(list(set(text)))\n",
        "\n",
        "print(char_vocab)"
      ],
      "execution_count": 33,
      "outputs": [
        {
          "output_type": "stream",
          "text": [
            "[' ', \"'\", ',', '.', '?', 'A', 'B', 'D', 'I', 'M', 'a', 'b', 'c', 'd', 'e', 'f', 'g', 'h', 'i', 'j', 'k', 'l', 'm', 'n', 'o', 'p', 'r', 's', 't', 'u', 'v', 'w', 'y']\n"
          ],
          "name": "stdout"
        }
      ]
    },
    {
      "cell_type": "code",
      "metadata": {
        "id": "ieIyCEunus2i",
        "outputId": "cdef00ff-b236-46e4-c6d7-fd777e169652",
        "colab": {
          "base_uri": "https://localhost:8080/"
        }
      },
      "source": [
        "# 글자 집합의 크기\n",
        "vocab_size = len(char_vocab)\n",
        "\n",
        "print('글자 집합의 크기 :', vocab_size)"
      ],
      "execution_count": 34,
      "outputs": [
        {
          "output_type": "stream",
          "text": [
            "글자 집합의 크기 : 33\n"
          ],
          "name": "stdout"
        }
      ]
    },
    {
      "cell_type": "code",
      "metadata": {
        "id": "RnqSGDzcuwtZ",
        "outputId": "371ed823-8c89-4334-d662-f749266307d2",
        "colab": {
          "base_uri": "https://localhost:8080/"
        }
      },
      "source": [
        "# 글자에 고유한 정수 인덱스 부여\n",
        "char_to_index = dict((c, i) for i, c in enumerate(char_vocab))\n",
        "\n",
        "print(char_to_index)"
      ],
      "execution_count": 37,
      "outputs": [
        {
          "output_type": "stream",
          "text": [
            "{' ': 0, \"'\": 1, ',': 2, '.': 3, '?': 4, 'A': 5, 'B': 6, 'D': 7, 'I': 8, 'M': 9, 'a': 10, 'b': 11, 'c': 12, 'd': 13, 'e': 14, 'f': 15, 'g': 16, 'h': 17, 'i': 18, 'j': 19, 'k': 20, 'l': 21, 'm': 22, 'n': 23, 'o': 24, 'p': 25, 'r': 26, 's': 27, 't': 28, 'u': 29, 'v': 30, 'w': 31, 'y': 32}\n"
          ],
          "name": "stdout"
        }
      ]
    },
    {
      "cell_type": "markdown",
      "metadata": {
        "id": "JJHzyP0YvGld"
      },
      "source": [
        "* example 5개의 입력 글자 시퀀스로부터 다음 글자 시퀀스를 예측\n",
        "    * stude -> n\n",
        "    * tuden -> t"
      ]
    },
    {
      "cell_type": "code",
      "metadata": {
        "id": "mHeGY553u1WG",
        "outputId": "e304b2cb-2ed4-4be7-9490-a968466688d8",
        "colab": {
          "base_uri": "https://localhost:8080/"
        }
      },
      "source": [
        "length = 11\n",
        "sequences = []\n",
        "for i in range(length, len(text)):\n",
        "    seq = text[i-length:i]  # 길이 11의 문자열을 지속적으로 만듦\n",
        "    sequences.append(seq)\n",
        "\n",
        "print('총 훈련 샘플의 수 :', len(sequences))\n",
        "print(sequences)"
      ],
      "execution_count": 47,
      "outputs": [
        {
          "output_type": "stream",
          "text": [
            "총 훈련 샘플의 수 : 426\n",
            "['I get on wi', ' get on wit', 'get on with', 'et on with ', 't on with l', ' on with li', 'on with lif', 'n with life', ' with life ', 'with life a', 'ith life as', 'th life as ', 'h life as a', ' life as a ', 'life as a p', 'ife as a pr', 'fe as a pro', 'e as a prog', ' as a progr', 'as a progra', 's a program', ' a programm', 'a programme', ' programmer', 'programmer,', 'rogrammer, ', 'ogrammer, I', 'grammer, I ', 'rammer, I l', 'ammer, I li', 'mmer, I lik', 'mer, I like', 'er, I like ', 'r, I like t', ', I like to', ' I like to ', 'I like to c', ' like to co', 'like to con', 'ike to cont', 'ke to conte', 'e to contem', ' to contemp', 'to contempl', 'o contempla', ' contemplat', 'contemplate', 'ontemplate ', 'ntemplate b', 'template be', 'emplate bee', 'mplate beer', 'plate beer.', 'late beer. ', 'ate beer. B', 'te beer. Bu', 'e beer. But', ' beer. But ', 'beer. But w', 'eer. But wh', 'er. But whe', 'r. But when', '. But when ', ' But when I', 'But when I ', 'ut when I s', 't when I st', ' when I sta', 'when I star', 'hen I start', 'en I start ', 'n I start t', ' I start to', 'I start to ', ' start to d', 'start to da', 'tart to day', 'art to dayd', 'rt to daydr', 't to daydre', ' to daydrea', 'to daydream', 'o daydream,', ' daydream, ', 'daydream, M', 'aydream, My', 'ydream, My ', 'dream, My m', 'ream, My mi', 'eam, My min', 'am, My mind', 'm, My mind ', ', My mind t', ' My mind tu', 'My mind tur', 'y mind turn', ' mind turns', 'mind turns ', 'ind turns s', 'nd turns st', 'd turns str', ' turns stra', 'turns strai', 'urns straig', 'rns straigh', 'ns straight', 's straight ', ' straight t', 'straight to', 'traight to ', 'raight to w', 'aight to wi', 'ight to win', 'ght to wine', 'ht to wine.', 't to wine. ', ' to wine. D', 'to wine. Do', 'o wine. Do ', ' wine. Do I', 'wine. Do I ', 'ine. Do I l', 'ne. Do I lo', 'e. Do I lov', '. Do I love', ' Do I love ', 'Do I love w', 'o I love wi', ' I love win', 'I love wine', ' love wine ', 'love wine m', 'ove wine mo', 've wine mor', 'e wine more', ' wine more ', 'wine more t', 'ine more th', 'ne more tha', 'e more than', ' more than ', 'more than b', 'ore than be', 're than bee', 'e than beer', ' than beer?', 'than beer? ', 'han beer? I', 'an beer? I ', 'n beer? I l', ' beer? I li', 'beer? I lik', 'eer? I like', 'er? I like ', 'r? I like t', '? I like to', ' I like to ', 'I like to u', ' like to us', 'like to use', 'ike to use ', 'ke to use w', 'e to use wo', ' to use wor', 'to use word', 'o use words', ' use words ', 'use words a', 'se words ab', 'e words abo', ' words abou', 'words about', 'ords about ', 'rds about b', 'ds about be', 's about bee', ' about beer', 'about beer.', 'bout beer. ', 'out beer. B', 'ut beer. Bu', 't beer. But', ' beer. But ', 'beer. But w', 'eer. But wh', 'er. But whe', 'r. But when', '. But when ', ' But when I', 'But when I ', 'ut when I s', 't when I st', ' when I sto', 'when I stop', 'hen I stop ', 'en I stop m', 'n I stop my', ' I stop my ', 'I stop my t', ' stop my ta', 'stop my tal', 'top my talk', 'op my talki', 'p my talkin', ' my talking', 'my talking,', 'y talking, ', ' talking, M', 'talking, My', 'alking, My ', 'lking, My m', 'king, My mi', 'ing, My min', 'ng, My mind', 'g, My mind ', ', My mind t', ' My mind tu', 'My mind tur', 'y mind turn', ' mind turns', 'mind turns ', 'ind turns s', 'nd turns st', 'd turns str', ' turns stra', 'turns strai', 'urns straig', 'rns straigh', 'ns straight', 's straight ', ' straight t', 'straight to', 'traight to ', 'raight to w', 'aight to wi', 'ight to win', 'ght to wine', 'ht to wine.', 't to wine. ', ' to wine. I', 'to wine. I ', 'o wine. I h', ' wine. I ha', 'wine. I hat', 'ine. I hate', 'ne. I hate ', 'e. I hate b', '. I hate bu', ' I hate bug', 'I hate bugs', ' hate bugs ', 'hate bugs a', 'ate bugs an', 'te bugs and', 'e bugs and ', ' bugs and e', 'bugs and er', 'ugs and err', 'gs and erro', 's and error', ' and errors', 'and errors.', 'nd errors. ', 'd errors. B', ' errors. Bu', 'errors. But', 'rrors. But ', 'rors. But I', 'ors. But I ', 'rs. But I j', 's. But I ju', '. But I jus', ' But I just', 'But I just ', 'ut I just t', 't I just th', ' I just thi', 'I just thin', ' just think', 'just think ', 'ust think b', 'st think ba', 't think bac', ' think back', 'think back ', 'hink back t', 'ink back to', 'nk back to ', 'k back to w', ' back to wi', 'back to win', 'ack to wine', 'ck to wine,', 'k to wine, ', ' to wine, A', 'to wine, An', 'o wine, And', ' wine, And ', 'wine, And I', \"ine, And I'\", \"ne, And I'm\", \"e, And I'm \", \", And I'm h\", \" And I'm ha\", \"And I'm hap\", \"nd I'm happ\", \"d I'm happy\", \" I'm happy \", \"I'm happy o\", \"'m happy on\", 'm happy onc', ' happy once', 'happy once ', 'appy once a', 'ppy once ag', 'py once aga', 'y once agai', ' once again', 'once again.', 'nce again. ', 'ce again. I', 'e again. I ', ' again. I l', 'again. I li', 'gain. I lik', 'ain. I like', 'in. I like ', 'n. I like t', '. I like to', ' I like to ', 'I like to h', ' like to ha', 'like to han', 'ike to hang', 'ke to hang ', 'e to hang o', ' to hang ou', 'to hang out', 'o hang out ', ' hang out w', 'hang out wi', 'ang out wit', 'ng out with', 'g out with ', ' out with p', 'out with pr', 'ut with pro', 't with prog', ' with progr', 'with progra', 'ith program', 'th programm', 'h programmi', ' programmin', 'programming', 'rogramming ', 'ogramming a', 'gramming an', 'ramming and', 'amming and ', 'mming and d', 'ming and de', 'ing and dee', 'ng and deep', 'g and deep ', ' and deep l', 'and deep le', 'nd deep lea', 'd deep lear', ' deep learn', 'deep learni', 'eep learnin', 'ep learning', 'p learning.', ' learning. ', 'learning. B', 'earning. Bu', 'arning. But', 'rning. But ', 'ning. But w', 'ing. But wh', 'ng. But whe', 'g. But when', '. But when ', ' But when l', 'But when le', 'ut when lef', 't when left', ' when left ', 'when left a', 'hen left al', 'en left alo', 'n left alon', ' left alone', 'left alone,', 'eft alone, ', 'ft alone, M', 't alone, My', ' alone, My ', 'alone, My m', 'lone, My mi', 'one, My min', 'ne, My mind', 'e, My mind ', ', My mind t', ' My mind tu', 'My mind tur', 'y mind turn', ' mind turns', 'mind turns ', 'ind turns s', 'nd turns st', 'd turns str', ' turns stra', 'turns strai', 'urns straig', 'rns straigh', 'ns straight', 's straight ', ' straight t', 'straight to', 'traight to ', 'raight to w', 'aight to wi', 'ight to win', 'ght to wine']\n"
          ],
          "name": "stdout"
        }
      ]
    },
    {
      "cell_type": "code",
      "metadata": {
        "id": "Y2nVgH9zvydA",
        "outputId": "e529cb3e-c6c1-421f-e313-7f81417b66a0",
        "colab": {
          "base_uri": "https://localhost:8080/"
        }
      },
      "source": [
        "# sequences에 있는 문장들의 글자들을 index로 변환\n",
        "x = []\n",
        "for line in sequences:\n",
        "    temp_x = [char_to_index[char] for char in line]\n",
        "    x.append(temp_x)\n",
        "\n",
        "# 결과 확인\n",
        "for line in x[:5]:\n",
        "    print(line)"
      ],
      "execution_count": 48,
      "outputs": [
        {
          "output_type": "stream",
          "text": [
            "[8, 0, 16, 14, 28, 0, 24, 23, 0, 31, 18]\n",
            "[0, 16, 14, 28, 0, 24, 23, 0, 31, 18, 28]\n",
            "[16, 14, 28, 0, 24, 23, 0, 31, 18, 28, 17]\n",
            "[14, 28, 0, 24, 23, 0, 31, 18, 28, 17, 0]\n",
            "[28, 0, 24, 23, 0, 31, 18, 28, 17, 0, 21]\n"
          ],
          "name": "stdout"
        }
      ]
    },
    {
      "cell_type": "code",
      "metadata": {
        "id": "I3Mu2GeewHge",
        "outputId": "057463ae-6a59-4106-c53f-b8ddc584363e",
        "colab": {
          "base_uri": "https://localhost:8080/"
        }
      },
      "source": [
        "sequences = np.array(x)\n",
        "x = sequences[:, :-1]\n",
        "y = sequences[:, -1] # 맨 마지막 위치의 글자를 분리\n",
        "\n",
        "for line in x[:5]:\n",
        "    print(line)\n",
        "\n",
        "print()\n",
        "print(y[:5])"
      ],
      "execution_count": 49,
      "outputs": [
        {
          "output_type": "stream",
          "text": [
            "[ 8  0 16 14 28  0 24 23  0 31]\n",
            "[ 0 16 14 28  0 24 23  0 31 18]\n",
            "[16 14 28  0 24 23  0 31 18 28]\n",
            "[14 28  0 24 23  0 31 18 28 17]\n",
            "[28  0 24 23  0 31 18 28 17  0]\n",
            "\n",
            "[18 28 17  0 21]\n"
          ],
          "name": "stdout"
        }
      ]
    },
    {
      "cell_type": "code",
      "metadata": {
        "id": "n1cuqGdVw1wt"
      },
      "source": [
        "sequences = [to_categorical(x_, num_classes=vocab_size) for x_ in x]"
      ],
      "execution_count": 50,
      "outputs": []
    },
    {
      "cell_type": "code",
      "metadata": {
        "id": "qtIMpkmYxKRe"
      },
      "source": [
        "x = np.array(sequences)\n",
        "y = to_categorical(y, num_classes=vocab_size)   # y에 대한 원-핫 인코딩"
      ],
      "execution_count": 51,
      "outputs": []
    },
    {
      "cell_type": "code",
      "metadata": {
        "id": "FUeXPsovxQHY",
        "outputId": "444081cf-8d4c-464a-8901-8fbd69bd46a9",
        "colab": {
          "base_uri": "https://localhost:8080/"
        }
      },
      "source": [
        "print(x.shape)\n",
        "\n",
        "# 샘플 수 426\n",
        "# 입력시퀀스 길이 10\n",
        "# 입력 벡터 차원 33"
      ],
      "execution_count": 52,
      "outputs": [
        {
          "output_type": "stream",
          "text": [
            "(426, 10, 33)\n"
          ],
          "name": "stdout"
        }
      ]
    },
    {
      "cell_type": "markdown",
      "metadata": {
        "id": "uoJORIlBynPW"
      },
      "source": [
        "## 모델 설계"
      ]
    },
    {
      "cell_type": "code",
      "metadata": {
        "id": "7fM1dODNxRU6"
      },
      "source": [
        "from tensorflow.keras.models import Sequential\n",
        "from tensorflow.keras.layers import Dense, LSTM\n",
        "from tensorflow.keras.preprocessing.sequence import pad_sequences"
      ],
      "execution_count": 53,
      "outputs": []
    },
    {
      "cell_type": "code",
      "metadata": {
        "id": "jPn115wsy0Lj"
      },
      "source": [
        "model = Sequential()\n",
        "model.add(LSTM(128, input_shape=x.shape[1:]))\n",
        "model.add(Dense(vocab_size, activation='softmax'))"
      ],
      "execution_count": 57,
      "outputs": []
    },
    {
      "cell_type": "code",
      "metadata": {
        "id": "mj3NCRJzzH3j",
        "outputId": "9f2e328f-7907-4d29-dd62-1553e76537e7",
        "colab": {
          "base_uri": "https://localhost:8080/"
        }
      },
      "source": [
        "model.compile(loss='categorical_crossentropy', optimizer= 'adam', metrics=['accuracy'])\n",
        "model.fit(x, y, epochs=100, verbose=1)"
      ],
      "execution_count": 58,
      "outputs": [
        {
          "output_type": "stream",
          "text": [
            "Epoch 1/100\n",
            "14/14 [==============================] - 1s 3ms/step - loss: 3.4541 - accuracy: 0.1502\n",
            "Epoch 2/100\n",
            "14/14 [==============================] - 0s 3ms/step - loss: 3.1992 - accuracy: 0.1972\n",
            "Epoch 3/100\n",
            "14/14 [==============================] - 0s 3ms/step - loss: 2.9903 - accuracy: 0.1972\n",
            "Epoch 4/100\n",
            "14/14 [==============================] - 0s 3ms/step - loss: 2.9660 - accuracy: 0.1972\n",
            "Epoch 5/100\n",
            "14/14 [==============================] - 0s 3ms/step - loss: 2.9234 - accuracy: 0.1972\n",
            "Epoch 6/100\n",
            "14/14 [==============================] - 0s 3ms/step - loss: 2.9003 - accuracy: 0.1972\n",
            "Epoch 7/100\n",
            "14/14 [==============================] - 0s 3ms/step - loss: 2.8703 - accuracy: 0.1972\n",
            "Epoch 8/100\n",
            "14/14 [==============================] - 0s 3ms/step - loss: 2.8469 - accuracy: 0.2042\n",
            "Epoch 9/100\n",
            "14/14 [==============================] - 0s 3ms/step - loss: 2.7880 - accuracy: 0.1995\n",
            "Epoch 10/100\n",
            "14/14 [==============================] - 0s 3ms/step - loss: 2.7279 - accuracy: 0.2230\n",
            "Epoch 11/100\n",
            "14/14 [==============================] - 0s 3ms/step - loss: 2.6722 - accuracy: 0.2277\n",
            "Epoch 12/100\n",
            "14/14 [==============================] - 0s 3ms/step - loss: 2.6096 - accuracy: 0.2606\n",
            "Epoch 13/100\n",
            "14/14 [==============================] - 0s 3ms/step - loss: 2.5289 - accuracy: 0.2770\n",
            "Epoch 14/100\n",
            "14/14 [==============================] - 0s 3ms/step - loss: 2.4661 - accuracy: 0.2887\n",
            "Epoch 15/100\n",
            "14/14 [==============================] - 0s 3ms/step - loss: 2.3758 - accuracy: 0.3099\n",
            "Epoch 16/100\n",
            "14/14 [==============================] - 0s 3ms/step - loss: 2.3379 - accuracy: 0.3404\n",
            "Epoch 17/100\n",
            "14/14 [==============================] - 0s 3ms/step - loss: 2.2471 - accuracy: 0.3521\n",
            "Epoch 18/100\n",
            "14/14 [==============================] - 0s 3ms/step - loss: 2.1855 - accuracy: 0.3592\n",
            "Epoch 19/100\n",
            "14/14 [==============================] - 0s 3ms/step - loss: 2.0769 - accuracy: 0.3967\n",
            "Epoch 20/100\n",
            "14/14 [==============================] - 0s 3ms/step - loss: 2.0090 - accuracy: 0.4131\n",
            "Epoch 21/100\n",
            "14/14 [==============================] - 0s 4ms/step - loss: 1.9268 - accuracy: 0.4249\n",
            "Epoch 22/100\n",
            "14/14 [==============================] - 0s 3ms/step - loss: 1.8768 - accuracy: 0.4296\n",
            "Epoch 23/100\n",
            "14/14 [==============================] - 0s 3ms/step - loss: 1.8113 - accuracy: 0.4953\n",
            "Epoch 24/100\n",
            "14/14 [==============================] - 0s 3ms/step - loss: 1.7411 - accuracy: 0.4789\n",
            "Epoch 25/100\n",
            "14/14 [==============================] - 0s 3ms/step - loss: 1.6573 - accuracy: 0.5376\n",
            "Epoch 26/100\n",
            "14/14 [==============================] - 0s 3ms/step - loss: 1.6058 - accuracy: 0.5211\n",
            "Epoch 27/100\n",
            "14/14 [==============================] - 0s 3ms/step - loss: 1.5093 - accuracy: 0.5798\n",
            "Epoch 28/100\n",
            "14/14 [==============================] - 0s 3ms/step - loss: 1.4470 - accuracy: 0.6103\n",
            "Epoch 29/100\n",
            "14/14 [==============================] - 0s 3ms/step - loss: 1.4074 - accuracy: 0.6080\n",
            "Epoch 30/100\n",
            "14/14 [==============================] - 0s 3ms/step - loss: 1.3207 - accuracy: 0.6761\n",
            "Epoch 31/100\n",
            "14/14 [==============================] - 0s 4ms/step - loss: 1.2596 - accuracy: 0.6573\n",
            "Epoch 32/100\n",
            "14/14 [==============================] - 0s 3ms/step - loss: 1.1912 - accuracy: 0.7160\n",
            "Epoch 33/100\n",
            "14/14 [==============================] - 0s 3ms/step - loss: 1.1303 - accuracy: 0.7113\n",
            "Epoch 34/100\n",
            "14/14 [==============================] - 0s 3ms/step - loss: 1.0869 - accuracy: 0.7394\n",
            "Epoch 35/100\n",
            "14/14 [==============================] - 0s 3ms/step - loss: 1.0318 - accuracy: 0.7653\n",
            "Epoch 36/100\n",
            "14/14 [==============================] - 0s 3ms/step - loss: 0.9716 - accuracy: 0.7723\n",
            "Epoch 37/100\n",
            "14/14 [==============================] - 0s 3ms/step - loss: 0.9711 - accuracy: 0.7629\n",
            "Epoch 38/100\n",
            "14/14 [==============================] - 0s 3ms/step - loss: 0.8738 - accuracy: 0.8028\n",
            "Epoch 39/100\n",
            "14/14 [==============================] - 0s 3ms/step - loss: 0.8207 - accuracy: 0.8005\n",
            "Epoch 40/100\n",
            "14/14 [==============================] - 0s 3ms/step - loss: 0.7506 - accuracy: 0.8357\n",
            "Epoch 41/100\n",
            "14/14 [==============================] - 0s 3ms/step - loss: 0.7152 - accuracy: 0.8521\n",
            "Epoch 42/100\n",
            "14/14 [==============================] - 0s 3ms/step - loss: 0.6542 - accuracy: 0.8803\n",
            "Epoch 43/100\n",
            "14/14 [==============================] - 0s 3ms/step - loss: 0.6402 - accuracy: 0.8756\n",
            "Epoch 44/100\n",
            "14/14 [==============================] - 0s 3ms/step - loss: 0.6138 - accuracy: 0.8873\n",
            "Epoch 45/100\n",
            "14/14 [==============================] - 0s 3ms/step - loss: 0.5595 - accuracy: 0.8967\n",
            "Epoch 46/100\n",
            "14/14 [==============================] - 0s 3ms/step - loss: 0.5202 - accuracy: 0.9249\n",
            "Epoch 47/100\n",
            "14/14 [==============================] - 0s 3ms/step - loss: 0.4934 - accuracy: 0.9155\n",
            "Epoch 48/100\n",
            "14/14 [==============================] - 0s 3ms/step - loss: 0.4591 - accuracy: 0.9366\n",
            "Epoch 49/100\n",
            "14/14 [==============================] - 0s 3ms/step - loss: 0.4311 - accuracy: 0.9484\n",
            "Epoch 50/100\n",
            "14/14 [==============================] - 0s 3ms/step - loss: 0.4002 - accuracy: 0.9577\n",
            "Epoch 51/100\n",
            "14/14 [==============================] - 0s 3ms/step - loss: 0.3742 - accuracy: 0.9507\n",
            "Epoch 52/100\n",
            "14/14 [==============================] - 0s 3ms/step - loss: 0.3455 - accuracy: 0.9648\n",
            "Epoch 53/100\n",
            "14/14 [==============================] - 0s 3ms/step - loss: 0.3235 - accuracy: 0.9648\n",
            "Epoch 54/100\n",
            "14/14 [==============================] - 0s 3ms/step - loss: 0.2966 - accuracy: 0.9765\n",
            "Epoch 55/100\n",
            "14/14 [==============================] - 0s 3ms/step - loss: 0.2790 - accuracy: 0.9789\n",
            "Epoch 56/100\n",
            "14/14 [==============================] - 0s 3ms/step - loss: 0.2711 - accuracy: 0.9695\n",
            "Epoch 57/100\n",
            "14/14 [==============================] - 0s 3ms/step - loss: 0.2513 - accuracy: 0.9742\n",
            "Epoch 58/100\n",
            "14/14 [==============================] - 0s 3ms/step - loss: 0.2565 - accuracy: 0.9765\n",
            "Epoch 59/100\n",
            "14/14 [==============================] - 0s 3ms/step - loss: 0.2360 - accuracy: 0.9789\n",
            "Epoch 60/100\n",
            "14/14 [==============================] - 0s 3ms/step - loss: 0.2143 - accuracy: 0.9859\n",
            "Epoch 61/100\n",
            "14/14 [==============================] - 0s 3ms/step - loss: 0.2142 - accuracy: 0.9789\n",
            "Epoch 62/100\n",
            "14/14 [==============================] - 0s 3ms/step - loss: 0.1983 - accuracy: 0.9765\n",
            "Epoch 63/100\n",
            "14/14 [==============================] - 0s 3ms/step - loss: 0.1870 - accuracy: 0.9742\n",
            "Epoch 64/100\n",
            "14/14 [==============================] - 0s 3ms/step - loss: 0.1803 - accuracy: 0.9812\n",
            "Epoch 65/100\n",
            "14/14 [==============================] - 0s 3ms/step - loss: 0.1757 - accuracy: 0.9789\n",
            "Epoch 66/100\n",
            "14/14 [==============================] - 0s 3ms/step - loss: 0.1631 - accuracy: 0.9812\n",
            "Epoch 67/100\n",
            "14/14 [==============================] - 0s 4ms/step - loss: 0.1555 - accuracy: 0.9789\n",
            "Epoch 68/100\n",
            "14/14 [==============================] - 0s 3ms/step - loss: 0.1475 - accuracy: 0.9812\n",
            "Epoch 69/100\n",
            "14/14 [==============================] - 0s 3ms/step - loss: 0.1422 - accuracy: 0.9765\n",
            "Epoch 70/100\n",
            "14/14 [==============================] - 0s 3ms/step - loss: 0.1411 - accuracy: 0.9789\n",
            "Epoch 71/100\n",
            "14/14 [==============================] - 0s 3ms/step - loss: 0.1361 - accuracy: 0.9812\n",
            "Epoch 72/100\n",
            "14/14 [==============================] - 0s 3ms/step - loss: 0.1254 - accuracy: 0.9859\n",
            "Epoch 73/100\n",
            "14/14 [==============================] - 0s 3ms/step - loss: 0.1304 - accuracy: 0.9765\n",
            "Epoch 74/100\n",
            "14/14 [==============================] - 0s 3ms/step - loss: 0.1248 - accuracy: 0.9812\n",
            "Epoch 75/100\n",
            "14/14 [==============================] - 0s 3ms/step - loss: 0.1225 - accuracy: 0.9718\n",
            "Epoch 76/100\n",
            "14/14 [==============================] - 0s 3ms/step - loss: 0.1134 - accuracy: 0.9789\n",
            "Epoch 77/100\n",
            "14/14 [==============================] - 0s 3ms/step - loss: 0.1114 - accuracy: 0.9859\n",
            "Epoch 78/100\n",
            "14/14 [==============================] - 0s 3ms/step - loss: 0.1071 - accuracy: 0.9765\n",
            "Epoch 79/100\n",
            "14/14 [==============================] - 0s 3ms/step - loss: 0.1074 - accuracy: 0.9836\n",
            "Epoch 80/100\n",
            "14/14 [==============================] - 0s 4ms/step - loss: 0.1062 - accuracy: 0.9859\n",
            "Epoch 81/100\n",
            "14/14 [==============================] - 0s 3ms/step - loss: 0.0979 - accuracy: 0.9812\n",
            "Epoch 82/100\n",
            "14/14 [==============================] - 0s 3ms/step - loss: 0.0983 - accuracy: 0.9836\n",
            "Epoch 83/100\n",
            "14/14 [==============================] - 0s 3ms/step - loss: 0.0949 - accuracy: 0.9859\n",
            "Epoch 84/100\n",
            "14/14 [==============================] - 0s 3ms/step - loss: 0.0904 - accuracy: 0.9859\n",
            "Epoch 85/100\n",
            "14/14 [==============================] - 0s 3ms/step - loss: 0.0903 - accuracy: 0.9812\n",
            "Epoch 86/100\n",
            "14/14 [==============================] - 0s 3ms/step - loss: 0.0946 - accuracy: 0.9765\n",
            "Epoch 87/100\n",
            "14/14 [==============================] - 0s 3ms/step - loss: 0.0911 - accuracy: 0.9765\n",
            "Epoch 88/100\n",
            "14/14 [==============================] - 0s 3ms/step - loss: 0.0890 - accuracy: 0.9789\n",
            "Epoch 89/100\n",
            "14/14 [==============================] - 0s 3ms/step - loss: 0.0886 - accuracy: 0.9718\n",
            "Epoch 90/100\n",
            "14/14 [==============================] - 0s 3ms/step - loss: 0.0836 - accuracy: 0.9812\n",
            "Epoch 91/100\n",
            "14/14 [==============================] - 0s 3ms/step - loss: 0.0804 - accuracy: 0.9836\n",
            "Epoch 92/100\n",
            "14/14 [==============================] - 0s 3ms/step - loss: 0.0786 - accuracy: 0.9765\n",
            "Epoch 93/100\n",
            "14/14 [==============================] - 0s 3ms/step - loss: 0.0809 - accuracy: 0.9812\n",
            "Epoch 94/100\n",
            "14/14 [==============================] - 0s 3ms/step - loss: 0.0804 - accuracy: 0.9836\n",
            "Epoch 95/100\n",
            "14/14 [==============================] - 0s 3ms/step - loss: 0.0767 - accuracy: 0.9812\n",
            "Epoch 96/100\n",
            "14/14 [==============================] - 0s 3ms/step - loss: 0.0725 - accuracy: 0.9812\n",
            "Epoch 97/100\n",
            "14/14 [==============================] - 0s 3ms/step - loss: 0.0694 - accuracy: 0.9836\n",
            "Epoch 98/100\n",
            "14/14 [==============================] - 0s 3ms/step - loss: 0.0675 - accuracy: 0.9836\n",
            "Epoch 99/100\n",
            "14/14 [==============================] - 0s 3ms/step - loss: 0.0653 - accuracy: 0.9836\n",
            "Epoch 100/100\n",
            "14/14 [==============================] - 0s 3ms/step - loss: 0.0635 - accuracy: 0.9789\n"
          ],
          "name": "stdout"
        },
        {
          "output_type": "execute_result",
          "data": {
            "text/plain": [
              "<tensorflow.python.keras.callbacks.History at 0x7f1d8573b5d0>"
            ]
          },
          "metadata": {
            "tags": []
          },
          "execution_count": 58
        }
      ]
    },
    {
      "cell_type": "code",
      "metadata": {
        "id": "xLegXGIdzgPk"
      },
      "source": [
        "def sentence_generation(model, char_to_index, seq_length, seed_text, n):\n",
        "    # 모델, 인덱스 정보, 문장길이, 초기 시퀀스, 반복횟수\n",
        "\n",
        "    init_text = seed_text   # 문장 생성에 사용할 초기 시퀀스\n",
        "    sentence = ''\n",
        "\n",
        "    for _ in range(n):\n",
        "        # 현재 시퀀스에 대한 정수 인코딩\n",
        "        encoded = [char_to_index[char] for char in seed_text]\n",
        "\n",
        "        # 데이터에 대한 패딩\n",
        "        encoded = pad_sequences([encoded], maxlen=seq_length, padding='pre')\n",
        "\n",
        "        # \n",
        "        encoded = to_categorical(encoded, num_classes=len(char_to_index))\n",
        "\n",
        "        # 입력한 x(현재 시퀀스)에 대해서 y(예측한 글자)를 예측하고 저장\n",
        "        result = model.predict_classes(encoded, verbose=0)\n",
        "\n",
        "        for char, index in char_to_index.items():\n",
        "            if index == result: # 만약 예측 글자와 인덱스가 동일한 글자가 있으면\n",
        "                break           # 해당 글자가 예측 글자이므로 break\n",
        "\n",
        "        seed_text = seed_text + char    # 현재 시퀀스에 예측글자 추가\n",
        "        sentence = sentence + char      # 예측 글자를 문장에 저장\n",
        "    \n",
        "    sentence = init_text + sentence\n",
        "\n",
        "    return sentence\n"
      ],
      "execution_count": 59,
      "outputs": []
    },
    {
      "cell_type": "code",
      "metadata": {
        "id": "2MVH3xm91T8E",
        "outputId": "bb02b9f5-1f15-49b6-b21e-656456bf4df8",
        "colab": {
          "base_uri": "https://localhost:8080/"
        }
      },
      "source": [
        "print(sentence_generation(model, char_to_index, 10, 'I got on w', 100))"
      ],
      "execution_count": 60,
      "outputs": [
        {
          "output_type": "stream",
          "text": [
            "/usr/local/lib/python3.7/dist-packages/tensorflow/python/keras/engine/sequential.py:455: UserWarning: `model.predict_classes()` is deprecated and will be removed after 2021-01-01. Please use instead:* `np.argmax(model.predict(x), axis=-1)`,   if your model does multi-class classification   (e.g. if it uses a `softmax` last-layer activation).* `(model.predict(x) > 0.5).astype(\"int32\")`,   if your model does binary classification   (e.g. if it uses a `sigmoid` last-layer activation).\n",
            "  warnings.warn('`model.predict_classes()` is deprecated and '\n"
          ],
          "name": "stderr"
        },
        {
          "output_type": "stream",
          "text": [
            "I got on with life as a programmer, I like to use words about beer. But when I stort to toddrerm.m..But lnnne \n"
          ],
          "name": "stdout"
        }
      ]
    },
    {
      "cell_type": "code",
      "metadata": {
        "id": "JXJvg0LF1YuW"
      },
      "source": [
        ""
      ],
      "execution_count": null,
      "outputs": []
    }
  ]
}