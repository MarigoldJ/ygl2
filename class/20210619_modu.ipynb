{
  "nbformat": 4,
  "nbformat_minor": 0,
  "metadata": {
    "colab": {
      "name": "20210619_modu.ipynb",
      "provenance": [],
      "authorship_tag": "ABX9TyOgSKR5Avz3B+v9HHseEs4K",
      "include_colab_link": true
    },
    "kernelspec": {
      "name": "python3",
      "display_name": "Python 3"
    },
    "language_info": {
      "name": "python"
    },
    "accelerator": "GPU"
  },
  "cells": [
    {
      "cell_type": "markdown",
      "metadata": {
        "id": "view-in-github",
        "colab_type": "text"
      },
      "source": [
        "<a href=\"https://colab.research.google.com/github/MarigoldJ/ygl2/blob/main/class/20210619_modu.ipynb\" target=\"_parent\"><img src=\"https://colab.research.google.com/assets/colab-badge.svg\" alt=\"Open In Colab\"/></a>"
      ]
    },
    {
      "cell_type": "markdown",
      "metadata": {
        "id": "KKK39XLJr-1I"
      },
      "source": [
        "# NLP"
      ]
    },
    {
      "cell_type": "markdown",
      "metadata": {
        "id": "2dJtt1BfsCT0"
      },
      "source": [
        "## 텍스트의 토큰화"
      ]
    },
    {
      "cell_type": "code",
      "metadata": {
        "id": "lNNhAYRtpDtW",
        "outputId": "6110d4cd-61fc-4a3b-e7f0-d1e13d26d1dd",
        "colab": {
          "base_uri": "https://localhost:8080/"
        }
      },
      "source": [
        "# 토큰화 1\n",
        "from tensorflow.keras.preprocessing.text import text_to_word_sequence\n",
        "\n",
        "text = '해보지 않으면 해낼 수 없다'\n",
        "result = text_to_word_sequence(text)\n",
        "print(result)"
      ],
      "execution_count": 4,
      "outputs": [
        {
          "output_type": "stream",
          "text": [
            "['해보지', '않으면', '해낼', '수', '없다']\n"
          ],
          "name": "stdout"
        }
      ]
    },
    {
      "cell_type": "code",
      "metadata": {
        "id": "ZsO9_fuTqjfK",
        "outputId": "6a087224-e8e3-4acf-a854-68ddfbfef4ce",
        "colab": {
          "base_uri": "https://localhost:8080/"
        }
      },
      "source": [
        "# 토큰화 2\n",
        "from tensorflow.keras.preprocessing.text import Tokenizer\n",
        "\n",
        "docs = ['먼저 텍스트의 각 단어를 나누어 토큰화합니다.',\n",
        "        '텍스트의 단어로 토큰화해야 딥러닝에서 인식됩니다.',\n",
        "        '토큰화한 결과는 딥러닝에서 사용할 수 있습니다.']\n",
        "\n",
        "t = Tokenizer()\n",
        "t.fit_on_texts(docs)\n",
        "\n",
        "print('단어사전')\n",
        "print(t.word_counts)\n",
        "print(t.word_index)\n",
        "print()\n",
        "\n",
        "print('몇개 문장있는지 확인')\n",
        "print(t.document_count)\n",
        "print()\n",
        "\n",
        "print('각 단어가 몇개 문장에 나오는가?')\n",
        "print(t.word_docs)\n",
        "print()"
      ],
      "execution_count": 9,
      "outputs": [
        {
          "output_type": "stream",
          "text": [
            "단어사전\n",
            "OrderedDict([('먼저', 1), ('텍스트의', 2), ('각', 1), ('단어를', 1), ('나누어', 1), ('토큰화합니다', 1), ('단어로', 1), ('토큰화해야', 1), ('딥러닝에서', 2), ('인식됩니다', 1), ('토큰화한', 1), ('결과는', 1), ('사용할', 1), ('수', 1), ('있습니다', 1)])\n",
            "{'텍스트의': 1, '딥러닝에서': 2, '먼저': 3, '각': 4, '단어를': 5, '나누어': 6, '토큰화합니다': 7, '단어로': 8, '토큰화해야': 9, '인식됩니다': 10, '토큰화한': 11, '결과는': 12, '사용할': 13, '수': 14, '있습니다': 15}\n",
            "\n",
            "몇개 문장있는지 확인\n",
            "3\n",
            "\n",
            "각 단어가 몇개 문장에 나오는가?\n",
            "defaultdict(<class 'int'>, {'먼저': 1, '각': 1, '토큰화합니다': 1, '텍스트의': 2, '나누어': 1, '단어를': 1, '딥러닝에서': 2, '인식됩니다': 1, '토큰화해야': 1, '단어로': 1, '토큰화한': 1, '결과는': 1, '있습니다': 1, '수': 1, '사용할': 1})\n",
            "\n"
          ],
          "name": "stdout"
        }
      ]
    },
    {
      "cell_type": "markdown",
      "metadata": {
        "id": "pjvWBzSNtW8j"
      },
      "source": [
        "## 단어의 원-핫 인코딩"
      ]
    },
    {
      "cell_type": "code",
      "metadata": {
        "id": "6xK9FflAsLqI",
        "outputId": "6ac7d223-fb12-49c1-f36e-dad6081dae93",
        "colab": {
          "base_uri": "https://localhost:8080/"
        }
      },
      "source": [
        "from tensorflow.keras.preprocessing.text import Tokenizer\n",
        "\n",
        "text = '오랫동안 꿈꾸는 이는 그 꿈을 닮아간다'\n",
        "docs = [text]\n",
        "\n",
        "t = Tokenizer()\n",
        "t.fit_on_texts(docs)\n",
        "\n",
        "sequences = t.texts_to_sequences(docs)\n",
        "\n",
        "print(docs)\n",
        "print(sequences)"
      ],
      "execution_count": 15,
      "outputs": [
        {
          "output_type": "stream",
          "text": [
            "['오랫동안 꿈꾸는 이는 그 꿈을 닮아간다']\n",
            "[[1, 2, 3, 4, 5, 6]]\n"
          ],
          "name": "stdout"
        }
      ]
    },
    {
      "cell_type": "code",
      "metadata": {
        "id": "mng8VqQht5Hg",
        "outputId": "5f3861fb-69f1-44c7-cf11-a168448d9163",
        "colab": {
          "base_uri": "https://localhost:8080/"
        }
      },
      "source": [
        "from tensorflow.keras.utils import to_categorical\n",
        "\n",
        "word_size = len(t.word_index) + 1\n",
        "encoded_sequences = to_categorical(sequences, num_classes=word_size)\n",
        "\n",
        "print(encoded_sequences)"
      ],
      "execution_count": 17,
      "outputs": [
        {
          "output_type": "stream",
          "text": [
            "[[[0. 1. 0. 0. 0. 0. 0.]\n",
            "  [0. 0. 1. 0. 0. 0. 0.]\n",
            "  [0. 0. 0. 1. 0. 0. 0.]\n",
            "  [0. 0. 0. 0. 1. 0. 0.]\n",
            "  [0. 0. 0. 0. 0. 1. 0.]\n",
            "  [0. 0. 0. 0. 0. 0. 1.]]]\n"
          ],
          "name": "stdout"
        }
      ]
    },
    {
      "cell_type": "code",
      "metadata": {
        "id": "r-KqAywquJDq"
      },
      "source": [
        ""
      ],
      "execution_count": null,
      "outputs": []
    },
    {
      "cell_type": "markdown",
      "metadata": {
        "id": "k6F8TP6156qy"
      },
      "source": [
        "# NLP 실습"
      ]
    },
    {
      "cell_type": "code",
      "metadata": {
        "id": "widHuFqS5_eN"
      },
      "source": [
        ""
      ],
      "execution_count": null,
      "outputs": []
    }
  ]
}