{
  "nbformat": 4,
  "nbformat_minor": 0,
  "metadata": {
    "colab": {
      "name": "20210615_nlp_day4.ipynb",
      "provenance": [],
      "authorship_tag": "ABX9TyP89hhY1kL2ML2YMR5OTyEL",
      "include_colab_link": true
    },
    "kernelspec": {
      "name": "python3",
      "display_name": "Python 3"
    },
    "language_info": {
      "name": "python"
    },
    "accelerator": "GPU"
  },
  "cells": [
    {
      "cell_type": "markdown",
      "metadata": {
        "id": "view-in-github",
        "colab_type": "text"
      },
      "source": [
        "<a href=\"https://colab.research.google.com/github/MarigoldJ/ygl2/blob/main/class/20210615_nlp_day4.ipynb\" target=\"_parent\"><img src=\"https://colab.research.google.com/assets/colab-badge.svg\" alt=\"Open In Colab\"/></a>"
      ]
    },
    {
      "cell_type": "markdown",
      "metadata": {
        "id": "DCTseDzdPWKP"
      },
      "source": [
        "# LSA"
      ]
    },
    {
      "cell_type": "markdown",
      "metadata": {
        "id": "UzA8lvCQXLXZ"
      },
      "source": [
        "## LSA 실습하기"
      ]
    },
    {
      "cell_type": "code",
      "metadata": {
        "id": "8bL0qoFpCoo9"
      },
      "source": [
        "from sklearn.decomposition import TruncatedSVD\n",
        "from sklearn.feature_extraction.text import CountVectorizer\n",
        "from sklearn.preprocessing import Normalizer\n",
        "\n",
        "import pandas as pd\n",
        "import numpy as np"
      ],
      "execution_count": 25,
      "outputs": []
    },
    {
      "cell_type": "code",
      "metadata": {
        "id": "SsqSiPIFQX7Q"
      },
      "source": [
        "def get_dtm(sentence):\n",
        "    '''\n",
        "    dtm을 만드는 함수\n",
        "    '''\n",
        "    vectorizer = CountVectorizer(min_df=1, stop_words='english', dtype=np.float32) # 불용어 한국어 지원 X...\n",
        "    dtm = vectorizer.fit_transform(sentence)    # dtm : document-term matrix\n",
        "\n",
        "    return dtm, vectorizer\n",
        "\n",
        "def print_dtm_matrix(dtm, vectorizer, sentence):\n",
        "    return pd.DataFrame(dtm.toarray(), index=sentence, columns=vectorizer.get_feature_names())\n",
        "\n",
        "def lsa_tsvd(n_components, dtm, vectorizer, sentence):\n",
        "    \n",
        "    # dtm에 truncated SVD 적용\n",
        "    lsa = TruncatedSVD(n_components, algorithm='arpack')    # arpack : 기본적인 알고리즘\n",
        "    dtm_lsa = lsa.fit_transform(dtm)\n",
        "\n",
        "    # dtm에 normalizer 적용\n",
        "    dtm_lsa = Normalizer(copy=False).fit_transform(dtm_lsa)\n",
        "\n",
        "    # 출력\n",
        "    components = pd.DataFrame(lsa.components_, index=['components-1', 'components-2'], columns=vectorizer.get_feature_names())\n",
        "    lsa = pd.DataFrame(dtm_lsa, index=sentence, columns=['components-1', 'components-2'])\n",
        "\n",
        "    # dtm과 dtm_lsa의 유사도 확인\n",
        "    similarity = np.asarray(np.asmatrix(dtm_lsa) * np.asmatrix(dtm_lsa).T)\n",
        "    similarity = pd.DataFrame(similarity, index=sentence, columns=sentence)\n",
        "\n",
        "    return components, lsa, similarity\n",
        "\n",
        "def main():\n",
        "    sentences = ['중앙방역대책본부는 오늘 0시 기준 코로나19 확진 환자가 44명 추가 확인돼 모두 13,417명으로 늘었다고 밝혔습니다.', \n",
        "                 '신규 확진 환자 가운데 해외 유입 사례는 23명, 국내 발생은 21명입니다.', \n",
        "                 '국내 발생 환자는 지역별로 서울 7명, 경기 8명 등 수도권에서 15명이 확인됐고, 광주에서도 5명, 대전에서도 1명이 확진됐습니다.', \n",
        "                 '또한 코로나19로 1명이 추가 사망해 누적 사망자는 모두 289명으로 늘었습니다.']\n",
        "    dtm, vectorizer = get_dtm(sentences)\n",
        "    d = print_dtm_matrix(dtm, vectorizer, sentences)\n",
        "\n",
        "    c, l, s = lsa_tsvd(2, dtm, vectorizer, sentences)\n",
        "\n",
        "    return d, c, l, s\n"
      ],
      "execution_count": 26,
      "outputs": []
    },
    {
      "cell_type": "code",
      "metadata": {
        "id": "2aIw1JJTRu1Y"
      },
      "source": [
        "d, c, l, s = main()"
      ],
      "execution_count": 27,
      "outputs": []
    },
    {
      "cell_type": "code",
      "metadata": {
        "colab": {
          "base_uri": "https://localhost:8080/",
          "height": 760
        },
        "id": "-AZdEZPDWRxS",
        "outputId": "96cb1a4c-d6b9-4378-9274-c3489fb1f3a5"
      },
      "source": [
        "d.head(2)"
      ],
      "execution_count": 32,
      "outputs": [
        {
          "output_type": "execute_result",
          "data": {
            "text/html": [
              "<div>\n",
              "<style scoped>\n",
              "    .dataframe tbody tr th:only-of-type {\n",
              "        vertical-align: middle;\n",
              "    }\n",
              "\n",
              "    .dataframe tbody tr th {\n",
              "        vertical-align: top;\n",
              "    }\n",
              "\n",
              "    .dataframe thead th {\n",
              "        text-align: right;\n",
              "    }\n",
              "</style>\n",
              "<table border=\"1\" class=\"dataframe\">\n",
              "  <thead>\n",
              "    <tr style=\"text-align: right;\">\n",
              "      <th></th>\n",
              "      <th>0시</th>\n",
              "      <th>13</th>\n",
              "      <th>15명이</th>\n",
              "      <th>1명이</th>\n",
              "      <th>21명입니다</th>\n",
              "      <th>23명</th>\n",
              "      <th>289명으로</th>\n",
              "      <th>417명으로</th>\n",
              "      <th>44명</th>\n",
              "      <th>5명</th>\n",
              "      <th>7명</th>\n",
              "      <th>8명</th>\n",
              "      <th>가운데</th>\n",
              "      <th>경기</th>\n",
              "      <th>광주에서도</th>\n",
              "      <th>국내</th>\n",
              "      <th>기준</th>\n",
              "      <th>누적</th>\n",
              "      <th>늘었다고</th>\n",
              "      <th>늘었습니다</th>\n",
              "      <th>대전에서도</th>\n",
              "      <th>또한</th>\n",
              "      <th>모두</th>\n",
              "      <th>발생</th>\n",
              "      <th>발생은</th>\n",
              "      <th>밝혔습니다</th>\n",
              "      <th>사례는</th>\n",
              "      <th>사망자는</th>\n",
              "      <th>사망해</th>\n",
              "      <th>서울</th>\n",
              "      <th>수도권에서</th>\n",
              "      <th>신규</th>\n",
              "      <th>오늘</th>\n",
              "      <th>유입</th>\n",
              "      <th>중앙방역대책본부는</th>\n",
              "      <th>지역별로</th>\n",
              "      <th>추가</th>\n",
              "      <th>코로나19</th>\n",
              "      <th>코로나19로</th>\n",
              "      <th>해외</th>\n",
              "      <th>확인돼</th>\n",
              "      <th>확인됐고</th>\n",
              "      <th>확진</th>\n",
              "      <th>확진됐습니다</th>\n",
              "      <th>환자</th>\n",
              "      <th>환자가</th>\n",
              "      <th>환자는</th>\n",
              "    </tr>\n",
              "  </thead>\n",
              "  <tbody>\n",
              "    <tr>\n",
              "      <th>중앙방역대책본부는 오늘 0시 기준 코로나19 확진 환자가 44명 추가 확인돼 모두 13,417명으로 늘었다고 밝혔습니다.</th>\n",
              "      <td>1.0</td>\n",
              "      <td>1.0</td>\n",
              "      <td>0.0</td>\n",
              "      <td>0.0</td>\n",
              "      <td>0.0</td>\n",
              "      <td>0.0</td>\n",
              "      <td>0.0</td>\n",
              "      <td>1.0</td>\n",
              "      <td>1.0</td>\n",
              "      <td>0.0</td>\n",
              "      <td>0.0</td>\n",
              "      <td>0.0</td>\n",
              "      <td>0.0</td>\n",
              "      <td>0.0</td>\n",
              "      <td>0.0</td>\n",
              "      <td>0.0</td>\n",
              "      <td>1.0</td>\n",
              "      <td>0.0</td>\n",
              "      <td>1.0</td>\n",
              "      <td>0.0</td>\n",
              "      <td>0.0</td>\n",
              "      <td>0.0</td>\n",
              "      <td>1.0</td>\n",
              "      <td>0.0</td>\n",
              "      <td>0.0</td>\n",
              "      <td>1.0</td>\n",
              "      <td>0.0</td>\n",
              "      <td>0.0</td>\n",
              "      <td>0.0</td>\n",
              "      <td>0.0</td>\n",
              "      <td>0.0</td>\n",
              "      <td>0.0</td>\n",
              "      <td>1.0</td>\n",
              "      <td>0.0</td>\n",
              "      <td>1.0</td>\n",
              "      <td>0.0</td>\n",
              "      <td>1.0</td>\n",
              "      <td>1.0</td>\n",
              "      <td>0.0</td>\n",
              "      <td>0.0</td>\n",
              "      <td>1.0</td>\n",
              "      <td>0.0</td>\n",
              "      <td>1.0</td>\n",
              "      <td>0.0</td>\n",
              "      <td>0.0</td>\n",
              "      <td>1.0</td>\n",
              "      <td>0.0</td>\n",
              "    </tr>\n",
              "    <tr>\n",
              "      <th>신규 확진 환자 가운데 해외 유입 사례는 23명, 국내 발생은 21명입니다.</th>\n",
              "      <td>0.0</td>\n",
              "      <td>0.0</td>\n",
              "      <td>0.0</td>\n",
              "      <td>0.0</td>\n",
              "      <td>1.0</td>\n",
              "      <td>1.0</td>\n",
              "      <td>0.0</td>\n",
              "      <td>0.0</td>\n",
              "      <td>0.0</td>\n",
              "      <td>0.0</td>\n",
              "      <td>0.0</td>\n",
              "      <td>0.0</td>\n",
              "      <td>1.0</td>\n",
              "      <td>0.0</td>\n",
              "      <td>0.0</td>\n",
              "      <td>1.0</td>\n",
              "      <td>0.0</td>\n",
              "      <td>0.0</td>\n",
              "      <td>0.0</td>\n",
              "      <td>0.0</td>\n",
              "      <td>0.0</td>\n",
              "      <td>0.0</td>\n",
              "      <td>0.0</td>\n",
              "      <td>0.0</td>\n",
              "      <td>1.0</td>\n",
              "      <td>0.0</td>\n",
              "      <td>1.0</td>\n",
              "      <td>0.0</td>\n",
              "      <td>0.0</td>\n",
              "      <td>0.0</td>\n",
              "      <td>0.0</td>\n",
              "      <td>1.0</td>\n",
              "      <td>0.0</td>\n",
              "      <td>1.0</td>\n",
              "      <td>0.0</td>\n",
              "      <td>0.0</td>\n",
              "      <td>0.0</td>\n",
              "      <td>0.0</td>\n",
              "      <td>0.0</td>\n",
              "      <td>1.0</td>\n",
              "      <td>0.0</td>\n",
              "      <td>0.0</td>\n",
              "      <td>1.0</td>\n",
              "      <td>0.0</td>\n",
              "      <td>1.0</td>\n",
              "      <td>0.0</td>\n",
              "      <td>0.0</td>\n",
              "    </tr>\n",
              "  </tbody>\n",
              "</table>\n",
              "</div>"
            ],
            "text/plain": [
              "                                                     0시   13  ...  환자가  환자는\n",
              "중앙방역대책본부는 오늘 0시 기준 코로나19 확진 환자가 44명 추가 확인돼 모두 1...  1.0  1.0  ...  1.0  0.0\n",
              "신규 확진 환자 가운데 해외 유입 사례는 23명, 국내 발생은 21명입니다.          0.0  0.0  ...  0.0  0.0\n",
              "\n",
              "[2 rows x 47 columns]"
            ]
          },
          "metadata": {
            "tags": []
          },
          "execution_count": 32
        }
      ]
    },
    {
      "cell_type": "code",
      "metadata": {
        "colab": {
          "base_uri": "https://localhost:8080/",
          "height": 199
        },
        "id": "cVo0wLZLWTJt",
        "outputId": "b715bf0c-7e58-452e-b152-45d0cff3bf0f"
      },
      "source": [
        "c"
      ],
      "execution_count": 29,
      "outputs": [
        {
          "output_type": "execute_result",
          "data": {
            "text/html": [
              "<div>\n",
              "<style scoped>\n",
              "    .dataframe tbody tr th:only-of-type {\n",
              "        vertical-align: middle;\n",
              "    }\n",
              "\n",
              "    .dataframe tbody tr th {\n",
              "        vertical-align: top;\n",
              "    }\n",
              "\n",
              "    .dataframe thead th {\n",
              "        text-align: right;\n",
              "    }\n",
              "</style>\n",
              "<table border=\"1\" class=\"dataframe\">\n",
              "  <thead>\n",
              "    <tr style=\"text-align: right;\">\n",
              "      <th></th>\n",
              "      <th>0시</th>\n",
              "      <th>13</th>\n",
              "      <th>15명이</th>\n",
              "      <th>1명이</th>\n",
              "      <th>21명입니다</th>\n",
              "      <th>23명</th>\n",
              "      <th>289명으로</th>\n",
              "      <th>417명으로</th>\n",
              "      <th>44명</th>\n",
              "      <th>5명</th>\n",
              "      <th>7명</th>\n",
              "      <th>8명</th>\n",
              "      <th>가운데</th>\n",
              "      <th>경기</th>\n",
              "      <th>광주에서도</th>\n",
              "      <th>국내</th>\n",
              "      <th>기준</th>\n",
              "      <th>누적</th>\n",
              "      <th>늘었다고</th>\n",
              "      <th>늘었습니다</th>\n",
              "      <th>대전에서도</th>\n",
              "      <th>또한</th>\n",
              "      <th>모두</th>\n",
              "      <th>발생</th>\n",
              "      <th>발생은</th>\n",
              "      <th>밝혔습니다</th>\n",
              "      <th>사례는</th>\n",
              "      <th>사망자는</th>\n",
              "      <th>사망해</th>\n",
              "      <th>서울</th>\n",
              "      <th>수도권에서</th>\n",
              "      <th>신규</th>\n",
              "      <th>오늘</th>\n",
              "      <th>유입</th>\n",
              "      <th>중앙방역대책본부는</th>\n",
              "      <th>지역별로</th>\n",
              "      <th>추가</th>\n",
              "      <th>코로나19</th>\n",
              "      <th>코로나19로</th>\n",
              "      <th>해외</th>\n",
              "      <th>확인돼</th>\n",
              "      <th>확인됐고</th>\n",
              "      <th>확진</th>\n",
              "      <th>확진됐습니다</th>\n",
              "      <th>환자</th>\n",
              "      <th>환자가</th>\n",
              "      <th>환자는</th>\n",
              "    </tr>\n",
              "  </thead>\n",
              "  <tbody>\n",
              "    <tr>\n",
              "      <th>components-1</th>\n",
              "      <td>0.115642</td>\n",
              "      <td>0.115642</td>\n",
              "      <td>0.198653</td>\n",
              "      <td>0.263701</td>\n",
              "      <td>0.056029</td>\n",
              "      <td>0.056029</td>\n",
              "      <td>0.065048</td>\n",
              "      <td>0.115642</td>\n",
              "      <td>0.115642</td>\n",
              "      <td>0.198653</td>\n",
              "      <td>0.198653</td>\n",
              "      <td>0.198653</td>\n",
              "      <td>0.056029</td>\n",
              "      <td>0.198653</td>\n",
              "      <td>0.198653</td>\n",
              "      <td>0.254682</td>\n",
              "      <td>0.115642</td>\n",
              "      <td>0.065048</td>\n",
              "      <td>0.115642</td>\n",
              "      <td>0.065048</td>\n",
              "      <td>0.198653</td>\n",
              "      <td>0.065048</td>\n",
              "      <td>0.180691</td>\n",
              "      <td>0.198653</td>\n",
              "      <td>0.056029</td>\n",
              "      <td>0.115642</td>\n",
              "      <td>0.056029</td>\n",
              "      <td>0.065048</td>\n",
              "      <td>0.065048</td>\n",
              "      <td>0.198653</td>\n",
              "      <td>0.198653</td>\n",
              "      <td>0.056029</td>\n",
              "      <td>0.115642</td>\n",
              "      <td>0.056029</td>\n",
              "      <td>0.115642</td>\n",
              "      <td>0.198653</td>\n",
              "      <td>0.180691</td>\n",
              "      <td>0.115642</td>\n",
              "      <td>0.065048</td>\n",
              "      <td>0.056029</td>\n",
              "      <td>0.115642</td>\n",
              "      <td>0.198653</td>\n",
              "      <td>0.171671</td>\n",
              "      <td>0.198653</td>\n",
              "      <td>0.056029</td>\n",
              "      <td>0.115642</td>\n",
              "      <td>0.198653</td>\n",
              "    </tr>\n",
              "    <tr>\n",
              "      <th>components-2</th>\n",
              "      <td>0.205450</td>\n",
              "      <td>0.205450</td>\n",
              "      <td>-0.139691</td>\n",
              "      <td>-0.090792</td>\n",
              "      <td>0.014464</td>\n",
              "      <td>0.014464</td>\n",
              "      <td>0.048898</td>\n",
              "      <td>0.205450</td>\n",
              "      <td>0.205450</td>\n",
              "      <td>-0.139691</td>\n",
              "      <td>-0.139691</td>\n",
              "      <td>-0.139691</td>\n",
              "      <td>0.014464</td>\n",
              "      <td>-0.139691</td>\n",
              "      <td>-0.139691</td>\n",
              "      <td>-0.125227</td>\n",
              "      <td>0.205450</td>\n",
              "      <td>0.048898</td>\n",
              "      <td>0.205450</td>\n",
              "      <td>0.048898</td>\n",
              "      <td>-0.139691</td>\n",
              "      <td>0.048898</td>\n",
              "      <td>0.254349</td>\n",
              "      <td>-0.139691</td>\n",
              "      <td>0.014464</td>\n",
              "      <td>0.205450</td>\n",
              "      <td>0.014464</td>\n",
              "      <td>0.048898</td>\n",
              "      <td>0.048898</td>\n",
              "      <td>-0.139691</td>\n",
              "      <td>-0.139691</td>\n",
              "      <td>0.014464</td>\n",
              "      <td>0.205450</td>\n",
              "      <td>0.014464</td>\n",
              "      <td>0.205450</td>\n",
              "      <td>-0.139691</td>\n",
              "      <td>0.254349</td>\n",
              "      <td>0.205450</td>\n",
              "      <td>0.048898</td>\n",
              "      <td>0.014464</td>\n",
              "      <td>0.205450</td>\n",
              "      <td>-0.139691</td>\n",
              "      <td>0.219914</td>\n",
              "      <td>-0.139691</td>\n",
              "      <td>0.014464</td>\n",
              "      <td>0.205450</td>\n",
              "      <td>-0.139691</td>\n",
              "    </tr>\n",
              "  </tbody>\n",
              "</table>\n",
              "</div>"
            ],
            "text/plain": [
              "                    0시        13      15명이  ...        환자       환자가       환자는\n",
              "components-1  0.115642  0.115642  0.198653  ...  0.056029  0.115642  0.198653\n",
              "components-2  0.205450  0.205450 -0.139691  ...  0.014464  0.205450 -0.139691\n",
              "\n",
              "[2 rows x 47 columns]"
            ]
          },
          "metadata": {
            "tags": []
          },
          "execution_count": 29
        }
      ]
    },
    {
      "cell_type": "code",
      "metadata": {
        "colab": {
          "base_uri": "https://localhost:8080/",
          "height": 275
        },
        "id": "qLhSpq4RVOPE",
        "outputId": "a548f36d-707c-452b-92e2-152c697658e8"
      },
      "source": [
        "l"
      ],
      "execution_count": 30,
      "outputs": [
        {
          "output_type": "execute_result",
          "data": {
            "text/html": [
              "<div>\n",
              "<style scoped>\n",
              "    .dataframe tbody tr th:only-of-type {\n",
              "        vertical-align: middle;\n",
              "    }\n",
              "\n",
              "    .dataframe tbody tr th {\n",
              "        vertical-align: top;\n",
              "    }\n",
              "\n",
              "    .dataframe thead th {\n",
              "        text-align: right;\n",
              "    }\n",
              "</style>\n",
              "<table border=\"1\" class=\"dataframe\">\n",
              "  <thead>\n",
              "    <tr style=\"text-align: right;\">\n",
              "      <th></th>\n",
              "      <th>components-1</th>\n",
              "      <th>components-2</th>\n",
              "    </tr>\n",
              "  </thead>\n",
              "  <tbody>\n",
              "    <tr>\n",
              "      <th>중앙방역대책본부는 오늘 0시 기준 코로나19 확진 환자가 44명 추가 확인돼 모두 13,417명으로 늘었다고 밝혔습니다.</th>\n",
              "      <td>0.515354</td>\n",
              "      <td>0.856977</td>\n",
              "    </tr>\n",
              "    <tr>\n",
              "      <th>신규 확진 환자 가운데 해외 유입 사례는 23명, 국내 발생은 21명입니다.</th>\n",
              "      <td>0.972027</td>\n",
              "      <td>0.234870</td>\n",
              "    </tr>\n",
              "    <tr>\n",
              "      <th>국내 발생 환자는 지역별로 서울 7명, 경기 8명 등 수도권에서 15명이 확인됐고, 광주에서도 5명, 대전에서도 1명이 확진됐습니다.</th>\n",
              "      <td>0.835306</td>\n",
              "      <td>-0.549785</td>\n",
              "    </tr>\n",
              "    <tr>\n",
              "      <th>또한 코로나19로 1명이 추가 사망해 누적 사망자는 모두 289명으로 늘었습니다.</th>\n",
              "      <td>0.817843</td>\n",
              "      <td>0.575441</td>\n",
              "    </tr>\n",
              "  </tbody>\n",
              "</table>\n",
              "</div>"
            ],
            "text/plain": [
              "                                                    components-1  components-2\n",
              "중앙방역대책본부는 오늘 0시 기준 코로나19 확진 환자가 44명 추가 확인돼 모두 1...      0.515354      0.856977\n",
              "신규 확진 환자 가운데 해외 유입 사례는 23명, 국내 발생은 21명입니다.              0.972027      0.234870\n",
              "국내 발생 환자는 지역별로 서울 7명, 경기 8명 등 수도권에서 15명이 확인됐고, ...      0.835306     -0.549785\n",
              "또한 코로나19로 1명이 추가 사망해 누적 사망자는 모두 289명으로 늘었습니다.           0.817843      0.575441"
            ]
          },
          "metadata": {
            "tags": []
          },
          "execution_count": 30
        }
      ]
    },
    {
      "cell_type": "code",
      "metadata": {
        "colab": {
          "base_uri": "https://localhost:8080/",
          "height": 683
        },
        "id": "u7NmMAynWT60",
        "outputId": "d294ff2e-63e5-4bd1-b380-17301bb70b6b"
      },
      "source": [
        "s"
      ],
      "execution_count": 31,
      "outputs": [
        {
          "output_type": "execute_result",
          "data": {
            "text/html": [
              "<div>\n",
              "<style scoped>\n",
              "    .dataframe tbody tr th:only-of-type {\n",
              "        vertical-align: middle;\n",
              "    }\n",
              "\n",
              "    .dataframe tbody tr th {\n",
              "        vertical-align: top;\n",
              "    }\n",
              "\n",
              "    .dataframe thead th {\n",
              "        text-align: right;\n",
              "    }\n",
              "</style>\n",
              "<table border=\"1\" class=\"dataframe\">\n",
              "  <thead>\n",
              "    <tr style=\"text-align: right;\">\n",
              "      <th></th>\n",
              "      <th>중앙방역대책본부는 오늘 0시 기준 코로나19 확진 환자가 44명 추가 확인돼 모두 13,417명으로 늘었다고 밝혔습니다.</th>\n",
              "      <th>신규 확진 환자 가운데 해외 유입 사례는 23명, 국내 발생은 21명입니다.</th>\n",
              "      <th>국내 발생 환자는 지역별로 서울 7명, 경기 8명 등 수도권에서 15명이 확인됐고, 광주에서도 5명, 대전에서도 1명이 확진됐습니다.</th>\n",
              "      <th>또한 코로나19로 1명이 추가 사망해 누적 사망자는 모두 289명으로 늘었습니다.</th>\n",
              "    </tr>\n",
              "  </thead>\n",
              "  <tbody>\n",
              "    <tr>\n",
              "      <th>중앙방역대책본부는 오늘 0시 기준 코로나19 확진 환자가 44명 추가 확인돼 모두 13,417명으로 늘었다고 밝혔습니다.</th>\n",
              "      <td>1.000000</td>\n",
              "      <td>0.702216</td>\n",
              "      <td>-0.040675</td>\n",
              "      <td>0.914619</td>\n",
              "    </tr>\n",
              "    <tr>\n",
              "      <th>신규 확진 환자 가운데 해외 유입 사례는 23명, 국내 발생은 21명입니다.</th>\n",
              "      <td>0.702216</td>\n",
              "      <td>1.000000</td>\n",
              "      <td>0.682812</td>\n",
              "      <td>0.930119</td>\n",
              "    </tr>\n",
              "    <tr>\n",
              "      <th>국내 발생 환자는 지역별로 서울 7명, 경기 8명 등 수도권에서 15명이 확인됐고, 광주에서도 5명, 대전에서도 1명이 확진됐습니다.</th>\n",
              "      <td>-0.040675</td>\n",
              "      <td>0.682812</td>\n",
              "      <td>1.000000</td>\n",
              "      <td>0.366781</td>\n",
              "    </tr>\n",
              "    <tr>\n",
              "      <th>또한 코로나19로 1명이 추가 사망해 누적 사망자는 모두 289명으로 늘었습니다.</th>\n",
              "      <td>0.914619</td>\n",
              "      <td>0.930119</td>\n",
              "      <td>0.366781</td>\n",
              "      <td>1.000000</td>\n",
              "    </tr>\n",
              "  </tbody>\n",
              "</table>\n",
              "</div>"
            ],
            "text/plain": [
              "                                                    중앙방역대책본부는 오늘 0시 기준 코로나19 확진 환자가 44명 추가 확인돼 모두 13,417명으로 늘었다고 밝혔습니다.  ...  또한 코로나19로 1명이 추가 사망해 누적 사망자는 모두 289명으로 늘었습니다.\n",
              "중앙방역대책본부는 오늘 0시 기준 코로나19 확진 환자가 44명 추가 확인돼 모두 1...                                           1.000000                    ...                                       0.914619\n",
              "신규 확진 환자 가운데 해외 유입 사례는 23명, 국내 발생은 21명입니다.                                                   0.702216                    ...                                       0.930119\n",
              "국내 발생 환자는 지역별로 서울 7명, 경기 8명 등 수도권에서 15명이 확인됐고, ...                                          -0.040675                    ...                                       0.366781\n",
              "또한 코로나19로 1명이 추가 사망해 누적 사망자는 모두 289명으로 늘었습니다.                                                0.914619                    ...                                       1.000000\n",
              "\n",
              "[4 rows x 4 columns]"
            ]
          },
          "metadata": {
            "tags": []
          },
          "execution_count": 31
        }
      ]
    },
    {
      "cell_type": "code",
      "metadata": {
        "id": "7mHDaRpgWUce"
      },
      "source": [
        ""
      ],
      "execution_count": 31,
      "outputs": []
    },
    {
      "cell_type": "markdown",
      "metadata": {
        "id": "hiwc1k5fXN2K"
      },
      "source": [
        "## LSA 실습한거 뜯어보기"
      ]
    },
    {
      "cell_type": "code",
      "metadata": {
        "id": "wAUfwIY-XQXB"
      },
      "source": [
        "# 함수 사용하지 않고 코드 써보고, 변수 각각 확인해보기"
      ],
      "execution_count": null,
      "outputs": []
    },
    {
      "cell_type": "markdown",
      "metadata": {
        "id": "vn0attVnZ_de"
      },
      "source": [
        "## Sklearn dataset *fetch_20newsgroups* 를 활용한 실습"
      ]
    },
    {
      "cell_type": "code",
      "metadata": {
        "id": "FziJsA3AagUu"
      },
      "source": [
        ""
      ],
      "execution_count": null,
      "outputs": []
    },
    {
      "cell_type": "code",
      "metadata": {
        "id": "SlDsO-rOaiqD"
      },
      "source": [
        ""
      ],
      "execution_count": null,
      "outputs": []
    },
    {
      "cell_type": "code",
      "metadata": {
        "id": "wohy6o3gaiyF"
      },
      "source": [
        ""
      ],
      "execution_count": null,
      "outputs": []
    }
  ]
}