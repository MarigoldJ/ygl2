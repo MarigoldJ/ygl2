{
  "nbformat": 4,
  "nbformat_minor": 0,
  "metadata": {
    "colab": {
      "name": "20210615_nlp_day4.ipynb",
      "provenance": [],
      "authorship_tag": "ABX9TyOYIkuDD9JmMPSRafr5grNi",
      "include_colab_link": true
    },
    "kernelspec": {
      "name": "python3",
      "display_name": "Python 3"
    },
    "language_info": {
      "name": "python"
    },
    "accelerator": "GPU"
  },
  "cells": [
    {
      "cell_type": "markdown",
      "metadata": {
        "id": "view-in-github",
        "colab_type": "text"
      },
      "source": [
        "<a href=\"https://colab.research.google.com/github/MarigoldJ/ygl2/blob/main/class/20210615_nlp_day4.ipynb\" target=\"_parent\"><img src=\"https://colab.research.google.com/assets/colab-badge.svg\" alt=\"Open In Colab\"/></a>"
      ]
    },
    {
      "cell_type": "markdown",
      "metadata": {
        "id": "DCTseDzdPWKP"
      },
      "source": [
        "# LSA"
      ]
    },
    {
      "cell_type": "markdown",
      "metadata": {
        "id": "UzA8lvCQXLXZ"
      },
      "source": [
        "## LSA 실습하기"
      ]
    },
    {
      "cell_type": "code",
      "metadata": {
        "id": "8bL0qoFpCoo9"
      },
      "source": [
        "from sklearn.decomposition import TruncatedSVD\n",
        "from sklearn.feature_extraction.text import CountVectorizer\n",
        "from sklearn.preprocessing import Normalizer\n",
        "\n",
        "import pandas as pd\n",
        "import numpy as np"
      ],
      "execution_count": 25,
      "outputs": []
    },
    {
      "cell_type": "code",
      "metadata": {
        "id": "SsqSiPIFQX7Q"
      },
      "source": [
        "def get_dtm(sentence):\n",
        "    '''\n",
        "    dtm을 만드는 함수\n",
        "    '''\n",
        "    vectorizer = CountVectorizer(min_df=1, stop_words='english', dtype=np.float32) # 불용어 한국어 지원 X...\n",
        "    dtm = vectorizer.fit_transform(sentence)    # dtm : document-term matrix\n",
        "\n",
        "    return dtm, vectorizer\n",
        "\n",
        "def print_dtm_matrix(dtm, vectorizer, sentence):\n",
        "    return pd.DataFrame(dtm.toarray(), index=sentence, columns=vectorizer.get_feature_names())\n",
        "\n",
        "def lsa_tsvd(n_components, dtm, vectorizer, sentence):\n",
        "    \n",
        "    # dtm에 truncated SVD 적용\n",
        "    lsa = TruncatedSVD(n_components, algorithm='arpack')    # arpack : 기본적인 알고리즘\n",
        "    dtm_lsa = lsa.fit_transform(dtm)\n",
        "\n",
        "    # dtm에 normalizer 적용\n",
        "    dtm_lsa = Normalizer(copy=False).fit_transform(dtm_lsa)\n",
        "\n",
        "    # 출력\n",
        "    components = pd.DataFrame(lsa.components_, index=['components-1', 'components-2'], columns=vectorizer.get_feature_names())\n",
        "    lsa = pd.DataFrame(dtm_lsa, index=sentence, columns=['components-1', 'components-2'])\n",
        "\n",
        "    # dtm과 dtm_lsa의 유사도 확인\n",
        "    similarity = np.asarray(np.asmatrix(dtm_lsa) * np.asmatrix(dtm_lsa).T)\n",
        "    similarity = pd.DataFrame(similarity, index=sentence, columns=sentence)\n",
        "\n",
        "    return components, lsa, similarity\n",
        "\n",
        "def main():\n",
        "    sentences = ['중앙방역대책본부는 오늘 0시 기준 코로나19 확진 환자가 44명 추가 확인돼 모두 13,417명으로 늘었다고 밝혔습니다.', \n",
        "                 '신규 확진 환자 가운데 해외 유입 사례는 23명, 국내 발생은 21명입니다.', \n",
        "                 '국내 발생 환자는 지역별로 서울 7명, 경기 8명 등 수도권에서 15명이 확인됐고, 광주에서도 5명, 대전에서도 1명이 확진됐습니다.', \n",
        "                 '또한 코로나19로 1명이 추가 사망해 누적 사망자는 모두 289명으로 늘었습니다.']\n",
        "    dtm, vectorizer = get_dtm(sentences)\n",
        "    d = print_dtm_matrix(dtm, vectorizer, sentences)\n",
        "\n",
        "    c, l, s = lsa_tsvd(2, dtm, vectorizer, sentences)\n",
        "\n",
        "    return d, c, l, s\n"
      ],
      "execution_count": 26,
      "outputs": []
    },
    {
      "cell_type": "code",
      "metadata": {
        "id": "2aIw1JJTRu1Y"
      },
      "source": [
        "d, c, l, s = main()"
      ],
      "execution_count": 27,
      "outputs": []
    },
    {
      "cell_type": "code",
      "metadata": {
        "colab": {
          "base_uri": "https://localhost:8080/",
          "height": 760
        },
        "id": "-AZdEZPDWRxS",
        "outputId": "96cb1a4c-d6b9-4378-9274-c3489fb1f3a5"
      },
      "source": [
        "d.head(2)"
      ],
      "execution_count": 32,
      "outputs": [
        {
          "output_type": "execute_result",
          "data": {
            "text/html": [
              "<div>\n",
              "<style scoped>\n",
              "    .dataframe tbody tr th:only-of-type {\n",
              "        vertical-align: middle;\n",
              "    }\n",
              "\n",
              "    .dataframe tbody tr th {\n",
              "        vertical-align: top;\n",
              "    }\n",
              "\n",
              "    .dataframe thead th {\n",
              "        text-align: right;\n",
              "    }\n",
              "</style>\n",
              "<table border=\"1\" class=\"dataframe\">\n",
              "  <thead>\n",
              "    <tr style=\"text-align: right;\">\n",
              "      <th></th>\n",
              "      <th>0시</th>\n",
              "      <th>13</th>\n",
              "      <th>15명이</th>\n",
              "      <th>1명이</th>\n",
              "      <th>21명입니다</th>\n",
              "      <th>23명</th>\n",
              "      <th>289명으로</th>\n",
              "      <th>417명으로</th>\n",
              "      <th>44명</th>\n",
              "      <th>5명</th>\n",
              "      <th>7명</th>\n",
              "      <th>8명</th>\n",
              "      <th>가운데</th>\n",
              "      <th>경기</th>\n",
              "      <th>광주에서도</th>\n",
              "      <th>국내</th>\n",
              "      <th>기준</th>\n",
              "      <th>누적</th>\n",
              "      <th>늘었다고</th>\n",
              "      <th>늘었습니다</th>\n",
              "      <th>대전에서도</th>\n",
              "      <th>또한</th>\n",
              "      <th>모두</th>\n",
              "      <th>발생</th>\n",
              "      <th>발생은</th>\n",
              "      <th>밝혔습니다</th>\n",
              "      <th>사례는</th>\n",
              "      <th>사망자는</th>\n",
              "      <th>사망해</th>\n",
              "      <th>서울</th>\n",
              "      <th>수도권에서</th>\n",
              "      <th>신규</th>\n",
              "      <th>오늘</th>\n",
              "      <th>유입</th>\n",
              "      <th>중앙방역대책본부는</th>\n",
              "      <th>지역별로</th>\n",
              "      <th>추가</th>\n",
              "      <th>코로나19</th>\n",
              "      <th>코로나19로</th>\n",
              "      <th>해외</th>\n",
              "      <th>확인돼</th>\n",
              "      <th>확인됐고</th>\n",
              "      <th>확진</th>\n",
              "      <th>확진됐습니다</th>\n",
              "      <th>환자</th>\n",
              "      <th>환자가</th>\n",
              "      <th>환자는</th>\n",
              "    </tr>\n",
              "  </thead>\n",
              "  <tbody>\n",
              "    <tr>\n",
              "      <th>중앙방역대책본부는 오늘 0시 기준 코로나19 확진 환자가 44명 추가 확인돼 모두 13,417명으로 늘었다고 밝혔습니다.</th>\n",
              "      <td>1.0</td>\n",
              "      <td>1.0</td>\n",
              "      <td>0.0</td>\n",
              "      <td>0.0</td>\n",
              "      <td>0.0</td>\n",
              "      <td>0.0</td>\n",
              "      <td>0.0</td>\n",
              "      <td>1.0</td>\n",
              "      <td>1.0</td>\n",
              "      <td>0.0</td>\n",
              "      <td>0.0</td>\n",
              "      <td>0.0</td>\n",
              "      <td>0.0</td>\n",
              "      <td>0.0</td>\n",
              "      <td>0.0</td>\n",
              "      <td>0.0</td>\n",
              "      <td>1.0</td>\n",
              "      <td>0.0</td>\n",
              "      <td>1.0</td>\n",
              "      <td>0.0</td>\n",
              "      <td>0.0</td>\n",
              "      <td>0.0</td>\n",
              "      <td>1.0</td>\n",
              "      <td>0.0</td>\n",
              "      <td>0.0</td>\n",
              "      <td>1.0</td>\n",
              "      <td>0.0</td>\n",
              "      <td>0.0</td>\n",
              "      <td>0.0</td>\n",
              "      <td>0.0</td>\n",
              "      <td>0.0</td>\n",
              "      <td>0.0</td>\n",
              "      <td>1.0</td>\n",
              "      <td>0.0</td>\n",
              "      <td>1.0</td>\n",
              "      <td>0.0</td>\n",
              "      <td>1.0</td>\n",
              "      <td>1.0</td>\n",
              "      <td>0.0</td>\n",
              "      <td>0.0</td>\n",
              "      <td>1.0</td>\n",
              "      <td>0.0</td>\n",
              "      <td>1.0</td>\n",
              "      <td>0.0</td>\n",
              "      <td>0.0</td>\n",
              "      <td>1.0</td>\n",
              "      <td>0.0</td>\n",
              "    </tr>\n",
              "    <tr>\n",
              "      <th>신규 확진 환자 가운데 해외 유입 사례는 23명, 국내 발생은 21명입니다.</th>\n",
              "      <td>0.0</td>\n",
              "      <td>0.0</td>\n",
              "      <td>0.0</td>\n",
              "      <td>0.0</td>\n",
              "      <td>1.0</td>\n",
              "      <td>1.0</td>\n",
              "      <td>0.0</td>\n",
              "      <td>0.0</td>\n",
              "      <td>0.0</td>\n",
              "      <td>0.0</td>\n",
              "      <td>0.0</td>\n",
              "      <td>0.0</td>\n",
              "      <td>1.0</td>\n",
              "      <td>0.0</td>\n",
              "      <td>0.0</td>\n",
              "      <td>1.0</td>\n",
              "      <td>0.0</td>\n",
              "      <td>0.0</td>\n",
              "      <td>0.0</td>\n",
              "      <td>0.0</td>\n",
              "      <td>0.0</td>\n",
              "      <td>0.0</td>\n",
              "      <td>0.0</td>\n",
              "      <td>0.0</td>\n",
              "      <td>1.0</td>\n",
              "      <td>0.0</td>\n",
              "      <td>1.0</td>\n",
              "      <td>0.0</td>\n",
              "      <td>0.0</td>\n",
              "      <td>0.0</td>\n",
              "      <td>0.0</td>\n",
              "      <td>1.0</td>\n",
              "      <td>0.0</td>\n",
              "      <td>1.0</td>\n",
              "      <td>0.0</td>\n",
              "      <td>0.0</td>\n",
              "      <td>0.0</td>\n",
              "      <td>0.0</td>\n",
              "      <td>0.0</td>\n",
              "      <td>1.0</td>\n",
              "      <td>0.0</td>\n",
              "      <td>0.0</td>\n",
              "      <td>1.0</td>\n",
              "      <td>0.0</td>\n",
              "      <td>1.0</td>\n",
              "      <td>0.0</td>\n",
              "      <td>0.0</td>\n",
              "    </tr>\n",
              "  </tbody>\n",
              "</table>\n",
              "</div>"
            ],
            "text/plain": [
              "                                                     0시   13  ...  환자가  환자는\n",
              "중앙방역대책본부는 오늘 0시 기준 코로나19 확진 환자가 44명 추가 확인돼 모두 1...  1.0  1.0  ...  1.0  0.0\n",
              "신규 확진 환자 가운데 해외 유입 사례는 23명, 국내 발생은 21명입니다.          0.0  0.0  ...  0.0  0.0\n",
              "\n",
              "[2 rows x 47 columns]"
            ]
          },
          "metadata": {
            "tags": []
          },
          "execution_count": 32
        }
      ]
    },
    {
      "cell_type": "code",
      "metadata": {
        "colab": {
          "base_uri": "https://localhost:8080/",
          "height": 199
        },
        "id": "cVo0wLZLWTJt",
        "outputId": "b715bf0c-7e58-452e-b152-45d0cff3bf0f"
      },
      "source": [
        "c"
      ],
      "execution_count": 29,
      "outputs": [
        {
          "output_type": "execute_result",
          "data": {
            "text/html": [
              "<div>\n",
              "<style scoped>\n",
              "    .dataframe tbody tr th:only-of-type {\n",
              "        vertical-align: middle;\n",
              "    }\n",
              "\n",
              "    .dataframe tbody tr th {\n",
              "        vertical-align: top;\n",
              "    }\n",
              "\n",
              "    .dataframe thead th {\n",
              "        text-align: right;\n",
              "    }\n",
              "</style>\n",
              "<table border=\"1\" class=\"dataframe\">\n",
              "  <thead>\n",
              "    <tr style=\"text-align: right;\">\n",
              "      <th></th>\n",
              "      <th>0시</th>\n",
              "      <th>13</th>\n",
              "      <th>15명이</th>\n",
              "      <th>1명이</th>\n",
              "      <th>21명입니다</th>\n",
              "      <th>23명</th>\n",
              "      <th>289명으로</th>\n",
              "      <th>417명으로</th>\n",
              "      <th>44명</th>\n",
              "      <th>5명</th>\n",
              "      <th>7명</th>\n",
              "      <th>8명</th>\n",
              "      <th>가운데</th>\n",
              "      <th>경기</th>\n",
              "      <th>광주에서도</th>\n",
              "      <th>국내</th>\n",
              "      <th>기준</th>\n",
              "      <th>누적</th>\n",
              "      <th>늘었다고</th>\n",
              "      <th>늘었습니다</th>\n",
              "      <th>대전에서도</th>\n",
              "      <th>또한</th>\n",
              "      <th>모두</th>\n",
              "      <th>발생</th>\n",
              "      <th>발생은</th>\n",
              "      <th>밝혔습니다</th>\n",
              "      <th>사례는</th>\n",
              "      <th>사망자는</th>\n",
              "      <th>사망해</th>\n",
              "      <th>서울</th>\n",
              "      <th>수도권에서</th>\n",
              "      <th>신규</th>\n",
              "      <th>오늘</th>\n",
              "      <th>유입</th>\n",
              "      <th>중앙방역대책본부는</th>\n",
              "      <th>지역별로</th>\n",
              "      <th>추가</th>\n",
              "      <th>코로나19</th>\n",
              "      <th>코로나19로</th>\n",
              "      <th>해외</th>\n",
              "      <th>확인돼</th>\n",
              "      <th>확인됐고</th>\n",
              "      <th>확진</th>\n",
              "      <th>확진됐습니다</th>\n",
              "      <th>환자</th>\n",
              "      <th>환자가</th>\n",
              "      <th>환자는</th>\n",
              "    </tr>\n",
              "  </thead>\n",
              "  <tbody>\n",
              "    <tr>\n",
              "      <th>components-1</th>\n",
              "      <td>0.115642</td>\n",
              "      <td>0.115642</td>\n",
              "      <td>0.198653</td>\n",
              "      <td>0.263701</td>\n",
              "      <td>0.056029</td>\n",
              "      <td>0.056029</td>\n",
              "      <td>0.065048</td>\n",
              "      <td>0.115642</td>\n",
              "      <td>0.115642</td>\n",
              "      <td>0.198653</td>\n",
              "      <td>0.198653</td>\n",
              "      <td>0.198653</td>\n",
              "      <td>0.056029</td>\n",
              "      <td>0.198653</td>\n",
              "      <td>0.198653</td>\n",
              "      <td>0.254682</td>\n",
              "      <td>0.115642</td>\n",
              "      <td>0.065048</td>\n",
              "      <td>0.115642</td>\n",
              "      <td>0.065048</td>\n",
              "      <td>0.198653</td>\n",
              "      <td>0.065048</td>\n",
              "      <td>0.180691</td>\n",
              "      <td>0.198653</td>\n",
              "      <td>0.056029</td>\n",
              "      <td>0.115642</td>\n",
              "      <td>0.056029</td>\n",
              "      <td>0.065048</td>\n",
              "      <td>0.065048</td>\n",
              "      <td>0.198653</td>\n",
              "      <td>0.198653</td>\n",
              "      <td>0.056029</td>\n",
              "      <td>0.115642</td>\n",
              "      <td>0.056029</td>\n",
              "      <td>0.115642</td>\n",
              "      <td>0.198653</td>\n",
              "      <td>0.180691</td>\n",
              "      <td>0.115642</td>\n",
              "      <td>0.065048</td>\n",
              "      <td>0.056029</td>\n",
              "      <td>0.115642</td>\n",
              "      <td>0.198653</td>\n",
              "      <td>0.171671</td>\n",
              "      <td>0.198653</td>\n",
              "      <td>0.056029</td>\n",
              "      <td>0.115642</td>\n",
              "      <td>0.198653</td>\n",
              "    </tr>\n",
              "    <tr>\n",
              "      <th>components-2</th>\n",
              "      <td>0.205450</td>\n",
              "      <td>0.205450</td>\n",
              "      <td>-0.139691</td>\n",
              "      <td>-0.090792</td>\n",
              "      <td>0.014464</td>\n",
              "      <td>0.014464</td>\n",
              "      <td>0.048898</td>\n",
              "      <td>0.205450</td>\n",
              "      <td>0.205450</td>\n",
              "      <td>-0.139691</td>\n",
              "      <td>-0.139691</td>\n",
              "      <td>-0.139691</td>\n",
              "      <td>0.014464</td>\n",
              "      <td>-0.139691</td>\n",
              "      <td>-0.139691</td>\n",
              "      <td>-0.125227</td>\n",
              "      <td>0.205450</td>\n",
              "      <td>0.048898</td>\n",
              "      <td>0.205450</td>\n",
              "      <td>0.048898</td>\n",
              "      <td>-0.139691</td>\n",
              "      <td>0.048898</td>\n",
              "      <td>0.254349</td>\n",
              "      <td>-0.139691</td>\n",
              "      <td>0.014464</td>\n",
              "      <td>0.205450</td>\n",
              "      <td>0.014464</td>\n",
              "      <td>0.048898</td>\n",
              "      <td>0.048898</td>\n",
              "      <td>-0.139691</td>\n",
              "      <td>-0.139691</td>\n",
              "      <td>0.014464</td>\n",
              "      <td>0.205450</td>\n",
              "      <td>0.014464</td>\n",
              "      <td>0.205450</td>\n",
              "      <td>-0.139691</td>\n",
              "      <td>0.254349</td>\n",
              "      <td>0.205450</td>\n",
              "      <td>0.048898</td>\n",
              "      <td>0.014464</td>\n",
              "      <td>0.205450</td>\n",
              "      <td>-0.139691</td>\n",
              "      <td>0.219914</td>\n",
              "      <td>-0.139691</td>\n",
              "      <td>0.014464</td>\n",
              "      <td>0.205450</td>\n",
              "      <td>-0.139691</td>\n",
              "    </tr>\n",
              "  </tbody>\n",
              "</table>\n",
              "</div>"
            ],
            "text/plain": [
              "                    0시        13      15명이  ...        환자       환자가       환자는\n",
              "components-1  0.115642  0.115642  0.198653  ...  0.056029  0.115642  0.198653\n",
              "components-2  0.205450  0.205450 -0.139691  ...  0.014464  0.205450 -0.139691\n",
              "\n",
              "[2 rows x 47 columns]"
            ]
          },
          "metadata": {
            "tags": []
          },
          "execution_count": 29
        }
      ]
    },
    {
      "cell_type": "code",
      "metadata": {
        "colab": {
          "base_uri": "https://localhost:8080/",
          "height": 224
        },
        "id": "qLhSpq4RVOPE",
        "outputId": "a548f36d-707c-452b-92e2-152c697658e8"
      },
      "source": [
        "l"
      ],
      "execution_count": 30,
      "outputs": [
        {
          "output_type": "execute_result",
          "data": {
            "text/html": [
              "<div>\n",
              "<style scoped>\n",
              "    .dataframe tbody tr th:only-of-type {\n",
              "        vertical-align: middle;\n",
              "    }\n",
              "\n",
              "    .dataframe tbody tr th {\n",
              "        vertical-align: top;\n",
              "    }\n",
              "\n",
              "    .dataframe thead th {\n",
              "        text-align: right;\n",
              "    }\n",
              "</style>\n",
              "<table border=\"1\" class=\"dataframe\">\n",
              "  <thead>\n",
              "    <tr style=\"text-align: right;\">\n",
              "      <th></th>\n",
              "      <th>components-1</th>\n",
              "      <th>components-2</th>\n",
              "    </tr>\n",
              "  </thead>\n",
              "  <tbody>\n",
              "    <tr>\n",
              "      <th>중앙방역대책본부는 오늘 0시 기준 코로나19 확진 환자가 44명 추가 확인돼 모두 13,417명으로 늘었다고 밝혔습니다.</th>\n",
              "      <td>0.515354</td>\n",
              "      <td>0.856977</td>\n",
              "    </tr>\n",
              "    <tr>\n",
              "      <th>신규 확진 환자 가운데 해외 유입 사례는 23명, 국내 발생은 21명입니다.</th>\n",
              "      <td>0.972027</td>\n",
              "      <td>0.234870</td>\n",
              "    </tr>\n",
              "    <tr>\n",
              "      <th>국내 발생 환자는 지역별로 서울 7명, 경기 8명 등 수도권에서 15명이 확인됐고, 광주에서도 5명, 대전에서도 1명이 확진됐습니다.</th>\n",
              "      <td>0.835306</td>\n",
              "      <td>-0.549785</td>\n",
              "    </tr>\n",
              "    <tr>\n",
              "      <th>또한 코로나19로 1명이 추가 사망해 누적 사망자는 모두 289명으로 늘었습니다.</th>\n",
              "      <td>0.817843</td>\n",
              "      <td>0.575441</td>\n",
              "    </tr>\n",
              "  </tbody>\n",
              "</table>\n",
              "</div>"
            ],
            "text/plain": [
              "                                                    components-1  components-2\n",
              "중앙방역대책본부는 오늘 0시 기준 코로나19 확진 환자가 44명 추가 확인돼 모두 1...      0.515354      0.856977\n",
              "신규 확진 환자 가운데 해외 유입 사례는 23명, 국내 발생은 21명입니다.              0.972027      0.234870\n",
              "국내 발생 환자는 지역별로 서울 7명, 경기 8명 등 수도권에서 15명이 확인됐고, ...      0.835306     -0.549785\n",
              "또한 코로나19로 1명이 추가 사망해 누적 사망자는 모두 289명으로 늘었습니다.           0.817843      0.575441"
            ]
          },
          "metadata": {
            "tags": []
          },
          "execution_count": 30
        }
      ]
    },
    {
      "cell_type": "code",
      "metadata": {
        "colab": {
          "base_uri": "https://localhost:8080/",
          "height": 513
        },
        "id": "u7NmMAynWT60",
        "outputId": "d294ff2e-63e5-4bd1-b380-17301bb70b6b"
      },
      "source": [
        "s"
      ],
      "execution_count": 31,
      "outputs": [
        {
          "output_type": "execute_result",
          "data": {
            "text/html": [
              "<div>\n",
              "<style scoped>\n",
              "    .dataframe tbody tr th:only-of-type {\n",
              "        vertical-align: middle;\n",
              "    }\n",
              "\n",
              "    .dataframe tbody tr th {\n",
              "        vertical-align: top;\n",
              "    }\n",
              "\n",
              "    .dataframe thead th {\n",
              "        text-align: right;\n",
              "    }\n",
              "</style>\n",
              "<table border=\"1\" class=\"dataframe\">\n",
              "  <thead>\n",
              "    <tr style=\"text-align: right;\">\n",
              "      <th></th>\n",
              "      <th>중앙방역대책본부는 오늘 0시 기준 코로나19 확진 환자가 44명 추가 확인돼 모두 13,417명으로 늘었다고 밝혔습니다.</th>\n",
              "      <th>신규 확진 환자 가운데 해외 유입 사례는 23명, 국내 발생은 21명입니다.</th>\n",
              "      <th>국내 발생 환자는 지역별로 서울 7명, 경기 8명 등 수도권에서 15명이 확인됐고, 광주에서도 5명, 대전에서도 1명이 확진됐습니다.</th>\n",
              "      <th>또한 코로나19로 1명이 추가 사망해 누적 사망자는 모두 289명으로 늘었습니다.</th>\n",
              "    </tr>\n",
              "  </thead>\n",
              "  <tbody>\n",
              "    <tr>\n",
              "      <th>중앙방역대책본부는 오늘 0시 기준 코로나19 확진 환자가 44명 추가 확인돼 모두 13,417명으로 늘었다고 밝혔습니다.</th>\n",
              "      <td>1.000000</td>\n",
              "      <td>0.702216</td>\n",
              "      <td>-0.040675</td>\n",
              "      <td>0.914619</td>\n",
              "    </tr>\n",
              "    <tr>\n",
              "      <th>신규 확진 환자 가운데 해외 유입 사례는 23명, 국내 발생은 21명입니다.</th>\n",
              "      <td>0.702216</td>\n",
              "      <td>1.000000</td>\n",
              "      <td>0.682812</td>\n",
              "      <td>0.930119</td>\n",
              "    </tr>\n",
              "    <tr>\n",
              "      <th>국내 발생 환자는 지역별로 서울 7명, 경기 8명 등 수도권에서 15명이 확인됐고, 광주에서도 5명, 대전에서도 1명이 확진됐습니다.</th>\n",
              "      <td>-0.040675</td>\n",
              "      <td>0.682812</td>\n",
              "      <td>1.000000</td>\n",
              "      <td>0.366781</td>\n",
              "    </tr>\n",
              "    <tr>\n",
              "      <th>또한 코로나19로 1명이 추가 사망해 누적 사망자는 모두 289명으로 늘었습니다.</th>\n",
              "      <td>0.914619</td>\n",
              "      <td>0.930119</td>\n",
              "      <td>0.366781</td>\n",
              "      <td>1.000000</td>\n",
              "    </tr>\n",
              "  </tbody>\n",
              "</table>\n",
              "</div>"
            ],
            "text/plain": [
              "                                                    중앙방역대책본부는 오늘 0시 기준 코로나19 확진 환자가 44명 추가 확인돼 모두 13,417명으로 늘었다고 밝혔습니다.  ...  또한 코로나19로 1명이 추가 사망해 누적 사망자는 모두 289명으로 늘었습니다.\n",
              "중앙방역대책본부는 오늘 0시 기준 코로나19 확진 환자가 44명 추가 확인돼 모두 1...                                           1.000000                    ...                                       0.914619\n",
              "신규 확진 환자 가운데 해외 유입 사례는 23명, 국내 발생은 21명입니다.                                                   0.702216                    ...                                       0.930119\n",
              "국내 발생 환자는 지역별로 서울 7명, 경기 8명 등 수도권에서 15명이 확인됐고, ...                                          -0.040675                    ...                                       0.366781\n",
              "또한 코로나19로 1명이 추가 사망해 누적 사망자는 모두 289명으로 늘었습니다.                                                0.914619                    ...                                       1.000000\n",
              "\n",
              "[4 rows x 4 columns]"
            ]
          },
          "metadata": {
            "tags": []
          },
          "execution_count": 31
        }
      ]
    },
    {
      "cell_type": "code",
      "metadata": {
        "id": "7mHDaRpgWUce"
      },
      "source": [
        ""
      ],
      "execution_count": 31,
      "outputs": []
    },
    {
      "cell_type": "markdown",
      "metadata": {
        "id": "hiwc1k5fXN2K"
      },
      "source": [
        "## LSA 실습한거 뜯어보기"
      ]
    },
    {
      "cell_type": "code",
      "metadata": {
        "id": "wAUfwIY-XQXB"
      },
      "source": [
        "# 함수 사용하지 않고 코드 써보고, 변수 각각 확인해보기"
      ],
      "execution_count": null,
      "outputs": []
    },
    {
      "cell_type": "markdown",
      "metadata": {
        "id": "vn0attVnZ_de"
      },
      "source": [
        "## Sklearn dataset *fetch_20newsgroups* 를 활용한 실습"
      ]
    },
    {
      "cell_type": "code",
      "metadata": {
        "id": "FziJsA3AagUu"
      },
      "source": [
        "from sklearn.datasets import fetch_20newsgroups\n",
        "import pandas as pd"
      ],
      "execution_count": 33,
      "outputs": []
    },
    {
      "cell_type": "code",
      "metadata": {
        "colab": {
          "base_uri": "https://localhost:8080/"
        },
        "id": "SlDsO-rOaiqD",
        "outputId": "82978b54-ba4e-4f8b-ec62-aed056dceccb"
      },
      "source": [
        "dataset = fetch_20newsgroups(shuffle=True, random_state=1, remove=('headers', 'footers', 'quotes'))\n",
        "documents = dataset.data"
      ],
      "execution_count": 34,
      "outputs": [
        {
          "output_type": "stream",
          "text": [
            "Downloading 20news dataset. This may take a few minutes.\n",
            "Downloading dataset from https://ndownloader.figshare.com/files/5975967 (14 MB)\n"
          ],
          "name": "stderr"
        }
      ]
    },
    {
      "cell_type": "code",
      "metadata": {
        "colab": {
          "base_uri": "https://localhost:8080/",
          "height": 419
        },
        "id": "wohy6o3gaiyF",
        "outputId": "13104931-dae1-4caf-9123-3ce8884d536b"
      },
      "source": [
        "new_df = pd.DataFrame({'document': documents})\n",
        "# new_df = pd.DataFrame(data={'col1': [1, 2], 'col2': [3, 4]})\n",
        "\n",
        "new_df['clean_doc'] = new_df['document'].str.replace('[^a-zA-Z]', ' ')   # 영어 외에 제거\n",
        "new_df['clean_doc'] = new_df['clean_doc'].apply(lambda x: ' '.join([w for w in x.split() if len(w) > 3]))\n",
        "new_df['clean_doc'] = new_df['clean_doc'].apply(lambda x: x.lower())\n",
        "new_df"
      ],
      "execution_count": 39,
      "outputs": [
        {
          "output_type": "execute_result",
          "data": {
            "text/html": [
              "<div>\n",
              "<style scoped>\n",
              "    .dataframe tbody tr th:only-of-type {\n",
              "        vertical-align: middle;\n",
              "    }\n",
              "\n",
              "    .dataframe tbody tr th {\n",
              "        vertical-align: top;\n",
              "    }\n",
              "\n",
              "    .dataframe thead th {\n",
              "        text-align: right;\n",
              "    }\n",
              "</style>\n",
              "<table border=\"1\" class=\"dataframe\">\n",
              "  <thead>\n",
              "    <tr style=\"text-align: right;\">\n",
              "      <th></th>\n",
              "      <th>document</th>\n",
              "      <th>clean_doc</th>\n",
              "    </tr>\n",
              "  </thead>\n",
              "  <tbody>\n",
              "    <tr>\n",
              "      <th>0</th>\n",
              "      <td>Well i'm not sure about the story nad it did s...</td>\n",
              "      <td>well sure about story seem biased what disagre...</td>\n",
              "    </tr>\n",
              "    <tr>\n",
              "      <th>1</th>\n",
              "      <td>\\n\\n\\n\\n\\n\\n\\nYeah, do you expect people to re...</td>\n",
              "      <td>yeah expect people read actually accept hard a...</td>\n",
              "    </tr>\n",
              "    <tr>\n",
              "      <th>2</th>\n",
              "      <td>Although I realize that principle is not one o...</td>\n",
              "      <td>although realize that principle your strongest...</td>\n",
              "    </tr>\n",
              "    <tr>\n",
              "      <th>3</th>\n",
              "      <td>Notwithstanding all the legitimate fuss about ...</td>\n",
              "      <td>notwithstanding legitimate fuss about this pro...</td>\n",
              "    </tr>\n",
              "    <tr>\n",
              "      <th>4</th>\n",
              "      <td>Well, I will have to change the scoring on my ...</td>\n",
              "      <td>well will have change scoring playoff pool unf...</td>\n",
              "    </tr>\n",
              "    <tr>\n",
              "      <th>...</th>\n",
              "      <td>...</td>\n",
              "      <td>...</td>\n",
              "    </tr>\n",
              "    <tr>\n",
              "      <th>11309</th>\n",
              "      <td>Danny Rubenstein, an Israeli journalist, will ...</td>\n",
              "      <td>danny rubenstein israeli journalist will speak...</td>\n",
              "    </tr>\n",
              "    <tr>\n",
              "      <th>11310</th>\n",
              "      <td>\\n</td>\n",
              "      <td></td>\n",
              "    </tr>\n",
              "    <tr>\n",
              "      <th>11311</th>\n",
              "      <td>\\nI agree.  Home runs off Clemens are always m...</td>\n",
              "      <td>agree home runs clemens always memorable kinda...</td>\n",
              "    </tr>\n",
              "    <tr>\n",
              "      <th>11312</th>\n",
              "      <td>I used HP DeskJet with Orange Micros Grappler ...</td>\n",
              "      <td>used deskjet with orange micros grappler syste...</td>\n",
              "    </tr>\n",
              "    <tr>\n",
              "      <th>11313</th>\n",
              "      <td>^^^^^^\\n...</td>\n",
              "      <td>argument with murphy scared hell when came las...</td>\n",
              "    </tr>\n",
              "  </tbody>\n",
              "</table>\n",
              "<p>11314 rows × 2 columns</p>\n",
              "</div>"
            ],
            "text/plain": [
              "                                                document                                          clean_doc\n",
              "0      Well i'm not sure about the story nad it did s...  well sure about story seem biased what disagre...\n",
              "1      \\n\\n\\n\\n\\n\\n\\nYeah, do you expect people to re...  yeah expect people read actually accept hard a...\n",
              "2      Although I realize that principle is not one o...  although realize that principle your strongest...\n",
              "3      Notwithstanding all the legitimate fuss about ...  notwithstanding legitimate fuss about this pro...\n",
              "4      Well, I will have to change the scoring on my ...  well will have change scoring playoff pool unf...\n",
              "...                                                  ...                                                ...\n",
              "11309  Danny Rubenstein, an Israeli journalist, will ...  danny rubenstein israeli journalist will speak...\n",
              "11310                                                 \\n                                                   \n",
              "11311  \\nI agree.  Home runs off Clemens are always m...  agree home runs clemens always memorable kinda...\n",
              "11312  I used HP DeskJet with Orange Micros Grappler ...  used deskjet with orange micros grappler syste...\n",
              "11313                                        ^^^^^^\\n...  argument with murphy scared hell when came las...\n",
              "\n",
              "[11314 rows x 2 columns]"
            ]
          },
          "metadata": {
            "tags": []
          },
          "execution_count": 39
        }
      ]
    },
    {
      "cell_type": "code",
      "metadata": {
        "id": "aSfuFIM4dLlJ",
        "outputId": "8dac495b-cb7f-4d8f-8e2e-b222913393ee",
        "colab": {
          "base_uri": "https://localhost:8080/"
        }
      },
      "source": [
        "import nltk\n",
        "nltk.download('all')"
      ],
      "execution_count": 40,
      "outputs": [
        {
          "output_type": "stream",
          "text": [
            "[nltk_data] Downloading collection 'all'\n",
            "[nltk_data]    | \n",
            "[nltk_data]    | Downloading package abc to /root/nltk_data...\n",
            "[nltk_data]    |   Unzipping corpora/abc.zip.\n",
            "[nltk_data]    | Downloading package alpino to /root/nltk_data...\n",
            "[nltk_data]    |   Unzipping corpora/alpino.zip.\n",
            "[nltk_data]    | Downloading package biocreative_ppi to\n",
            "[nltk_data]    |     /root/nltk_data...\n",
            "[nltk_data]    |   Unzipping corpora/biocreative_ppi.zip.\n",
            "[nltk_data]    | Downloading package brown to /root/nltk_data...\n",
            "[nltk_data]    |   Unzipping corpora/brown.zip.\n",
            "[nltk_data]    | Downloading package brown_tei to /root/nltk_data...\n",
            "[nltk_data]    |   Unzipping corpora/brown_tei.zip.\n",
            "[nltk_data]    | Downloading package cess_cat to /root/nltk_data...\n",
            "[nltk_data]    |   Unzipping corpora/cess_cat.zip.\n",
            "[nltk_data]    | Downloading package cess_esp to /root/nltk_data...\n",
            "[nltk_data]    |   Unzipping corpora/cess_esp.zip.\n",
            "[nltk_data]    | Downloading package chat80 to /root/nltk_data...\n",
            "[nltk_data]    |   Unzipping corpora/chat80.zip.\n",
            "[nltk_data]    | Downloading package city_database to\n",
            "[nltk_data]    |     /root/nltk_data...\n",
            "[nltk_data]    |   Unzipping corpora/city_database.zip.\n",
            "[nltk_data]    | Downloading package cmudict to /root/nltk_data...\n",
            "[nltk_data]    |   Unzipping corpora/cmudict.zip.\n",
            "[nltk_data]    | Downloading package comparative_sentences to\n",
            "[nltk_data]    |     /root/nltk_data...\n",
            "[nltk_data]    |   Unzipping corpora/comparative_sentences.zip.\n",
            "[nltk_data]    | Downloading package comtrans to /root/nltk_data...\n",
            "[nltk_data]    | Downloading package conll2000 to /root/nltk_data...\n",
            "[nltk_data]    |   Unzipping corpora/conll2000.zip.\n",
            "[nltk_data]    | Downloading package conll2002 to /root/nltk_data...\n",
            "[nltk_data]    |   Unzipping corpora/conll2002.zip.\n",
            "[nltk_data]    | Downloading package conll2007 to /root/nltk_data...\n",
            "[nltk_data]    | Downloading package crubadan to /root/nltk_data...\n",
            "[nltk_data]    |   Unzipping corpora/crubadan.zip.\n",
            "[nltk_data]    | Downloading package dependency_treebank to\n",
            "[nltk_data]    |     /root/nltk_data...\n",
            "[nltk_data]    |   Unzipping corpora/dependency_treebank.zip.\n",
            "[nltk_data]    | Downloading package dolch to /root/nltk_data...\n",
            "[nltk_data]    |   Unzipping corpora/dolch.zip.\n",
            "[nltk_data]    | Downloading package europarl_raw to\n",
            "[nltk_data]    |     /root/nltk_data...\n",
            "[nltk_data]    |   Unzipping corpora/europarl_raw.zip.\n",
            "[nltk_data]    | Downloading package floresta to /root/nltk_data...\n",
            "[nltk_data]    |   Unzipping corpora/floresta.zip.\n",
            "[nltk_data]    | Downloading package framenet_v15 to\n",
            "[nltk_data]    |     /root/nltk_data...\n",
            "[nltk_data]    |   Unzipping corpora/framenet_v15.zip.\n",
            "[nltk_data]    | Downloading package framenet_v17 to\n",
            "[nltk_data]    |     /root/nltk_data...\n",
            "[nltk_data]    |   Unzipping corpora/framenet_v17.zip.\n",
            "[nltk_data]    | Downloading package gazetteers to /root/nltk_data...\n",
            "[nltk_data]    |   Unzipping corpora/gazetteers.zip.\n",
            "[nltk_data]    | Downloading package genesis to /root/nltk_data...\n",
            "[nltk_data]    |   Unzipping corpora/genesis.zip.\n",
            "[nltk_data]    | Downloading package gutenberg to /root/nltk_data...\n",
            "[nltk_data]    |   Unzipping corpora/gutenberg.zip.\n",
            "[nltk_data]    | Downloading package ieer to /root/nltk_data...\n",
            "[nltk_data]    |   Unzipping corpora/ieer.zip.\n",
            "[nltk_data]    | Downloading package inaugural to /root/nltk_data...\n",
            "[nltk_data]    |   Unzipping corpora/inaugural.zip.\n",
            "[nltk_data]    | Downloading package indian to /root/nltk_data...\n",
            "[nltk_data]    |   Unzipping corpora/indian.zip.\n",
            "[nltk_data]    | Downloading package jeita to /root/nltk_data...\n",
            "[nltk_data]    | Downloading package kimmo to /root/nltk_data...\n",
            "[nltk_data]    |   Unzipping corpora/kimmo.zip.\n",
            "[nltk_data]    | Downloading package knbc to /root/nltk_data...\n",
            "[nltk_data]    | Downloading package lin_thesaurus to\n",
            "[nltk_data]    |     /root/nltk_data...\n",
            "[nltk_data]    |   Unzipping corpora/lin_thesaurus.zip.\n",
            "[nltk_data]    | Downloading package mac_morpho to /root/nltk_data...\n",
            "[nltk_data]    |   Unzipping corpora/mac_morpho.zip.\n",
            "[nltk_data]    | Downloading package machado to /root/nltk_data...\n",
            "[nltk_data]    | Downloading package masc_tagged to /root/nltk_data...\n",
            "[nltk_data]    | Downloading package moses_sample to\n",
            "[nltk_data]    |     /root/nltk_data...\n",
            "[nltk_data]    |   Unzipping models/moses_sample.zip.\n",
            "[nltk_data]    | Downloading package movie_reviews to\n",
            "[nltk_data]    |     /root/nltk_data...\n",
            "[nltk_data]    |   Unzipping corpora/movie_reviews.zip.\n",
            "[nltk_data]    | Downloading package names to /root/nltk_data...\n",
            "[nltk_data]    |   Unzipping corpora/names.zip.\n",
            "[nltk_data]    | Downloading package nombank.1.0 to /root/nltk_data...\n",
            "[nltk_data]    | Downloading package nps_chat to /root/nltk_data...\n",
            "[nltk_data]    |   Unzipping corpora/nps_chat.zip.\n",
            "[nltk_data]    | Downloading package omw to /root/nltk_data...\n",
            "[nltk_data]    |   Unzipping corpora/omw.zip.\n",
            "[nltk_data]    | Downloading package opinion_lexicon to\n",
            "[nltk_data]    |     /root/nltk_data...\n",
            "[nltk_data]    |   Unzipping corpora/opinion_lexicon.zip.\n",
            "[nltk_data]    | Downloading package paradigms to /root/nltk_data...\n",
            "[nltk_data]    |   Unzipping corpora/paradigms.zip.\n",
            "[nltk_data]    | Downloading package pil to /root/nltk_data...\n",
            "[nltk_data]    |   Unzipping corpora/pil.zip.\n",
            "[nltk_data]    | Downloading package pl196x to /root/nltk_data...\n",
            "[nltk_data]    |   Unzipping corpora/pl196x.zip.\n",
            "[nltk_data]    | Downloading package ppattach to /root/nltk_data...\n",
            "[nltk_data]    |   Unzipping corpora/ppattach.zip.\n",
            "[nltk_data]    | Downloading package problem_reports to\n",
            "[nltk_data]    |     /root/nltk_data...\n",
            "[nltk_data]    |   Unzipping corpora/problem_reports.zip.\n",
            "[nltk_data]    | Downloading package propbank to /root/nltk_data...\n",
            "[nltk_data]    | Downloading package ptb to /root/nltk_data...\n",
            "[nltk_data]    |   Unzipping corpora/ptb.zip.\n",
            "[nltk_data]    | Downloading package product_reviews_1 to\n",
            "[nltk_data]    |     /root/nltk_data...\n",
            "[nltk_data]    |   Unzipping corpora/product_reviews_1.zip.\n",
            "[nltk_data]    | Downloading package product_reviews_2 to\n",
            "[nltk_data]    |     /root/nltk_data...\n",
            "[nltk_data]    |   Unzipping corpora/product_reviews_2.zip.\n",
            "[nltk_data]    | Downloading package pros_cons to /root/nltk_data...\n",
            "[nltk_data]    |   Unzipping corpora/pros_cons.zip.\n",
            "[nltk_data]    | Downloading package qc to /root/nltk_data...\n",
            "[nltk_data]    |   Unzipping corpora/qc.zip.\n",
            "[nltk_data]    | Downloading package reuters to /root/nltk_data...\n",
            "[nltk_data]    | Downloading package rte to /root/nltk_data...\n",
            "[nltk_data]    |   Unzipping corpora/rte.zip.\n",
            "[nltk_data]    | Downloading package semcor to /root/nltk_data...\n",
            "[nltk_data]    | Downloading package senseval to /root/nltk_data...\n",
            "[nltk_data]    |   Unzipping corpora/senseval.zip.\n",
            "[nltk_data]    | Downloading package sentiwordnet to\n",
            "[nltk_data]    |     /root/nltk_data...\n",
            "[nltk_data]    |   Unzipping corpora/sentiwordnet.zip.\n",
            "[nltk_data]    | Downloading package sentence_polarity to\n",
            "[nltk_data]    |     /root/nltk_data...\n",
            "[nltk_data]    |   Unzipping corpora/sentence_polarity.zip.\n",
            "[nltk_data]    | Downloading package shakespeare to /root/nltk_data...\n",
            "[nltk_data]    |   Unzipping corpora/shakespeare.zip.\n",
            "[nltk_data]    | Downloading package sinica_treebank to\n",
            "[nltk_data]    |     /root/nltk_data...\n",
            "[nltk_data]    |   Unzipping corpora/sinica_treebank.zip.\n",
            "[nltk_data]    | Downloading package smultron to /root/nltk_data...\n",
            "[nltk_data]    |   Unzipping corpora/smultron.zip.\n",
            "[nltk_data]    | Downloading package state_union to /root/nltk_data...\n",
            "[nltk_data]    |   Unzipping corpora/state_union.zip.\n",
            "[nltk_data]    | Downloading package stopwords to /root/nltk_data...\n",
            "[nltk_data]    |   Unzipping corpora/stopwords.zip.\n",
            "[nltk_data]    | Downloading package subjectivity to\n",
            "[nltk_data]    |     /root/nltk_data...\n",
            "[nltk_data]    |   Unzipping corpora/subjectivity.zip.\n",
            "[nltk_data]    | Downloading package swadesh to /root/nltk_data...\n",
            "[nltk_data]    |   Unzipping corpora/swadesh.zip.\n",
            "[nltk_data]    | Downloading package switchboard to /root/nltk_data...\n",
            "[nltk_data]    |   Unzipping corpora/switchboard.zip.\n",
            "[nltk_data]    | Downloading package timit to /root/nltk_data...\n",
            "[nltk_data]    |   Unzipping corpora/timit.zip.\n",
            "[nltk_data]    | Downloading package toolbox to /root/nltk_data...\n",
            "[nltk_data]    |   Unzipping corpora/toolbox.zip.\n",
            "[nltk_data]    | Downloading package treebank to /root/nltk_data...\n",
            "[nltk_data]    |   Unzipping corpora/treebank.zip.\n",
            "[nltk_data]    | Downloading package twitter_samples to\n",
            "[nltk_data]    |     /root/nltk_data...\n",
            "[nltk_data]    |   Unzipping corpora/twitter_samples.zip.\n",
            "[nltk_data]    | Downloading package udhr to /root/nltk_data...\n",
            "[nltk_data]    |   Unzipping corpora/udhr.zip.\n",
            "[nltk_data]    | Downloading package udhr2 to /root/nltk_data...\n",
            "[nltk_data]    |   Unzipping corpora/udhr2.zip.\n",
            "[nltk_data]    | Downloading package unicode_samples to\n",
            "[nltk_data]    |     /root/nltk_data...\n",
            "[nltk_data]    |   Unzipping corpora/unicode_samples.zip.\n",
            "[nltk_data]    | Downloading package universal_treebanks_v20 to\n",
            "[nltk_data]    |     /root/nltk_data...\n",
            "[nltk_data]    | Downloading package verbnet to /root/nltk_data...\n",
            "[nltk_data]    |   Unzipping corpora/verbnet.zip.\n",
            "[nltk_data]    | Downloading package verbnet3 to /root/nltk_data...\n",
            "[nltk_data]    |   Unzipping corpora/verbnet3.zip.\n",
            "[nltk_data]    | Downloading package webtext to /root/nltk_data...\n",
            "[nltk_data]    |   Unzipping corpora/webtext.zip.\n",
            "[nltk_data]    | Downloading package wordnet to /root/nltk_data...\n",
            "[nltk_data]    |   Unzipping corpora/wordnet.zip.\n",
            "[nltk_data]    | Downloading package wordnet_ic to /root/nltk_data...\n",
            "[nltk_data]    |   Unzipping corpora/wordnet_ic.zip.\n",
            "[nltk_data]    | Downloading package words to /root/nltk_data...\n",
            "[nltk_data]    |   Unzipping corpora/words.zip.\n",
            "[nltk_data]    | Downloading package ycoe to /root/nltk_data...\n",
            "[nltk_data]    |   Unzipping corpora/ycoe.zip.\n",
            "[nltk_data]    | Downloading package rslp to /root/nltk_data...\n",
            "[nltk_data]    |   Unzipping stemmers/rslp.zip.\n",
            "[nltk_data]    | Downloading package maxent_treebank_pos_tagger to\n",
            "[nltk_data]    |     /root/nltk_data...\n",
            "[nltk_data]    |   Unzipping taggers/maxent_treebank_pos_tagger.zip.\n",
            "[nltk_data]    | Downloading package universal_tagset to\n",
            "[nltk_data]    |     /root/nltk_data...\n",
            "[nltk_data]    |   Unzipping taggers/universal_tagset.zip.\n",
            "[nltk_data]    | Downloading package maxent_ne_chunker to\n",
            "[nltk_data]    |     /root/nltk_data...\n",
            "[nltk_data]    |   Unzipping chunkers/maxent_ne_chunker.zip.\n",
            "[nltk_data]    | Downloading package punkt to /root/nltk_data...\n",
            "[nltk_data]    |   Unzipping tokenizers/punkt.zip.\n",
            "[nltk_data]    | Downloading package book_grammars to\n",
            "[nltk_data]    |     /root/nltk_data...\n",
            "[nltk_data]    |   Unzipping grammars/book_grammars.zip.\n",
            "[nltk_data]    | Downloading package sample_grammars to\n",
            "[nltk_data]    |     /root/nltk_data...\n",
            "[nltk_data]    |   Unzipping grammars/sample_grammars.zip.\n",
            "[nltk_data]    | Downloading package spanish_grammars to\n",
            "[nltk_data]    |     /root/nltk_data...\n",
            "[nltk_data]    |   Unzipping grammars/spanish_grammars.zip.\n",
            "[nltk_data]    | Downloading package basque_grammars to\n",
            "[nltk_data]    |     /root/nltk_data...\n",
            "[nltk_data]    |   Unzipping grammars/basque_grammars.zip.\n",
            "[nltk_data]    | Downloading package large_grammars to\n",
            "[nltk_data]    |     /root/nltk_data...\n",
            "[nltk_data]    |   Unzipping grammars/large_grammars.zip.\n",
            "[nltk_data]    | Downloading package tagsets to /root/nltk_data...\n",
            "[nltk_data]    |   Unzipping help/tagsets.zip.\n",
            "[nltk_data]    | Downloading package snowball_data to\n",
            "[nltk_data]    |     /root/nltk_data...\n",
            "[nltk_data]    | Downloading package bllip_wsj_no_aux to\n",
            "[nltk_data]    |     /root/nltk_data...\n",
            "[nltk_data]    |   Unzipping models/bllip_wsj_no_aux.zip.\n",
            "[nltk_data]    | Downloading package word2vec_sample to\n",
            "[nltk_data]    |     /root/nltk_data...\n",
            "[nltk_data]    |   Unzipping models/word2vec_sample.zip.\n",
            "[nltk_data]    | Downloading package panlex_swadesh to\n",
            "[nltk_data]    |     /root/nltk_data...\n",
            "[nltk_data]    | Downloading package mte_teip5 to /root/nltk_data...\n",
            "[nltk_data]    |   Unzipping corpora/mte_teip5.zip.\n",
            "[nltk_data]    | Downloading package averaged_perceptron_tagger to\n",
            "[nltk_data]    |     /root/nltk_data...\n",
            "[nltk_data]    |   Unzipping taggers/averaged_perceptron_tagger.zip.\n",
            "[nltk_data]    | Downloading package averaged_perceptron_tagger_ru to\n",
            "[nltk_data]    |     /root/nltk_data...\n",
            "[nltk_data]    |   Unzipping\n",
            "[nltk_data]    |       taggers/averaged_perceptron_tagger_ru.zip.\n",
            "[nltk_data]    | Downloading package perluniprops to\n",
            "[nltk_data]    |     /root/nltk_data...\n",
            "[nltk_data]    |   Unzipping misc/perluniprops.zip.\n",
            "[nltk_data]    | Downloading package nonbreaking_prefixes to\n",
            "[nltk_data]    |     /root/nltk_data...\n",
            "[nltk_data]    |   Unzipping corpora/nonbreaking_prefixes.zip.\n",
            "[nltk_data]    | Downloading package vader_lexicon to\n",
            "[nltk_data]    |     /root/nltk_data...\n",
            "[nltk_data]    | Downloading package porter_test to /root/nltk_data...\n",
            "[nltk_data]    |   Unzipping stemmers/porter_test.zip.\n",
            "[nltk_data]    | Downloading package wmt15_eval to /root/nltk_data...\n",
            "[nltk_data]    |   Unzipping models/wmt15_eval.zip.\n",
            "[nltk_data]    | Downloading package mwa_ppdb to /root/nltk_data...\n",
            "[nltk_data]    |   Unzipping misc/mwa_ppdb.zip.\n",
            "[nltk_data]    | \n",
            "[nltk_data]  Done downloading collection all\n"
          ],
          "name": "stdout"
        },
        {
          "output_type": "execute_result",
          "data": {
            "text/plain": [
              "True"
            ]
          },
          "metadata": {
            "tags": []
          },
          "execution_count": 40
        }
      ]
    },
    {
      "cell_type": "code",
      "metadata": {
        "id": "t_YxtpNWdQkD"
      },
      "source": [
        "from nltk.corpus import stopwords\n",
        "\n",
        "stop_words = stopwords.words('english')\n",
        "# tokenized_doc = new_df['clean_doc'].apply(lambda x: x.split())\n",
        "tokenized_doc = new_df['clean_doc'].copy().apply(lambda x: [item for item in x.split() if item not in stop_words])\n"
      ],
      "execution_count": 42,
      "outputs": []
    },
    {
      "cell_type": "code",
      "metadata": {
        "id": "m_ql6EeueF90"
      },
      "source": [
        "detokenized_doc = []\n",
        "for i in range(len(new_df)):\n",
        "    t = ' '.join(tokenized_doc[i])\n",
        "    detokenized_doc.append(t)\n",
        "\n",
        "new_df['clean_doc'] = detokenized_doc"
      ],
      "execution_count": 43,
      "outputs": []
    },
    {
      "cell_type": "code",
      "metadata": {
        "id": "rv_f9mAhefjI"
      },
      "source": [
        "from sklearn.feature_extraction.text import TfidfVectorizer\n",
        "\n",
        "vectorizer = TfidfVectorizer(stop_words='english', max_features=1000, max_df=0.5, smooth_idf=True)\n",
        "X = vectorizer.fit_transform(new_df['clean_doc'])"
      ],
      "execution_count": 47,
      "outputs": []
    },
    {
      "cell_type": "code",
      "metadata": {
        "id": "gAGdR9mlfKCp",
        "outputId": "d2b7ae2d-b570-4124-8e6a-2e683547e2ce",
        "colab": {
          "base_uri": "https://localhost:8080/"
        }
      },
      "source": [
        "from sklearn.decomposition import TruncatedSVD\n",
        "\n",
        "svd_model = TruncatedSVD(n_components=20, algorithm='randomized', n_iter=100, random_state=122)\n",
        "svd_model.fit(X)"
      ],
      "execution_count": 48,
      "outputs": [
        {
          "output_type": "execute_result",
          "data": {
            "text/plain": [
              "TruncatedSVD(algorithm='randomized', n_components=20, n_iter=100,\n",
              "             random_state=122, tol=0.0)"
            ]
          },
          "metadata": {
            "tags": []
          },
          "execution_count": 48
        }
      ]
    },
    {
      "cell_type": "code",
      "metadata": {
        "id": "_cmz75EifZ4M",
        "outputId": "a0e8242e-480b-44ab-ef2d-861b2fad20c5",
        "colab": {
          "base_uri": "https://localhost:8080/"
        }
      },
      "source": [
        "terms = vectorizer.get_feature_names()\n",
        "\n",
        "def get_topics(components, feature_names, n=5):\n",
        "    for idx, topic in enumerate(components):\n",
        "        print(f'Topic {idx+1}: {[(feature_names[i], topic[i].round(5)) for i in topic.argsort()[:-n - 1:-1]]}')\n",
        "\n",
        "get_topics(svd_model.components_, terms)"
      ],
      "execution_count": 53,
      "outputs": [
        {
          "output_type": "stream",
          "text": [
            "Topic 1: [('like', 0.21386), ('know', 0.20046), ('people', 0.19293), ('think', 0.17805), ('good', 0.15128)]\n",
            "Topic 2: [('thanks', 0.32888), ('windows', 0.29088), ('card', 0.18069), ('drive', 0.17455), ('mail', 0.15111)]\n",
            "Topic 3: [('game', 0.37064), ('team', 0.32443), ('year', 0.28154), ('games', 0.2537), ('season', 0.18419)]\n",
            "Topic 4: [('drive', 0.53324), ('scsi', 0.20165), ('hard', 0.15628), ('disk', 0.15578), ('card', 0.13994)]\n",
            "Topic 5: [('windows', 0.40399), ('file', 0.25436), ('window', 0.18044), ('files', 0.16078), ('program', 0.13894)]\n",
            "Topic 6: [('chip', 0.16114), ('government', 0.16009), ('mail', 0.15625), ('space', 0.1507), ('information', 0.13562)]\n",
            "Topic 7: [('like', 0.67086), ('bike', 0.14236), ('chip', 0.11169), ('know', 0.11139), ('sounds', 0.10371)]\n",
            "Topic 8: [('card', 0.46633), ('video', 0.22137), ('sale', 0.21266), ('monitor', 0.15463), ('offer', 0.14643)]\n",
            "Topic 9: [('know', 0.46047), ('card', 0.33605), ('chip', 0.17558), ('government', 0.1522), ('video', 0.14356)]\n",
            "Topic 10: [('good', 0.42756), ('know', 0.23039), ('time', 0.1882), ('bike', 0.11406), ('jesus', 0.09027)]\n",
            "Topic 11: [('think', 0.78469), ('chip', 0.10899), ('good', 0.10635), ('thanks', 0.09123), ('clipper', 0.07946)]\n",
            "Topic 12: [('thanks', 0.36824), ('good', 0.22729), ('right', 0.21559), ('bike', 0.21037), ('problem', 0.20894)]\n",
            "Topic 13: [('good', 0.36212), ('people', 0.33985), ('windows', 0.28385), ('know', 0.26232), ('file', 0.18422)]\n",
            "Topic 14: [('space', 0.39946), ('think', 0.23258), ('know', 0.18074), ('nasa', 0.15174), ('problem', 0.12957)]\n",
            "Topic 15: [('space', 0.31613), ('good', 0.3094), ('card', 0.22603), ('people', 0.17476), ('time', 0.14496)]\n",
            "Topic 16: [('people', 0.48156), ('problem', 0.19961), ('window', 0.15281), ('time', 0.14664), ('game', 0.12871)]\n",
            "Topic 17: [('time', 0.34465), ('bike', 0.27303), ('right', 0.25557), ('windows', 0.1997), ('file', 0.19118)]\n",
            "Topic 18: [('time', 0.5973), ('problem', 0.15504), ('file', 0.14956), ('think', 0.12847), ('israel', 0.10903)]\n",
            "Topic 19: [('file', 0.44163), ('need', 0.26633), ('card', 0.18388), ('files', 0.17453), ('right', 0.15448)]\n",
            "Topic 20: [('problem', 0.33006), ('file', 0.27651), ('thanks', 0.23578), ('used', 0.19206), ('space', 0.13185)]\n"
          ],
          "name": "stdout"
        }
      ]
    },
    {
      "cell_type": "markdown",
      "metadata": {
        "id": "PfDTELoykTRS"
      },
      "source": [
        "# LDA"
      ]
    },
    {
      "cell_type": "markdown",
      "metadata": {
        "id": "vuIHnWiUkUpi"
      },
      "source": [
        "## LDA 실습하기"
      ]
    },
    {
      "cell_type": "code",
      "metadata": {
        "id": "hcDILv3fkV3v"
      },
      "source": [
        "from sklearn.datasets import fetch_20newsgroups\n",
        "import pandas as pd"
      ],
      "execution_count": 54,
      "outputs": []
    },
    {
      "cell_type": "code",
      "metadata": {
        "id": "xw_CLLOHktIq"
      },
      "source": [
        "dataset = fetch_20newsgroups(shuffle=True, random_state=2, remove=('headers', 'footers', 'quotes'))\n",
        "documents = dataset.data"
      ],
      "execution_count": 55,
      "outputs": []
    },
    {
      "cell_type": "code",
      "metadata": {
        "id": "jyV1KFSnk3hb"
      },
      "source": [
        "news_df = pd.DataFrame({'document': documents})\n",
        "news_df['clean_doc'] = news_df['document'].str.replace('[^a-zA-Z]', ' ')\n",
        "news_df['clean_doc'] = news_df['clean_doc'].apply(lambda x: ' '.join([w for w in x.split() if len(w) > 3]))\n",
        "news_df['clean_doc'] = news_df['document'].apply(lambda x: x.lower())"
      ],
      "execution_count": 56,
      "outputs": []
    },
    {
      "cell_type": "code",
      "metadata": {
        "id": "-PZ0UQ7Elp9J",
        "outputId": "65942582-f004-48eb-bea3-aa08cec6626a",
        "colab": {
          "base_uri": "https://localhost:8080/"
        }
      },
      "source": [
        "import nltk\n",
        "nltk.download('all')"
      ],
      "execution_count": 57,
      "outputs": [
        {
          "output_type": "stream",
          "text": [
            "[nltk_data] Downloading collection 'all'\n",
            "[nltk_data]    | \n",
            "[nltk_data]    | Downloading package abc to /root/nltk_data...\n",
            "[nltk_data]    |   Package abc is already up-to-date!\n",
            "[nltk_data]    | Downloading package alpino to /root/nltk_data...\n",
            "[nltk_data]    |   Package alpino is already up-to-date!\n",
            "[nltk_data]    | Downloading package biocreative_ppi to\n",
            "[nltk_data]    |     /root/nltk_data...\n",
            "[nltk_data]    |   Package biocreative_ppi is already up-to-date!\n",
            "[nltk_data]    | Downloading package brown to /root/nltk_data...\n",
            "[nltk_data]    |   Package brown is already up-to-date!\n",
            "[nltk_data]    | Downloading package brown_tei to /root/nltk_data...\n",
            "[nltk_data]    |   Package brown_tei is already up-to-date!\n",
            "[nltk_data]    | Downloading package cess_cat to /root/nltk_data...\n",
            "[nltk_data]    |   Package cess_cat is already up-to-date!\n",
            "[nltk_data]    | Downloading package cess_esp to /root/nltk_data...\n",
            "[nltk_data]    |   Package cess_esp is already up-to-date!\n",
            "[nltk_data]    | Downloading package chat80 to /root/nltk_data...\n",
            "[nltk_data]    |   Package chat80 is already up-to-date!\n",
            "[nltk_data]    | Downloading package city_database to\n",
            "[nltk_data]    |     /root/nltk_data...\n",
            "[nltk_data]    |   Package city_database is already up-to-date!\n",
            "[nltk_data]    | Downloading package cmudict to /root/nltk_data...\n",
            "[nltk_data]    |   Package cmudict is already up-to-date!\n",
            "[nltk_data]    | Downloading package comparative_sentences to\n",
            "[nltk_data]    |     /root/nltk_data...\n",
            "[nltk_data]    |   Package comparative_sentences is already up-to-\n",
            "[nltk_data]    |       date!\n",
            "[nltk_data]    | Downloading package comtrans to /root/nltk_data...\n",
            "[nltk_data]    |   Package comtrans is already up-to-date!\n",
            "[nltk_data]    | Downloading package conll2000 to /root/nltk_data...\n",
            "[nltk_data]    |   Package conll2000 is already up-to-date!\n",
            "[nltk_data]    | Downloading package conll2002 to /root/nltk_data...\n",
            "[nltk_data]    |   Package conll2002 is already up-to-date!\n",
            "[nltk_data]    | Downloading package conll2007 to /root/nltk_data...\n",
            "[nltk_data]    |   Package conll2007 is already up-to-date!\n",
            "[nltk_data]    | Downloading package crubadan to /root/nltk_data...\n",
            "[nltk_data]    |   Package crubadan is already up-to-date!\n",
            "[nltk_data]    | Downloading package dependency_treebank to\n",
            "[nltk_data]    |     /root/nltk_data...\n",
            "[nltk_data]    |   Package dependency_treebank is already up-to-date!\n",
            "[nltk_data]    | Downloading package dolch to /root/nltk_data...\n",
            "[nltk_data]    |   Package dolch is already up-to-date!\n",
            "[nltk_data]    | Downloading package europarl_raw to\n",
            "[nltk_data]    |     /root/nltk_data...\n",
            "[nltk_data]    |   Package europarl_raw is already up-to-date!\n",
            "[nltk_data]    | Downloading package floresta to /root/nltk_data...\n",
            "[nltk_data]    |   Package floresta is already up-to-date!\n",
            "[nltk_data]    | Downloading package framenet_v15 to\n",
            "[nltk_data]    |     /root/nltk_data...\n",
            "[nltk_data]    |   Package framenet_v15 is already up-to-date!\n",
            "[nltk_data]    | Downloading package framenet_v17 to\n",
            "[nltk_data]    |     /root/nltk_data...\n",
            "[nltk_data]    |   Package framenet_v17 is already up-to-date!\n",
            "[nltk_data]    | Downloading package gazetteers to /root/nltk_data...\n",
            "[nltk_data]    |   Package gazetteers is already up-to-date!\n",
            "[nltk_data]    | Downloading package genesis to /root/nltk_data...\n",
            "[nltk_data]    |   Package genesis is already up-to-date!\n",
            "[nltk_data]    | Downloading package gutenberg to /root/nltk_data...\n",
            "[nltk_data]    |   Package gutenberg is already up-to-date!\n",
            "[nltk_data]    | Downloading package ieer to /root/nltk_data...\n",
            "[nltk_data]    |   Package ieer is already up-to-date!\n",
            "[nltk_data]    | Downloading package inaugural to /root/nltk_data...\n",
            "[nltk_data]    |   Package inaugural is already up-to-date!\n",
            "[nltk_data]    | Downloading package indian to /root/nltk_data...\n",
            "[nltk_data]    |   Package indian is already up-to-date!\n",
            "[nltk_data]    | Downloading package jeita to /root/nltk_data...\n",
            "[nltk_data]    |   Package jeita is already up-to-date!\n",
            "[nltk_data]    | Downloading package kimmo to /root/nltk_data...\n",
            "[nltk_data]    |   Package kimmo is already up-to-date!\n",
            "[nltk_data]    | Downloading package knbc to /root/nltk_data...\n",
            "[nltk_data]    |   Package knbc is already up-to-date!\n",
            "[nltk_data]    | Downloading package lin_thesaurus to\n",
            "[nltk_data]    |     /root/nltk_data...\n",
            "[nltk_data]    |   Package lin_thesaurus is already up-to-date!\n",
            "[nltk_data]    | Downloading package mac_morpho to /root/nltk_data...\n",
            "[nltk_data]    |   Package mac_morpho is already up-to-date!\n",
            "[nltk_data]    | Downloading package machado to /root/nltk_data...\n",
            "[nltk_data]    |   Package machado is already up-to-date!\n",
            "[nltk_data]    | Downloading package masc_tagged to /root/nltk_data...\n",
            "[nltk_data]    |   Package masc_tagged is already up-to-date!\n",
            "[nltk_data]    | Downloading package moses_sample to\n",
            "[nltk_data]    |     /root/nltk_data...\n",
            "[nltk_data]    |   Package moses_sample is already up-to-date!\n",
            "[nltk_data]    | Downloading package movie_reviews to\n",
            "[nltk_data]    |     /root/nltk_data...\n",
            "[nltk_data]    |   Package movie_reviews is already up-to-date!\n",
            "[nltk_data]    | Downloading package names to /root/nltk_data...\n",
            "[nltk_data]    |   Package names is already up-to-date!\n",
            "[nltk_data]    | Downloading package nombank.1.0 to /root/nltk_data...\n",
            "[nltk_data]    |   Package nombank.1.0 is already up-to-date!\n",
            "[nltk_data]    | Downloading package nps_chat to /root/nltk_data...\n",
            "[nltk_data]    |   Package nps_chat is already up-to-date!\n",
            "[nltk_data]    | Downloading package omw to /root/nltk_data...\n",
            "[nltk_data]    |   Package omw is already up-to-date!\n",
            "[nltk_data]    | Downloading package opinion_lexicon to\n",
            "[nltk_data]    |     /root/nltk_data...\n",
            "[nltk_data]    |   Package opinion_lexicon is already up-to-date!\n",
            "[nltk_data]    | Downloading package paradigms to /root/nltk_data...\n",
            "[nltk_data]    |   Package paradigms is already up-to-date!\n",
            "[nltk_data]    | Downloading package pil to /root/nltk_data...\n",
            "[nltk_data]    |   Package pil is already up-to-date!\n",
            "[nltk_data]    | Downloading package pl196x to /root/nltk_data...\n",
            "[nltk_data]    |   Package pl196x is already up-to-date!\n",
            "[nltk_data]    | Downloading package ppattach to /root/nltk_data...\n",
            "[nltk_data]    |   Package ppattach is already up-to-date!\n",
            "[nltk_data]    | Downloading package problem_reports to\n",
            "[nltk_data]    |     /root/nltk_data...\n",
            "[nltk_data]    |   Package problem_reports is already up-to-date!\n",
            "[nltk_data]    | Downloading package propbank to /root/nltk_data...\n",
            "[nltk_data]    |   Package propbank is already up-to-date!\n",
            "[nltk_data]    | Downloading package ptb to /root/nltk_data...\n",
            "[nltk_data]    |   Package ptb is already up-to-date!\n",
            "[nltk_data]    | Downloading package product_reviews_1 to\n",
            "[nltk_data]    |     /root/nltk_data...\n",
            "[nltk_data]    |   Package product_reviews_1 is already up-to-date!\n",
            "[nltk_data]    | Downloading package product_reviews_2 to\n",
            "[nltk_data]    |     /root/nltk_data...\n",
            "[nltk_data]    |   Package product_reviews_2 is already up-to-date!\n",
            "[nltk_data]    | Downloading package pros_cons to /root/nltk_data...\n",
            "[nltk_data]    |   Package pros_cons is already up-to-date!\n",
            "[nltk_data]    | Downloading package qc to /root/nltk_data...\n",
            "[nltk_data]    |   Package qc is already up-to-date!\n",
            "[nltk_data]    | Downloading package reuters to /root/nltk_data...\n",
            "[nltk_data]    |   Package reuters is already up-to-date!\n",
            "[nltk_data]    | Downloading package rte to /root/nltk_data...\n",
            "[nltk_data]    |   Package rte is already up-to-date!\n",
            "[nltk_data]    | Downloading package semcor to /root/nltk_data...\n",
            "[nltk_data]    |   Package semcor is already up-to-date!\n",
            "[nltk_data]    | Downloading package senseval to /root/nltk_data...\n",
            "[nltk_data]    |   Package senseval is already up-to-date!\n",
            "[nltk_data]    | Downloading package sentiwordnet to\n",
            "[nltk_data]    |     /root/nltk_data...\n",
            "[nltk_data]    |   Package sentiwordnet is already up-to-date!\n",
            "[nltk_data]    | Downloading package sentence_polarity to\n",
            "[nltk_data]    |     /root/nltk_data...\n",
            "[nltk_data]    |   Package sentence_polarity is already up-to-date!\n",
            "[nltk_data]    | Downloading package shakespeare to /root/nltk_data...\n",
            "[nltk_data]    |   Package shakespeare is already up-to-date!\n",
            "[nltk_data]    | Downloading package sinica_treebank to\n",
            "[nltk_data]    |     /root/nltk_data...\n",
            "[nltk_data]    |   Package sinica_treebank is already up-to-date!\n",
            "[nltk_data]    | Downloading package smultron to /root/nltk_data...\n",
            "[nltk_data]    |   Package smultron is already up-to-date!\n",
            "[nltk_data]    | Downloading package state_union to /root/nltk_data...\n",
            "[nltk_data]    |   Package state_union is already up-to-date!\n",
            "[nltk_data]    | Downloading package stopwords to /root/nltk_data...\n",
            "[nltk_data]    |   Package stopwords is already up-to-date!\n",
            "[nltk_data]    | Downloading package subjectivity to\n",
            "[nltk_data]    |     /root/nltk_data...\n",
            "[nltk_data]    |   Package subjectivity is already up-to-date!\n",
            "[nltk_data]    | Downloading package swadesh to /root/nltk_data...\n",
            "[nltk_data]    |   Package swadesh is already up-to-date!\n",
            "[nltk_data]    | Downloading package switchboard to /root/nltk_data...\n",
            "[nltk_data]    |   Package switchboard is already up-to-date!\n",
            "[nltk_data]    | Downloading package timit to /root/nltk_data...\n",
            "[nltk_data]    |   Package timit is already up-to-date!\n",
            "[nltk_data]    | Downloading package toolbox to /root/nltk_data...\n",
            "[nltk_data]    |   Package toolbox is already up-to-date!\n",
            "[nltk_data]    | Downloading package treebank to /root/nltk_data...\n",
            "[nltk_data]    |   Package treebank is already up-to-date!\n",
            "[nltk_data]    | Downloading package twitter_samples to\n",
            "[nltk_data]    |     /root/nltk_data...\n",
            "[nltk_data]    |   Package twitter_samples is already up-to-date!\n",
            "[nltk_data]    | Downloading package udhr to /root/nltk_data...\n",
            "[nltk_data]    |   Package udhr is already up-to-date!\n",
            "[nltk_data]    | Downloading package udhr2 to /root/nltk_data...\n",
            "[nltk_data]    |   Package udhr2 is already up-to-date!\n",
            "[nltk_data]    | Downloading package unicode_samples to\n",
            "[nltk_data]    |     /root/nltk_data...\n",
            "[nltk_data]    |   Package unicode_samples is already up-to-date!\n",
            "[nltk_data]    | Downloading package universal_treebanks_v20 to\n",
            "[nltk_data]    |     /root/nltk_data...\n",
            "[nltk_data]    |   Package universal_treebanks_v20 is already up-to-\n",
            "[nltk_data]    |       date!\n",
            "[nltk_data]    | Downloading package verbnet to /root/nltk_data...\n",
            "[nltk_data]    |   Package verbnet is already up-to-date!\n",
            "[nltk_data]    | Downloading package verbnet3 to /root/nltk_data...\n",
            "[nltk_data]    |   Package verbnet3 is already up-to-date!\n",
            "[nltk_data]    | Downloading package webtext to /root/nltk_data...\n",
            "[nltk_data]    |   Package webtext is already up-to-date!\n",
            "[nltk_data]    | Downloading package wordnet to /root/nltk_data...\n",
            "[nltk_data]    |   Package wordnet is already up-to-date!\n",
            "[nltk_data]    | Downloading package wordnet_ic to /root/nltk_data...\n",
            "[nltk_data]    |   Package wordnet_ic is already up-to-date!\n",
            "[nltk_data]    | Downloading package words to /root/nltk_data...\n",
            "[nltk_data]    |   Package words is already up-to-date!\n",
            "[nltk_data]    | Downloading package ycoe to /root/nltk_data...\n",
            "[nltk_data]    |   Package ycoe is already up-to-date!\n",
            "[nltk_data]    | Downloading package rslp to /root/nltk_data...\n",
            "[nltk_data]    |   Package rslp is already up-to-date!\n",
            "[nltk_data]    | Downloading package maxent_treebank_pos_tagger to\n",
            "[nltk_data]    |     /root/nltk_data...\n",
            "[nltk_data]    |   Package maxent_treebank_pos_tagger is already up-\n",
            "[nltk_data]    |       to-date!\n",
            "[nltk_data]    | Downloading package universal_tagset to\n",
            "[nltk_data]    |     /root/nltk_data...\n",
            "[nltk_data]    |   Package universal_tagset is already up-to-date!\n",
            "[nltk_data]    | Downloading package maxent_ne_chunker to\n",
            "[nltk_data]    |     /root/nltk_data...\n",
            "[nltk_data]    |   Package maxent_ne_chunker is already up-to-date!\n",
            "[nltk_data]    | Downloading package punkt to /root/nltk_data...\n",
            "[nltk_data]    |   Package punkt is already up-to-date!\n",
            "[nltk_data]    | Downloading package book_grammars to\n",
            "[nltk_data]    |     /root/nltk_data...\n",
            "[nltk_data]    |   Package book_grammars is already up-to-date!\n",
            "[nltk_data]    | Downloading package sample_grammars to\n",
            "[nltk_data]    |     /root/nltk_data...\n",
            "[nltk_data]    |   Package sample_grammars is already up-to-date!\n",
            "[nltk_data]    | Downloading package spanish_grammars to\n",
            "[nltk_data]    |     /root/nltk_data...\n",
            "[nltk_data]    |   Package spanish_grammars is already up-to-date!\n",
            "[nltk_data]    | Downloading package basque_grammars to\n",
            "[nltk_data]    |     /root/nltk_data...\n",
            "[nltk_data]    |   Package basque_grammars is already up-to-date!\n",
            "[nltk_data]    | Downloading package large_grammars to\n",
            "[nltk_data]    |     /root/nltk_data...\n",
            "[nltk_data]    |   Package large_grammars is already up-to-date!\n",
            "[nltk_data]    | Downloading package tagsets to /root/nltk_data...\n",
            "[nltk_data]    |   Package tagsets is already up-to-date!\n",
            "[nltk_data]    | Downloading package snowball_data to\n",
            "[nltk_data]    |     /root/nltk_data...\n",
            "[nltk_data]    |   Package snowball_data is already up-to-date!\n",
            "[nltk_data]    | Downloading package bllip_wsj_no_aux to\n",
            "[nltk_data]    |     /root/nltk_data...\n",
            "[nltk_data]    |   Package bllip_wsj_no_aux is already up-to-date!\n",
            "[nltk_data]    | Downloading package word2vec_sample to\n",
            "[nltk_data]    |     /root/nltk_data...\n",
            "[nltk_data]    |   Package word2vec_sample is already up-to-date!\n",
            "[nltk_data]    | Downloading package panlex_swadesh to\n",
            "[nltk_data]    |     /root/nltk_data...\n",
            "[nltk_data]    |   Package panlex_swadesh is already up-to-date!\n",
            "[nltk_data]    | Downloading package mte_teip5 to /root/nltk_data...\n",
            "[nltk_data]    |   Package mte_teip5 is already up-to-date!\n",
            "[nltk_data]    | Downloading package averaged_perceptron_tagger to\n",
            "[nltk_data]    |     /root/nltk_data...\n",
            "[nltk_data]    |   Package averaged_perceptron_tagger is already up-\n",
            "[nltk_data]    |       to-date!\n",
            "[nltk_data]    | Downloading package averaged_perceptron_tagger_ru to\n",
            "[nltk_data]    |     /root/nltk_data...\n",
            "[nltk_data]    |   Package averaged_perceptron_tagger_ru is already\n",
            "[nltk_data]    |       up-to-date!\n",
            "[nltk_data]    | Downloading package perluniprops to\n",
            "[nltk_data]    |     /root/nltk_data...\n",
            "[nltk_data]    |   Package perluniprops is already up-to-date!\n",
            "[nltk_data]    | Downloading package nonbreaking_prefixes to\n",
            "[nltk_data]    |     /root/nltk_data...\n",
            "[nltk_data]    |   Package nonbreaking_prefixes is already up-to-date!\n",
            "[nltk_data]    | Downloading package vader_lexicon to\n",
            "[nltk_data]    |     /root/nltk_data...\n",
            "[nltk_data]    |   Package vader_lexicon is already up-to-date!\n",
            "[nltk_data]    | Downloading package porter_test to /root/nltk_data...\n",
            "[nltk_data]    |   Package porter_test is already up-to-date!\n",
            "[nltk_data]    | Downloading package wmt15_eval to /root/nltk_data...\n",
            "[nltk_data]    |   Package wmt15_eval is already up-to-date!\n",
            "[nltk_data]    | Downloading package mwa_ppdb to /root/nltk_data...\n",
            "[nltk_data]    |   Package mwa_ppdb is already up-to-date!\n",
            "[nltk_data]    | \n",
            "[nltk_data]  Done downloading collection all\n"
          ],
          "name": "stdout"
        },
        {
          "output_type": "execute_result",
          "data": {
            "text/plain": [
              "True"
            ]
          },
          "metadata": {
            "tags": []
          },
          "execution_count": 57
        }
      ]
    },
    {
      "cell_type": "code",
      "metadata": {
        "id": "L_dO_G-5l9Jf"
      },
      "source": [
        "from nltk.corpus import stopwords\n",
        "stop_words = stopwords.words('english')\n",
        "tokenized_doc = news_df['clean_doc'].copy().apply(lambda x: [item for item in x.split() if item not in stop_words])"
      ],
      "execution_count": 59,
      "outputs": []
    },
    {
      "cell_type": "code",
      "metadata": {
        "id": "U3CRrwNwmOjW"
      },
      "source": [
        "from gensim import corpora\n",
        "\n",
        "# 사전 만들기\n",
        "dictionary = corpora.Dictionary(tokenized_doc)  # 사전 완성\n",
        "corpus = [dictionary.doc2bow(text) for text in tokenized_doc]"
      ],
      "execution_count": 60,
      "outputs": []
    },
    {
      "cell_type": "code",
      "metadata": {
        "id": "gBBfi1CWnBat"
      },
      "source": [
        "import gensim\n",
        "\n",
        "num_topic = 20\n",
        "k = 20\n",
        "\n",
        "lda_model = gensim.models.ldamodel.LdaModel(corpus, num_topics=num_topic, id2word=dictionary, passes=15)\n",
        "topics = lda_model.print_topics(num_words=4)    # 상위 4개 topic만 가져오기"
      ],
      "execution_count": 68,
      "outputs": []
    },
    {
      "cell_type": "code",
      "metadata": {
        "id": "48H_R4NnnBq6",
        "outputId": "02df36d0-261f-4815-f980-de99689c021d",
        "colab": {
          "base_uri": "https://localhost:8080/"
        }
      },
      "source": [
        "for topic in topics:\n",
        "    print(topic)"
      ],
      "execution_count": 69,
      "outputs": [
        {
          "output_type": "stream",
          "text": [
            "(0, '0.074*\"x\" + 0.029*\"*\" + 0.012*\"=\" + 0.010*\"*/\"')\n",
            "(1, '0.010*\"would\" + 0.008*\"people\" + 0.006*\"one\" + 0.004*\"get\"')\n",
            "(2, '0.008*\"-\" + 0.004*\"gun\" + 0.003*\"jews\" + 0.003*\"state\"')\n",
            "(3, '0.014*\"|>\" + 0.003*\"water\" + 0.003*\"mpc\" + 0.002*\"\\\\_\"')\n",
            "(4, '0.014*\"would\" + 0.011*\"like\" + 0.009*\"i\\'m\" + 0.009*\"one\"')\n",
            "(5, '0.010*\"key\" + 0.007*\"chip\" + 0.006*\"clipper\" + 0.004*\"escrow\"')\n",
            "(6, '0.011*\"turkish\" + 0.010*\"armenian\" + 0.006*\"armenians\" + 0.005*\"government\"')\n",
            "(7, '0.048*\">\" + 0.006*\"->\" + 0.005*\"*\" + 0.005*\"|\"')\n",
            "(8, '0.008*\"use\" + 0.007*\"available\" + 0.006*\"file\" + 0.005*\"files\"')\n",
            "(9, '0.022*\".\" + 0.006*\"one\" + 0.005*\"went\" + 0.005*\"people\"')\n",
            "(10, '0.013*\"$\" + 0.010*\"dos\" + 0.006*\"$1\" + 0.005*\"$2\"')\n",
            "(11, '0.048*\"1\" + 0.040*\"-\" + 0.029*\"0\" + 0.028*\"2\"')\n",
            "(12, '0.118*\":\" + 0.007*\"----\" + 0.005*\"]\" + 0.003*\">>\"')\n",
            "(13, '0.007*\"one\" + 0.007*\"god\" + 0.007*\"people\" + 0.006*\"would\"')\n",
            "(14, '0.011*\"file:\" + 0.006*\"=\" + 0.003*\"char\" + 0.002*\"blues\"')\n",
            "(15, '0.037*\"|\" + 0.005*\"-\" + 0.004*\"image\" + 0.003*\"--\"')\n",
            "(16, '0.009*\"q\" + 0.009*\"--\" + 0.009*\"team\" + 0.008*\"mr.\"')\n",
            "(17, '0.008*\"-\" + 0.007*\"#\" + 0.007*\"space\" + 0.005*\"use\"')\n",
            "(18, '0.118*\"max>\\'ax>\\'ax>\\'ax>\\'ax>\\'ax>\\'ax>\\'ax>\\'ax>\\'ax>\\'ax>\\'ax>\\'ax>\\'ax>\\'ax>\\'\" + 0.003*\"m\"`@(\"`@(\"`@(\"`@(\"`@(\"`@(\"`@(\"`@(\"`@(\"`@(\"`@(\"`@(\"`@(\"`@(\"`@(\" + 0.003*\"keyboard\" + 0.002*\"wiring\"')\n",
            "(19, '0.013*\"windows\" + 0.006*\"card\" + 0.005*\"video\" + 0.004*\"drivers\"')\n"
          ],
          "name": "stdout"
        }
      ]
    },
    {
      "cell_type": "code",
      "metadata": {
        "id": "DywIxRaXpFsh",
        "outputId": "eb6a0196-66e3-40a6-92e9-207d9e8a6072",
        "colab": {
          "base_uri": "https://localhost:8080/"
        }
      },
      "source": [
        "print('Perplexity: ', lda_model.log_perplexity(corpus))\n",
        "# 내부 평가 지표, 숫자가 낮을수록 좋은 성능"
      ],
      "execution_count": 70,
      "outputs": [
        {
          "output_type": "stream",
          "text": [
            "Perplexity:  -10.011532400570404\n"
          ],
          "name": "stdout"
        }
      ]
    },
    {
      "cell_type": "code",
      "metadata": {
        "id": "mwR5GvgLpKwH",
        "outputId": "6a612a5c-6edd-4122-a2f1-6570b9c1fad9",
        "colab": {
          "base_uri": "https://localhost:8080/"
        }
      },
      "source": [
        "from gensim.models.coherencemodel import CoherenceModel\n",
        "\n",
        "coherence_model_lda = CoherenceModel(model=lda_model, texts=tokenized_doc, dictionary=dictionary, coherence='c_v')\n",
        "coherence_lda = coherence_model_lda.get_coherence()\n",
        "\n",
        "print('Coherence Score :', coherence_lda)"
      ],
      "execution_count": 72,
      "outputs": [
        {
          "output_type": "stream",
          "text": [
            "Coherence Score : 0.5290906225372973\n"
          ],
          "name": "stdout"
        }
      ]
    },
    {
      "cell_type": "code",
      "metadata": {
        "id": "M5AhQhwZp7SM",
        "outputId": "1c07c210-bddf-446c-f152-2139b0088037",
        "colab": {
          "base_uri": "https://localhost:8080/"
        }
      },
      "source": [
        "print(lda_model.show_topics(formatted=False))"
      ],
      "execution_count": 76,
      "outputs": [
        {
          "output_type": "stream",
          "text": [
            "[(14, [('file:', 0.010953427), ('=', 0.005838026), ('char', 0.0030708397), ('blues', 0.0016404018), ('0)', 0.0012122155), ('//', 0.0011949205), ('sweden', 0.0011436974), ('m\"`@(\"`@(\"`@(\"`@(\"`@(\"`@(\"`@(\"`@(\"`@(\"`@(\"`@(\"`@(\"`@(\"`@(\"`@(', 0.0010421346), ('from:', 0.00089708366), ('fantasy', 0.00086196506)]), (5, [('key', 0.010301148), ('chip', 0.006540466), ('clipper', 0.006037982), ('escrow', 0.004380645), ('keys', 0.0032950423), ('two', 0.0028900139), ('nsa', 0.0025661862), ('serial', 0.0025258944), ('algorithm', 0.0024922108), ('chips', 0.002368585)]), (8, [('use', 0.008141652), ('available', 0.0066474658), ('file', 0.006230068), ('files', 0.0049159797), ('program', 0.004712736), ('using', 0.004707946), ('window', 0.004661933), ('get', 0.0043690996), ('information', 0.004360211), ('-', 0.0043093674)]), (15, [('|', 0.03652437), ('-', 0.005066953), ('image', 0.0039183125), ('--', 0.003251351), ('university', 0.0031427792), ('package', 0.0029396883), ('+', 0.002754297), ('graphics', 0.0026411896), ('grounding', 0.002384958), ('ftp', 0.0022975092)]), (0, [('x', 0.0738162), ('*', 0.029287733), ('=', 0.011671168), ('*/', 0.010435127), ('/*', 0.009528783), ('}', 0.0057671536), ('file', 0.005522381), ('db', 0.0051270192), ('entry', 0.0047554914), ('{', 0.0047325552)]), (2, [('-', 0.008454987), ('gun', 0.0038814964), ('jews', 0.003331297), ('state', 0.00323175), ('united', 0.00317051), ('war', 0.0029298316), ('national', 0.002874359), ('new', 0.0028176503), ('states', 0.0027428328), ('american', 0.002717491)]), (9, [('.', 0.021603972), ('one', 0.006144928), ('went', 0.0049036318), ('people', 0.0048954394), ('?', 0.004437625), ('israel', 0.0042950185), ('know', 0.0036393795), ('came', 0.0034864473), ('go', 0.0034649998), ('said', 0.0033517561)]), (4, [('would', 0.014043168), ('like', 0.01138232), (\"i'm\", 0.009460373), ('one', 0.009412077), ('get', 0.00927401), ('know', 0.008348506), ('--', 0.0066212043), ('good', 0.006318175), ('think', 0.005545937), ('could', 0.0054094624)]), (12, [(':', 0.11835344), ('----', 0.0071789618), (']', 0.0047094906), ('>>', 0.0034013984), ('dod', 0.0027062153), ('flyers', 0.0024840268), ('[', 0.0021737746), ('puck', 0.0021296758), ('pittsburgh,', 0.0019076974), ('power', 0.001896156)]), (11, [('1', 0.048237417), ('-', 0.03972397), ('0', 0.028525349), ('2', 0.027966315), ('3', 0.014506188), ('4', 0.011676917), ('5', 0.0080608465), ('7', 0.007352205), ('---', 0.0064083072), ('6', 0.006124082)])]\n"
          ],
          "name": "stdout"
        }
      ]
    },
    {
      "cell_type": "code",
      "metadata": {
        "id": "ca8VhiyBqnSG",
        "outputId": "6be3dbcf-8c71-496c-c640-653b1b980c6e",
        "colab": {
          "base_uri": "https://localhost:8080/"
        }
      },
      "source": [
        "import pprint\n",
        "pprint.pprint(lda_model.show_topics(formatted=False))"
      ],
      "execution_count": 77,
      "outputs": [
        {
          "output_type": "stream",
          "text": [
            "[(9,\n",
            "  [('.', 0.021603972),\n",
            "   ('one', 0.006144928),\n",
            "   ('went', 0.0049036318),\n",
            "   ('people', 0.0048954394),\n",
            "   ('?', 0.004437625),\n",
            "   ('israel', 0.0042950185),\n",
            "   ('know', 0.0036393795),\n",
            "   ('came', 0.0034864473),\n",
            "   ('go', 0.0034649998),\n",
            "   ('said', 0.0033517561)]),\n",
            " (6,\n",
            "  [('turkish', 0.010839144),\n",
            "   ('armenian', 0.010156543),\n",
            "   ('armenians', 0.0061457525),\n",
            "   ('government', 0.005091),\n",
            "   ('greek', 0.00497608),\n",
            "   ('_/', 0.0049044485),\n",
            "   ('encryption', 0.0039843107),\n",
            "   ('turks', 0.0036263117),\n",
            "   ('turkey', 0.0035953084),\n",
            "   ('armenia', 0.0032019778)]),\n",
            " (15,\n",
            "  [('|', 0.03652437),\n",
            "   ('-', 0.005066953),\n",
            "   ('image', 0.0039183125),\n",
            "   ('--', 0.003251351),\n",
            "   ('university', 0.0031427792),\n",
            "   ('package', 0.0029396883),\n",
            "   ('+', 0.002754297),\n",
            "   ('graphics', 0.0026411896),\n",
            "   ('grounding', 0.002384958),\n",
            "   ('ftp', 0.0022975092)]),\n",
            " (4,\n",
            "  [('would', 0.014043168),\n",
            "   ('like', 0.01138232),\n",
            "   (\"i'm\", 0.009460373),\n",
            "   ('one', 0.009412077),\n",
            "   ('get', 0.00927401),\n",
            "   ('know', 0.008348506),\n",
            "   ('--', 0.0066212043),\n",
            "   ('good', 0.006318175),\n",
            "   ('think', 0.005545937),\n",
            "   ('could', 0.0054094624)]),\n",
            " (2,\n",
            "  [('-', 0.008454987),\n",
            "   ('gun', 0.0038814964),\n",
            "   ('jews', 0.003331297),\n",
            "   ('state', 0.00323175),\n",
            "   ('united', 0.00317051),\n",
            "   ('war', 0.0029298316),\n",
            "   ('national', 0.002874359),\n",
            "   ('new', 0.0028176503),\n",
            "   ('states', 0.0027428328),\n",
            "   ('american', 0.002717491)]),\n",
            " (7,\n",
            "  [('>', 0.04782395),\n",
            "   ('->', 0.0063685607),\n",
            "   ('*', 0.004941368),\n",
            "   ('|', 0.0048672976),\n",
            "   ('water', 0.0039638625),\n",
            "   ('gm', 0.003601809),\n",
            "   ('**', 0.0028095704),\n",
            "   ('----------------------------------------------------------------------------',\n",
            "    0.0025304682),\n",
            "   ('anonymous', 0.0024815276),\n",
            "   ('banks', 0.0024160547)]),\n",
            " (8,\n",
            "  [('use', 0.008141652),\n",
            "   ('available', 0.0066474658),\n",
            "   ('file', 0.006230068),\n",
            "   ('files', 0.0049159797),\n",
            "   ('program', 0.004712736),\n",
            "   ('using', 0.004707946),\n",
            "   ('window', 0.004661933),\n",
            "   ('get', 0.0043690996),\n",
            "   ('information', 0.004360211),\n",
            "   ('-', 0.0043093674)]),\n",
            " (1,\n",
            "  [('would', 0.009900697),\n",
            "   ('people', 0.0077714617),\n",
            "   ('one', 0.0056289844),\n",
            "   ('get', 0.0039370153),\n",
            "   ('make', 0.0038480067),\n",
            "   ('think', 0.0038328432),\n",
            "   ('many', 0.003585386),\n",
            "   ('government', 0.0034568955),\n",
            "   ('--', 0.0033836027),\n",
            "   ('may', 0.0033513827)]),\n",
            " (13,\n",
            "  [('one', 0.007329313),\n",
            "   ('god', 0.0071199383),\n",
            "   ('people', 0.0065917326),\n",
            "   ('would', 0.0057795886),\n",
            "   ('believe', 0.0046418034),\n",
            "   ('many', 0.003977229),\n",
            "   ('jesus', 0.0036409877),\n",
            "   ('think', 0.0035413408),\n",
            "   ('say', 0.0034441098),\n",
            "   ('even', 0.003386675)]),\n",
            " (14,\n",
            "  [('file:', 0.010953427),\n",
            "   ('=', 0.005838026),\n",
            "   ('char', 0.0030708397),\n",
            "   ('blues', 0.0016404018),\n",
            "   ('0)', 0.0012122155),\n",
            "   ('//', 0.0011949205),\n",
            "   ('sweden', 0.0011436974),\n",
            "   ('m\"`@(\"`@(\"`@(\"`@(\"`@(\"`@(\"`@(\"`@(\"`@(\"`@(\"`@(\"`@(\"`@(\"`@(\"`@(',\n",
            "    0.0010421346),\n",
            "   ('from:', 0.00089708366),\n",
            "   ('fantasy', 0.00086196506)])]\n"
          ],
          "name": "stdout"
        }
      ]
    },
    {
      "cell_type": "code",
      "metadata": {
        "id": "Horyw9nurRIa"
      },
      "source": [
        ""
      ],
      "execution_count": null,
      "outputs": []
    }
  ]
}